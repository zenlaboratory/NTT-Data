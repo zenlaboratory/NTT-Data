{
 "cells": [
  {
   "cell_type": "markdown",
   "id": "ae1a6993",
   "metadata": {},
   "source": [
    "## Funciones sobre listas ##\n",
    "Además de las vistas en la clase anterior, existen otras funciones que también es interesante conocer:"
   ]
  },
  {
   "cell_type": "markdown",
   "id": "94d2061a",
   "metadata": {},
   "source": [
    "#### .copy() ####\n",
    "Crea una copia de la lista en cuestión"
   ]
  },
  {
   "cell_type": "code",
   "execution_count": 19,
   "id": "036242ee",
   "metadata": {},
   "outputs": [
    {
     "name": "stdout",
     "output_type": "stream",
     "text": [
      "['Conejo', 'Perro', 'Gato', 'Perro', 'Pez', 'Hámster']\n"
     ]
    }
   ],
   "source": [
    "lista_1 = [\"Conejo\", \"Perro\", \"Gato\", \"Perro\", \"Pez\",\"Hámster\"]\n",
    "print(lista_1)"
   ]
  },
  {
   "cell_type": "code",
   "execution_count": 20,
   "id": "db67dd20",
   "metadata": {},
   "outputs": [
    {
     "name": "stdout",
     "output_type": "stream",
     "text": [
      "['Conejo', 'Perro', 'Gato', 'Perro', 'Pez', 'Hámster']\n"
     ]
    }
   ],
   "source": [
    "lista_copia_1 = lista_1.copy()\n",
    "print(lista_copia_1)"
   ]
  },
  {
   "cell_type": "code",
   "execution_count": 21,
   "id": "33468aa7",
   "metadata": {},
   "outputs": [
    {
     "name": "stdout",
     "output_type": "stream",
     "text": [
      "['Conejo', 'Perro', 'Gato', 'Perro', 'Pez', 'Hámster']\n"
     ]
    }
   ],
   "source": [
    "# ¿Qué diferencia hay entonces entre el .copy() y el siguiente código?\n",
    "lista_copia_2 = lista_1\n",
    "print(lista_copia_2)"
   ]
  },
  {
   "cell_type": "code",
   "execution_count": 22,
   "id": "91fae693",
   "metadata": {},
   "outputs": [
    {
     "name": "stdout",
     "output_type": "stream",
     "text": [
      "['Conejo', 'Perro', 'León', 'Perro', 'Pez', 'Hámster']\n",
      "['Conejo', 'Perro', 'Gato', 'Perro', 'Pez', 'Hámster']\n"
     ]
    }
   ],
   "source": [
    "# Si ahora modificamos el elemento \"Gato\" de ambas listas de copia, veamos qué pasa con la lista original:\n",
    "lista_copia_1[2] = \"León\"   \n",
    "\n",
    "# Imprimimos tanto la lista_copia_1 como la lista original\n",
    "print(lista_copia_1)\n",
    "print(lista_1)"
   ]
  },
  {
   "cell_type": "code",
   "execution_count": 23,
   "id": "a2f96985",
   "metadata": {},
   "outputs": [
    {
     "name": "stdout",
     "output_type": "stream",
     "text": [
      "['Conejo', 'Perro', 'León', 'Perro', 'Pez', 'Hámster']\n",
      "['Conejo', 'Perro', 'León', 'Perro', 'Pez', 'Hámster']\n"
     ]
    }
   ],
   "source": [
    "lista_copia_2[2] = \"León\"   \n",
    "\n",
    "# Imprimimos tanto la lista_copia_2 como la lista original\n",
    "print(lista_copia_2)\n",
    "print(lista_1)"
   ]
  },
  {
   "cell_type": "code",
   "execution_count": 24,
   "id": "6b93e70f-5854-4c5a-854e-e55709012689",
   "metadata": {},
   "outputs": [
    {
     "data": {
      "text/plain": [
       "True"
      ]
     },
     "execution_count": 24,
     "metadata": {},
     "output_type": "execute_result"
    }
   ],
   "source": [
    "lista_copia_2 is lista_1 "
   ]
  },
  {
   "cell_type": "code",
   "execution_count": 25,
   "id": "75d73297-c4a3-49e3-82a2-f9776e0ed18e",
   "metadata": {},
   "outputs": [
    {
     "data": {
      "text/plain": [
       "False"
      ]
     },
     "execution_count": 25,
     "metadata": {},
     "output_type": "execute_result"
    }
   ],
   "source": [
    "lista_copia_1 is lista_1"
   ]
  },
  {
   "cell_type": "markdown",
   "id": "b8da49e3",
   "metadata": {},
   "source": [
    "Con .copy() creamos una nueva instancia independiente, por lo que los cambios y demás acciones que efectuemos, solo la repercutirán a ella. "
   ]
  },
  {
   "cell_type": "markdown",
   "id": "32b24d22",
   "metadata": {},
   "source": [
    "#### .count() ####\n",
    "El método .count() devuelve el número de veces que aparece cierto elemento en una lista."
   ]
  },
  {
   "cell_type": "code",
   "execution_count": 26,
   "id": "d5b847fe",
   "metadata": {},
   "outputs": [
    {
     "name": "stdout",
     "output_type": "stream",
     "text": [
      "['Conejo', 'Perro', 'León', 'Perro', 'Pez', 'Hámster']\n"
     ]
    }
   ],
   "source": [
    "print(lista_1)"
   ]
  },
  {
   "cell_type": "code",
   "execution_count": 27,
   "id": "7e0584ca",
   "metadata": {},
   "outputs": [
    {
     "name": "stdout",
     "output_type": "stream",
     "text": [
      "El número de veces que aparece la palabra 'Perro' en la lista original es 2\n"
     ]
    }
   ],
   "source": [
    "print(\"El número de veces que aparece la palabra 'Perro' en la lista original es\", lista_1.count(\"Perro\"))\n"
   ]
  },
  {
   "cell_type": "markdown",
   "id": "016190ce",
   "metadata": {},
   "source": [
    "Este método toma un único argumento:"
   ]
  },
  {
   "cell_type": "code",
   "execution_count": 28,
   "id": "5a64d5a6",
   "metadata": {},
   "outputs": [
    {
     "ename": "TypeError",
     "evalue": "list.count() takes exactly one argument (2 given)",
     "output_type": "error",
     "traceback": [
      "\u001b[1;31m---------------------------------------------------------------------------\u001b[0m",
      "\u001b[1;31mTypeError\u001b[0m                                 Traceback (most recent call last)",
      "\u001b[1;32mC:\\Users\\ROBERT~1.DON\\AppData\\Local\\Temp/ipykernel_19588/430095404.py\u001b[0m in \u001b[0;36m<module>\u001b[1;34m\u001b[0m\n\u001b[1;32m----> 1\u001b[1;33m \u001b[0mlista_1\u001b[0m\u001b[1;33m.\u001b[0m\u001b[0mcount\u001b[0m\u001b[1;33m(\u001b[0m\u001b[1;34m\"Perro\"\u001b[0m\u001b[1;33m,\u001b[0m\u001b[1;34m\"Gato\"\u001b[0m\u001b[1;33m)\u001b[0m\u001b[1;33m\u001b[0m\u001b[1;33m\u001b[0m\u001b[0m\n\u001b[0m",
      "\u001b[1;31mTypeError\u001b[0m: list.count() takes exactly one argument (2 given)"
     ]
    }
   ],
   "source": [
    "lista_1.count(\"Perro\",\"Gato\")"
   ]
  },
  {
   "cell_type": "code",
   "execution_count": 29,
   "id": "9f79095c",
   "metadata": {},
   "outputs": [
    {
     "name": "stdout",
     "output_type": "stream",
     "text": [
      "['a', ('a', 'b'), ('a', 'b'), [3, 4]]\n"
     ]
    }
   ],
   "source": [
    "# Imaginemos ahora que tenemos la siguiente lista:\n",
    "lista_2 = ['a', ('a', 'b'), ('a', 'b'), [3, 4]]\n",
    "print(lista_2)"
   ]
  },
  {
   "cell_type": "code",
   "execution_count": 30,
   "id": "1adb229a",
   "metadata": {},
   "outputs": [
    {
     "ename": "TypeError",
     "evalue": "list.count() takes exactly one argument (2 given)",
     "output_type": "error",
     "traceback": [
      "\u001b[1;31m---------------------------------------------------------------------------\u001b[0m",
      "\u001b[1;31mTypeError\u001b[0m                                 Traceback (most recent call last)",
      "\u001b[1;32mC:\\Users\\ROBERT~1.DON\\AppData\\Local\\Temp/ipykernel_19588/4281811622.py\u001b[0m in \u001b[0;36m<module>\u001b[1;34m\u001b[0m\n\u001b[0;32m      1\u001b[0m \u001b[1;31m# ¿El siguiente código contará las veces que aparece ('a','b') en ella?\u001b[0m\u001b[1;33m\u001b[0m\u001b[1;33m\u001b[0m\u001b[0m\n\u001b[1;32m----> 2\u001b[1;33m \u001b[0mlista_2\u001b[0m\u001b[1;33m.\u001b[0m\u001b[0mcount\u001b[0m\u001b[1;33m(\u001b[0m\u001b[1;34m'a'\u001b[0m\u001b[1;33m,\u001b[0m\u001b[1;34m'b'\u001b[0m\u001b[1;33m)\u001b[0m\u001b[1;33m\u001b[0m\u001b[1;33m\u001b[0m\u001b[0m\n\u001b[0m",
      "\u001b[1;31mTypeError\u001b[0m: list.count() takes exactly one argument (2 given)"
     ]
    }
   ],
   "source": [
    "# ¿El siguiente código contará las veces que aparece ('a','b') en ella?\n",
    "lista_2.count('a','b')"
   ]
  },
  {
   "cell_type": "code",
   "execution_count": 31,
   "id": "b27ce14a",
   "metadata": {},
   "outputs": [
    {
     "data": {
      "text/plain": [
       "2"
      ]
     },
     "execution_count": 31,
     "metadata": {},
     "output_type": "execute_result"
    }
   ],
   "source": [
    "# ¿Y este?\n",
    "lista_2.count(('a','b'))"
   ]
  },
  {
   "cell_type": "code",
   "execution_count": 32,
   "id": "1dfee491",
   "metadata": {},
   "outputs": [
    {
     "data": {
      "text/plain": [
       "1"
      ]
     },
     "execution_count": 32,
     "metadata": {},
     "output_type": "execute_result"
    }
   ],
   "source": [
    "# Entonces, si quisiéramos contar el último elemento de esta lista_2, ¿cómo lo haríamos?\n",
    "lista_2.count([3,4])"
   ]
  },
  {
   "cell_type": "markdown",
   "id": "c9a51702",
   "metadata": {},
   "source": [
    "#### enumerate() ####\n",
    "La función enumerate () agrega un contador a un iterable y lo devuelve. El objeto devuelto es un \"enumerate object\".\n",
    "\n",
    "Puede convertir objetos enumerados en listas utilizando la función list()."
   ]
  },
  {
   "cell_type": "code",
   "execution_count": 33,
   "id": "c8535548",
   "metadata": {},
   "outputs": [
    {
     "name": "stdout",
     "output_type": "stream",
     "text": [
      "['a', ('a', 'b'), ('a', 'b'), [3, 4]]\n"
     ]
    }
   ],
   "source": [
    "print(lista_2)"
   ]
  },
  {
   "cell_type": "code",
   "execution_count": 34,
   "id": "0dbeb7e7",
   "metadata": {},
   "outputs": [
    {
     "name": "stdout",
     "output_type": "stream",
     "text": [
      "<class 'enumerate'>\n"
     ]
    }
   ],
   "source": [
    "enumerate_lista_2 =  enumerate(lista_2)\n",
    "print(type(enumerate_lista_2))"
   ]
  },
  {
   "cell_type": "code",
   "execution_count": 35,
   "id": "b0658a54",
   "metadata": {},
   "outputs": [
    {
     "data": {
      "text/plain": [
       "[(0, 'a'), (1, ('a', 'b')), (2, ('a', 'b')), (3, [3, 4])]"
      ]
     },
     "execution_count": 35,
     "metadata": {},
     "output_type": "execute_result"
    }
   ],
   "source": [
    "# Convertirlo a lista\n",
    "list(enumerate_lista_2)              # Observar cómo se le añade, a cada elemento de la lista su \"contador\""
   ]
  },
  {
   "cell_type": "code",
   "execution_count": 36,
   "id": "a1d176dc",
   "metadata": {},
   "outputs": [
    {
     "data": {
      "text/plain": [
       "[(10, 'a'), (11, ('a', 'b')), (12, ('a', 'b')), (13, [3, 4])]"
      ]
     },
     "execution_count": 36,
     "metadata": {},
     "output_type": "execute_result"
    }
   ],
   "source": [
    "# Cambiamos el contador predeterminado; comienza en 0 por defecto\n",
    "enumerate_lista_2 = enumerate(lista_2, 10)   # Observar cómo, en este caso, empieza a contar desde el 10\n",
    "list(enumerate_lista_2)"
   ]
  },
  {
   "cell_type": "code",
   "execution_count": 37,
   "id": "0f06c2aa",
   "metadata": {},
   "outputs": [
    {
     "name": "stdout",
     "output_type": "stream",
     "text": [
      "[(0, 'a'), (1, ('a', 'b')), (2, ('a', 'b')), (3, [3, 4])]\n"
     ]
    }
   ],
   "source": [
    "# De una vez\n",
    "lista_prueba = list(enumerate(lista_2))\n",
    "print(lista_prueba)"
   ]
  },
  {
   "cell_type": "markdown",
   "id": "491c018c",
   "metadata": {},
   "source": [
    "Es especialmente útil incluido en un bucle, para utilizarlo como contandor:"
   ]
  },
  {
   "cell_type": "code",
   "execution_count": 38,
   "id": "822a6fd3",
   "metadata": {},
   "outputs": [
    {
     "name": "stdout",
     "output_type": "stream",
     "text": [
      "0 a\n",
      "1 ('a', 'b')\n",
      "2 ('a', 'b')\n",
      "3 [3, 4]\n"
     ]
    }
   ],
   "source": [
    "for index, item in enumerate(lista_2):\n",
    "    print(index, item)"
   ]
  },
  {
   "cell_type": "code",
   "execution_count": 39,
   "id": "18f44514",
   "metadata": {},
   "outputs": [
    {
     "name": "stdout",
     "output_type": "stream",
     "text": [
      "0 a\n",
      "1 ('a', 'b')\n",
      "2 ('a', 'b')\n",
      "3 [3, 4]\n"
     ]
    }
   ],
   "source": [
    "# Si añadimos dos \"iterables\" en el bucle:\n",
    "for contador, item in enumerate(lista_2):\n",
    "    print(contador,item)"
   ]
  },
  {
   "cell_type": "code",
   "execution_count": 40,
   "id": "a5e36325",
   "metadata": {},
   "outputs": [
    {
     "name": "stdout",
     "output_type": "stream",
     "text": [
      "100 a\n",
      "101 ('a', 'b')\n",
      "102 ('a', 'b')\n",
      "103 [3, 4]\n"
     ]
    }
   ],
   "source": [
    "# Cambiando el valor de inicio predeterminado para contar:\n",
    "for contador, item in enumerate(lista_2, 100):\n",
    "    print(contador, item)"
   ]
  },
  {
   "cell_type": "markdown",
   "id": "7225bbcf",
   "metadata": {},
   "source": [
    "#### .extend() ####\n",
    "Añade los elementos de otra lista o cualquier objeto iterable (lista, tupla, string,...) al final de la lista actual."
   ]
  },
  {
   "cell_type": "code",
   "execution_count": 41,
   "id": "f7c2ff79",
   "metadata": {},
   "outputs": [
    {
     "name": "stdout",
     "output_type": "stream",
     "text": [
      "['Conejo', 'Perro', 'Gato', 'Perro', 'Pez', 'Hámster']\n"
     ]
    }
   ],
   "source": [
    "lista_animales_1 = [\"Conejo\", \"Perro\", \"Gato\", \"Perro\", \"Pez\", \"Hámster\"]\n",
    "print(lista_animales_1)"
   ]
  },
  {
   "cell_type": "code",
   "execution_count": 42,
   "id": "e3391e87",
   "metadata": {},
   "outputs": [
    {
     "name": "stdout",
     "output_type": "stream",
     "text": [
      "['Jilguero', 'Hurón', 'Tortuga']\n"
     ]
    }
   ],
   "source": [
    "lista_animales_2 = [\"Jilguero\", \"Hurón\", \"Tortuga\"]\n",
    "print(lista_animales_2)"
   ]
  },
  {
   "cell_type": "code",
   "execution_count": 43,
   "id": "36ab74de",
   "metadata": {},
   "outputs": [
    {
     "name": "stdout",
     "output_type": "stream",
     "text": [
      "['Conejo', 'Perro', 'Gato', 'Perro', 'Pez', 'Hámster', 'Jilguero', 'Hurón', 'Tortuga']\n"
     ]
    }
   ],
   "source": [
    "lista_animales_1.extend(lista_animales_2)\n",
    "print(lista_animales_1)"
   ]
  },
  {
   "cell_type": "markdown",
   "id": "2387dc5d",
   "metadata": {},
   "source": [
    "Si ahora hacemos..."
   ]
  },
  {
   "cell_type": "code",
   "execution_count": 44,
   "id": "f89a4f65",
   "metadata": {},
   "outputs": [
    {
     "name": "stdout",
     "output_type": "stream",
     "text": [
      "['Inglés', 'Español', 'Francés']\n"
     ]
    }
   ],
   "source": [
    "lista_idiomas_1 = [\"Inglés\", \"Español\", \"Francés\"]\n",
    "print(lista_idiomas_1)"
   ]
  },
  {
   "cell_type": "code",
   "execution_count": 45,
   "id": "64ba3abd",
   "metadata": {},
   "outputs": [
    {
     "name": "stdout",
     "output_type": "stream",
     "text": [
      "['Inglés', 'Español', 'Francés', 'Árabe', 'Portugués']\n"
     ]
    }
   ],
   "source": [
    "# ¿Qué ocurrirá?\n",
    "idiomas_2 = (\"Árabe\", \"Portugués\")\n",
    "lista_idiomas_1.extend(idiomas_2)\n",
    "print(lista_idiomas_1)"
   ]
  },
  {
   "cell_type": "code",
   "execution_count": 46,
   "id": "9412e2e7",
   "metadata": {},
   "outputs": [
    {
     "name": "stdout",
     "output_type": "stream",
     "text": [
      "['Inglés', 'Español', 'Francés', 'Árabe', 'Portugués', 'A', 'l', 'e', 'm', 'á', 'n']\n"
     ]
    }
   ],
   "source": [
    "# ¿Y en este caso?\n",
    "idiomas_3 = \"Alemán\"\n",
    "lista_idiomas_1.extend(idiomas_3)\n",
    "print(lista_idiomas_1)"
   ]
  },
  {
   "cell_type": "code",
   "execution_count": 47,
   "id": "fbd1550a",
   "metadata": {},
   "outputs": [
    {
     "name": "stdout",
     "output_type": "stream",
     "text": [
      "['Inglés', 'Español', 'Francés', 'Árabe', 'Portugués', 'A', 'l', 'e', 'm', 'á', 'n', 'Alemán', 'Italiano']\n"
     ]
    }
   ],
   "source": [
    "idiomas_4 = (\"Alemán\",\"Italiano\")\n",
    "lista_idiomas_1.extend(idiomas_4)\n",
    "print(lista_idiomas_1)"
   ]
  },
  {
   "cell_type": "markdown",
   "id": "656b6165",
   "metadata": {},
   "source": [
    "También podemos añadir todos los elementos de un iterable a una lista utilizando el operador \"+\":"
   ]
  },
  {
   "cell_type": "code",
   "execution_count": 48,
   "id": "fef8e4d9",
   "metadata": {},
   "outputs": [
    {
     "name": "stdout",
     "output_type": "stream",
     "text": [
      "['Inglés', 'Español', 'Francés', 'Árabe', 'Portugués', 'Alemán']\n",
      "['Árabe', 'Portugués', 'Alemán']\n"
     ]
    }
   ],
   "source": [
    "lista_idiomas_1 = [\"Inglés\", \"Español\", \"Francés\"]\n",
    "lista_idiomas_2 = [\"Árabe\", \"Portugués\", \"Alemán\"]\n",
    "\n",
    "lista_idiomas_1 += lista_idiomas_2    # lista_idiomas_1 = lista_idiomas_1 + lista_idiomas_2\n",
    "print(lista_idiomas_1)\n",
    "print(lista_idiomas_2)"
   ]
  },
  {
   "cell_type": "code",
   "execution_count": 49,
   "id": "15c88133",
   "metadata": {},
   "outputs": [
    {
     "name": "stdout",
     "output_type": "stream",
     "text": [
      "['Inglés', 'Español', 'Francés', 'Árabe', 'Portugués']\n"
     ]
    }
   ],
   "source": [
    "lista_idiomas_1 = [\"Inglés\", \"Español\", \"Francés\"]\n",
    "lista_tuplas = (\"Árabe\", \"Portugués\")\n",
    "lista_idiomas_1 += lista_tuplas\n",
    "print(lista_idiomas_1)"
   ]
  },
  {
   "cell_type": "markdown",
   "id": "ac369dfd",
   "metadata": {},
   "source": [
    "#### .insert() ####\n",
    "Introduce un elemento en una lista, en el índice especificado. La sintáxis es: insert(índice, elemento)"
   ]
  },
  {
   "cell_type": "code",
   "execution_count": 50,
   "id": "b79543b6",
   "metadata": {},
   "outputs": [
    {
     "name": "stdout",
     "output_type": "stream",
     "text": [
      "['a', 'e', 'i', 'u']\n"
     ]
    }
   ],
   "source": [
    "vocales = ['a', 'e', 'i', 'u']\n",
    "print(vocales)"
   ]
  },
  {
   "cell_type": "code",
   "execution_count": 51,
   "id": "412f21be",
   "metadata": {},
   "outputs": [
    {
     "name": "stdout",
     "output_type": "stream",
     "text": [
      "['a', 'e', 'i', 'o', 'u']\n"
     ]
    }
   ],
   "source": [
    "# Introducimos la vocal \"o\" donde corresponde. ¿Cómo lo hacemos?\n",
    "vocales.insert( 3 ,'o')\n",
    "print(vocales)"
   ]
  },
  {
   "cell_type": "code",
   "execution_count": 52,
   "id": "312e2f60",
   "metadata": {},
   "outputs": [
    {
     "name": "stdout",
     "output_type": "stream",
     "text": [
      "['a', 'e', 'i', 'o', 'u', 'o']\n"
     ]
    }
   ],
   "source": [
    "# ¿Y si seleccionamos un índice que no \"existe\"?\n",
    "vocales_2 = vocales.copy()\n",
    "vocales_2.insert(8,'o')\n",
    "print(vocales_2)"
   ]
  },
  {
   "cell_type": "code",
   "execution_count": 53,
   "id": "796ad52f",
   "metadata": {},
   "outputs": [
    {
     "ename": "TypeError",
     "evalue": "insert expected 2 arguments, got 1",
     "output_type": "error",
     "traceback": [
      "\u001b[1;31m---------------------------------------------------------------------------\u001b[0m",
      "\u001b[1;31mTypeError\u001b[0m                                 Traceback (most recent call last)",
      "\u001b[1;32mC:\\Users\\ROBERT~1.DON\\AppData\\Local\\Temp/ipykernel_19588/1185720900.py\u001b[0m in \u001b[0;36m<module>\u001b[1;34m\u001b[0m\n\u001b[0;32m      1\u001b[0m \u001b[1;31m# Sin índice, no funciona\u001b[0m\u001b[1;33m\u001b[0m\u001b[1;33m\u001b[0m\u001b[0m\n\u001b[0;32m      2\u001b[0m \u001b[0mvocales_3\u001b[0m \u001b[1;33m=\u001b[0m \u001b[0mvocales\u001b[0m\u001b[1;33m.\u001b[0m\u001b[0mcopy\u001b[0m\u001b[1;33m(\u001b[0m\u001b[1;33m)\u001b[0m\u001b[1;33m\u001b[0m\u001b[1;33m\u001b[0m\u001b[0m\n\u001b[1;32m----> 3\u001b[1;33m \u001b[0mvocales_3\u001b[0m\u001b[1;33m.\u001b[0m\u001b[0minsert\u001b[0m\u001b[1;33m(\u001b[0m\u001b[1;34m'o'\u001b[0m\u001b[1;33m)\u001b[0m\u001b[1;33m\u001b[0m\u001b[1;33m\u001b[0m\u001b[0m\n\u001b[0m\u001b[0;32m      4\u001b[0m \u001b[0mprint\u001b[0m\u001b[1;33m(\u001b[0m\u001b[0mvocales_3\u001b[0m\u001b[1;33m)\u001b[0m\u001b[1;33m\u001b[0m\u001b[1;33m\u001b[0m\u001b[0m\n",
      "\u001b[1;31mTypeError\u001b[0m: insert expected 2 arguments, got 1"
     ]
    }
   ],
   "source": [
    "# Sin índice, no funciona\n",
    "vocales_3 = vocales.copy()\n",
    "vocales_3.insert('o')\n",
    "print(vocales_3)"
   ]
  },
  {
   "cell_type": "code",
   "execution_count": 54,
   "id": "171793c5",
   "metadata": {},
   "outputs": [
    {
     "name": "stdout",
     "output_type": "stream",
     "text": [
      "['a', 'e', 'i', 'o', 'o', 'u']\n"
     ]
    }
   ],
   "source": [
    "# Para introducir en el último lugar, usar .append()\n",
    "vocales_4 = vocales.copy()\n",
    "vocales_4.insert(-1,'o')\n",
    "print(vocales_4)"
   ]
  },
  {
   "cell_type": "markdown",
   "id": "3c252f57",
   "metadata": {},
   "source": [
    "#### .reverse() ####\n",
    "Invierte el orden de la lista, pasando el primer elemento a ser el último y viceversa:"
   ]
  },
  {
   "cell_type": "code",
   "execution_count": 55,
   "id": "6f56f432",
   "metadata": {},
   "outputs": [
    {
     "name": "stdout",
     "output_type": "stream",
     "text": [
      "[1, 2, 3, 4, 5]\n"
     ]
    }
   ],
   "source": [
    "numeros = [ 1,2,3,4,5 ]\n",
    "print(numeros)"
   ]
  },
  {
   "cell_type": "code",
   "execution_count": 56,
   "id": "e82975d4",
   "metadata": {},
   "outputs": [],
   "source": [
    "numeros.reverse()"
   ]
  },
  {
   "cell_type": "code",
   "execution_count": 57,
   "id": "077f0a17",
   "metadata": {},
   "outputs": [
    {
     "name": "stdout",
     "output_type": "stream",
     "text": [
      "[5, 4, 3, 2, 1]\n"
     ]
    }
   ],
   "source": [
    "# ¿Qué se mostrará ahora por pantalla?  [1,2,3,4,5] o [5,4,3,2,1]\n",
    "print(numeros)"
   ]
  },
  {
   "cell_type": "markdown",
   "id": "628e789b",
   "metadata": {},
   "source": [
    "También se puede utilizar  __reversed()__  para acceder a los elementos de una lista en orden inverso como sigue:"
   ]
  },
  {
   "cell_type": "code",
   "execution_count": 58,
   "id": "23109946",
   "metadata": {},
   "outputs": [
    {
     "name": "stdout",
     "output_type": "stream",
     "text": [
      "5\n",
      "4\n",
      "3\n",
      "2\n",
      "1\n"
     ]
    }
   ],
   "source": [
    "numeros = [ 1,2,3,4,5 ]\n",
    "\n",
    "for num in reversed(numeros):\n",
    "    print(num)"
   ]
  },
  {
   "cell_type": "markdown",
   "id": "c322abba",
   "metadata": {},
   "source": [
    "#### .sort() ### \n",
    "Ordena la lista de manera ascendente o descendente, según le indiquemos."
   ]
  },
  {
   "cell_type": "code",
   "execution_count": 59,
   "id": "176a3be2",
   "metadata": {},
   "outputs": [
    {
     "name": "stdout",
     "output_type": "stream",
     "text": [
      "[25, 67, 32, 41]\n"
     ]
    }
   ],
   "source": [
    "numeros_2 = [25, 67, 32, 41]\n",
    "print(numeros_2)"
   ]
  },
  {
   "cell_type": "code",
   "execution_count": 60,
   "id": "e90eb800",
   "metadata": {},
   "outputs": [
    {
     "name": "stdout",
     "output_type": "stream",
     "text": [
      "[25, 32, 41, 67]\n"
     ]
    }
   ],
   "source": [
    "numeros_2.sort() # Si no le indicamos más parámetros, por defecto, .sort() impone el orden ascendente\n",
    "print(numeros_2)"
   ]
  },
  {
   "cell_type": "code",
   "execution_count": 61,
   "id": "d1d9ef6a",
   "metadata": {},
   "outputs": [
    {
     "name": "stdout",
     "output_type": "stream",
     "text": [
      "[25, 32, 41, 67]\n"
     ]
    }
   ],
   "source": [
    "# También podemos especificarlo:\n",
    "numeros_2.sort(reverse = False)\n",
    "print(numeros_2)"
   ]
  },
  {
   "cell_type": "code",
   "execution_count": 62,
   "id": "3c26f842",
   "metadata": {},
   "outputs": [
    {
     "name": "stdout",
     "output_type": "stream",
     "text": [
      "[67, 41, 32, 25]\n"
     ]
    }
   ],
   "source": [
    "# Y, ¿en orden descendente?\n",
    "numeros_2.sort(reverse = True)\n",
    "print(numeros_2)"
   ]
  },
  {
   "cell_type": "code",
   "execution_count": 63,
   "id": "c8c85cfa",
   "metadata": {},
   "outputs": [
    {
     "name": "stdout",
     "output_type": "stream",
     "text": [
      "['Conejo', 'Perro', 'Gato', 'Perro', 'Pez', 'Hámster', 'Jilguero', 'Hurón', 'Tortuga']\n"
     ]
    }
   ],
   "source": [
    "# ¿Lo hará también con listas de strings?\n",
    "print(lista_animales_1)"
   ]
  },
  {
   "cell_type": "code",
   "execution_count": 64,
   "id": "2ceb5eff",
   "metadata": {},
   "outputs": [
    {
     "name": "stdout",
     "output_type": "stream",
     "text": [
      "['Conejo', 'Gato', 'Hurón', 'Hámster', 'Jilguero', 'Perro', 'Perro', 'Pez', 'Tortuga']\n"
     ]
    }
   ],
   "source": [
    "lista_animales_1.sort(reverse = False)\n",
    "print(lista_animales_1)"
   ]
  },
  {
   "cell_type": "code",
   "execution_count": 65,
   "id": "9c491988",
   "metadata": {},
   "outputs": [
    {
     "name": "stdout",
     "output_type": "stream",
     "text": [
      "['Tortuga', 'Pez', 'Perro', 'Perro', 'Jilguero', 'Hámster', 'Hurón', 'Gato', 'Conejo']\n"
     ]
    }
   ],
   "source": [
    "lista_animales_1.sort(reverse = True)\n",
    "print(lista_animales_1)"
   ]
  },
  {
   "cell_type": "code",
   "execution_count": 66,
   "id": "78e37984",
   "metadata": {},
   "outputs": [
    {
     "name": "stdout",
     "output_type": "stream",
     "text": [
      "['Conejo', 'Gato', 'Hámster', 'Jilguero', 'Perro', 'Pez', 'Tortuga', 'gato', 'hurón', 'perro']\n"
     ]
    }
   ],
   "source": [
    "lista_prueba = ['Conejo', 'gato', 'Gato','hurón', 'Hámster', 'Jilguero', 'perro', 'Perro', 'Pez', 'Tortuga']\n",
    "lista_prueba.sort(reverse = False)\n",
    "print(lista_prueba)"
   ]
  },
  {
   "cell_type": "code",
   "execution_count": 67,
   "id": "c7880dc3",
   "metadata": {},
   "outputs": [
    {
     "name": "stdout",
     "output_type": "stream",
     "text": [
      "['Arbol', 'Perro', 'arbol', 'conejo', 'gato', 'gato', 'hámster', 'jilguero', 'perro', 'Árbol', 'árbol', 'índice']\n"
     ]
    }
   ],
   "source": [
    "lista_prueba = ['conejo', 'gato', 'índice', 'gato','Árbol', 'árbol','Arbol','arbol','hámster', 'jilguero', 'perro', 'Perro']\n",
    "lista_prueba.sort(reverse = False)\n",
    "print(lista_prueba)"
   ]
  },
  {
   "cell_type": "markdown",
   "id": "751031aa",
   "metadata": {},
   "source": [
    "La función .sort() tiene un parámetro adicional a \"reverse\" ; se trata de __key__ y sirve para añadir un criterio de orden adicional como, por ejemplo, ordenar palabras de manera ascendente por su longitud. Debe tratarse de una función válida."
   ]
  },
  {
   "cell_type": "code",
   "execution_count": 68,
   "id": "446f3705",
   "metadata": {},
   "outputs": [
    {
     "name": "stdout",
     "output_type": "stream",
     "text": [
      "['Pez', 'Gato', 'Perro', 'Perro', 'Hurón', 'Conejo', 'Tortuga', 'Hámster', 'Jilguero']\n"
     ]
    }
   ],
   "source": [
    "lista_animales_1.sort(key = len)\n",
    "print(lista_animales_1)"
   ]
  },
  {
   "cell_type": "code",
   "execution_count": 69,
   "id": "1afe820f",
   "metadata": {},
   "outputs": [
    {
     "name": "stdout",
     "output_type": "stream",
     "text": [
      "['Arbol', 'arbol', 'conejo', 'gato', 'gato', 'hámster', 'jilguero', 'perro', 'Perro', 'Árbol', 'árbol', 'índice']\n"
     ]
    }
   ],
   "source": [
    "# Si dos elementos coinciden en longitud, aparecerá primero, el que primero encuentre\n",
    "lista_animales_2 = ['conejo', 'gato', 'índice', 'gato','Árbol', 'árbol','Arbol','arbol','hámster', 'jilguero', 'perro', 'Perro']\n",
    "lista_animales_2.sort(reverse = False, key=str.lower)\n",
    "print(lista_animales_2)"
   ]
  },
  {
   "cell_type": "code",
   "execution_count": 70,
   "id": "06c34e6d",
   "metadata": {},
   "outputs": [
    {
     "name": "stdout",
     "output_type": "stream",
     "text": [
      "['Arbol', 'arbol', 'conejo', 'gato', 'gato', 'hámster', 'jilguero', 'perro', 'Perro', 'Árbol', 'árbol', 'índice', 'pingüino', 'ñu']\n"
     ]
    }
   ],
   "source": [
    "lista_animales_3=['Arbol', 'arbol', 'conejo', 'gato', 'gato', 'hámster', 'jilguero', 'perro', 'Perro', 'Árbol', 'árbol', 'índice', \"pingüino\",\"ñu\"]\n",
    "print(lista_animales_3)"
   ]
  },
  {
   "cell_type": "code",
   "execution_count": 71,
   "id": "cd23efca",
   "metadata": {},
   "outputs": [
    {
     "name": "stdout",
     "output_type": "stream",
     "text": [
      "['arbol', 'arbol', 'arbol', 'arbol', 'conejo', 'gato', 'gato', 'hamster', 'indice', 'jilguero', 'nu', 'perro', 'perro', 'pinguino']\n"
     ]
    }
   ],
   "source": [
    "# Código para quitar virgulilla, tildes étc, pasar a minúsculas y poner lista en orden alfabetico:\n",
    "import unidecode\n",
    "\n",
    "lista_buena = []\n",
    "\n",
    "for palabra in lista_animales_3:\n",
    "    palabra = unidecode.unidecode(palabra)\n",
    "    palabra = palabra.lower()\n",
    "    lista_buena.append(palabra)\n",
    "    lista_buena.sort()\n",
    "print(lista_buena)\n",
    "    \n"
   ]
  },
  {
   "cell_type": "markdown",
   "id": "8d8f9f21-01a5-4b99-8db3-e80bb95a5484",
   "metadata": {},
   "source": [
    "Se puede poblar una lista utilizando un bucle for de la siguiente forma:"
   ]
  },
  {
   "cell_type": "code",
   "execution_count": 72,
   "id": "251c5572-77c5-4cc5-9c72-e08367744473",
   "metadata": {},
   "outputs": [
    {
     "data": {
      "text/plain": [
       "[1, 2, 3, 4, 5]"
      ]
     },
     "execution_count": 72,
     "metadata": {},
     "output_type": "execute_result"
    }
   ],
   "source": [
    "lista = [ numero for numero in range(1,6) ]\n",
    "lista"
   ]
  },
  {
   "cell_type": "markdown",
   "id": "189350a5-95ba-421f-b4b0-e56ae5344e9a",
   "metadata": {},
   "source": [
    "Podemos añadir condicionales if también:"
   ]
  },
  {
   "cell_type": "code",
   "execution_count": 73,
   "id": "f670d87f-3c61-44e2-a651-86dcd5864ee2",
   "metadata": {},
   "outputs": [
    {
     "data": {
      "text/plain": [
       "[3, 4, 5]"
      ]
     },
     "execution_count": 73,
     "metadata": {},
     "output_type": "execute_result"
    }
   ],
   "source": [
    "lista = [ numero for numero in range(1,6) if numero >= 3]\n",
    "lista"
   ]
  },
  {
   "cell_type": "markdown",
   "id": "2f7d403a-adec-4f31-a7db-ed65bd784ee8",
   "metadata": {},
   "source": [
    "O aplicar una función:"
   ]
  },
  {
   "cell_type": "code",
   "execution_count": 74,
   "id": "600f19d3-29ce-4292-8842-bccda10758b4",
   "metadata": {},
   "outputs": [
    {
     "data": {
      "text/plain": [
       "[(3, False), (4, True), (5, False)]"
      ]
     },
     "execution_count": 74,
     "metadata": {},
     "output_type": "execute_result"
    }
   ],
   "source": [
    "def es_par(numero):\n",
    "    if numero % 2 == 0:\n",
    "        return True\n",
    "    else:\n",
    "        return False\n",
    "\n",
    "lista = [ (numero, es_par(numero)) for numero in range(1,6) if numero >= 3]\n",
    "lista"
   ]
  },
  {
   "cell_type": "markdown",
   "id": "385ad2a7",
   "metadata": {},
   "source": [
    "### Ejercicios propuestos ###"
   ]
  },
  {
   "cell_type": "markdown",
   "id": "291ba59a",
   "metadata": {},
   "source": [
    "Dadas las dos listas siguientes, únelas en una tercera lista a la que llamaremos lista_compra. Piénsalo de dos posibles maneras."
   ]
  },
  {
   "cell_type": "code",
   "execution_count": 16,
   "id": "e50709bf",
   "metadata": {},
   "outputs": [
    {
     "name": "stdout",
     "output_type": "stream",
     "text": [
      "['Huevos', 'Leche', 'Pan', 'Yogures', 'Servilletas']\n",
      "['Manzanas', 'Gel', 'Suavizante', 'Zanahorias', 'Merengue']\n"
     ]
    }
   ],
   "source": [
    "lista_c1 = [\"Huevos\", \"Leche\", \"Pan\", \"Yogures\", \"Servilletas\"]\n",
    "lista_c2 = [\"Manzanas\", \"Gel\", \"Suavizante\", \"Zanahorias\", \"Merengue\"]\n",
    "print(lista_c1)\n",
    "print(lista_c2)"
   ]
  },
  {
   "cell_type": "code",
   "execution_count": 17,
   "id": "1497b666-70ec-40f6-97c3-0b94efdf5a80",
   "metadata": {},
   "outputs": [
    {
     "name": "stdout",
     "output_type": "stream",
     "text": [
      "['Huevos', 'Leche', 'Pan', 'Yogures', 'Servilletas', 'Manzanas', 'Gel', 'Suavizante', 'Zanahorias', 'Merengue']\n"
     ]
    }
   ],
   "source": [
    "#Opción 1. Menos óptima\n",
    "\n",
    "lista_compra  = list()\n",
    "\n",
    "for producto in lista_c1:\n",
    "    lista_compra.append(producto)\n",
    "    \n",
    "for producto in lista_c2:\n",
    "    lista_compra.append(producto)\n",
    "    \n",
    "print(lista_compra)"
   ]
  },
  {
   "cell_type": "code",
   "execution_count": 18,
   "id": "2359c7b2-9169-43cc-a801-a092e6129a05",
   "metadata": {},
   "outputs": [
    {
     "name": "stdout",
     "output_type": "stream",
     "text": [
      "['Huevos', 'Leche', 'Pan', 'Yogures', 'Servilletas', 'Manzanas', 'Gel', 'Suavizante', 'Zanahorias', 'Merengue']\n"
     ]
    }
   ],
   "source": [
    "#Opción 2\n",
    "lista_compra = lista_c1 + lista_c2\n",
    "print(lista_compra)"
   ]
  },
  {
   "cell_type": "code",
   "execution_count": 19,
   "id": "35a4f80e",
   "metadata": {},
   "outputs": [
    {
     "name": "stdout",
     "output_type": "stream",
     "text": [
      "['Huevos', 'Leche', 'Pan', 'Yogures', 'Servilletas', 'Manzanas', 'Gel', 'Suavizante', 'Zanahorias', 'Merengue']\n"
     ]
    }
   ],
   "source": [
    "#Opción 3. Tampoco es óptima.\n",
    "\n",
    "lista_c1.extend(lista_c2)\n",
    "lista_compra = lista_c1.copy()\n",
    "print(lista_compra)"
   ]
  },
  {
   "cell_type": "markdown",
   "id": "71254977",
   "metadata": {},
   "source": [
    "Introduce el elemento \"Huevos\" en la posición 3 (que no coincide con el índice) de la lista y el elemento \"Pan\" en la última posición."
   ]
  },
  {
   "cell_type": "code",
   "execution_count": null,
   "id": "dff66104",
   "metadata": {},
   "outputs": [],
   "source": [
    "lista_compra.insert(2, \"Huevos\")\n",
    "lista_compra.append(\"Pan\")  \n",
    "print(lista_compra)"
   ]
  },
  {
   "cell_type": "markdown",
   "id": "1cdbfb61",
   "metadata": {},
   "source": [
    "Utilizando la lista resultante, cuenta cuántas veces aparece \"Pan\" en ella."
   ]
  },
  {
   "cell_type": "code",
   "execution_count": null,
   "id": "c8858a08",
   "metadata": {},
   "outputs": [],
   "source": [
    "lista_compra.count(\"Pan\")"
   ]
  },
  {
   "cell_type": "markdown",
   "id": "9822470e",
   "metadata": {},
   "source": [
    "A partir de la lista de la compra obtenida en el ejercicio anterior, ordena sus elementos al contrario del orden alfabético."
   ]
  },
  {
   "cell_type": "code",
   "execution_count": null,
   "id": "a1faf45e",
   "metadata": {},
   "outputs": [],
   "source": [
    "lista_compra.sort(reverse = True)\n",
    "print(lista_compra)"
   ]
  },
  {
   "cell_type": "markdown",
   "id": "c40721f4",
   "metadata": {},
   "source": [
    "Crea un programa que, a partir de la lista anterior, cree dos listas nuevas:\n",
    "\n",
    "   * Una en la que figuren únicamente los productos con tres letras.\n",
    "    \n",
    "   * Otra en la que se eliminen los elementos duplicados.\n",
    "    \n",
    "Utiliza para ello un bucle for. Además, debes imprimirlas por pantalla en orden alfabético."
   ]
  },
  {
   "cell_type": "code",
   "execution_count": null,
   "id": "99074715",
   "metadata": {},
   "outputs": [],
   "source": [
    "lista_compra_bis = lista_compra.copy()\n",
    "\n",
    "lista_longitud_tres = []\n",
    "lista_sin_duplicados = []\n",
    "\n",
    "for producto in lista_compra_bis:\n",
    "    \n",
    "    if len(producto) == 3:\n",
    "        lista_longitud_tres.append(producto)\n",
    "        \n",
    "    if producto not in lista_sin_duplicados:\n",
    "        lista_sin_duplicados.append(producto)\n",
    "        \n",
    "lista_longitud_tres.sort(reverse = False)   \n",
    "lista_sin_duplicados.sort(reverse = False)\n",
    "\n",
    "print(lista_longitud_tres)\n",
    "print(lista_sin_duplicados)"
   ]
  },
  {
   "cell_type": "code",
   "execution_count": null,
   "id": "54b440e5",
   "metadata": {},
   "outputs": [],
   "source": [
    "# ¿Qué diferencia hay entre el código anterior y este? ¿Este sería correcto también para resolver el ejercicio?\n",
    "lista_compra_tres = lista_compra.copy()\n",
    "lista_longitud_tres = []\n",
    "lista_sin_duplicados = []\n",
    "\n",
    "for producto in lista_compra_tres:\n",
    "    \n",
    "    if len(producto) == 3:\n",
    "        lista_longitud_tres.append(producto)\n",
    "        \n",
    "    if lista_compra_tres.count(producto)==1:\n",
    "        lista_sin_duplicados.append(producto)\n",
    "        \n",
    "lista_longitud_tres.sort(reverse = False)   \n",
    "lista_sin_duplicados.sort(reverse = False)\n",
    "\n",
    "print(lista_longitud_tres)\n",
    "print(lista_sin_duplicados)"
   ]
  },
  {
   "cell_type": "markdown",
   "id": "58b3ebb7",
   "metadata": {},
   "source": [
    "Dada la siguiente lista de elementos, crea un programa que imprima por pantalla cuatro listas distintas; una por cada tipo de elemento que es posible encontrarse en ella, es decir, string, booleano, entero o decimal. En caso de que encuentre algún elemento que no sea de este tipo, mostrar \"El elemento {i} no está permitido\"."
   ]
  },
  {
   "cell_type": "code",
   "execution_count": null,
   "id": "5dc7a19c",
   "metadata": {},
   "outputs": [],
   "source": [
    "lista_mezcla = [\"Hola\", \"mundo\", True, 1, 2, 3, \"Python\", 5.5 , \"Anaconda\", 6.66 , 7, \"Spyder\", False]\n",
    "print(lista_mezcla)"
   ]
  },
  {
   "cell_type": "code",
   "execution_count": null,
   "id": "09e86767",
   "metadata": {},
   "outputs": [],
   "source": [
    "lista_string = []\n",
    "lista_int = []\n",
    "lista_float = []\n",
    "lista_bool = []\n",
    "\n",
    "for i in lista_mezcla:\n",
    "    if type(i)== str:\n",
    "        lista_string.append(i)\n",
    "    elif type(i)== int:\n",
    "        lista_int.append(i)\n",
    "    elif type(i)== float:\n",
    "        lista_float.append(i)\n",
    "    elif type(i)== bool:\n",
    "        lista_bool.append(i)\n",
    "    else:\n",
    "        print(f\"El elemento {i} no está permitido.\")\n",
    "print(lista_string, lista_int, lista_float, lista_bool, sep='\\n')\n",
    "        "
   ]
  },
  {
   "cell_type": "markdown",
   "id": "88e086ea-9762-414d-a422-b199d3334082",
   "metadata": {},
   "source": [
    "4. Crea una lista sin duplicados, solo utilizando bucles."
   ]
  },
  {
   "cell_type": "code",
   "execution_count": 70,
   "id": "e9500545-9b9f-4917-aa6f-16cab1331fcb",
   "metadata": {},
   "outputs": [
    {
     "name": "stdout",
     "output_type": "stream",
     "text": [
      "[1, 2, 3, 4, 5]\n"
     ]
    }
   ],
   "source": [
    "mi_lista = [1, 2, 2, 3, 4, 4, 5]\n",
    "mi_lista_sin_duplicados = []\n",
    "\n",
    "for elemento in mi_lista:\n",
    "    if elemento not in mi_lista_sin_duplicados:\n",
    "        mi_lista_sin_duplicados.append(elemento)\n",
    "print(mi_lista_sin_duplicados) # [1, 2, 3, 4, 5]"
   ]
  },
  {
   "cell_type": "code",
   "execution_count": null,
   "id": "56ec1369-563c-41b6-9154-76c21c12f9b8",
   "metadata": {},
   "outputs": [],
   "source": []
  }
 ],
 "metadata": {
  "kernelspec": {
   "display_name": "Python 3 (ipykernel)",
   "language": "python",
   "name": "python3"
  },
  "language_info": {
   "codemirror_mode": {
    "name": "ipython",
    "version": 3
   },
   "file_extension": ".py",
   "mimetype": "text/x-python",
   "name": "python",
   "nbconvert_exporter": "python",
   "pygments_lexer": "ipython3",
   "version": "3.9.7"
  }
 },
 "nbformat": 4,
 "nbformat_minor": 5
}
