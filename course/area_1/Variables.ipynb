{
 "cells": [
  {
   "cell_type": "markdown",
   "id": "30d9e0e6",
   "metadata": {},
   "source": [
    "## Indentación ## \n",
    "\n",
    "Para explicar este primer concepto, vamos a ver varios ejemplos."
   ]
  },
  {
   "cell_type": "code",
   "execution_count": 7,
   "id": "b8ba271c",
   "metadata": {},
   "outputs": [
    {
     "name": "stdin",
     "output_type": "stream",
     "text": [
      "¿Cuál es tu edad?\n",
      " 13\n"
     ]
    },
    {
     "name": "stdout",
     "output_type": "stream",
     "text": [
      "Eres menor de edad.\n",
      "Proceso terminado\n"
     ]
    }
   ],
   "source": [
    "edad = int(input('¿Cuál es tu edad?\\n'))\n",
    "\n",
    "#Bloque\n",
    "if edad < 0:\n",
    "    print('Nadie puede tener esa edad.')\n",
    "    print(\"Otro print\")\n",
    "elif edad >= 0 and edad < 18:\n",
    "    print('Eres menor de edad.')\n",
    "elif edad >= 18 and edad <= 100:\n",
    "    print('Eres mayor de edad.')\n",
    "else:\n",
    "    print('Edad no válida.')\n",
    "\n",
    "\n",
    "    \n",
    "print(\"Proceso terminado\")"
   ]
  },
  {
   "cell_type": "markdown",
   "id": "1998ed05",
   "metadata": {},
   "source": [
    "¿Qué ocurre si modificamos alguna indentación en el código anterior?"
   ]
  },
  {
   "cell_type": "code",
   "execution_count": 14,
   "id": "e391dfa2",
   "metadata": {},
   "outputs": [
    {
     "name": "stdin",
     "output_type": "stream",
     "text": [
      "¿Cuál es tu edad?\n",
      " 12\n"
     ]
    },
    {
     "name": "stdout",
     "output_type": "stream",
     "text": [
      "Eres menor de edad.\n"
     ]
    }
   ],
   "source": [
    "edad = int(input('¿Cuál es tu edad?\\n'))\n",
    "\n",
    "if edad < 0:\n",
    "    print('Nadie puede tener esa edad.')\n",
    "elif edad >= 0 and edad < 18:\n",
    "    print('Eres menor de edad.')\n",
    "elif edad >= 18 and edad <= 100:\n",
    "    print('Eres mayor de edad.')\n",
    "else:\n",
    "    print('Edad no válida.')\n",
    "    print(\"Proceso terminado\")"
   ]
  },
  {
   "cell_type": "code",
   "execution_count": 1,
   "id": "06f5959b",
   "metadata": {},
   "outputs": [
    {
     "name": "stdout",
     "output_type": "stream",
     "text": [
      "0\n",
      "Par\n",
      "1\n",
      "Impar\n",
      "2\n",
      "Par\n",
      "3\n",
      "Impar\n",
      "4\n",
      "Par\n"
     ]
    }
   ],
   "source": [
    "# Otro ejemplo\n",
    "for i in range(5):\n",
    "    print(i)\n",
    "    if i % 2 == 0:\n",
    "        print(\"Par\")\n",
    "    else:\n",
    "        print(\"Impar\")"
   ]
  },
  {
   "cell_type": "code",
   "execution_count": 7,
   "id": "6816c9f0",
   "metadata": {},
   "outputs": [
    {
     "name": "stdout",
     "output_type": "stream",
     "text": [
      "0\n",
      "1\n",
      "2\n",
      "3\n",
      "4\n",
      "Par\n"
     ]
    }
   ],
   "source": [
    "# Otro ejemplo\n",
    "for i in range(5):\n",
    "    print(i)\n",
    "if i % 2 == 0:\n",
    "        print(\"Par\")\n",
    "else:\n",
    "        print(\"Impar\")"
   ]
  },
  {
   "cell_type": "code",
   "execution_count": 8,
   "id": "d6c896f4-cd49-4975-ac5e-b82bebea721b",
   "metadata": {},
   "outputs": [
    {
     "name": "stdout",
     "output_type": "stream",
     "text": [
      "13\n"
     ]
    }
   ],
   "source": [
    "print(edad)"
   ]
  },
  {
   "cell_type": "code",
   "execution_count": 9,
   "id": "3ef46216-7e0a-404c-99b4-f35f7c11e284",
   "metadata": {},
   "outputs": [],
   "source": [
    "edad=24"
   ]
  },
  {
   "cell_type": "code",
   "execution_count": 10,
   "id": "6f573e27-ae08-4991-abba-c621a68c4e7b",
   "metadata": {},
   "outputs": [
    {
     "name": "stdout",
     "output_type": "stream",
     "text": [
      "24\n"
     ]
    }
   ],
   "source": [
    "print(edad)"
   ]
  },
  {
   "cell_type": "markdown",
   "id": "6affbff2",
   "metadata": {},
   "source": [
    "## Variables ## \n",
    "\n",
    "En Python, una variable es un nombre que se asigna a un valor almacenado en memoria. Almacenan información que se puede modificar o manipular en un programa."
   ]
  },
  {
   "cell_type": "code",
   "execution_count": 16,
   "id": "8d36c1af",
   "metadata": {},
   "outputs": [
    {
     "name": "stdout",
     "output_type": "stream",
     "text": [
      "30\n"
     ]
    }
   ],
   "source": [
    "#Definimos la variable\n",
    "variable = 30\n",
    "\n",
    "#Mostramos el valor de la variable por pantalla.\n",
    "print(variable)"
   ]
  },
  {
   "cell_type": "markdown",
   "id": "023fd533",
   "metadata": {},
   "source": [
    "Podemos modificar su valor. Ahora la variable almacenará un texto."
   ]
  },
  {
   "cell_type": "code",
   "execution_count": 2,
   "id": "9c47e1e8",
   "metadata": {},
   "outputs": [
    {
     "name": "stdout",
     "output_type": "stream",
     "text": [
      "Hola mundo.\n"
     ]
    }
   ],
   "source": [
    "variable = \"Hola mundo.\"\n",
    "\n",
    "#Volvemos a mostrar su valor por pantalla.\n",
    "print(variable)"
   ]
  },
  {
   "cell_type": "code",
   "execution_count": 12,
   "id": "192a6893",
   "metadata": {},
   "outputs": [
    {
     "name": "stdout",
     "output_type": "stream",
     "text": [
      "Hola \"mundo\"\n"
     ]
    }
   ],
   "source": [
    "variable = \"Hola \\\"mundo\\\"\"\n",
    "#variable = \"Hola \"mundo\"\"\n",
    "print(variable)"
   ]
  },
  {
   "cell_type": "markdown",
   "id": "98c29c5d",
   "metadata": {},
   "source": [
    "Las variables pueden contener distintos tipos de datos:\n",
    "\n",
    "Pueden contener distintos tipos de datos: ​\n",
    "\n",
    "- Números enteros (int)​\n",
    "\n",
    "- Decimales (float)​\n",
    "\n",
    "- Texto (str) ​\n",
    "\n",
    "- Listas (list) ​\n",
    "\n",
    "- Tuplas (tuple)​\n",
    "\n",
    "- Diccionarios (dict)​\n",
    "\n",
    "- Conjuntos (set)​\n",
    "\n",
    "- Booleanos (bool)​\n",
    "\n",
    "- Objetos complejos como pueden ser las clases. "
   ]
  },
  {
   "cell_type": "code",
   "execution_count": 17,
   "id": "9980ed6e",
   "metadata": {},
   "outputs": [
    {
     "name": "stdout",
     "output_type": "stream",
     "text": [
      "Valor de la variable 23 .Tipo <class 'int'>\n"
     ]
    },
    {
     "data": {
      "text/plain": [
       "int"
      ]
     },
     "execution_count": 17,
     "metadata": {},
     "output_type": "execute_result"
    }
   ],
   "source": [
    "#Números enteros \n",
    "variable = 23\n",
    "print(\"Valor de la variable\", variable, \".Tipo\", type(variable))\n",
    "type(variable)"
   ]
  },
  {
   "cell_type": "code",
   "execution_count": 18,
   "id": "9f87918f",
   "metadata": {},
   "outputs": [
    {
     "name": "stdout",
     "output_type": "stream",
     "text": [
      "Valor de la variable 12.8 .Tipo <class 'float'>\n"
     ]
    },
    {
     "data": {
      "text/plain": [
       "float"
      ]
     },
     "execution_count": 18,
     "metadata": {},
     "output_type": "execute_result"
    }
   ],
   "source": [
    "#Números decimales.\n",
    "variable = 12.8\n",
    "print(\"Valor de la variable\", variable, \".Tipo\", type(variable))\n",
    "type(variable)"
   ]
  },
  {
   "cell_type": "code",
   "execution_count": 13,
   "id": "a8f47cc9",
   "metadata": {},
   "outputs": [
    {
     "name": "stdout",
     "output_type": "stream",
     "text": [
      "Valor de la variable Hola mundo .Tipo <class 'str'>\n"
     ]
    },
    {
     "data": {
      "text/plain": [
       "str"
      ]
     },
     "execution_count": 13,
     "metadata": {},
     "output_type": "execute_result"
    }
   ],
   "source": [
    "#Cadenas de texto\n",
    "variable = 'Hola mundo'\n",
    "print(\"Valor de la variable\", variable, \".Tipo\", type(variable))\n",
    "type(variable)"
   ]
  },
  {
   "cell_type": "code",
   "execution_count": null,
   "id": "7e8c55af",
   "metadata": {},
   "outputs": [
    {
     "data": {
      "text/plain": [
       "list"
      ]
     },
     "execution_count": 15,
     "metadata": {},
     "output_type": "execute_result"
    }
   ],
   "source": [
    "#Listas: Son conjuntos de elementos relacionados entre sí. Los elementos pueden ser del mismo tipo o no.\n",
    "# Cada lista se representa entre corchetes.\n",
    "\n",
    "variable = [\"Carne\", \"Pescado\", \"Verduras\"]\n",
    "#print(\"Valor de la variable\", variable, \".Tipo\", type(variable))\n",
    "type(variable)\n",
    "\n",
    "variable_2 = [3,5,6]\n",
    "type(variable_2)\n",
    "\n",
    "lista_3 = [\"Hola\", 2, 3.5]\n",
    "type(lista_3)"
   ]
  },
  {
   "cell_type": "code",
   "execution_count": 16,
   "id": "c62ccb1d",
   "metadata": {},
   "outputs": [
    {
     "data": {
      "text/plain": [
       "tuple"
      ]
     },
     "execution_count": 16,
     "metadata": {},
     "output_type": "execute_result"
    }
   ],
   "source": [
    "#Tuplas: Son conjuntos de elementos, igual que las listas, pero se diferencian de estas en que sus valores no se pueden \n",
    "# modificar. Cada tupla se representa entre paréntesis.\n",
    "\n",
    "variable = (\"sardina\", \"atún\", \"tiburón\")\n",
    "# print(\"Valor de la variable\", variable, \".Tipo\", type(variable))\n",
    "\n",
    "variable_2 = (3,5,6)\n",
    "type(variable_2)"
   ]
  },
  {
   "cell_type": "code",
   "execution_count": 18,
   "id": "ffc74ff1-8785-4005-8699-ae19e3c472f2",
   "metadata": {},
   "outputs": [
    {
     "name": "stdout",
     "output_type": "stream",
     "text": [
      "[2, 5, 6]\n"
     ]
    }
   ],
   "source": [
    "variable_2 = [2,5,6]\n",
    "print(variable_2)"
   ]
  },
  {
   "cell_type": "code",
   "execution_count": 19,
   "id": "2eb7d4cb-12ed-4e4d-a8d8-b4a0af8fef6d",
   "metadata": {},
   "outputs": [],
   "source": [
    "PI = 3.14159"
   ]
  },
  {
   "cell_type": "code",
   "execution_count": 22,
   "id": "fd5315f4-093c-45f9-b6fb-ace06faa2279",
   "metadata": {},
   "outputs": [],
   "source": [
    "PI = (6)\n",
    "\n"
   ]
  },
  {
   "cell_type": "code",
   "execution_count": 28,
   "id": "7c997be2-7a9d-466b-9b65-49691f094c6f",
   "metadata": {},
   "outputs": [],
   "source": [
    "PI = (3.1415)"
   ]
  },
  {
   "cell_type": "code",
   "execution_count": null,
   "id": "0cedde10-4c75-4f77-a084-5c784e43f7ca",
   "metadata": {},
   "outputs": [],
   "source": []
  },
  {
   "cell_type": "code",
   "execution_count": 35,
   "id": "06a8cb2b",
   "metadata": {},
   "outputs": [
    {
     "data": {
      "text/plain": [
       "dict"
      ]
     },
     "execution_count": 35,
     "metadata": {},
     "output_type": "execute_result"
    }
   ],
   "source": [
    "#Diccionarios: Son conjuntos de pares que contienen siempre una clave y un valor. Cada diccionario se representa entre llaves.\n",
    "\n",
    "variable = {\"Nombre\": \"Roberto\", \"Edad\": 70, \"Aprobado\": True}\n",
    "# print(\"Valor de la variable\", variable, \".Tipo\", type(variable))\n",
    "type(variable)"
   ]
  },
  {
   "cell_type": "code",
   "execution_count": null,
   "id": "74aae5d5-5b7a-4be7-877d-5eedc16f1ec8",
   "metadata": {},
   "outputs": [],
   "source": [
    "print(variable)"
   ]
  },
  {
   "cell_type": "code",
   "execution_count": 36,
   "id": "bcd7f398",
   "metadata": {},
   "outputs": [
    {
     "data": {
      "text/plain": [
       "set"
      ]
     },
     "execution_count": 36,
     "metadata": {},
     "output_type": "execute_result"
    }
   ],
   "source": [
    "#Conjuntos: Son colecciones de elementos únicos no ordenados. En los conjuntos no hay elementos repetidos.\n",
    "# Los elementos pueden ser del mismo tipo o no. Los conjuntos se representan entre llaves.\n",
    "\n",
    "variable = {\"Coche\", \"Moto\", \"Avión\"}\n",
    "# print(\"Valor de la variable\", variable, \".Tipo\", type(variable))\n",
    "type(variable)"
   ]
  },
  {
   "cell_type": "code",
   "execution_count": 37,
   "id": "70c85e56",
   "metadata": {},
   "outputs": [
    {
     "data": {
      "text/plain": [
       "bool"
      ]
     },
     "execution_count": 37,
     "metadata": {},
     "output_type": "execute_result"
    }
   ],
   "source": [
    "#Booleanos. Este tipo de datos solo tiene dos valores posibles, True (verdadero) o False (falso).\n",
    "\n",
    "variable = True\n",
    "# print(\"Valor de la variable\", variable, \".Tipo\", type(variable))\n",
    "type(variable)\n",
    "\n"
   ]
  },
  {
   "cell_type": "code",
   "execution_count": 19,
   "id": "5a32e744",
   "metadata": {},
   "outputs": [
    {
     "name": "stdout",
     "output_type": "stream",
     "text": [
      "<class '__main__.Nueva_clase'>\n",
      "<class 'str'>\n",
      "<class 'str'>\n"
     ]
    }
   ],
   "source": [
    "#Objetos complejos. Clases\n",
    "class Nueva_clase():\n",
    "    def __init__(self, i_nombre, i_profesion):\n",
    "        self.nombre = i_nombre\n",
    "        self.profesion = i_profesion\n",
    "        \n",
    "        \n",
    "variable = Nueva_clase(\"Roberto\", \"Estudiante\")\n",
    "\n",
    "#print(\"Valor de la variable\", variable, \".Tipo\", type(variable))\n",
    "#print(\"Valor del atributo nombre de la clase\", variable.nombre, \".Tipo\", type(variable.nombre))\n",
    "#print(\"Valor del atributo profesion de la clase\", variable.profesion, \".Tipo\", type(variable.profesion))\n",
    "\n",
    "print(type(variable))\n",
    "print(type(variable.nombre))\n",
    "print(type(variable.profesion))"
   ]
  },
  {
   "cell_type": "code",
   "execution_count": 38,
   "id": "ed88a2f6",
   "metadata": {},
   "outputs": [
    {
     "name": "stdout",
     "output_type": "stream",
     "text": [
      "4 4 4\n",
      "4\n",
      "4\n",
      "4\n"
     ]
    }
   ],
   "source": [
    "# Asignación múltiple\n",
    "a = b = c = 4\n",
    "print(a,b,c)\n",
    "print(a)\n",
    "print(b)\n",
    "print(c)\n",
    "\n"
   ]
  },
  {
   "cell_type": "code",
   "execution_count": 39,
   "id": "577b4030-3769-4fdc-9b7a-21cb773825f1",
   "metadata": {},
   "outputs": [
    {
     "name": "stdout",
     "output_type": "stream",
     "text": [
      "4\n"
     ]
    }
   ],
   "source": [
    "c = 5\n",
    "print(b)"
   ]
  },
  {
   "cell_type": "code",
   "execution_count": 8,
   "id": "8010395b",
   "metadata": {},
   "outputs": [
    {
     "data": {
      "text/plain": [
       "str"
      ]
     },
     "execution_count": 8,
     "metadata": {},
     "output_type": "execute_result"
    }
   ],
   "source": [
    "x = 5\n",
    "type(x)\n",
    "\n",
    "x = str(x)\n",
    "type(x)"
   ]
  },
  {
   "cell_type": "code",
   "execution_count": null,
   "id": "7e541263-8789-437c-99a9-b663a04fb475",
   "metadata": {},
   "outputs": [],
   "source": []
  },
  {
   "cell_type": "code",
   "execution_count": 56,
   "id": "cda38cf2",
   "metadata": {},
   "outputs": [
    {
     "data": {
      "text/plain": [
       "int"
      ]
     },
     "execution_count": 56,
     "metadata": {},
     "output_type": "execute_result"
    }
   ],
   "source": [
    "x = \"5\"\n",
    "type(x)\n",
    "\n",
    "x = int(x)\n",
    "type(x)"
   ]
  },
  {
   "cell_type": "code",
   "execution_count": 9,
   "id": "5c563a48-27bd-46fc-b102-396a19e228ce",
   "metadata": {},
   "outputs": [
    {
     "name": "stdin",
     "output_type": "stream",
     "text": [
      "Dime tu edad:  13\n"
     ]
    },
    {
     "name": "stdout",
     "output_type": "stream",
     "text": [
      "13\n",
      "<class 'int'>\n",
      "28\n"
     ]
    }
   ],
   "source": [
    "''' Comentario 1: se pide la edad\n",
    "    Segunda línea de comentarios.\n",
    "    Tercera línea\n",
    "'''\n",
    "\n",
    "edad = int(input('Dime tu edad: '))\n",
    "\n",
    "print(edad)\n",
    "print(type(edad))\n",
    "\n",
    "edad_final = edad + 15\n",
    "print(edad_final)"
   ]
  },
  {
   "cell_type": "markdown",
   "id": "df247c75",
   "metadata": {},
   "source": [
    "\n",
    "### Conversión de tipo de datos ###\n",
    "\n",
    "Python permite transformar los datos entre los distintos tipos para que podamos emplearlos de una manera más eficiente.\n",
    "Un número que ha sido introducido como texto puede transformarse fácilmente a número, pero también un número puede transformarse a texto. Una manera sencilla de hacerlo es explícitamente a través de las funciones int(), float(), str(). "
   ]
  },
  {
   "cell_type": "code",
   "execution_count": 26,
   "id": "f1af0257",
   "metadata": {},
   "outputs": [
    {
     "name": "stdout",
     "output_type": "stream",
     "text": [
      "<class 'str'>\n",
      "23\n"
     ]
    }
   ],
   "source": [
    "entero = \"23\"\n",
    "print(type(entero))\n",
    "print(entero)"
   ]
  },
  {
   "cell_type": "code",
   "execution_count": 25,
   "id": "782a35a3",
   "metadata": {},
   "outputs": [
    {
     "name": "stdout",
     "output_type": "stream",
     "text": [
      "<class 'int'>\n",
      "23\n"
     ]
    }
   ],
   "source": [
    "entero = int(entero)\n",
    "print(type(entero))\n",
    "print(entero)"
   ]
  },
  {
   "cell_type": "code",
   "execution_count": 41,
   "id": "8247f56b",
   "metadata": {},
   "outputs": [
    {
     "name": "stdout",
     "output_type": "stream",
     "text": [
      "23 <class 'int'>\n",
      "23.4 <class 'float'>\n",
      "56 <class 'int'>\n",
      "87.5 <class 'str'>\n"
     ]
    }
   ],
   "source": [
    "#Conversión texto a entero\n",
    "entero = int(\"23\")\n",
    "print(entero, type(entero))\n",
    "\n",
    "#Conversión texto a decimal\n",
    "decimal = float(\"23.4\")\n",
    "print(decimal, type(decimal))\n",
    "\n",
    "#Conversión decimal a entero.\n",
    "entero = int(56.2)\n",
    "print(entero, type(entero))\n",
    "\n",
    "#Conversión número a texto\n",
    "texto = str(87.5)\n",
    "print(texto, type(texto))\n",
    "\n"
   ]
  },
  {
   "cell_type": "code",
   "execution_count": 31,
   "id": "63b58bbb-35fc-4e35-8588-6f3c2fa15d71",
   "metadata": {},
   "outputs": [
    {
     "name": "stdout",
     "output_type": "stream",
     "text": [
      "414\n"
     ]
    }
   ],
   "source": [
    "print(int(\"23\") * int(18.7))"
   ]
  },
  {
   "cell_type": "code",
   "execution_count": 44,
   "id": "15d893fb-ec9e-488c-a001-bc0da71f8477",
   "metadata": {},
   "outputs": [
    {
     "name": "stdout",
     "output_type": "stream",
     "text": [
      "23232323\n",
      "<class 'str'>\n"
     ]
    }
   ],
   "source": [
    "num_1 = \"23\"\n",
    "num_2 = 4\n",
    "resultado = num_1 * num_2\n",
    "print(resultado)\n",
    "print(type(resultado))"
   ]
  },
  {
   "cell_type": "markdown",
   "id": "60203004",
   "metadata": {},
   "source": [
    "\n",
    "### Introducción de datos a través de consola ###\n",
    "\n",
    "A través de la consola es posible pedir al usuario que introduzca ciertos datos que necesitemos para la ejecución, como por ejemplo, sus datos o seleccione alguna opción. Python proporciona el método input() que permite al usuario introducir código a través del teclado. \n",
    "\n",
    "En el siguiente ejemplo, se le pide al usuario que introduzca un dato, el cual se almacena en la variable x:"
   ]
  },
  {
   "cell_type": "code",
   "execution_count": 45,
   "id": "8c74f712",
   "metadata": {},
   "outputs": [
    {
     "name": "stdout",
     "output_type": "stream",
     "text": [
      "¿Le gusta la ciencia de datos? sí/no:\n"
     ]
    },
    {
     "name": "stdin",
     "output_type": "stream",
     "text": [
      " sí\n"
     ]
    },
    {
     "name": "stdout",
     "output_type": "stream",
     "text": [
      "Dato introducido: sí\n"
     ]
    }
   ],
   "source": [
    "print(\"¿Le gusta la ciencia de datos? sí/no:\")\n",
    "x = input()\n",
    "\n",
    "print(\"Dato introducido:\", x)"
   ]
  },
  {
   "cell_type": "code",
   "execution_count": 61,
   "id": "eb0d3ece",
   "metadata": {},
   "outputs": [
    {
     "data": {
      "text/plain": [
       "str"
      ]
     },
     "execution_count": 61,
     "metadata": {},
     "output_type": "execute_result"
    }
   ],
   "source": [
    "type(x)"
   ]
  },
  {
   "cell_type": "markdown",
   "id": "93ff9413",
   "metadata": {},
   "source": [
    "Además, podemos añadir un texto explicativo en input para guiar al usuario. De la siguiente forma:"
   ]
  },
  {
   "cell_type": "code",
   "execution_count": 46,
   "id": "5290e4fc",
   "metadata": {},
   "outputs": [
    {
     "name": "stdin",
     "output_type": "stream",
     "text": [
      "¿Le gusta la ciencia de datos? sí/no: no\n"
     ]
    },
    {
     "name": "stdout",
     "output_type": "stream",
     "text": [
      "Su respuesta fue: no\n"
     ]
    }
   ],
   "source": [
    "\"\"\"\n",
    "En este programa, input() realiza las siguientes tareas:\n",
    "    1. Muestra la pregunta \"¿Le gusta la ciencia de datos? sí/no:\"\n",
    "    2. Queda a la espera de que el usuario presione la tecla Enter\n",
    "    3. Almacena en la variable que tiene a la izquierda del símbolo '=' los datos introducidos por el usuario hasta\n",
    "       la pulsación de la tecla Enter.\n",
    "\n",
    "\"\"\"\n",
    "x = input(\"¿Le gusta la ciencia de datos? sí/no:\")\n",
    "print(\"Su respuesta fue:\", x)\n",
    "\n"
   ]
  },
  {
   "cell_type": "markdown",
   "id": "c7796be6",
   "metadata": {},
   "source": [
    "Por defecto, estos datos los toma como una cadena de texto. Por tanto, si escribimos un número y queremos realizar una operación aritmética, el intérprete generará un error:"
   ]
  },
  {
   "cell_type": "code",
   "execution_count": 1,
   "id": "3e05e947",
   "metadata": {
    "scrolled": true
   },
   "outputs": [
    {
     "name": "stdin",
     "output_type": "stream",
     "text": [
      "Introduce un número:  4\n"
     ]
    },
    {
     "ename": "TypeError",
     "evalue": "can only concatenate str (not \"int\") to str",
     "output_type": "error",
     "traceback": [
      "\u001b[1;31m---------------------------------------------------------------------------\u001b[0m",
      "\u001b[1;31mTypeError\u001b[0m                                 Traceback (most recent call last)",
      "\u001b[1;32m~\\AppData\\Local\\Temp\\ipykernel_17488\\4076486782.py\u001b[0m in \u001b[0;36m<cell line: 3>\u001b[1;34m()\u001b[0m\n\u001b[0;32m      1\u001b[0m \u001b[0mnumero\u001b[0m \u001b[1;33m=\u001b[0m \u001b[0minput\u001b[0m\u001b[1;33m(\u001b[0m\u001b[1;34m\"Introduce un número: \"\u001b[0m\u001b[1;33m)\u001b[0m\u001b[1;33m\u001b[0m\u001b[1;33m\u001b[0m\u001b[0m\n\u001b[0;32m      2\u001b[0m \u001b[1;33m\u001b[0m\u001b[0m\n\u001b[1;32m----> 3\u001b[1;33m \u001b[0msuma\u001b[0m \u001b[1;33m=\u001b[0m \u001b[0mnumero\u001b[0m \u001b[1;33m+\u001b[0m \u001b[1;36m15\u001b[0m\u001b[1;33m\u001b[0m\u001b[1;33m\u001b[0m\u001b[0m\n\u001b[0m\u001b[0;32m      4\u001b[0m \u001b[0mprint\u001b[0m\u001b[1;33m(\u001b[0m\u001b[0msuma\u001b[0m\u001b[1;33m)\u001b[0m\u001b[1;33m\u001b[0m\u001b[1;33m\u001b[0m\u001b[0m\n",
      "\u001b[1;31mTypeError\u001b[0m: can only concatenate str (not \"int\") to str"
     ]
    }
   ],
   "source": [
    "numero = input(\"Introduce un número: \")\n",
    "\n",
    "suma = numero + 15\n",
    "print(suma)\n"
   ]
  },
  {
   "cell_type": "markdown",
   "id": "e42f77e7",
   "metadata": {},
   "source": [
    "Debemos transformar esta entrada al tipo de datos que esperamos. Por tanto, en el ejemplo tendríamos que pasar el input a un tipo de datos decimal(float), quedando de la siguiente forma:\n"
   ]
  },
  {
   "cell_type": "code",
   "execution_count": 47,
   "id": "b1c79c8e",
   "metadata": {},
   "outputs": [
    {
     "name": "stdin",
     "output_type": "stream",
     "text": [
      "Introduce un número:  13\n"
     ]
    },
    {
     "name": "stdout",
     "output_type": "stream",
     "text": [
      "El resultado de la suma es 28.0 . El tipo de dato es <class 'float'>\n"
     ]
    }
   ],
   "source": [
    "numero = float(input(\"Introduce un número: \"))\n",
    "\n",
    "suma = numero + 15\n",
    "print(\"El resultado de la suma es\", suma, \". El tipo de dato es\", type(suma))"
   ]
  },
  {
   "cell_type": "markdown",
   "id": "f9b043d1",
   "metadata": {},
   "source": [
    "Como se ve, hemos convertido explícitamente el dato de entrada dado por el input a un dato decimal. Simplemente pasando el input como parámetro a float(). \n",
    "\n",
    "Aunque en la suma el 15 es un número entero, al realizar la operación el resultado final es de tipo float. "
   ]
  },
  {
   "cell_type": "code",
   "execution_count": 68,
   "id": "ef12d1a7",
   "metadata": {},
   "outputs": [
    {
     "name": "stdout",
     "output_type": "stream",
     "text": [
      "Escribe tu nombre:Silvia\n",
      "Hello Silvia\n"
     ]
    }
   ],
   "source": [
    "nombre = input(\"Escribe tu nombre:\")\n",
    "print('Hello',nombre)"
   ]
  },
  {
   "cell_type": "code",
   "execution_count": 69,
   "id": "fa088f8f",
   "metadata": {},
   "outputs": [
    {
     "name": "stdout",
     "output_type": "stream",
     "text": [
      "Escribe tu nombre:\n",
      "Vanesa\n",
      "Hello Vanesa\n"
     ]
    }
   ],
   "source": [
    "print('Escribe tu nombre:')\n",
    "nombre = input()\n",
    "print('Hello',nombre)"
   ]
  },
  {
   "cell_type": "markdown",
   "id": "d23fbf08-94b6-4145-a321-2d62e0e54831",
   "metadata": {},
   "source": [
    "#### Operadores ####"
   ]
  },
  {
   "cell_type": "code",
   "execution_count": 72,
   "id": "225555bb",
   "metadata": {},
   "outputs": [
    {
     "data": {
      "text/plain": [
       "50.0"
      ]
     },
     "execution_count": 72,
     "metadata": {},
     "output_type": "execute_result"
    }
   ],
   "source": [
    "20 / 2 * 5"
   ]
  },
  {
   "cell_type": "code",
   "execution_count": 73,
   "id": "05112226",
   "metadata": {},
   "outputs": [
    {
     "data": {
      "text/plain": [
       "2.0"
      ]
     },
     "execution_count": 73,
     "metadata": {},
     "output_type": "execute_result"
    }
   ],
   "source": [
    "20 / (2 * 5)"
   ]
  },
  {
   "cell_type": "code",
   "execution_count": 74,
   "id": "bce1192c",
   "metadata": {},
   "outputs": [
    {
     "data": {
      "text/plain": [
       "18"
      ]
     },
     "execution_count": 74,
     "metadata": {},
     "output_type": "execute_result"
    }
   ],
   "source": [
    "20 - 5 + 3"
   ]
  },
  {
   "cell_type": "code",
   "execution_count": 75,
   "id": "5a6cf365",
   "metadata": {},
   "outputs": [
    {
     "data": {
      "text/plain": [
       "12"
      ]
     },
     "execution_count": 75,
     "metadata": {},
     "output_type": "execute_result"
    }
   ],
   "source": [
    "20 - (5+3)"
   ]
  },
  {
   "cell_type": "code",
   "execution_count": 76,
   "id": "7022a996",
   "metadata": {},
   "outputs": [
    {
     "data": {
      "text/plain": [
       "6.0"
      ]
     },
     "execution_count": 76,
     "metadata": {},
     "output_type": "execute_result"
    }
   ],
   "source": [
    "50 / 10 + 3 * 2 - 5"
   ]
  },
  {
   "cell_type": "code",
   "execution_count": 77,
   "id": "6ebb6f42",
   "metadata": {},
   "outputs": [
    {
     "data": {
      "text/plain": [
       "6.0"
      ]
     },
     "execution_count": 77,
     "metadata": {},
     "output_type": "execute_result"
    }
   ],
   "source": [
    "(50/10) + (3*2) - 5"
   ]
  },
  {
   "cell_type": "code",
   "execution_count": 78,
   "id": "1ec369c6",
   "metadata": {},
   "outputs": [
    {
     "data": {
      "text/plain": [
       "50.0"
      ]
     },
     "execution_count": 78,
     "metadata": {},
     "output_type": "execute_result"
    }
   ],
   "source": [
    "50 / (10 + 3 * (2-5))"
   ]
  },
  {
   "cell_type": "code",
   "execution_count": 47,
   "id": "8ab3d120-962b-4c53-b237-881e9d64c613",
   "metadata": {},
   "outputs": [
    {
     "data": {
      "text/plain": [
       "3.6363636363636362"
      ]
     },
     "execution_count": 47,
     "metadata": {},
     "output_type": "execute_result"
    }
   ],
   "source": [
    "40 / 11"
   ]
  },
  {
   "cell_type": "code",
   "execution_count": 48,
   "id": "4cbc41ff-a21f-4248-8e27-b77ed261ff3b",
   "metadata": {},
   "outputs": [
    {
     "data": {
      "text/plain": [
       "3"
      ]
     },
     "execution_count": 48,
     "metadata": {},
     "output_type": "execute_result"
    }
   ],
   "source": [
    "40 // 11"
   ]
  },
  {
   "cell_type": "code",
   "execution_count": 79,
   "id": "877e3737",
   "metadata": {},
   "outputs": [
    {
     "data": {
      "text/plain": [
       "False"
      ]
     },
     "execution_count": 79,
     "metadata": {},
     "output_type": "execute_result"
    }
   ],
   "source": [
    "not True"
   ]
  },
  {
   "cell_type": "code",
   "execution_count": 80,
   "id": "06e64f15",
   "metadata": {},
   "outputs": [
    {
     "data": {
      "text/plain": [
       "False"
      ]
     },
     "execution_count": 80,
     "metadata": {},
     "output_type": "execute_result"
    }
   ],
   "source": [
    "not 1"
   ]
  },
  {
   "cell_type": "code",
   "execution_count": 81,
   "id": "da3a125a",
   "metadata": {},
   "outputs": [
    {
     "data": {
      "text/plain": [
       "True"
      ]
     },
     "execution_count": 81,
     "metadata": {},
     "output_type": "execute_result"
    }
   ],
   "source": [
    "not False"
   ]
  },
  {
   "cell_type": "code",
   "execution_count": 82,
   "id": "dad8325b",
   "metadata": {},
   "outputs": [
    {
     "data": {
      "text/plain": [
       "True"
      ]
     },
     "execution_count": 82,
     "metadata": {},
     "output_type": "execute_result"
    }
   ],
   "source": [
    "not 0"
   ]
  },
  {
   "cell_type": "code",
   "execution_count": null,
   "id": "b7590bfe",
   "metadata": {},
   "outputs": [],
   "source": [
    "x = 5\n",
    "\n",
    "x = x - 3\n",
    "x -= 3\n",
    "\n",
    "print(x)"
   ]
  },
  {
   "cell_type": "code",
   "execution_count": 6,
   "id": "dfc9c742",
   "metadata": {},
   "outputs": [
    {
     "data": {
      "text/plain": [
       "True"
      ]
     },
     "execution_count": 6,
     "metadata": {},
     "output_type": "execute_result"
    }
   ],
   "source": [
    "#Inicialización de las variables\n",
    "d= 12\n",
    "A = d\n",
    "B = d\n",
    "A is B"
   ]
  },
  {
   "cell_type": "code",
   "execution_count": 5,
   "id": "2192a52e",
   "metadata": {},
   "outputs": [
    {
     "data": {
      "text/plain": [
       "True"
      ]
     },
     "execution_count": 5,
     "metadata": {},
     "output_type": "execute_result"
    }
   ],
   "source": [
    "A = \"d\"\n",
    "B = \"d\"\n",
    "A is B"
   ]
  },
  {
   "cell_type": "code",
   "execution_count": 88,
   "id": "c8b50684",
   "metadata": {},
   "outputs": [
    {
     "data": {
      "text/plain": [
       "True"
      ]
     },
     "execution_count": 88,
     "metadata": {},
     "output_type": "execute_result"
    }
   ],
   "source": [
    "d = 3\n",
    "A = d\n",
    "B = d\n",
    "A is B"
   ]
  },
  {
   "cell_type": "code",
   "execution_count": 89,
   "id": "76eb98d3",
   "metadata": {},
   "outputs": [
    {
     "data": {
      "text/plain": [
       "True"
      ]
     },
     "execution_count": 89,
     "metadata": {},
     "output_type": "execute_result"
    }
   ],
   "source": [
    "A = 3\n",
    "B = 3\n",
    "A is B"
   ]
  },
  {
   "cell_type": "code",
   "execution_count": 92,
   "id": "c5f8cd0f",
   "metadata": {},
   "outputs": [
    {
     "name": "stdout",
     "output_type": "stream",
     "text": [
      "Variable      Type     Data/Info\n",
      "--------------------------------\n",
      "A             int      3\n",
      "B             int      3\n",
      "Nueva_clase   type     <class '__main__.Nueva_clase'>\n",
      "a             int      1\n",
      "b             int      1\n",
      "c             int      1\n",
      "d             int      3\n",
      "edad          int      101\n",
      "entero        int      23\n",
      "lista_3       list     n=3\n",
      "nombre        str      Vanesa\n",
      "numero        float    18.4\n",
      "suma          float    33.4\n",
      "variable      list     n=3\n",
      "variable_2    list     n=3\n",
      "x             str      no quiero responder\n",
      "y             str      Hola\n",
      "z             str      1\n"
     ]
    }
   ],
   "source": [
    "# Instrucción para comprobar todas las variables que tenemos almacenadas,de qué tipo son y qué valor toman.\n",
    "%whos"
   ]
  },
  {
   "cell_type": "code",
   "execution_count": 95,
   "id": "05931099",
   "metadata": {},
   "outputs": [
    {
     "name": "stdout",
     "output_type": "stream",
     "text": [
      "['prueba', 'de', 'split']\n"
     ]
    }
   ],
   "source": [
    "texto = \"prueba,de,split\"\n",
    "lista = texto.split(\",\")\n",
    "print(lista)"
   ]
  },
  {
   "cell_type": "code",
   "execution_count": 96,
   "id": "3c1c5b3c",
   "metadata": {},
   "outputs": [
    {
     "name": "stdout",
     "output_type": "stream",
     "text": [
      "TEXTO DE PRUEBA\n",
      "texto de prueba\n",
      "Texto de prueba\n",
      "Texto De Prueba\n"
     ]
    }
   ],
   "source": [
    "texto = \"texto de prueba\"\n",
    "print( texto.upper())\n",
    "print( texto.lower())\n",
    "print( texto.capitalize())\n",
    "print(texto.title())"
   ]
  },
  {
   "cell_type": "code",
   "execution_count": 97,
   "id": "4d82d440",
   "metadata": {},
   "outputs": [
    {
     "data": {
      "text/plain": [
       "'texto de prueba'"
      ]
     },
     "execution_count": 97,
     "metadata": {},
     "output_type": "execute_result"
    }
   ],
   "source": [
    "texto"
   ]
  },
  {
   "cell_type": "code",
   "execution_count": 98,
   "id": "fa8aad84",
   "metadata": {},
   "outputs": [
    {
     "data": {
      "text/plain": [
       "'TEXTO DE PRUEBA'"
      ]
     },
     "execution_count": 98,
     "metadata": {},
     "output_type": "execute_result"
    }
   ],
   "source": [
    "texto_modificado = texto.upper()\n",
    "texto_modificado"
   ]
  },
  {
   "cell_type": "code",
   "execution_count": 104,
   "id": "3328549d",
   "metadata": {},
   "outputs": [
    {
     "name": "stdout",
     "output_type": "stream",
     "text": [
      "Numero 5\n"
     ]
    }
   ],
   "source": [
    "print (\"Numero \" + '5')"
   ]
  },
  {
   "cell_type": "code",
   "execution_count": 105,
   "id": "f8f8a241",
   "metadata": {},
   "outputs": [
    {
     "name": "stdout",
     "output_type": "stream",
     "text": [
      "Numero 5\n"
     ]
    }
   ],
   "source": [
    "print(\"Numero \" + str(5))"
   ]
  },
  {
   "cell_type": "code",
   "execution_count": 103,
   "id": "b9f07b82",
   "metadata": {},
   "outputs": [
    {
     "name": "stdout",
     "output_type": "stream",
     "text": [
      "Numero 5\n"
     ]
    }
   ],
   "source": [
    "print( \"Numero\",5)"
   ]
  },
  {
   "cell_type": "code",
   "execution_count": null,
   "id": "0229176b",
   "metadata": {},
   "outputs": [],
   "source": []
  },
  {
   "cell_type": "code",
   "execution_count": null,
   "id": "1749260a-9722-43d2-b6ac-76bc1cb80ddc",
   "metadata": {},
   "outputs": [],
   "source": []
  }
 ],
 "metadata": {
  "kernelspec": {
   "display_name": "Python 3 (ipykernel)",
   "language": "python",
   "name": "python3"
  },
  "language_info": {
   "codemirror_mode": {
    "name": "ipython",
    "version": 3
   },
   "file_extension": ".py",
   "mimetype": "text/x-python",
   "name": "python",
   "nbconvert_exporter": "python",
   "pygments_lexer": "ipython3",
   "version": "3.9.7"
  }
 },
 "nbformat": 4,
 "nbformat_minor": 5
}
