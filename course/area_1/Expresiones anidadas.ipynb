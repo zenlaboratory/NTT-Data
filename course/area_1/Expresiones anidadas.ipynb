{
 "cells": [
  {
   "cell_type": "markdown",
   "id": "42e12dcd",
   "metadata": {},
   "source": [
    "## Expresiones anidadas ##\n",
    "\n",
    "Las expresiones anidadas son una forma de utilizar expresiones dentro de otras expresiones. Probablemente a estas alturas del curso ya las hayas utilizado sin darte cuenta. Por ejemplo, una expresión anidada es el uso de expresiones matemáticas y paréntesis dentro de una función de impresión print().<br><br>"
   ]
  },
  {
   "cell_type": "code",
   "execution_count": 2,
   "id": "ae968a65",
   "metadata": {},
   "outputs": [
    {
     "name": "stdout",
     "output_type": "stream",
     "text": [
      "El resultado de (1+2)*3 es 9\n"
     ]
    }
   ],
   "source": [
    "print(\"El resultado de (1+2)*3 es\", (1+2)*3)"
   ]
  },
  {
   "cell_type": "markdown",
   "id": "27dc8bf9",
   "metadata": {},
   "source": [
    "### Reglas de precedencia ###\n",
    "\n",
    "Las reglas de precedencia determinan en qué orden se deben evaluar las diferentes expresiones anidadas. Establecen qué expresiones se deben evaluar primero y cómo deben ser combinadas.​\n",
    "\n",
    "\n",
    "El orden es el siguiente:\n",
    "\n",
    " 1. Expresiones dentro de paréntesis ()​​\n",
    "\n",
    " 2. Expresiones aritméticas +,-, *, /, % .​​\n",
    "\n",
    " 3. Expresiones relacionales >, <, ==, <=, >=.​​\n",
    "\n",
    " 4. Expresiones lógicas and, or, not. \n",
    " "
   ]
  },
  {
   "cell_type": "markdown",
   "id": "6f1ec2bb",
   "metadata": {},
   "source": [
    "El siguiente ejemplo sencillo combina expresiones dentro de paréntesis, aritméticas +, -, / y al final realiza una comparación con != para ver si el resultado de las operaciones anteriores es distinto de 0. Si es así devuelve True, en caso contrario devuelve False."
   ]
  },
  {
   "cell_type": "code",
   "execution_count": 2,
   "id": "6a3406c0",
   "metadata": {},
   "outputs": [
    {
     "name": "stdout",
     "output_type": "stream",
     "text": [
      "15.0\n",
      "8.0\n"
     ]
    },
    {
     "data": {
      "text/plain": [
       "True"
      ]
     },
     "execution_count": 2,
     "metadata": {},
     "output_type": "execute_result"
    }
   ],
   "source": [
    "a = 10\n",
    "b = 20\n",
    "\n",
    "print((2*a) + 5 - b / 2)\n",
    "print(4**2 / 2)\n",
    "(2*a) + 5 - b / 2 != 0"
   ]
  },
  {
   "cell_type": "markdown",
   "id": "0e3985ed",
   "metadata": {},
   "source": [
    "Se pueden añadir expresiones condicionales a nuestra lógica para enriquecer el código. <br>\n",
    "En el siguiente ejemplo se toman los valores de dos variables (x e y) y se imprime por pantalla la variable que almacene el valor más pequeño."
   ]
  },
  {
   "cell_type": "code",
   "execution_count": 4,
   "id": "a808b628",
   "metadata": {},
   "outputs": [
    {
     "name": "stdout",
     "output_type": "stream",
     "text": [
      "El valor más pequeño contenido en x o y es 5\n"
     ]
    }
   ],
   "source": [
    "x = 5\n",
    "y = 10\n",
    "\n",
    "print(\"El valor más pequeño contenido en x o y es\", x if x < y else y)"
   ]
  },
  {
   "cell_type": "markdown",
   "id": "b1016039",
   "metadata": {},
   "source": [
    "\n",
    "En el siguiente ejercicio se utilizan expresiones anidadas para determinar el mayor valor entre las variables a, b y c. Se utiliza una expresión condicional para determinar si a es mayor que b y c, si es así se imprime el valor de a, de lo contrario se utiliza otra expresión condicional para determinar si b es mayor que c, si es así se imprime b, de lo contrario se imprime c."
   ]
  },
  {
   "cell_type": "code",
   "execution_count": 23,
   "id": "7153892f",
   "metadata": {},
   "outputs": [
    {
     "name": "stdout",
     "output_type": "stream",
     "text": [
      "El mayor valor es 20\n"
     ]
    }
   ],
   "source": [
    "a = 5\n",
    "b = 10\n",
    "c = 20\n",
    "\n",
    "print(\"El mayor valor es\", a if (a > b and a > c) else (b if b > c else c))\n"
   ]
  },
  {
   "cell_type": "markdown",
   "id": "e68aa145",
   "metadata": {},
   "source": [
    "Como se aprecia, la lógica se complica un poco. Pudiendo llegar a ser difícil de leer, por lo que se recomienda no abusar de estos recursos para favorecer también un fácil mantenimiento."
   ]
  },
  {
   "cell_type": "code",
   "execution_count": 24,
   "id": "e3ad3cb7-c6d3-4f6e-8c8f-7a02bd763e40",
   "metadata": {},
   "outputs": [
    {
     "data": {
      "text/plain": [
       "True"
      ]
     },
     "execution_count": 24,
     "metadata": {},
     "output_type": "execute_result"
    }
   ],
   "source": [
    " (3+5*8) > 3 and -6 / 3  == -2"
   ]
  },
  {
   "cell_type": "code",
   "execution_count": 6,
   "id": "8cdfa246-beac-488c-8529-6a9b8482a656",
   "metadata": {},
   "outputs": [
    {
     "data": {
      "text/plain": [
       "False"
      ]
     },
     "execution_count": 6,
     "metadata": {},
     "output_type": "execute_result"
    }
   ],
   "source": [
    "a = 10\n",
    "    \n",
    "(3+5*8) > 3 and -6 / 3 < a == -2"
   ]
  },
  {
   "cell_type": "code",
   "execution_count": 1,
   "id": "99c46dac-4847-4fc4-ab82-2e39eba19848",
   "metadata": {},
   "outputs": [
    {
     "data": {
      "text/plain": [
       "False"
      ]
     },
     "execution_count": 1,
     "metadata": {},
     "output_type": "execute_result"
    }
   ],
   "source": [
    "a = 1 \n",
    "b = 2\n",
    "\n",
    "(3+5*8) < 3 and ((-6*4/3)+2<2) or a > b != -6*4/3"
   ]
  }
 ],
 "metadata": {
  "kernelspec": {
   "display_name": "Python 3 (ipykernel)",
   "language": "python",
   "name": "python3"
  },
  "language_info": {
   "codemirror_mode": {
    "name": "ipython",
    "version": 3
   },
   "file_extension": ".py",
   "mimetype": "text/x-python",
   "name": "python",
   "nbconvert_exporter": "python",
   "pygments_lexer": "ipython3",
   "version": "3.9.7"
  }
 },
 "nbformat": 4,
 "nbformat_minor": 5
}
