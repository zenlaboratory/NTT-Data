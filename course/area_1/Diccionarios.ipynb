{
 "cells": [
  {
   "cell_type": "markdown",
   "id": "8c291768",
   "metadata": {},
   "source": [
    "## Diccionarios ##\n",
    "\n",
    "Los diccionarios son estructuras que almacenan elementos en la forma clave:valor. \n",
    "\n",
    "Para crearlo, coloca una lista de pares __clave:valor__ separada por comas dentro de las llaves:"
   ]
  },
  {
   "cell_type": "code",
   "execution_count": 1,
   "id": "cd2a72c2",
   "metadata": {},
   "outputs": [
    {
     "name": "stdout",
     "output_type": "stream",
     "text": [
      "{'clave 1': 'valor 1', 'clave 2': 'valor 2', 'clave 3': 'valor 3'}\n"
     ]
    }
   ],
   "source": [
    "dicc = {\"clave 1\" : \"valor 1\",\n",
    "        \"clave 2\": \"valor 2\",\n",
    "        \"clave 3\": \"valor 3\"}\n",
    "print(dicc)"
   ]
  },
  {
   "cell_type": "markdown",
   "id": "8d7fd1ee",
   "metadata": {},
   "source": [
    "También podemos declarar un diccionario con la sentencia __dict()__:"
   ]
  },
  {
   "cell_type": "code",
   "execution_count": 2,
   "id": "2abe72cb",
   "metadata": {},
   "outputs": [
    {
     "name": "stdout",
     "output_type": "stream",
     "text": [
      "{'Nombre': 'Eva', 'Edad': 37, 'Documento': 3948757}\n"
     ]
    }
   ],
   "source": [
    "# Observar las diferencias entre esta forma de declarar un diccionario y la anterior\n",
    "dicc_2 = dict(Nombre = \"Eva\",\n",
    "              Edad = 37,\n",
    "              Documento = 3948757)\n",
    "print(dicc_2)"
   ]
  },
  {
   "cell_type": "markdown",
   "id": "312d9a5c",
   "metadata": {},
   "source": [
    "Podemos comprobar el número de ítems de un diccionario con la función __len()__:"
   ]
  },
  {
   "cell_type": "code",
   "execution_count": 3,
   "id": "1b4c6567",
   "metadata": {},
   "outputs": [
    {
     "name": "stdout",
     "output_type": "stream",
     "text": [
      "3\n"
     ]
    }
   ],
   "source": [
    "print(len(dicc_2))"
   ]
  },
  {
   "cell_type": "markdown",
   "id": "a2803a4a",
   "metadata": {},
   "source": [
    "__Las claves deben ser únicas dentro del diccionario:__"
   ]
  },
  {
   "cell_type": "code",
   "execution_count": 4,
   "id": "e6dea9e7",
   "metadata": {},
   "outputs": [
    {
     "ename": "SyntaxError",
     "evalue": "keyword argument repeated: Nombre (4273309097.py, line 2)",
     "output_type": "error",
     "traceback": [
      "\u001b[1;36m  File \u001b[1;32m\"C:\\Users\\roberto.doncel\\AppData\\Local\\Temp\\ipykernel_15780\\4273309097.py\"\u001b[1;36m, line \u001b[1;32m2\u001b[0m\n\u001b[1;33m    dicc_3 = dict(Nombre = \"Eva\",\u001b[0m\n\u001b[1;37m                  ^\u001b[0m\n\u001b[1;31mSyntaxError\u001b[0m\u001b[1;31m:\u001b[0m keyword argument repeated: Nombre\n"
     ]
    }
   ],
   "source": [
    "# Veamos qué pasa si intentamos establecer dos claves iguales:\n",
    "dicc_3 = dict(Nombre = \"Eva\",\n",
    "              Nombre = \"Jiménez\",\n",
    "              Documento = 3948757)\n",
    "print(dicc_3)"
   ]
  },
  {
   "cell_type": "markdown",
   "id": "ab3c13f2",
   "metadata": {},
   "source": [
    "Las claves pueden ser cualquier tipo inmutable; \n",
    "* Las cadenas y números siempre pueden ser claves.\n",
    "* Las tuplas pueden usarse como claves si solamente contienen cadenas, números o tuplas; si una tupla contiene cualquier objeto mutable (listas, propios diccionarios, sets,...) directa o indirectamente, no puede usarse como clave. \n",
    "* No se pueden usar listas como claves, ya que las listas pueden modificarse usando asignación por índice, asignación por \"rebanada\", o con métodos como append() y extend()."
   ]
  },
  {
   "cell_type": "code",
   "execution_count": 3,
   "id": "3d009c02",
   "metadata": {},
   "outputs": [
    {
     "data": {
      "text/plain": [
       "{1: 'Eva',\n",
       " 2: 'Jiménez',\n",
       " 3: 3948757,\n",
       " 4: [2, 'Kaue', 4, False],\n",
       " 5: {'Marca': 'Yamaha', 'Modelo': 'R7'}}"
      ]
     },
     "execution_count": 4,
     "metadata": {},
     "output_type": "execute_result"
    }
   ],
   "source": [
    "# Número como clave\n",
    "dicc_num = {1: \"Eva\",\n",
    "            2:\"Jiménez\",\n",
    "            3: 3948757,\n",
    "            4: [2, \"Kaue\", 4, False],\n",
    "            5:{\"Marca\": \"Yamaha\",\n",
    "               \"Modelo\": \"R7\"}\n",
    "           }\n",
    "dicc_num"
   ]
  },
  {
   "cell_type": "code",
   "execution_count": 9,
   "id": "abe09b30",
   "metadata": {},
   "outputs": [
    {
     "name": "stdout",
     "output_type": "stream",
     "text": [
      "{'Ana': 25, 'David': 18, 'Lucas': 35, 'Ximena': 30, 'Ale': 20}\n",
      "{'Ana': 25, 'David': 18, 'Lucas': 35, 'Ximena': 30, 'Ale': 20, 'Jaime': 38}\n"
     ]
    }
   ],
   "source": [
    "# String como clave\n",
    "edades = {\"Ana\": 25, \"David\": 18, \"Lucas\": 35, \"Ximena\": 30, \"Ale\": 20}\n",
    "print(edades)\n",
    "\n",
    "edades[\"Jaime\"] = 38\n",
    "print(edades)"
   ]
  },
  {
   "cell_type": "code",
   "execution_count": 7,
   "id": "bb834fef",
   "metadata": {},
   "outputs": [
    {
     "name": "stdout",
     "output_type": "stream",
     "text": [
      "{('Nombre', 'Apellido'): ('Eva', 'Jiménez'), ('Edad', 'Profesión'): (37, 'Analista de datos')}\n"
     ]
    }
   ],
   "source": [
    "# Tupla como clave\n",
    "asistentes = {(\"Nombre\",\"Apellido\") : (\"Eva\",\"Jiménez\"),\n",
    "              (\"Edad\", \"Profesión\") : (37, \"Analista de datos\")    \n",
    "             }\n",
    "print(asistentes)"
   ]
  },
  {
   "cell_type": "code",
   "execution_count": 8,
   "id": "803907f0",
   "metadata": {},
   "outputs": [
    {
     "ename": "TypeError",
     "evalue": "unhashable type: 'list'",
     "output_type": "error",
     "traceback": [
      "\u001b[1;31m---------------------------------------------------------------------------\u001b[0m",
      "\u001b[1;31mTypeError\u001b[0m                                 Traceback (most recent call last)",
      "\u001b[1;32m~\\AppData\\Local\\Temp\\ipykernel_15780\\2403572588.py\u001b[0m in \u001b[0;36m<cell line: 2>\u001b[1;34m()\u001b[0m\n\u001b[0;32m      1\u001b[0m \u001b[1;31m# Si la tupla contiene como clave  un objeto mutable, por ejemplo, una lista\u001b[0m\u001b[1;33m\u001b[0m\u001b[1;33m\u001b[0m\u001b[0m\n\u001b[1;32m----> 2\u001b[1;33m asistentes_2 = {([\"Nombre\",\"Apellido\"]) : (\"Eva\",\"Jiménez\"),\n\u001b[0m\u001b[0;32m      3\u001b[0m               \u001b[1;33m(\u001b[0m\u001b[1;33m[\u001b[0m\u001b[1;34m\"Edad\"\u001b[0m\u001b[1;33m,\u001b[0m \u001b[1;34m\"Profesión\"\u001b[0m\u001b[1;33m]\u001b[0m\u001b[1;33m)\u001b[0m \u001b[1;33m:\u001b[0m \u001b[1;33m(\u001b[0m\u001b[1;36m37\u001b[0m\u001b[1;33m,\u001b[0m \u001b[1;34m\"Analista de datos\"\u001b[0m\u001b[1;33m)\u001b[0m\u001b[1;33m\u001b[0m\u001b[1;33m\u001b[0m\u001b[0m\n\u001b[0;32m      4\u001b[0m              }\n\u001b[0;32m      5\u001b[0m \u001b[0mprint\u001b[0m\u001b[1;33m(\u001b[0m\u001b[0masistentes_2\u001b[0m\u001b[1;33m)\u001b[0m\u001b[1;33m\u001b[0m\u001b[1;33m\u001b[0m\u001b[0m\n",
      "\u001b[1;31mTypeError\u001b[0m: unhashable type: 'list'"
     ]
    }
   ],
   "source": [
    "# Si la tupla contiene como clave  un objeto mutable, por ejemplo, una lista\n",
    "asistentes_2 = {([\"Nombre\",\"Apellido\"]) : (\"Eva\",\"Jiménez\"),\n",
    "              ([\"Edad\", \"Profesión\"]) : (37, \"Analista de datos\")    \n",
    "             }\n",
    "print(asistentes_2)"
   ]
  },
  {
   "cell_type": "markdown",
   "id": "c9720c21",
   "metadata": {},
   "source": [
    "Los diccionarios tienen las siguientes características:\n",
    "* Son estructuras de datos __dinámicas__: pueden crecer o decrecer. Se puede borrar elementos o añadir nuevos.\n",
    "* Son __indexados__: se puede acceder a cada elemento del diccionario indicando su clave.\n",
    "* Son __anidados__: los elementos de un diccionario pueden ser de tipo simple como un entero o una cadena de texto. Pero también pueden ser complejos: un elemento podría ser una lista, una lista de listas u otro diccionario.\n",
    "* __Pueden contener elementos de distinto tipo.__\n",
    "* __No permite duplicados__ (dos items con la misma clave)\n",
    "\n",
    "\n",
    "###### As of Python version 3.7, dictionaries are ordered. In Python 3.6 and earlier, dictionaries are unordered.\n"
   ]
  },
  {
   "cell_type": "code",
   "execution_count": 9,
   "id": "2f3755a7",
   "metadata": {},
   "outputs": [
    {
     "name": "stdout",
     "output_type": "stream",
     "text": [
      "{'Nombre': 'Roberto', 'Edad': 65, 'Aprobado': False}\n"
     ]
    }
   ],
   "source": [
    "# Combinar valores de distinto tipo\n",
    "dicc_tipos = {\"Nombre\": \"Roberto\",\n",
    "       \"Edad\": 65,\n",
    "       \"Aprobado\": False}\n",
    "\n",
    "print(dicc_tipos)"
   ]
  },
  {
   "cell_type": "code",
   "execution_count": 7,
   "id": "fbaa5ce1",
   "metadata": {},
   "outputs": [
    {
     "name": "stdout",
     "output_type": "stream",
     "text": [
      "{'marca': 'Ford', 'modelo': 'Mustang', 'year': 2022}\n"
     ]
    }
   ],
   "source": [
    "# No permite duplicados; si se duplican claves (con dict() daría error), con {} se queda con la última\n",
    "dicc_dupli = {\"marca\": \"Ford\",\n",
    "              \"modelo\": \"Mustang\",\n",
    "              \"year\": 2030,\n",
    "              \"year\": 2022}\n",
    "\n",
    "print(dicc_dupli)\n"
   ]
  },
  {
   "cell_type": "code",
   "execution_count": 11,
   "id": "8932ffb1",
   "metadata": {},
   "outputs": [
    {
     "name": "stdout",
     "output_type": "stream",
     "text": [
      "{'Nombre': 'Roberto', 'Edad': 65, 'Asignaturas': {'Estadística': 'Suspenso', 'Python': 'Sobresaliente', 'Cloud': 'Aprobado'}}\n"
     ]
    }
   ],
   "source": [
    "# Incluso un diccionario puede contener otro diccionario...\n",
    "dicc_dicc = {\"Nombre\": \"Roberto\",\n",
    "             \"Edad\": 65,\n",
    "             \"Asignaturas\": {\"Estadística\": \"Suspenso\", \"Python\": \"Sobresaliente\", \"Cloud\": \"Aprobado\"}}\n",
    "\n",
    "print(dicc_dicc)"
   ]
  },
  {
   "cell_type": "code",
   "execution_count": 12,
   "id": "1fd06b45",
   "metadata": {},
   "outputs": [
    {
     "name": "stdout",
     "output_type": "stream",
     "text": [
      "Roberto\n"
     ]
    }
   ],
   "source": [
    "# Podemos acceder a cualquiera de los elementos a través de su clave\n",
    "dicc_accede = {\"Nombre\": \"Roberto\",\n",
    "       \"Edad\": 65,\n",
    "       \"Aprobado\": False}\n",
    "\n",
    "print(dicc_accede[\"Nombre\"])"
   ]
  },
  {
   "cell_type": "code",
   "execution_count": 8,
   "id": "e52b8f76",
   "metadata": {},
   "outputs": [
    {
     "ename": "KeyError",
     "evalue": "'nombre'",
     "output_type": "error",
     "traceback": [
      "\u001b[1;31m---------------------------------------------------------------------------\u001b[0m",
      "\u001b[1;31mKeyError\u001b[0m                                  Traceback (most recent call last)",
      "\u001b[1;32m~\\AppData\\Local\\Temp\\ipykernel_3484\\2095859986.py\u001b[0m in \u001b[0;36m<cell line: 6>\u001b[1;34m()\u001b[0m\n\u001b[0;32m      4\u001b[0m        \"Aprobado\": False}\n\u001b[0;32m      5\u001b[0m \u001b[1;33m\u001b[0m\u001b[0m\n\u001b[1;32m----> 6\u001b[1;33m \u001b[0mprint\u001b[0m\u001b[1;33m(\u001b[0m\u001b[0mdicc_accede\u001b[0m\u001b[1;33m[\u001b[0m\u001b[1;34m\"nombre\"\u001b[0m\u001b[1;33m]\u001b[0m\u001b[1;33m)\u001b[0m\u001b[1;33m\u001b[0m\u001b[1;33m\u001b[0m\u001b[0m\n\u001b[0m",
      "\u001b[1;31mKeyError\u001b[0m: 'nombre'"
     ]
    }
   ],
   "source": [
    "# Si intentamos extraer un valor utilizando una clave inexistente, dará KeyError...\n",
    "dicc_accede = {\"Nombre\": \"Roberto\",\n",
    "       \"Edad\": 65,\n",
    "       \"Aprobado\": False}\n",
    "\n",
    "print(dicc_accede[\"nombre\"])"
   ]
  },
  {
   "cell_type": "code",
   "execution_count": 9,
   "id": "9bf61a9a",
   "metadata": {},
   "outputs": [
    {
     "ename": "KeyError",
     "evalue": "'Roberto'",
     "output_type": "error",
     "traceback": [
      "\u001b[1;31m---------------------------------------------------------------------------\u001b[0m",
      "\u001b[1;31mKeyError\u001b[0m                                  Traceback (most recent call last)",
      "\u001b[1;32m~\\AppData\\Local\\Temp\\ipykernel_3484\\2966738991.py\u001b[0m in \u001b[0;36m<cell line: 2>\u001b[1;34m()\u001b[0m\n\u001b[0;32m      1\u001b[0m \u001b[1;31m# No podemos acceder a través de los valores\u001b[0m\u001b[1;33m\u001b[0m\u001b[1;33m\u001b[0m\u001b[0m\n\u001b[1;32m----> 2\u001b[1;33m \u001b[0mdicc_accede\u001b[0m\u001b[1;33m[\u001b[0m\u001b[1;34m\"Roberto\"\u001b[0m\u001b[1;33m]\u001b[0m\u001b[1;33m\u001b[0m\u001b[1;33m\u001b[0m\u001b[0m\n\u001b[0m",
      "\u001b[1;31mKeyError\u001b[0m: 'Roberto'"
     ]
    }
   ],
   "source": [
    "# No podemos acceder a través de los valores\n",
    "dicc_accede[\"Roberto\"]"
   ]
  },
  {
   "cell_type": "markdown",
   "id": "aa1d16cb",
   "metadata": {},
   "source": [
    "Podemos añadir o sustituir elementos simplemente haciendo referencia a la clave e indicando el valor: "
   ]
  },
  {
   "cell_type": "code",
   "execution_count": 10,
   "id": "b82b8c57",
   "metadata": {},
   "outputs": [
    {
     "name": "stdout",
     "output_type": "stream",
     "text": [
      "{'Nombre': 'Roberto', 'Edad': 65, 'Aprobado': False, 'Apellidos': 'García Morantes'}\n"
     ]
    }
   ],
   "source": [
    "dicc = {\"Nombre\": \"Roberto\",\n",
    "       \"Edad\": 65,\n",
    "       \"Aprobado\": False}\n",
    "\n",
    "#Añadir elemento\n",
    "dicc[\"Apellidos\"] = \"García Morantes\"\n",
    "\n",
    "print(dicc)\n"
   ]
  },
  {
   "cell_type": "code",
   "execution_count": 16,
   "id": "b51b3bfa",
   "metadata": {},
   "outputs": [
    {
     "name": "stdout",
     "output_type": "stream",
     "text": [
      "{'Nombre': 'Vanesa', 'Edad': 65, 'Aprobado': False, 'Apellidos': 'García Morantes'}\n"
     ]
    }
   ],
   "source": [
    "#Actualización de elementos ya existentes\n",
    "dicc[\"Nombre\"] = \"Vanesa\"\n",
    "\n",
    "print(dicc)"
   ]
  },
  {
   "cell_type": "markdown",
   "id": "d0c2c4e1",
   "metadata": {},
   "source": [
    "Podemos acceder al elemento de una lista dentro de un diccionario tal y como hemos aprendido: primero accediendo a la clave del diccionario y a continuación al elemento de la lista que queramos ver a través de su índice.\n",
    "\n"
   ]
  },
  {
   "cell_type": "code",
   "execution_count": 11,
   "id": "b05fb74d",
   "metadata": {},
   "outputs": [
    {
     "name": "stdout",
     "output_type": "stream",
     "text": [
      "{'Nombre': 'Vanesa', 'Mascotas': ['Perro', 'Gato', 'Conejo']}\n",
      "<class 'dict'>\n"
     ]
    }
   ],
   "source": [
    "dicc_mascotas = {\"Nombre\": \"Vanesa\",\n",
    "                 \"Mascotas\": [\"Perro\", \"Gato\", \"Conejo\"]}\n",
    "print(dicc_mascotas)\n",
    "print(type(dicc_mascotas))"
   ]
  },
  {
   "cell_type": "code",
   "execution_count": 41,
   "id": "efb0f21d",
   "metadata": {},
   "outputs": [
    {
     "name": "stdout",
     "output_type": "stream",
     "text": [
      "El primer elemento de la LISTA 'Mascotas', dentro del diccionario dicc_mascotas es Perro\n",
      "El segundo elemento de la LISTA 'Mascotas', dentro del diccionario dicc_mascotas es Gato\n",
      "El tercer elemento de la LISTA 'Mascotas', dentro del diccionario dicc_mascotas es Conejo\n"
     ]
    }
   ],
   "source": [
    "# Accedemos a la clave del diccionario y, a continuación, al elemento de la lista que queramos a través de su índice.\n",
    "print(\"El primer elemento de la LISTA 'Mascotas', dentro del diccionario dicc_mascotas es\", dicc_mascotas[\"Mascotas\"][0])\n",
    "print(\"El segundo elemento de la LISTA 'Mascotas', dentro del diccionario dicc_mascotas es\", dicc_mascotas[\"Mascotas\"][1])\n",
    "print(\"El tercer elemento de la LISTA 'Mascotas', dentro del diccionario dicc_mascotas es\", dicc_mascotas[\"Mascotas\"][2])"
   ]
  },
  {
   "cell_type": "markdown",
   "id": "892b1a71",
   "metadata": {},
   "source": [
    "\n",
    "También podremos acceder a la clave de un diccionario dentro de un diccionario tal y como hemos aprendido: primero accedemos a la clave diccionario del primer diccionario y después a la clave del segundo diccionario:"
   ]
  },
  {
   "cell_type": "code",
   "execution_count": 11,
   "id": "40b5c79d",
   "metadata": {},
   "outputs": [
    {
     "name": "stdout",
     "output_type": "stream",
     "text": [
      "{'Nombre': 'Roberto', 'Edad': 65, 'Asignaturas': {'Estadística': 'Suspenso', 'Python': 'Sobresaliente', 'Cloud': 'Aprobado'}}\n",
      "Sobresaliente\n"
     ]
    }
   ],
   "source": [
    "dicc_dicc = {\"Nombre\": \"Roberto\",\n",
    "       \"Edad\": 65,\n",
    "       \"Asignaturas\": {\"Estadística\": \"Suspenso\", \"Python\": \"Sobresaliente\", \"Cloud\": \"Aprobado\"}}\n",
    "\n",
    "print(dicc_dicc)\n",
    "print(dicc_dicc[\"Asignaturas\"][\"Python\"])"
   ]
  },
  {
   "cell_type": "code",
   "execution_count": 43,
   "id": "659b2f8b",
   "metadata": {},
   "outputs": [
    {
     "name": "stdout",
     "output_type": "stream",
     "text": [
      "El primer valor del DICCIONARIO 'Asignaturas', dentro del DICCIONARIO dicc_dicc es: Suspenso\n",
      "El segundo valor del DICCIONARIO 'Asignaturas', dentro del DICCIONARIO dicc_dicc es: Sobresaliente\n",
      "El tercer valor del DICCIONARIO 'Asignaturas', dentro del DICCIONARIO dicc_dicc es: Aprobado\n"
     ]
    }
   ],
   "source": [
    "print(\"El primer valor del DICCIONARIO 'Asignaturas', dentro del DICCIONARIO dicc_dicc es:\", dicc_dicc['Asignaturas']['Estadística'])\n",
    "print(\"El segundo valor del DICCIONARIO 'Asignaturas', dentro del DICCIONARIO dicc_dicc es:\", dicc_dicc['Asignaturas']['Python'])\n",
    "print(\"El tercer valor del DICCIONARIO 'Asignaturas', dentro del DICCIONARIO dicc_dicc es:\", dicc_dicc['Asignaturas']['Cloud'])"
   ]
  },
  {
   "cell_type": "markdown",
   "id": "8f2b531d",
   "metadata": {},
   "source": [
    "Al igual que las listas, tuplas y sets, podemos recorrer un diccionario utilizando simplemente un bucle For. En este caso, la estructura del bucle sería:<br>\n",
    "\n",
    "__for clave in diccionario: <br>\n",
    "&emsp;Instrucciones a ejecutar para esa clave <br>__"
   ]
  },
  {
   "cell_type": "code",
   "execution_count": 14,
   "id": "a0c89a9a",
   "metadata": {},
   "outputs": [
    {
     "name": "stdout",
     "output_type": "stream",
     "text": [
      "El valor de la clave Nombre es : Roberto\n",
      "El valor de la clave Edad es : 65\n",
      "El valor de la clave Aprobado es : False\n"
     ]
    }
   ],
   "source": [
    "dicc = {\"Nombre\": \"Roberto\",\n",
    "       \"Edad\": 65,\n",
    "       \"Aprobado\": False}\n",
    "\n",
    "for clave in dicc:\n",
    "    print(f\"El valor de la clave {clave} es : {dicc[clave]}\")"
   ]
  },
  {
   "cell_type": "code",
   "execution_count": 24,
   "id": "f332bc6e",
   "metadata": {},
   "outputs": [
    {
     "name": "stdout",
     "output_type": "stream",
     "text": [
      "El valor de la clave Nombre es : ['Roberto', 'Mario']\n",
      "El valor de la clave Edad es : 65\n",
      "El valor de la clave Aprobado es : False\n"
     ]
    }
   ],
   "source": [
    "dicc_bis = {\"Nombre\": [\"Roberto\",\"Mario\"],\n",
    "       \"Edad\": 65,\n",
    "       \"Aprobado\": False}\n",
    "\n",
    "for clave in dicc_bis:\n",
    "    print(f\"El valor de la clave {clave} es : {dicc_bis[clave]}\")\n"
   ]
  },
  {
   "cell_type": "markdown",
   "id": "e1fc6813",
   "metadata": {},
   "source": [
    "Podemos emplear varios métodos con diccionarios. \n",
    "* __Clear()__: borra todo el contenido de un diccionario\n",
    "* __Get(\"Clave\")__: me devuelve el valor de una clave concreta del diccionario. Es análogo a diccionario[\"clave\"]\n",
    "* __Keys()__: devuelve una lista con todas las claves del diccionario\n",
    "* __Values()__: devuelve una lista con todos los valores del diccionario\n",
    "* __Pop()__: elimina el valor y la clave que se le pasa por parámetro. Da error si no existe.\n"
   ]
  },
  {
   "cell_type": "code",
   "execution_count": 25,
   "id": "a0494350",
   "metadata": {},
   "outputs": [
    {
     "name": "stdout",
     "output_type": "stream",
     "text": [
      "{'Reptiles': True, 'Animales_reptiles': ['Cocodrilo', 'Caimán'], 'Número_reptiles': 52, 'Mamíferos': True, 'Animales_mamíferos': ['Oso', 'León', 'Zorro', 'Gacela'], 'Número_mamíferos': 134, 'Aves': False}\n",
      "<class 'dict'>\n"
     ]
    }
   ],
   "source": [
    "diccionario_zoo = {\"Reptiles\": True,\n",
    "                   \"Animales_reptiles\": [\"Cocodrilo\", \"Caimán\"],\n",
    "                   \"Número_reptiles\": 52,\n",
    "                   \"Mamíferos\":True,\n",
    "                   \"Animales_mamíferos\":[\"Oso\", \"León\", \"Zorro\",\"Gacela\"],\n",
    "                   \"Número_mamíferos\": 134,\n",
    "                   \"Aves\": False}\n",
    "print(diccionario_zoo)\n",
    "print(type(diccionario_zoo))"
   ]
  },
  {
   "cell_type": "code",
   "execution_count": 47,
   "id": "24b95376",
   "metadata": {},
   "outputs": [
    {
     "name": "stdout",
     "output_type": "stream",
     "text": [
      "['Oso', 'León', 'Zorro', 'Gacela']\n"
     ]
    }
   ],
   "source": [
    "# GET me devuelve el valor de la clave . Sería análogo a diccionario[\"clave\"]\n",
    "print(diccionario_zoo.get(\"Animales_mamíferos\"))"
   ]
  },
  {
   "cell_type": "code",
   "execution_count": 48,
   "id": "934a90e8",
   "metadata": {},
   "outputs": [
    {
     "name": "stdout",
     "output_type": "stream",
     "text": [
      "dict_keys(['Reptiles', 'Animales_reptiles', 'Número_reptiles', 'Mamíferos', 'Animales_mamíferos', 'Número_mamíferos', 'Aves'])\n",
      "<class 'dict_keys'>\n"
     ]
    }
   ],
   "source": [
    "# KEYS me devuelve las claves\n",
    "llaves = diccionario_zoo.keys()\n",
    "print(llaves)\n",
    "print(type(llaves))"
   ]
  },
  {
   "cell_type": "code",
   "execution_count": 49,
   "id": "4b68d2d9",
   "metadata": {},
   "outputs": [
    {
     "name": "stdout",
     "output_type": "stream",
     "text": [
      "dict_values([True, ['Cocodrilo', 'Caimán'], 52, True, ['Oso', 'León', 'Zorro', 'Gacela'], 134, False])\n",
      "<class 'dict_values'>\n"
     ]
    }
   ],
   "source": [
    "# VALUES me devuelve los valores\n",
    "valores = diccionario_zoo.values()\n",
    "print(valores)\n",
    "print(type(valores))"
   ]
  },
  {
   "cell_type": "code",
   "execution_count": 50,
   "id": "94d1962e",
   "metadata": {},
   "outputs": [
    {
     "name": "stdout",
     "output_type": "stream",
     "text": [
      "True\n",
      "['Cocodrilo', 'Caimán']\n",
      "52\n",
      "True\n",
      "['Oso', 'León', 'Zorro', 'Gacela']\n",
      "134\n",
      "False\n"
     ]
    }
   ],
   "source": [
    "# Podemos iterar con un bucle sobre la lista de valores:\n",
    "for value in diccionario_zoo.values():\n",
    "    print(value)"
   ]
  },
  {
   "cell_type": "code",
   "execution_count": 51,
   "id": "59c23068",
   "metadata": {},
   "outputs": [
    {
     "name": "stdout",
     "output_type": "stream",
     "text": [
      "['a', 'b', 'c']\n"
     ]
    }
   ],
   "source": [
    "# ¿Recordáis uno de los métodos vistos para eliminar duplicados de una lista?\n",
    "lista_letras = [\"a\", \"b\", \"a\", \"c\", \"c\"]\n",
    "lista_letras = list(dict.fromkeys(lista_letras))\n",
    "print(lista_letras)"
   ]
  },
  {
   "cell_type": "markdown",
   "id": "14d58bc7",
   "metadata": {},
   "source": [
    "https://www.w3schools.com/python/ref_dictionary_fromkeys.asp"
   ]
  },
  {
   "cell_type": "code",
   "execution_count": 21,
   "id": "a5555d0e",
   "metadata": {},
   "outputs": [
    {
     "data": {
      "text/plain": [
       "{'Reptiles': True,\n",
       " 'Animales_reptiles': ['Cocodrilo', 'Caimán'],\n",
       " 'Número_reptiles': 52,\n",
       " 'Mamíferos': True,\n",
       " 'Animales_mamíferos': ['Oso', 'León', 'Zorro', 'Gacela'],\n",
       " 'Número_mamíferos': 134}"
      ]
     },
     "execution_count": 21,
     "metadata": {},
     "output_type": "execute_result"
    }
   ],
   "source": [
    "# POP elimina la clave que se le pase por parámetro, con su valor correspondiente\n",
    "diccionario_zoo.pop(\"Aves\")\n",
    "diccionario_zoo"
   ]
  },
  {
   "cell_type": "code",
   "execution_count": 26,
   "id": "bef9c7fc",
   "metadata": {},
   "outputs": [
    {
     "name": "stdout",
     "output_type": "stream",
     "text": [
      "{}\n",
      "<class 'dict'>\n"
     ]
    }
   ],
   "source": [
    "# CLEAR elimina el diccionario por completo\n",
    "diccionario_zoo.clear()\n",
    "print(diccionario_zoo)\n",
    "print(type(diccionario_zoo))"
   ]
  },
  {
   "cell_type": "markdown",
   "id": "d262f7ee",
   "metadata": {},
   "source": [
    "__¡¡Recordad que para construir un set vacío debemos usar set(), puesto que con {} creamos diccionarios vacíos!!.__"
   ]
  },
  {
   "cell_type": "code",
   "execution_count": 54,
   "id": "23c0d9a2",
   "metadata": {},
   "outputs": [
    {
     "name": "stdout",
     "output_type": "stream",
     "text": [
      "<class 'set'>\n"
     ]
    }
   ],
   "source": [
    "set_vacio = set()\n",
    "print(type(set_vacio))"
   ]
  },
  {
   "cell_type": "code",
   "execution_count": 55,
   "id": "6b28ec05",
   "metadata": {},
   "outputs": [
    {
     "name": "stdout",
     "output_type": "stream",
     "text": [
      "<class 'dict'>\n"
     ]
    }
   ],
   "source": [
    "dicc_vacio = {}\n",
    "print(type(dicc_vacio))"
   ]
  },
  {
   "cell_type": "markdown",
   "id": "a3559e22-e257-4968-8016-864ad46c1b5a",
   "metadata": {},
   "source": [
    "Poblado de un diccionario con un bucle for:"
   ]
  },
  {
   "cell_type": "code",
   "execution_count": 25,
   "id": "77554462-a435-465d-ab3f-ea8b97d65280",
   "metadata": {},
   "outputs": [
    {
     "data": {
      "text/plain": [
       "{'key1': 2, 'key2': 'Moto', 'key3': [2, 54, 2]}"
      ]
     },
     "execution_count": 25,
     "metadata": {},
     "output_type": "execute_result"
    }
   ],
   "source": [
    "lista_claves = [\"key1\", \"key2\", \"key3\"]\n",
    "lista_valores = [2, \"Moto\", [2,54,2]]\n",
    "\n",
    "diccionario = {clave: valor for clave, valor in zip(lista_claves, lista_valores)}\n",
    "\n",
    "diccionario"
   ]
  },
  {
   "cell_type": "markdown",
   "id": "f9e0f91e-5a82-4f41-b8bc-51ac597dfdfb",
   "metadata": {},
   "source": [
    "### Extra: Generación de variables dinámicamente ###\n",
    "\n",
    "Python a diferencia de otros lenguajes de programación, no pone fácil la creación de variables dinámicas. Existen un par de caminos que podemos emplear. Podemos por una parte utilizar el método globals() o locals(), dependiendo del ámbito en el que queramos generarla. Por ejemplo, si queremos que solo esté disponible dentro de una función o en todo el script."
   ]
  },
  {
   "cell_type": "code",
   "execution_count": 33,
   "id": "b94c2d17-b9c3-4e6b-9576-f5546fd675f2",
   "metadata": {},
   "outputs": [
    {
     "name": "stdout",
     "output_type": "stream",
     "text": [
      "Variable edad: 27\n",
      "Javier\n",
      "Suarez\n"
     ]
    }
   ],
   "source": [
    "# Creación de una variable simple.\n",
    "# indicamos el nombre de la variable y su valor.\n",
    "# globals()[\"nombre_variable\"] = valor\n",
    "\n",
    "globals()[\"edad\"] = 27\n",
    "print(f\"Variable edad: {edad}\")\n",
    "\n",
    "\n",
    "# Creación de variables a partir de un diccionario.\n",
    "diccionario = {\"Nombre\": \"Javier\",\n",
    "               \"Apellidos\": \"Suarez\", \n",
    "               }\n",
    "\n",
    "for clave in diccionario:\n",
    "    locals()[clave] = diccionario[clave]\n",
    "    \n",
    "print(Nombre)\n",
    "print(Apellidos)"
   ]
  },
  {
   "cell_type": "markdown",
   "id": "8f920cc2-f5de-4c39-a026-1a7bc4e54d25",
   "metadata": {},
   "source": [
    "En este ejemplo se muestra la diferencia entre locals() y globals()"
   ]
  },
  {
   "cell_type": "code",
   "execution_count": 29,
   "id": "1c0410dc-f5d7-4fb8-9f10-fa3f00ec4520",
   "metadata": {},
   "outputs": [
    {
     "name": "stdout",
     "output_type": "stream",
     "text": [
      "locals(): {'y': 20}\n",
      "globals(): 10\n"
     ]
    }
   ],
   "source": [
    "x = 10\n",
    "\n",
    "def crear_variables():\n",
    "    \n",
    "    y = 20\n",
    "    globals()[\"variable_global\"] = 250\n",
    "    \n",
    "    print(\"locals():\", locals())\n",
    "    print(\"globals():\", globals()[\"x\"])\n",
    "    # print(\"globals():\", globals()[\"y\"])\n",
    "\n",
    "crear_variables()"
   ]
  },
  {
   "cell_type": "markdown",
   "id": "7c2aea7b-f0d5-42b2-b00f-7d1d30b22269",
   "metadata": {},
   "source": [
    "otro método es con exec(). \n",
    "\n",
    "<b>No se recomienda utilizarlo pues permite el uso de cualquier tipo de código python, pudiendo ser malicioso:</b>"
   ]
  },
  {
   "cell_type": "code",
   "execution_count": 42,
   "id": "7380d7b4-0e35-41e5-a4cd-db3987d2fdff",
   "metadata": {},
   "outputs": [
    {
     "name": "stdout",
     "output_type": "stream",
     "text": [
      "Valor de variable 89\n",
      "[1, 3, 4]\n",
      "<class 'list'>\n"
     ]
    }
   ],
   "source": [
    "exec(\"variable = 89\")\n",
    "print(f\"Valor de variable: {variable}\")\n",
    "\n",
    "\n",
    "dicc = {\"variable_1\" :  [1,3,4]}\n",
    "\n",
    "# Crear la variable dinámicamente utilizando exec()\n",
    "for key in dicc:\n",
    "    exec(key + \" = \" + str(dicc[key]))\n",
    "\n",
    "# Ahora podemos utilizar la variable creada\n",
    "print(variable_1)  # salida: 42\n",
    "print(type(variable_1))\n"
   ]
  },
  {
   "cell_type": "code",
   "execution_count": 45,
   "id": "f3fc54d0-4a5f-40d5-b075-74b47a0c05a6",
   "metadata": {},
   "outputs": [
    {
     "name": "stdout",
     "output_type": "stream",
     "text": [
      "Sum = 25\n"
     ]
    }
   ],
   "source": [
    "program = 'a = 15\\nb=10\\nprint(\"Sum =\", a+b)'\n",
    "exec(program)"
   ]
  },
  {
   "cell_type": "markdown",
   "id": "5bb74266-a678-47fb-9821-3613ec7a759f",
   "metadata": {},
   "source": [
    "## JSON ##\n",
    "\n",
    "Los JSON son estructuras de datos utilizadas para almacenar y organizar información en una forma legible y estructurada. A simple vista su estructura es muy parecida a un diccionario:"
   ]
  },
  {
   "cell_type": "code",
   "execution_count": 2,
   "id": "d154bf62-59ab-4c13-bceb-3c5cf191f329",
   "metadata": {},
   "outputs": [
    {
     "name": "stdout",
     "output_type": "stream",
     "text": [
      "<class 'str'>\n",
      "<class 'dict'>\n"
     ]
    },
    {
     "data": {
      "text/plain": [
       "{'nombre': 'Juan', 'edad': 30, 'ciudad': 'Bogotá'}"
      ]
     },
     "execution_count": 2,
     "metadata": {},
     "output_type": "execute_result"
    }
   ],
   "source": [
    "import json\n",
    "\n",
    "datos_json = '{\"nombre\": \"Juan\", \"edad\": 30, \"ciudad\": \"Bogotá\"}'\n",
    "\n",
    "# Convertimos el JSON a un diccionario de Python\n",
    "datos_diccionario = json.loads(datos_json)\n",
    "\n",
    "print(type(datos_json))\n",
    "print(type(datos_diccionario))\n",
    "datos_diccionario"
   ]
  },
  {
   "cell_type": "code",
   "execution_count": 34,
   "id": "4da04eef-865a-4ed9-85d4-7ee56d3aaca0",
   "metadata": {},
   "outputs": [
    {
     "name": "stdout",
     "output_type": "stream",
     "text": [
      "Juan\n",
      "30\n",
      "Bogotá\n"
     ]
    }
   ],
   "source": [
    "print(datos_diccionario[\"nombre\"]) # Output: \"Juan\"\n",
    "print(datos_diccionario[\"edad\"]) # Output: 30\n",
    "print(datos_diccionario[\"ciudad\"]) # Output: \"Bogotá\""
   ]
  },
  {
   "cell_type": "code",
   "execution_count": 49,
   "id": "e30f3001-4127-4470-a002-7d9baca1c030",
   "metadata": {},
   "outputs": [
    {
     "name": "stdout",
     "output_type": "stream",
     "text": [
      "{\"nombre\": \"Laura\", \"edad\": 25, \"ciudad\": \"Medell\\u00edn\"}\n",
      "<class 'str'>\n"
     ]
    }
   ],
   "source": [
    "# Creamos un diccionario de Python\n",
    "datos_python = {\"nombre\": \"Laura\", \"edad\": 25, \"ciudad\": \"Medellín\"}\n",
    "\n",
    "# Convertimos el diccionario a un objeto JSON\n",
    "datos_json = json.dumps(datos_python, ensure_ascii=True)\n",
    "\n",
    "# Imprimimos el objeto JSON\n",
    "print(datos_json)\n",
    "print(type(datos_json))\n"
   ]
  },
  {
   "cell_type": "markdown",
   "id": "269182ea-ffa4-45d4-800c-0e2852cdde4e",
   "metadata": {},
   "source": [
    "JSON se ha convertido en un estándar utilizado comúnmente para transmitir datos entre aplicaciones web y servidores. Pueden ser leídos por múltiples lenguajes de programación.\n",
    "\n",
    "Muchas veces la información que recolectemos de una api nos será devuelta en un formato json. "
   ]
  },
  {
   "cell_type": "code",
   "execution_count": 32,
   "id": "25151742-433a-4994-ad9e-89ef1169e43c",
   "metadata": {},
   "outputs": [
    {
     "name": "stdout",
     "output_type": "stream",
     "text": [
      "[{'@id': 'https://datos.madrid.es/egob/catalogo/tipo/entidadesyorganismos/12355-parque-bomberos-08-puente-vallecas.json', 'title': 'Parque de Bomberos 08. Puente de Vallecas', 'location': {'latitude': 40.39461731837056, 'longitude': -3.6531308970881393}}]\n",
      "Parque de Bomberos 08. Puente de Vallecas\n",
      "Vallecas\n"
     ]
    }
   ],
   "source": [
    "import urllib \n",
    "import json\n",
    "\n",
    "#Petición de los datos del parque de bomberos del puente de Vallecas al portal de datos del ayuntamiento de Madrid. \n",
    "http_request = urllib.request.urlopen(\"https://datos.madrid.es/egob/catalogo/211642-0-bomberos-parques.json?distrito_nombre=PUENTE%20DE%20VALLECAS\")\n",
    "\n",
    "#Leemos los datos que nos envía. Nos lo envía en bytes.\n",
    "datos = http_request.read()\n",
    "\n",
    "#Si intentamos recuperar algún campo en bytes nos dará  error\n",
    "#En bytes esto generaría error.\n",
    "#datos['@graph']\n",
    "#print(datos)\n",
    "\n",
    "#Transformación de los datos a diccionario. \n",
    "datos_json = json.loads(datos)\n",
    "\n",
    "#Ahora sí podemos llamar a la clave @graph\n",
    "print(datos_json['@graph'])\n",
    "\n",
    "#Obtención del título de la estación de bomberos\n",
    "print(datos_json['@graph'][0]['title'])\n",
    "\n",
    "#Sobreescritura del nombre de la estación de bomberos\n",
    "datos_json['@graph'][0]['title'] = \"Vallecas\"\n",
    "\n",
    "print(datos_json['@graph'][0]['title'])"
   ]
  },
  {
   "cell_type": "code",
   "execution_count": 36,
   "id": "6efa1f5a-852a-4afd-87aa-5f86f775cfed",
   "metadata": {},
   "outputs": [
    {
     "data": {
      "text/html": [
       "<div>\n",
       "<style scoped>\n",
       "    .dataframe tbody tr th:only-of-type {\n",
       "        vertical-align: middle;\n",
       "    }\n",
       "\n",
       "    .dataframe tbody tr th {\n",
       "        vertical-align: top;\n",
       "    }\n",
       "\n",
       "    .dataframe thead th {\n",
       "        text-align: right;\n",
       "    }\n",
       "</style>\n",
       "<table border=\"1\" class=\"dataframe\">\n",
       "  <thead>\n",
       "    <tr style=\"text-align: right;\">\n",
       "      <th></th>\n",
       "      <th>idplug_base</th>\n",
       "      <th>user_type</th>\n",
       "      <th>idunplug_base</th>\n",
       "      <th>travel_time</th>\n",
       "      <th>idunplug_station</th>\n",
       "      <th>ageRange</th>\n",
       "      <th>idplug_station</th>\n",
       "    </tr>\n",
       "  </thead>\n",
       "  <tbody>\n",
       "    <tr>\n",
       "      <th>count</th>\n",
       "      <td>50.000000</td>\n",
       "      <td>50.000000</td>\n",
       "      <td>50.000000</td>\n",
       "      <td>50.000000</td>\n",
       "      <td>50.000000</td>\n",
       "      <td>50.000000</td>\n",
       "      <td>50.000000</td>\n",
       "    </tr>\n",
       "    <tr>\n",
       "      <th>mean</th>\n",
       "      <td>11.740000</td>\n",
       "      <td>1.020000</td>\n",
       "      <td>10.940000</td>\n",
       "      <td>567.560000</td>\n",
       "      <td>69.020000</td>\n",
       "      <td>3.620000</td>\n",
       "      <td>72.300000</td>\n",
       "    </tr>\n",
       "    <tr>\n",
       "      <th>std</th>\n",
       "      <td>6.954106</td>\n",
       "      <td>0.318799</td>\n",
       "      <td>7.799555</td>\n",
       "      <td>246.173173</td>\n",
       "      <td>46.855614</td>\n",
       "      <td>0.987473</td>\n",
       "      <td>45.523822</td>\n",
       "    </tr>\n",
       "    <tr>\n",
       "      <th>min</th>\n",
       "      <td>1.000000</td>\n",
       "      <td>0.000000</td>\n",
       "      <td>1.000000</td>\n",
       "      <td>12.000000</td>\n",
       "      <td>1.000000</td>\n",
       "      <td>0.000000</td>\n",
       "      <td>1.000000</td>\n",
       "    </tr>\n",
       "    <tr>\n",
       "      <th>25%</th>\n",
       "      <td>6.250000</td>\n",
       "      <td>1.000000</td>\n",
       "      <td>4.000000</td>\n",
       "      <td>419.000000</td>\n",
       "      <td>23.000000</td>\n",
       "      <td>3.000000</td>\n",
       "      <td>43.000000</td>\n",
       "    </tr>\n",
       "    <tr>\n",
       "      <th>50%</th>\n",
       "      <td>10.500000</td>\n",
       "      <td>1.000000</td>\n",
       "      <td>9.000000</td>\n",
       "      <td>562.500000</td>\n",
       "      <td>58.000000</td>\n",
       "      <td>4.000000</td>\n",
       "      <td>59.500000</td>\n",
       "    </tr>\n",
       "    <tr>\n",
       "      <th>75%</th>\n",
       "      <td>17.000000</td>\n",
       "      <td>1.000000</td>\n",
       "      <td>18.750000</td>\n",
       "      <td>728.750000</td>\n",
       "      <td>114.500000</td>\n",
       "      <td>4.000000</td>\n",
       "      <td>102.000000</td>\n",
       "    </tr>\n",
       "    <tr>\n",
       "      <th>max</th>\n",
       "      <td>24.000000</td>\n",
       "      <td>3.000000</td>\n",
       "      <td>24.000000</td>\n",
       "      <td>1190.000000</td>\n",
       "      <td>166.000000</td>\n",
       "      <td>5.000000</td>\n",
       "      <td>169.000000</td>\n",
       "    </tr>\n",
       "  </tbody>\n",
       "</table>\n",
       "</div>"
      ],
      "text/plain": [
       "       idplug_base  user_type  idunplug_base  travel_time  idunplug_station  \\\n",
       "count    50.000000  50.000000      50.000000    50.000000         50.000000   \n",
       "mean     11.740000   1.020000      10.940000   567.560000         69.020000   \n",
       "std       6.954106   0.318799       7.799555   246.173173         46.855614   \n",
       "min       1.000000   0.000000       1.000000    12.000000          1.000000   \n",
       "25%       6.250000   1.000000       4.000000   419.000000         23.000000   \n",
       "50%      10.500000   1.000000       9.000000   562.500000         58.000000   \n",
       "75%      17.000000   1.000000      18.750000   728.750000        114.500000   \n",
       "max      24.000000   3.000000      24.000000  1190.000000        166.000000   \n",
       "\n",
       "        ageRange  idplug_station  \n",
       "count  50.000000       50.000000  \n",
       "mean    3.620000       72.300000  \n",
       "std     0.987473       45.523822  \n",
       "min     0.000000        1.000000  \n",
       "25%     3.000000       43.000000  \n",
       "50%     4.000000       59.500000  \n",
       "75%     4.000000      102.000000  \n",
       "max     5.000000      169.000000  "
      ]
     },
     "execution_count": 36,
     "metadata": {},
     "output_type": "execute_result"
    }
   ],
   "source": [
    "import pandas as pd\n",
    "\n",
    "df = pd.read_json(\"bicimad.json\", lines=True)\n",
    "\n",
    "df.head()\n",
    "df.describe()"
   ]
  },
  {
   "cell_type": "markdown",
   "id": "775775c5",
   "metadata": {},
   "source": [
    "## Ejercicios propuestos. ##"
   ]
  },
  {
   "cell_type": "markdown",
   "id": "f6997bd7-890e-4eb8-91f0-412ebfd2b4be",
   "metadata": {},
   "source": [
    " 1. Desarrolla un programa que reciba una lista de tuplas, y que devuelva un diccionario en donde las claves sean los primeros elementos de las tuplas, y los valores sean los segundos elementos de cada tupla."
   ]
  },
  {
   "cell_type": "code",
   "execution_count": 37,
   "id": "873297e9",
   "metadata": {},
   "outputs": [
    {
     "name": "stdout",
     "output_type": "stream",
     "text": [
      "[('Chile', 'Santiago'), ('Colombia', 'Bogotá'), ('Perú', 'Lima'), ('España', 'Madrid')]\n"
     ]
    }
   ],
   "source": [
    "\n",
    "lista_de_tuplas = [(\"Chile\", \"Santiago\"),(\"Colombia\", \"Bogotá\") ,(\"Perú\", \"Lima\"), (\"España\", \"Madrid\")]\n",
    "print(lista_de_tuplas)"
   ]
  },
  {
   "cell_type": "code",
   "execution_count": 38,
   "id": "1440d739",
   "metadata": {},
   "outputs": [
    {
     "name": "stdout",
     "output_type": "stream",
     "text": [
      "{'Chile': 'Santiago', 'Colombia': 'Bogotá', 'Perú': 'Lima', 'España': 'Madrid'}\n"
     ]
    }
   ],
   "source": [
    "lista_de_tuplas=[(\"Chile\", \"Santiago\"),(\"Colombia\", \"Bogotá\") ,(\"Perú\", \"Lima\"), (\"España\", \"Madrid\")]\n",
    "dict1 = dict(lista_de_tuplas)\n",
    "print(dict1)"
   ]
  },
  {
   "cell_type": "code",
   "execution_count": 68,
   "id": "7d61162c",
   "metadata": {},
   "outputs": [
    {
     "ename": "ValueError",
     "evalue": "dictionary update sequence element #0 has length 3; 2 is required",
     "output_type": "error",
     "traceback": [
      "\u001b[1;31m---------------------------------------------------------------------------\u001b[0m",
      "\u001b[1;31mValueError\u001b[0m                                Traceback (most recent call last)",
      "\u001b[1;32m~\\AppData\\Local\\Temp\\ipykernel_15780\\350935349.py\u001b[0m in \u001b[0;36m<cell line: 3>\u001b[1;34m()\u001b[0m\n\u001b[0;32m      1\u001b[0m \u001b[1;31m# Con tres elementos en las tuplas no sería posible\u001b[0m\u001b[1;33m\u001b[0m\u001b[1;33m\u001b[0m\u001b[0m\n\u001b[0;32m      2\u001b[0m \u001b[0mlista_tup\u001b[0m \u001b[1;33m=\u001b[0m \u001b[1;33m[\u001b[0m\u001b[1;33m(\u001b[0m\u001b[1;34m\"Chile\"\u001b[0m\u001b[1;33m,\u001b[0m \u001b[1;34m\"Santiago\"\u001b[0m\u001b[1;33m,\u001b[0m\u001b[1;34m\"A\"\u001b[0m\u001b[1;33m)\u001b[0m\u001b[1;33m,\u001b[0m\u001b[1;33m(\u001b[0m\u001b[1;34m\"Colombia\"\u001b[0m\u001b[1;33m,\u001b[0m \u001b[1;34m\"Bogotá\"\u001b[0m\u001b[1;33m,\u001b[0m\u001b[1;34m\"B\"\u001b[0m\u001b[1;33m)\u001b[0m \u001b[1;33m,\u001b[0m\u001b[1;33m(\u001b[0m\u001b[1;34m\"Perú\"\u001b[0m\u001b[1;33m,\u001b[0m \u001b[1;34m\"Lima\"\u001b[0m\u001b[1;33m,\u001b[0m\u001b[1;34m\"C\"\u001b[0m\u001b[1;33m)\u001b[0m\u001b[1;33m,\u001b[0m \u001b[1;33m(\u001b[0m\u001b[1;34m\"España\"\u001b[0m\u001b[1;33m,\u001b[0m \u001b[1;34m\"Madrid\"\u001b[0m\u001b[1;33m,\u001b[0m\u001b[1;34m\"D\"\u001b[0m\u001b[1;33m)\u001b[0m\u001b[1;33m]\u001b[0m\u001b[1;33m\u001b[0m\u001b[1;33m\u001b[0m\u001b[0m\n\u001b[1;32m----> 3\u001b[1;33m \u001b[0mdict2\u001b[0m \u001b[1;33m=\u001b[0m \u001b[0mdict\u001b[0m\u001b[1;33m(\u001b[0m\u001b[0mlista_tup\u001b[0m\u001b[1;33m)\u001b[0m\u001b[1;33m\u001b[0m\u001b[1;33m\u001b[0m\u001b[0m\n\u001b[0m\u001b[0;32m      4\u001b[0m \u001b[0mprint\u001b[0m\u001b[1;33m(\u001b[0m\u001b[0mdict2\u001b[0m\u001b[1;33m)\u001b[0m\u001b[1;33m\u001b[0m\u001b[1;33m\u001b[0m\u001b[0m\n",
      "\u001b[1;31mValueError\u001b[0m: dictionary update sequence element #0 has length 3; 2 is required"
     ]
    }
   ],
   "source": [
    "# Con tres elementos en las tuplas no sería posible\n",
    "lista_tup = [(\"Chile\", \"Santiago\",\"A\"),(\"Colombia\", \"Bogotá\",\"B\") ,(\"Perú\", \"Lima\",\"C\"), (\"España\", \"Madrid\",\"D\")]\n",
    "dict2 = dict(lista_tup)\n",
    "print(dict2)"
   ]
  },
  {
   "cell_type": "code",
   "execution_count": 71,
   "id": "ba1e0e8b-f0e4-4eb2-a011-5933ea53bdd5",
   "metadata": {},
   "outputs": [
    {
     "name": "stdout",
     "output_type": "stream",
     "text": [
      "{'Chile': ['Santiago', 'A'], 'Colombia': ['Bogotá', 'B'], 'Perú': ['Lima', 'C'], 'España': ['Madrid', 'D']}\n"
     ]
    }
   ],
   "source": [
    "dicc = {k: [v,z] for k, v, z in lista_tup}\n",
    "print(dicc)"
   ]
  },
  {
   "cell_type": "markdown",
   "id": "31aca6de-941a-4ced-9c4b-ef9a4ee59089",
   "metadata": {},
   "source": [
    "2. Dada la lista siguiente lista de países europeos con su población, genera un diccionario que tenga la siguiente pinta: Pais_1 : España, Poblacion_1 : 47,.....,Pais_n : Reino Unido, Poblacion_n : 67"
   ]
  },
  {
   "cell_type": "code",
   "execution_count": 73,
   "id": "1ba199b7",
   "metadata": {},
   "outputs": [
    {
     "name": "stdout",
     "output_type": "stream",
     "text": [
      "10\n"
     ]
    }
   ],
   "source": [
    "lista_paises_pob = [\"España\", 47, \"Francia\", 68, \"Italia\", 60, \"Alemania\", 82, \"Reino Unido\", 67]\n",
    "print(len(lista_paises_pob))"
   ]
  },
  {
   "cell_type": "code",
   "execution_count": 77,
   "id": "e4d298f4",
   "metadata": {},
   "outputs": [
    {
     "name": "stdout",
     "output_type": "stream",
     "text": [
      "{'Pais_1': 'España', 'Poblacion_1': 47, 'Pais_2': 'Francia', 'Poblacion_2': 68, 'Pais_3': 'Italia', 'Poblacion_3': 60, 'Pais_4': 'Alemania', 'Poblacion_4': 82, 'Pais_5': 'Reino Unido', 'Poblacion_5': 67}\n"
     ]
    }
   ],
   "source": [
    "nombres_paises = []\n",
    "poblacion_paises = []\n",
    "\n",
    "diccionario_paises = {}\n",
    "\n",
    "for i in lista_paises_pob:\n",
    "    #print(i, type(i))\n",
    "    if type(i) == str:\n",
    "        nombres_paises.append(i)\n",
    "        \n",
    "    elif type(i) == int:\n",
    "        poblacion_paises.append(i)\n",
    "\n",
    "#print(nombres_paises, type(nombres_paises))\n",
    "#print(poblacion_paises, type(poblacion_paises))\n",
    "#print(len(nombres_paises))\n",
    "#print(len(poblacion_paises))\n",
    "\n",
    "for j in range(len(lista_paises_pob)//2):\n",
    "    diccionario_paises[f\"Pais_{j+1}\"] = nombres_paises[j]\n",
    "    diccionario_paises[f\"Poblacion_{j+1}\"] = poblacion_paises[j]\n",
    "    \n",
    "print(diccionario_paises)"
   ]
  },
  {
   "cell_type": "code",
   "execution_count": 78,
   "id": "6a34b900",
   "metadata": {},
   "outputs": [
    {
     "name": "stdout",
     "output_type": "stream",
     "text": [
      "['España', 'Francia', 'Italia', 'Alemania', 'Reino Unido']\n",
      "[47, 68, 60, 82, 67]\n",
      "{'España': 47, 'Francia': 68, 'Italia': 60, 'Alemania': 82, 'Reino Unido': 67}\n"
     ]
    }
   ],
   "source": [
    "# Otra posible solución\n",
    "lista_paises_pob = [\"España\", 47, \"Francia\", 68, \"Italia\", 60, \"Alemania\", 82, \"Reino Unido\", 67]\n",
    "\n",
    "diccionario = {}\n",
    "listapaises = []\n",
    "listapoblacion =[]\n",
    "for i in lista_paises_pob:\n",
    "    if (type(i)==str):\n",
    "        listapaises.append(i)\n",
    "    else:\n",
    "        listapoblacion.append(i)\n",
    "\n",
    "print(listapaises)\n",
    "print(listapoblacion)\n",
    "\n",
    "\n",
    "for j, i in zip(listapaises, listapoblacion):\n",
    "    diccionario.update({j : i})\n",
    "\n",
    "print (diccionario)"
   ]
  },
  {
   "cell_type": "markdown",
   "id": "2b07a721-1e37-4439-a76b-4d8160010c81",
   "metadata": {},
   "source": [
    "3. Escribe un programa python que pida un número por teclado y que cree un diccionario cuyas claves sean desde el número 1 hasta el número indicado, y los valores sean los cuadrados de las claves.\n"
   ]
  },
  {
   "cell_type": "code",
   "execution_count": 2,
   "id": "f4388cf7",
   "metadata": {},
   "outputs": [
    {
     "name": "stdin",
     "output_type": "stream",
     "text": [
      "Introduce un número entero:  3\n"
     ]
    },
    {
     "name": "stdout",
     "output_type": "stream",
     "text": [
      "{'1': 1, '2': 4, '3': 9}\n"
     ]
    }
   ],
   "source": [
    "\n",
    "numero = int(input(\"Introduce un número entero: \"))\n",
    "\n",
    "diccionario_vacio = {} \n",
    "\n",
    "for i in range(1,numero+1):\n",
    "    diccionario_vacio[f\"{i}\"] = i**2\n",
    "    \n",
    "print(diccionario_vacio)"
   ]
  },
  {
   "cell_type": "markdown",
   "id": "f28c43d2-f8d6-41bf-97eb-7d0abd1d514e",
   "metadata": {},
   "source": [
    "4. Escribe un programa que introduzca por consola una cadena y que genere un diccionario donde cada clave sea un caracter  y el valor sea el número de veces que aparece ese caracter."
   ]
  },
  {
   "cell_type": "code",
   "execution_count": 3,
   "id": "28ca2bc7",
   "metadata": {},
   "outputs": [
    {
     "name": "stdin",
     "output_type": "stream",
     "text": [
      "Dame una cadena: Hola y adiós\n"
     ]
    },
    {
     "name": "stdout",
     "output_type": "stream",
     "text": [
      "H -> 1\n",
      "o -> 1\n",
      "l -> 1\n",
      "a -> 2\n",
      "  -> 2\n",
      "y -> 1\n",
      "d -> 1\n",
      "i -> 1\n",
      "ó -> 1\n",
      "s -> 1\n"
     ]
    }
   ],
   "source": [
    "\n",
    "dict = {}\n",
    "cadena = input(\"Dame una cadena:\")\n",
    "\n",
    "for caracter in cadena:\n",
    "    if caracter in dict:\n",
    "        dict[caracter]+=1\n",
    "    else:\n",
    "        dict[caracter]=1\n",
    "\n",
    "for campo,valor in dict.items():\n",
    "    print (campo,\"->\",valor)\n"
   ]
  },
  {
   "cell_type": "markdown",
   "id": "cbc3d217-6a31-4979-b03d-28d5ccd343b5",
   "metadata": {},
   "source": [
    "5. Crear una script que tome una lista de diccionarios como entrada y devuelva un diccionario que contenga la suma de los valores correspondientes de cada clave en los diccionarios."
   ]
  },
  {
   "cell_type": "code",
   "execution_count": 4,
   "id": "ae28c9d8-8ef2-421c-ac6e-924e4ea69cc2",
   "metadata": {},
   "outputs": [
    {
     "name": "stdout",
     "output_type": "stream",
     "text": [
      "{'a': 4, 'b': 2, 'c': 9}\n"
     ]
    }
   ],
   "source": [
    "lista_diccionarios = [{'a': 1, 'b': 2, 'c':5}, {'a': 3, 'c': 4}]\n",
    "\n",
    "resultado = {}\n",
    "for diccionario in lista_diccionarios:\n",
    "    for clave, valor in diccionario.items():\n",
    "        resultado[clave] = resultado.get(clave, 0) + valor\n",
    "        \n",
    "print(resultado)"
   ]
  },
  {
   "cell_type": "markdown",
   "id": "8c645d94-ffac-4bf5-bb94-8254866e83a0",
   "metadata": {},
   "source": [
    "6. Crear un script que tome dos diccionarios como entrada y devuelva un nuevo diccionario que contenga solo las claves que se encuentran en ambos diccionarios, junto con sus valores correspondientes."
   ]
  },
  {
   "cell_type": "code",
   "execution_count": 50,
   "id": "7e4c6f2e-35a3-4b4f-9524-e1f988fcb02d",
   "metadata": {},
   "outputs": [
    {
     "name": "stdout",
     "output_type": "stream",
     "text": [
      "{'e': 'a', 'f': [1, 2], 'a': 34}\n"
     ]
    }
   ],
   "source": [
    "dict1 = {\"a\": 34, \"c\":4, \"b\": 50, \"e\":\"a\", \"f\":[1,2]}\n",
    "dict2 = {\"a\": 34, \"d\":5, \"f\":[1,2], \"e\":\"a\"}\n",
    "\n",
    "keys_comunes = set(dict1.keys()) & set(dict2.keys())\n",
    "resultado = {key: dict1[key] for key in keys_comunes}\n",
    "print(resultado)"
   ]
  }
 ],
 "metadata": {
  "kernelspec": {
   "display_name": "Python 3 (ipykernel)",
   "language": "python",
   "name": "python3"
  },
  "language_info": {
   "codemirror_mode": {
    "name": "ipython",
    "version": 3
   },
   "file_extension": ".py",
   "mimetype": "text/x-python",
   "name": "python",
   "nbconvert_exporter": "python",
   "pygments_lexer": "ipython3",
   "version": "3.9.7"
  }
 },
 "nbformat": 4,
 "nbformat_minor": 5
}
