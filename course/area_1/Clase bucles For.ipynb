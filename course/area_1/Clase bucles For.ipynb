{
 "cells": [
  {
   "cell_type": "markdown",
   "id": "e2e03dae",
   "metadata": {},
   "source": [
    "## Bucle For ##\n",
    "\n",
    "El bucle For seguramente sea el más utilizado para iterar sobre listas, diccionarios o conjuntos de datos con un tamaño ya definido. La estructura básica sería la siguiente:\n",
    "\n",
    "for elemento in lista[]:<br>\n",
    "&emsp;Instrucciones a ejecutar.<br>\n",
    "\n",
    "\n",
    "Por ejemplo, para una lista dada, podríamos recorrerla con un bucle for de la siguiente manera:"
   ]
  },
  {
   "cell_type": "code",
   "execution_count": 1,
   "id": "81dc1295",
   "metadata": {},
   "outputs": [
    {
     "name": "stdout",
     "output_type": "stream",
     "text": [
      "1\n",
      "3\n",
      "4\n",
      "5\n"
     ]
    }
   ],
   "source": [
    "for elemento in [1,3,4,5]:\n",
    "    print(elemento)"
   ]
  },
  {
   "cell_type": "code",
   "execution_count": 4,
   "id": "2146fbfe-4c09-49c1-a106-5ed23fbdd406",
   "metadata": {},
   "outputs": [
    {
     "name": "stdout",
     "output_type": "stream",
     "text": [
      "-1\n",
      "1\n",
      "3\n"
     ]
    }
   ],
   "source": [
    "for e in range(-1,5,2):\n",
    "    print(e)"
   ]
  },
  {
   "cell_type": "code",
   "execution_count": 1,
   "id": "6e6ac186",
   "metadata": {},
   "outputs": [
    {
     "name": "stdout",
     "output_type": "stream",
     "text": [
      "Comprar: arroz\n",
      "Comprar: patata\n",
      "Comprar: maíz\n",
      "Comprar: chile habanero\n"
     ]
    }
   ],
   "source": [
    "lista_compra = [\"arroz\", \"patata\", \"maíz\", \"chile habanero\"]  \n",
    "                                                              \n",
    "for producto in lista_compra:\n",
    "    print(\"Comprar:\", producto)"
   ]
  },
  {
   "cell_type": "markdown",
   "id": "79edfb57",
   "metadata": {},
   "source": [
    "También es posible generar un rango de valores que recorrerá el bucle for:"
   ]
  },
  {
   "cell_type": "code",
   "execution_count": 41,
   "id": "7e1481d6",
   "metadata": {},
   "outputs": [
    {
     "name": "stdout",
     "output_type": "stream",
     "text": [
      "Valor de e: 1\n",
      "Valor de e: 2\n",
      "Valor de e: 3\n",
      "Valor de e: 4\n",
      "Valor de e: 5\n",
      "Valor de e: 6\n"
     ]
    }
   ],
   "source": [
    "for e in range(1, 7):\n",
    "    print(\"Valor de e:\", e)"
   ]
  },
  {
   "cell_type": "markdown",
   "id": "7037882e",
   "metadata": {},
   "source": [
    "La función range() devuelve una secuencia de números, comenzando desde 0 de forma predeterminada. Lo incrementa de 1 en 1(también de manera predeterminada) y se detiene antes de un número especificado.\n",
    "Su sintáxis es : range(start, stop, step)"
   ]
  },
  {
   "cell_type": "code",
   "execution_count": 11,
   "id": "ab99412b",
   "metadata": {},
   "outputs": [
    {
     "name": "stdout",
     "output_type": "stream",
     "text": [
      "0 1 2 3 4 5 "
     ]
    }
   ],
   "source": [
    "# Podríamos escribirlo también:\n",
    "\n",
    "x = range(6)   # Crea una secuencia de números desde el 0 hasta el 5\n",
    "for n in x:    # Recorre cada elementos de x\n",
    "    print(n, end = \" \")"
   ]
  },
  {
   "cell_type": "code",
   "execution_count": 12,
   "id": "d3e7f42c-9a7d-42d6-9442-a6a4689e3740",
   "metadata": {},
   "outputs": [
    {
     "name": "stdout",
     "output_type": "stream",
     "text": [
      "0,1,2,3,4,5\n"
     ]
    }
   ],
   "source": [
    "print(*x, sep=',')"
   ]
  },
  {
   "cell_type": "code",
   "execution_count": 13,
   "id": "14930bb7",
   "metadata": {},
   "outputs": [
    {
     "name": "stdout",
     "output_type": "stream",
     "text": [
      "3\n",
      "5\n",
      "7\n",
      "9\n",
      "11\n",
      "13\n",
      "15\n",
      "17\n",
      "19\n"
     ]
    }
   ],
   "source": [
    "# Crea una secuencia de números del 3 al 19, pero incrementándolo de dos en dos.\n",
    "\n",
    "y = range(3, 20, 2)\n",
    "for n in y:\n",
    "  print(n)"
   ]
  },
  {
   "cell_type": "markdown",
   "id": "99b1db08",
   "metadata": {},
   "source": [
    "Análogamente a while, también es posible interrumpir la ejecución del bucle mediante la sentencia break y continue."
   ]
  },
  {
   "cell_type": "code",
   "execution_count": 3,
   "id": "81efd4bd",
   "metadata": {},
   "outputs": [
    {
     "name": "stdout",
     "output_type": "stream",
     "text": [
      "Comprar: arroz\n",
      "Comprar: patata\n"
     ]
    }
   ],
   "source": [
    "#uso de break\n",
    "\n",
    "lista_compra = [\"arroz\", \"patata\", \"maíz\", \"chile habanero\"]\n",
    "\n",
    "for producto in lista_compra:\n",
    "    if producto == \"maíz\":\n",
    "        break\n",
    "    print(\"Comprar:\", producto)\n",
    "    \n"
   ]
  },
  {
   "cell_type": "code",
   "execution_count": 4,
   "id": "672dcde9",
   "metadata": {},
   "outputs": [
    {
     "name": "stdout",
     "output_type": "stream",
     "text": [
      "Producto: arroz\n",
      "Producto: maíz\n",
      "Producto: chile habanero\n"
     ]
    }
   ],
   "source": [
    "#uso de continue\n",
    "\n",
    "lista_compra = [\"arroz\", \"patata\", \"maíz\", \"chile habanero\"]\n",
    "\n",
    "\n",
    "for producto in lista_compra:\n",
    "    if producto == \"patata\":\n",
    "        continue\n",
    "    print(\"Producto:\", producto)"
   ]
  },
  {
   "cell_type": "markdown",
   "id": "73f66883",
   "metadata": {},
   "source": [
    "También es posible anidar dos bucles for, de manera que por cada iteración del primer for se ejecutará completamente el bucle for contenido en él. Un ejemplo podría ser generar las distintas combinaciones de dos listas."
   ]
  },
  {
   "cell_type": "code",
   "execution_count": 5,
   "id": "744f12fb",
   "metadata": {},
   "outputs": [
    {
     "name": "stdout",
     "output_type": "stream",
     "text": [
      "Camiseta de color rojo\n",
      "Camiseta de color azul\n",
      "Camiseta de color verde\n",
      "Pantalón de color rojo\n",
      "Pantalón de color azul\n",
      "Pantalón de color verde\n",
      "Abrigo de color rojo\n",
      "Abrigo de color azul\n",
      "Abrigo de color verde\n"
     ]
    }
   ],
   "source": [
    "lista_prendas = [\"Camiseta\", \"Pantalón\", \"Abrigo\"]\n",
    "lista_colores = [\"rojo\", \"azul\", \"verde\"]\n",
    "\n",
    "for prenda in lista_prendas:\n",
    "    for color in lista_colores:\n",
    "        print(f\"{prenda} de color {color}\")"
   ]
  },
  {
   "cell_type": "markdown",
   "id": "8a9c6f91",
   "metadata": {},
   "source": [
    "El bucle también puede iterar teniendo presente dos variables. Por ejemplo, si tenemos una tabla con la siguiente forma:"
   ]
  },
  {
   "cell_type": "code",
   "execution_count": 43,
   "id": "45c774d1",
   "metadata": {},
   "outputs": [
    {
     "data": {
      "text/html": [
       "<div>\n",
       "<style scoped>\n",
       "    .dataframe tbody tr th:only-of-type {\n",
       "        vertical-align: middle;\n",
       "    }\n",
       "\n",
       "    .dataframe tbody tr th {\n",
       "        vertical-align: top;\n",
       "    }\n",
       "\n",
       "    .dataframe thead th {\n",
       "        text-align: right;\n",
       "    }\n",
       "</style>\n",
       "<table border=\"1\" class=\"dataframe\">\n",
       "  <thead>\n",
       "    <tr style=\"text-align: right;\">\n",
       "      <th></th>\n",
       "      <th>producto</th>\n",
       "      <th>precio</th>\n",
       "      <th>cantidad</th>\n",
       "    </tr>\n",
       "  </thead>\n",
       "  <tbody>\n",
       "    <tr>\n",
       "      <th>0</th>\n",
       "      <td>Camiseta</td>\n",
       "      <td>15.99</td>\n",
       "      <td>3</td>\n",
       "    </tr>\n",
       "    <tr>\n",
       "      <th>1</th>\n",
       "      <td>Pantalón</td>\n",
       "      <td>39.99</td>\n",
       "      <td>1</td>\n",
       "    </tr>\n",
       "    <tr>\n",
       "      <th>2</th>\n",
       "      <td>Gorra</td>\n",
       "      <td>9.99</td>\n",
       "      <td>2</td>\n",
       "    </tr>\n",
       "  </tbody>\n",
       "</table>\n",
       "</div>"
      ],
      "text/plain": [
       "   producto  precio  cantidad\n",
       "0  Camiseta   15.99         3\n",
       "1  Pantalón   39.99         1\n",
       "2     Gorra    9.99         2"
      ]
     },
     "execution_count": 43,
     "metadata": {},
     "output_type": "execute_result"
    }
   ],
   "source": [
    "import pandas as pd\n",
    "\n",
    "datos = {'producto': ['Camiseta', 'Pantalón', 'Gorra'],\n",
    "        'precio': [15.99, 39.99, 9.99],\n",
    "        'cantidad': [3, 1, 2]}\n",
    "\n",
    "df = pd.DataFrame(datos)\n",
    "\n",
    "df\n"
   ]
  },
  {
   "cell_type": "markdown",
   "id": "5ebdfd2e",
   "metadata": {},
   "source": [
    "Se podría iterar el dataframe de la siguiente manera, donde la variable index es el número de registro y fila contiene los datos del registro.\n",
    "\n",
    "<b>Nota: No es óptimo utilizar la función df.iterrows() para recorrer un dataframe. En el curso se verán maneras más eficientes de hacerlo <b>"
   ]
  },
  {
   "cell_type": "code",
   "execution_count": 45,
   "id": "aefda824",
   "metadata": {},
   "outputs": [
    {
     "name": "stdout",
     "output_type": "stream",
     "text": [
      "Índice: 0\n",
      "Datos del registro: Camiseta \n",
      "\n",
      "Índice: 1\n",
      "Datos del registro: Pantalón \n",
      "\n",
      "Índice: 2\n",
      "Datos del registro: Gorra \n",
      "\n",
      "Total: 65.97\n"
     ]
    }
   ],
   "source": [
    "total = 0\n",
    "\n",
    "for index, fila in df.iterrows():\n",
    "    print(\"Índice:\", index)\n",
    "    print(\"Datos del registro:\", fila[\"producto\"] , \"\\n\")\n",
    "    total += fila[\"precio\"]\n",
    "    \n",
    "print(f\"Total: {total}\")"
   ]
  },
  {
   "cell_type": "markdown",
   "id": "ae8f4850-1d0f-45ed-9ed3-d5a51818c85b",
   "metadata": {},
   "source": [
    "#### Enumerate ####\n",
    "\n",
    "Genera un indice por cada elemento de un objeto iterable."
   ]
  },
  {
   "cell_type": "code",
   "execution_count": 2,
   "id": "adbb1658-62ff-4a9d-8514-4640729e1c5f",
   "metadata": {},
   "outputs": [
    {
     "name": "stdout",
     "output_type": "stream",
     "text": [
      "[(0, 'Mercurio'), (1, 'Venus'), (2, 'La Tierra'), (3, 'Marte'), (4, 'Júpiter'), (5, 'Saturno'), (6, 'Urano'), (7, 'Neptuno')]\n"
     ]
    }
   ],
   "source": [
    "list_planetas  = [\"Mercurio\", \"Venus\", \"La Tierra\", \"Marte\", \"Júpiter\", \"Saturno\", \"Urano\", \"Neptuno\"]\n",
    "\n",
    "lista_numerada = enumerate(list_planetas)\n",
    "\n",
    "print(list(lista_numerada))"
   ]
  },
  {
   "cell_type": "code",
   "execution_count": 3,
   "id": "ae81566e-861b-4f33-a4b0-90175a792182",
   "metadata": {},
   "outputs": [],
   "source": [
    "for indice, planeta in lista_numerada:  \n",
    "    print(f\"El indice es: {indice} y el planeta {planeta}\")"
   ]
  },
  {
   "cell_type": "code",
   "execution_count": 8,
   "id": "968d1517-f24c-4d4d-a7e8-1830e19222ab",
   "metadata": {},
   "outputs": [
    {
     "name": "stdout",
     "output_type": "stream",
     "text": [
      "El indice es: 0 y el planeta Mercurio\n",
      "El indice es: 1 y el planeta Venus\n",
      "El indice es: 2 y el planeta La Tierra\n",
      "El indice es: 3 y el planeta Marte\n",
      "El indice es: 4 y el planeta Júpiter\n",
      "El indice es: 5 y el planeta Saturno\n",
      "El indice es: 6 y el planeta Urano\n",
      "El indice es: 7 y el planeta Neptuno\n"
     ]
    }
   ],
   "source": [
    "for indice, planeta in enumerate(list_planetas):\n",
    "    print(f\"El indice es: {indice} y el planeta {planeta}\")"
   ]
  },
  {
   "cell_type": "markdown",
   "id": "cc8a4ddb-df9c-4e1c-bdde-8818fff75a36",
   "metadata": {},
   "source": [
    "#### Zip ####\n",
    "\n",
    "zip() para dos listas dadas, genera un nuevo objeto donde se empareja cada elemento de una lista con el otro, de acuerdo a su posición."
   ]
  },
  {
   "cell_type": "code",
   "execution_count": 10,
   "id": "22961cfd-8494-476e-9471-bc653ab3754f",
   "metadata": {},
   "outputs": [
    {
     "name": "stdout",
     "output_type": "stream",
     "text": [
      "[('Juan', 25), ('María', 30), ('Luis', 27), ('Ana', 22)]\n"
     ]
    }
   ],
   "source": [
    "nombres = ['Juan', 'María', 'Luis', 'Ana',9]\n",
    "edades = [25, 30, 27, 22]\n",
    "\n",
    "personas = list(zip(nombres, edades))\n",
    "print(personas)"
   ]
  },
  {
   "cell_type": "code",
   "execution_count": 12,
   "id": "5f59b639-a875-4ad3-b161-8901cdb2d208",
   "metadata": {},
   "outputs": [
    {
     "name": "stdout",
     "output_type": "stream",
     "text": [
      "('Juan', 25)\n",
      "('María', 30)\n",
      "('Luis', 27)\n",
      "('Ana', 22)\n"
     ]
    }
   ],
   "source": [
    "for elemento in zip(nombres, edades):\n",
    "    print(elemento)"
   ]
  },
  {
   "cell_type": "markdown",
   "id": "7c891ff2",
   "metadata": {},
   "source": [
    "## Ejercicios propuestos ##"
   ]
  },
  {
   "cell_type": "markdown",
   "id": "e81d6223",
   "metadata": {},
   "source": [
    "1. Realiza un programa que enumere los países de la siguiente lista, imprimiéndolos por pantalla:\n",
    "\n",
    "paises = [\"Argentina\", \"Chile\", \"Colombia\", \"España\", \"México\", \"Perú\"]"
   ]
  },
  {
   "cell_type": "code",
   "execution_count": 11,
   "id": "f146569d",
   "metadata": {},
   "outputs": [
    {
     "name": "stdout",
     "output_type": "stream",
     "text": [
      "Perú\n",
      "Argentina\n",
      "España\n",
      "Chile\n",
      "Colombia\n",
      "México\n"
     ]
    }
   ],
   "source": [
    "paises = [\"Perú\", \"Argentina\", \"España\", \"Chile\", \"Colombia\", \"México\"]\n",
    "\n",
    "for pais in paises:\n",
    "    print(pais)"
   ]
  },
  {
   "cell_type": "markdown",
   "id": "a45cc9b8",
   "metadata": {},
   "source": [
    "2. Crea un programa, a partir de un bucle for, que muestre por pantalla la tabla de multiplicar de un número del 1 al 9 que el usuario seleccione."
   ]
  },
  {
   "cell_type": "code",
   "execution_count": 18,
   "id": "cd2323e2",
   "metadata": {},
   "outputs": [
    {
     "name": "stdout",
     "output_type": "stream",
     "text": [
      "Introduce un número del 1 al 9, del que quieras conocer su tabla de multiplicar:3\n",
      "La tabla de multiplicar del número 3 es:\n",
      "3*1=3\n",
      "3*2=6\n",
      "3*3=9\n",
      "3*4=12\n",
      "3*5=15\n",
      "3*6=18\n",
      "3*7=21\n",
      "3*8=24\n",
      "3*9=27\n"
     ]
    }
   ],
   "source": [
    "numero_tabla_multiplicar = int(input(\"Introduce un número del 1 al 9, del que quieras conocer su tabla de multiplicar:\"))\n",
    "\n",
    "num = [1,2,3,4,5,6,7,8,9]\n",
    "print(f'La tabla de multiplicar del número {numero_tabla_multiplicar} es:')\n",
    "for n in num:\n",
    "    y = numero_tabla_multiplicar * n\n",
    "    print(str(numero_tabla_multiplicar) + '*' + str(n) + '=' + str(y))"
   ]
  },
  {
   "cell_type": "markdown",
   "id": "a9990dfa",
   "metadata": {},
   "source": [
    "Otra forma:"
   ]
  },
  {
   "cell_type": "code",
   "execution_count": 15,
   "id": "abfb65c4",
   "metadata": {},
   "outputs": [
    {
     "name": "stdin",
     "output_type": "stream",
     "text": [
      "Introduce un número del 1 al 9, del que quieras conocer su tabla de multiplicar: 3\n"
     ]
    },
    {
     "name": "stdout",
     "output_type": "stream",
     "text": [
      "[1, 2, 3, 4, 5, 6, 7, 8, 9, 10]\n",
      "3*1 =  3\n",
      "3*2 =  6\n",
      "3*3 =  9\n",
      "3*4 =  12\n",
      "3*5 =  15\n",
      "3*6 =  18\n",
      "3*7 =  21\n",
      "3*8 =  24\n",
      "3*9 =  27\n",
      "3*10 =  30\n"
     ]
    }
   ],
   "source": [
    "numero_tabla_multiplicar = int(input(\"Introduce un número del 1 al 9, del que quieras conocer su tabla de multiplicar:\"))\n",
    "\n",
    "print(list(range(1,11)))\n",
    "for n in range(1,11):\n",
    "    resultado = numero_tabla_multiplicar * n\n",
    "    print(f\"{numero_tabla_multiplicar}*{n} =  {resultado}\")"
   ]
  },
  {
   "cell_type": "code",
   "execution_count": null,
   "id": "3d28ccb2",
   "metadata": {},
   "outputs": [],
   "source": []
  },
  {
   "cell_type": "markdown",
   "id": "b47574e7",
   "metadata": {},
   "source": [
    "3. Escribir un programa en el que se pregunte al usuario por una frase y una letra, y muestre por pantalla el número de veces que aparece la letra en la frase."
   ]
  },
  {
   "cell_type": "code",
   "execution_count": 14,
   "id": "2eeab907",
   "metadata": {},
   "outputs": [
    {
     "name": "stdout",
     "output_type": "stream",
     "text": [
      "Introduce una frase: Un día por la mañana\n",
      "Introduce una letra: a\n",
      "La letra \"a\" aparece 5 veces en la frase \"Un día por la mañana\".\n"
     ]
    }
   ],
   "source": [
    "frase = input(\"Introduce una frase: \")\n",
    "letra = input(\"Introduce una letra: \")\n",
    "contador = 0\n",
    "\n",
    "for i in frase:\n",
    "    if i == letra:\n",
    "        contador += 1\n",
    "print(f\"La letra \\\"{letra}\\\" aparece {contador} veces en la frase \\\"{frase}\\\".\")"
   ]
  },
  {
   "cell_type": "code",
   "execution_count": 17,
   "id": "89c768d2",
   "metadata": {},
   "outputs": [
    {
     "name": "stdout",
     "output_type": "stream",
     "text": [
      "Introduce una frase:Cada día es un buen día\n",
      "Introduce una palabra:día\n",
      "Lista de palabras: \n",
      " ['cada', 'día', 'es', 'un', 'buen', 'día']\n",
      "<class 'list'>\n",
      "cada\n",
      "día\n",
      "es\n",
      "un\n",
      "buen\n",
      "día\n",
      "2\n"
     ]
    }
   ],
   "source": [
    "frase = input(\"Introduce una frase:\").lower()\n",
    "pal_buscada = input(\"Introduce una palabra:\").lower()\n",
    "\n",
    "palabras = frase.split()\n",
    "print(\"Lista de palabras: \\n\", palabras)\n",
    "print(type(palabras))\n",
    "\n",
    "contador = 0\n",
    "for p in palabras:\n",
    "    print(p)\n",
    "    if(p == pal_buscada):\n",
    "        contador  += 1\n",
    "\n",
    "print(contador)"
   ]
  },
  {
   "cell_type": "markdown",
   "id": "540b32c3",
   "metadata": {},
   "source": [
    "4. Escribir un programa que muestre todo lo que el usuario introduzca por pantalla, hasta que la palabra elegida sea “salir”, que terminará."
   ]
  },
  {
   "cell_type": "code",
   "execution_count": 22,
   "id": "5013438e",
   "metadata": {},
   "outputs": [
    {
     "name": "stdout",
     "output_type": "stream",
     "text": [
      "Introduce algo: Vamos\n",
      "Vamos\n",
      "Introduce algo: a escribir\n",
      "a escribir\n",
      "Introduce algo: varias cosas antes de\n",
      "varias cosas antes de\n",
      "Introduce algo: salir\n"
     ]
    }
   ],
   "source": [
    "while True:\n",
    "    frase = input(\"Introduce algo: \")\n",
    "    if frase == \"salir\":\n",
    "        break\n",
    "    print(frase)"
   ]
  },
  {
   "cell_type": "markdown",
   "id": "587df500",
   "metadata": {},
   "source": [
    "5. Sumar los números del 1 al 100:"
   ]
  },
  {
   "cell_type": "code",
   "execution_count": 1,
   "id": "be9279d5",
   "metadata": {},
   "outputs": [
    {
     "name": "stdout",
     "output_type": "stream",
     "text": [
      "5050\n"
     ]
    }
   ],
   "source": [
    "suma = 0\n",
    "\n",
    "for n in range(1, 101):\n",
    "    suma += n\n",
    "    \n",
    "print(suma)"
   ]
  },
  {
   "cell_type": "markdown",
   "id": "ee170580",
   "metadata": {},
   "source": [
    "6. Haz lo mismo que el ejercicio anterior pero suma solo los números pares del 1 al 100:"
   ]
  },
  {
   "cell_type": "code",
   "execution_count": 12,
   "id": "30e77061",
   "metadata": {},
   "outputs": [
    {
     "name": "stdout",
     "output_type": "stream",
     "text": [
      "2550\n"
     ]
    }
   ],
   "source": [
    "#Forma rápida\n",
    "suma = 0\n",
    "\n",
    "for n in range(2, 101, 2):\n",
    "    suma += n\n",
    "    \n",
    "print(suma)"
   ]
  },
  {
   "cell_type": "code",
   "execution_count": 13,
   "id": "1c14644f",
   "metadata": {},
   "outputs": [
    {
     "name": "stdout",
     "output_type": "stream",
     "text": [
      "2550\n"
     ]
    }
   ],
   "source": [
    "#Otra forma:\n",
    "\n",
    "suma = 0\n",
    "\n",
    "for n in range(1, 101):\n",
    "    if n % 2 == 0:\n",
    "        suma += n\n",
    "\n",
    "print(suma)"
   ]
  },
  {
   "cell_type": "markdown",
   "id": "64b96b37",
   "metadata": {},
   "source": [
    "7. Calcular la media, el máximo y el mínimo de la siguiente lista de números sin utilizar funciones. numeros=[3,2,5,3,8,4]"
   ]
  },
  {
   "cell_type": "code",
   "execution_count": 19,
   "id": "f8bf5968",
   "metadata": {},
   "outputs": [
    {
     "name": "stdout",
     "output_type": "stream",
     "text": [
      "El valor medio es 4.166666666666667\n",
      "Minimo: 2\n",
      "Máximo: 4\n"
     ]
    }
   ],
   "source": [
    "numeros=[3,2,5,3,8,4]\n",
    "\n",
    "#Sacamos el total de números.\n",
    "n_totales = 0\n",
    "for n in numeros:\n",
    "    n_totales += 1\n",
    "    \n",
    "    \n",
    "#Calculamos la media\n",
    "suma_numeros = 0\n",
    "for n in numeros:\n",
    "    suma_numeros += n\n",
    "    \n",
    "media = suma_numeros / n_totales\n",
    "print(\"El valor medio es\", media)\n",
    "\n",
    "#Obtenemos el minimo \n",
    "minimo = 0\n",
    "\n",
    "i = 0\n",
    "for n in numeros:\n",
    "    if (i == 0):\n",
    "        minimo = n\n",
    "    elif (n < minimo):\n",
    "        minimo = n\n",
    "    i+=1\n",
    "    \n",
    "print(\"Minimo:\", minimo)        \n",
    "        \n",
    "#Máximo\n",
    "maximo = 0\n",
    "\n",
    "i = 0\n",
    "for n in numeros:\n",
    "\n",
    "    if (i == 0):\n",
    "        maximo = n\n",
    "    elif (n > maximo):\n",
    "        maximo = n\n",
    "\n",
    "    \n",
    "print(\"Máximo:\", maximo)          "
   ]
  },
  {
   "cell_type": "markdown",
   "id": "fb97ae0e",
   "metadata": {},
   "source": [
    "Para mejorar. Intenta hacerlo en solo un bucle for:"
   ]
  },
  {
   "cell_type": "code",
   "execution_count": 18,
   "id": "1a7d6ff0",
   "metadata": {},
   "outputs": [
    {
     "name": "stdout",
     "output_type": "stream",
     "text": [
      "El valor medio es 4.166666666666667\n",
      "Minimo: 2\n",
      "Máximo: 8\n"
     ]
    }
   ],
   "source": [
    "numeros=[3,2,5,3,8,4]\n",
    "\n",
    "#Sacamos el total de números.\n",
    "n_totales = 0\n",
    "suma_numeros = 0\n",
    "minimo = 0\n",
    "maximo = 0\n",
    "\n",
    "i = 0\n",
    "for n in numeros:\n",
    "    n_totales += 1\n",
    "    \n",
    "    #Suma de los números\n",
    "    suma_numeros += n\n",
    "    \n",
    "    #Minimo\n",
    "    if (i == 0):\n",
    "        minimo = n\n",
    "    elif (n < minimo):\n",
    "        minimo = n\n",
    "    \n",
    "    \n",
    "    #Máximo\n",
    "    if (i == 0):\n",
    "        maximo = n\n",
    "    elif (n > maximo):\n",
    "        maximo = n\n",
    "     \n",
    "    i+=1\n",
    "    \n",
    "media = suma_numeros / n_totales\n",
    "print(\"El valor medio es\", media)    \n",
    "print(\"Minimo:\", minimo) \n",
    "print(\"Máximo:\", maximo) \n"
   ]
  },
  {
   "cell_type": "code",
   "execution_count": 16,
   "id": "040003e5-ae5d-41ce-9c05-93e0b0e783e7",
   "metadata": {},
   "outputs": [
    {
     "name": "stdout",
     "output_type": "stream",
     "text": [
      "3.6666666666666665\n",
      "8\n",
      "2\n"
     ]
    }
   ],
   "source": [
    "numeros = [3,2,2,3,8,4]\n",
    "sumatoria = 0\n",
    "nro_maximo = numeros[0]\n",
    "nro_minimo = numeros[0]\n",
    "\n",
    "for numero in numeros:\n",
    "    if numero > nro_maximo:\n",
    "        nro_maximo = numero\n",
    "    if numero < nro_minimo:\n",
    "        nro_minimo = numero\n",
    "        \n",
    "media = sum(numeros) / len(numeros)\n",
    "\n",
    "print(media)\n",
    "print(nro_maximo)\n",
    "print(nro_minimo)"
   ]
  },
  {
   "cell_type": "markdown",
   "id": "2e2296d5",
   "metadata": {},
   "source": [
    "8. Crea un programa que permita al usuario introducir un número y compruebe si este número es primo, es decir, si tiene más de dos divisores."
   ]
  },
  {
   "cell_type": "code",
   "execution_count": 43,
   "id": "0c512103",
   "metadata": {},
   "outputs": [
    {
     "name": "stdout",
     "output_type": "stream",
     "text": [
      "Introduce un número entero8\n",
      "El número 8 no es primo\n"
     ]
    }
   ],
   "source": [
    "numero = int(input(\"Introduce un número entero: \"))\n",
    "\n",
    "total_divisores = 0\n",
    "\n",
    "#Ponemos n + 1 porque si no, el bucle no se ejecutaría para dividir el número entre si mismo. Saldría antes.\n",
    "for i in range(1, numero + 1):\n",
    "    if numero % i == 0:\n",
    "        total_divisores += 1\n",
    "\n",
    "if(total_divisores <= 2):\n",
    "    print(f\"El número {numero} es primo\")\n",
    "else:\n",
    "    print(f\"El número {numero} no es primo\")"
   ]
  }
 ],
 "metadata": {
  "kernelspec": {
   "display_name": "Python 3 (ipykernel)",
   "language": "python",
   "name": "python3"
  },
  "language_info": {
   "codemirror_mode": {
    "name": "ipython",
    "version": 3
   },
   "file_extension": ".py",
   "mimetype": "text/x-python",
   "name": "python",
   "nbconvert_exporter": "python",
   "pygments_lexer": "ipython3",
   "version": "3.9.7"
  }
 },
 "nbformat": 4,
 "nbformat_minor": 5
}
