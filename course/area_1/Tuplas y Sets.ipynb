{
 "cells": [
  {
   "cell_type": "markdown",
   "id": "05f4be8c",
   "metadata": {},
   "source": [
    "\n",
    "\n",
    "\n",
    "Python cuenta con cuatro tipos de datos integrados que se utilizan para almacenar colecciones de datos; uno son las Listas, con las que ya hemos estado trabajando. Los otros tres son las Tuplas, los Conjuntos (o Sets) y los Diccionarios, todos con diferentes calidades y usos.\n",
    "\n",
    "En la siguiente página se muestra un cuadro con las similitudes y diferencias entre las listas, las tuplas y los sets:\n",
    "https://www.geeksforgeeks.org/differences-and-applications-of-list-tuple-set-and-dictionary-in-python/"
   ]
  },
  {
   "cell_type": "markdown",
   "id": "cc811903",
   "metadata": {},
   "source": [
    "### Tuplas ###\n",
    "Las tuplas se utilizan para almacenar varios elementos en una sola variable. Permite almacenar datos de una manera similar a las Listas, con la diferencia de que __las Tuplas son inmutables__, es decir, no se pueden modificar.\n",
    "\n",
    "Se puede declarar una Tupla de dos maneras:"
   ]
  },
  {
   "cell_type": "code",
   "execution_count": 6,
   "id": "5d6d26bb",
   "metadata": {},
   "outputs": [
    {
     "name": "stdout",
     "output_type": "stream",
     "text": [
      "('sardina', 'atún', 'tiburón')\n"
     ]
    }
   ],
   "source": [
    "# La primera forma ( )\n",
    "tupla_1 = (\"sardina\", \"atún\", \"tiburón\")\n",
    "print(tupla_1)"
   ]
  },
  {
   "cell_type": "code",
   "execution_count": 17,
   "id": "c79d1e74",
   "metadata": {},
   "outputs": [
    {
     "name": "stdout",
     "output_type": "stream",
     "text": [
      "('sardina', 'atún', 'tiburón')\n"
     ]
    }
   ],
   "source": [
    "# La segunda forma, con el constructor \"tuple()\"\n",
    "tupla_2 = tuple((\"sardina\", \"atún\", \"tiburón\"))\n",
    "print(tupla_2)"
   ]
  },
  {
   "cell_type": "code",
   "execution_count": 18,
   "id": "1e08bd12-f101-49a9-82a3-dc7279ad2f49",
   "metadata": {},
   "outputs": [
    {
     "name": "stdout",
     "output_type": "stream",
     "text": [
      "atún\n"
     ]
    }
   ],
   "source": [
    "print(tupla_2[1])"
   ]
  },
  {
   "cell_type": "code",
   "execution_count": 8,
   "id": "697a16da",
   "metadata": {},
   "outputs": [
    {
     "name": "stdout",
     "output_type": "stream",
     "text": [
      "<class 'tuple'>\n"
     ]
    }
   ],
   "source": [
    "# El tipo de dato que figura es 'tuple'\n",
    "print(type(tupla_1))"
   ]
  },
  {
   "cell_type": "code",
   "execution_count": 9,
   "id": "96a23059",
   "metadata": {},
   "outputs": [
    {
     "name": "stdout",
     "output_type": "stream",
     "text": [
      "<class 'tuple'>\n"
     ]
    }
   ],
   "source": [
    "print(type(tupla_2))"
   ]
  },
  {
   "cell_type": "code",
   "execution_count": 10,
   "id": "857081f8",
   "metadata": {},
   "outputs": [
    {
     "name": "stdout",
     "output_type": "stream",
     "text": [
      "('s', 'a', 'r', 'd', 'i', 'n', 'a')\n"
     ]
    }
   ],
   "source": [
    "# ¿Qué ocurriría si me olvidara de los dos paréntesis con la orden \"tuple()\"?\n",
    "tupla_prueba = tuple(\"sardina\")\n",
    "print(tupla_prueba)"
   ]
  },
  {
   "cell_type": "code",
   "execution_count": 11,
   "id": "9d562e6c",
   "metadata": {},
   "outputs": [
    {
     "data": {
      "text/plain": [
       "tuple"
      ]
     },
     "execution_count": 11,
     "metadata": {},
     "output_type": "execute_result"
    }
   ],
   "source": [
    "type(tupla_prueba)"
   ]
  },
  {
   "cell_type": "markdown",
   "id": "81805e0b",
   "metadata": {},
   "source": [
    "Pregunta: ¿cómo crearíamos una Tupla con un único elemento, utilizando los paréntesis? Por ejemplo, crear la Tupla con el elemento \"Hola\""
   ]
  },
  {
   "cell_type": "code",
   "execution_count": 12,
   "id": "25c5e142",
   "metadata": {},
   "outputs": [
    {
     "data": {
      "text/plain": [
       "str"
      ]
     },
     "execution_count": 12,
     "metadata": {},
     "output_type": "execute_result"
    }
   ],
   "source": [
    "tupla_hola = (\"Hola\")\n",
    "type(tupla_hola)"
   ]
  },
  {
   "cell_type": "code",
   "execution_count": 15,
   "id": "15d203c1",
   "metadata": {},
   "outputs": [
    {
     "name": "stdout",
     "output_type": "stream",
     "text": [
      "('Hola',)\n",
      "<class 'tuple'>\n",
      "1\n"
     ]
    }
   ],
   "source": [
    "# ¿Qué podemos hacer?\n",
    "tupla_hola = (\"Hola\",)\n",
    "print(tupla_hola)\n",
    "print(type(tupla_hola))\n",
    "print(len(tupla_hola))"
   ]
  },
  {
   "cell_type": "markdown",
   "id": "5fcadf7c",
   "metadata": {},
   "source": [
    "Las Tuplas, al igual que las Listas, pueden contener elementos de diferente tipo sin generar error:"
   ]
  },
  {
   "cell_type": "code",
   "execution_count": 9,
   "id": "82eb7993",
   "metadata": {},
   "outputs": [
    {
     "name": "stdout",
     "output_type": "stream",
     "text": [
      "('Guillermo', 34, True)\n",
      "<class 'tuple'>\n"
     ]
    }
   ],
   "source": [
    "tupla_3 = ( \"Guillermo\", 34, True)\n",
    "print(tupla_3, type(tupla_3), sep=\"\\n\")"
   ]
  },
  {
   "cell_type": "markdown",
   "id": "8d2bcf07",
   "metadata": {},
   "source": [
    "También, al igual que vimos con las Listas, los elementos de una Tupla están ordenados (tienen índices) y permiten valores duplicados."
   ]
  },
  {
   "cell_type": "code",
   "execution_count": 47,
   "id": "99e67d7b",
   "metadata": {},
   "outputs": [
    {
     "name": "stdout",
     "output_type": "stream",
     "text": [
      "('México', 'Perú', 'Colombia', 'Argentina', 'México', 'Chile', 'España')\n"
     ]
    }
   ],
   "source": [
    "# Permiten duplicados\n",
    "tupla_duplicados = (\"México\", \"Perú\", \"Colombia\", \"Argentina\", \"México\", \"Chile\", \"España\")\n",
    "print(tupla_duplicados)"
   ]
  },
  {
   "cell_type": "code",
   "execution_count": 11,
   "id": "185a6084",
   "metadata": {},
   "outputs": [
    {
     "name": "stdout",
     "output_type": "stream",
     "text": [
      "El primer elemento de la tupla anterior es : México.\n"
     ]
    }
   ],
   "source": [
    "# Sus elementos están ordenados\n",
    "print(f\"El primer elemento de la tupla anterior es : {tupla_duplicados[4]}.\")"
   ]
  },
  {
   "cell_type": "code",
   "execution_count": 19,
   "id": "f51fd2f1",
   "metadata": {},
   "outputs": [
    {
     "ename": "NameError",
     "evalue": "name 'tupla_duplicados' is not defined",
     "output_type": "error",
     "traceback": [
      "\u001b[1;31m---------------------------------------------------------------------------\u001b[0m",
      "\u001b[1;31mNameError\u001b[0m                                 Traceback (most recent call last)",
      "\u001b[1;32mC:\\Users\\ROBERT~1.DON\\AppData\\Local\\Temp/ipykernel_5380/3197209109.py\u001b[0m in \u001b[0;36m<module>\u001b[1;34m\u001b[0m\n\u001b[0;32m      1\u001b[0m \u001b[1;31m# Sin embargo, las Tuplas son inmutables. Si intentamos modificarla...\u001b[0m\u001b[1;33m\u001b[0m\u001b[1;33m\u001b[0m\u001b[0m\n\u001b[1;32m----> 2\u001b[1;33m \u001b[0mtupla_duplicados\u001b[0m\u001b[1;33m[\u001b[0m\u001b[1;36m4\u001b[0m\u001b[1;33m]\u001b[0m \u001b[1;33m=\u001b[0m \u001b[1;34m\"Uruguay\"\u001b[0m\u001b[1;33m\u001b[0m\u001b[1;33m\u001b[0m\u001b[0m\n\u001b[0m",
      "\u001b[1;31mNameError\u001b[0m: name 'tupla_duplicados' is not defined"
     ]
    }
   ],
   "source": [
    "# Sin embargo, las Tuplas son inmutables. Si intentamos modificarla...\n",
    "tupla_duplicados[4] = \"Uruguay\""
   ]
  },
  {
   "cell_type": "code",
   "execution_count": 48,
   "id": "584d8c8e",
   "metadata": {},
   "outputs": [
    {
     "ename": "AttributeError",
     "evalue": "'tuple' object has no attribute 'append'",
     "output_type": "error",
     "traceback": [
      "\u001b[1;31m---------------------------------------------------------------------------\u001b[0m",
      "\u001b[1;31mAttributeError\u001b[0m                            Traceback (most recent call last)",
      "\u001b[1;32mC:\\Users\\ROBERT~1.DON\\AppData\\Local\\Temp/ipykernel_5380/2196921344.py\u001b[0m in \u001b[0;36m<module>\u001b[1;34m\u001b[0m\n\u001b[1;32m----> 1\u001b[1;33m \u001b[0mtupla_duplicados\u001b[0m\u001b[1;33m.\u001b[0m\u001b[0mappend\u001b[0m\u001b[1;33m(\u001b[0m\u001b[1;34m\"Portugal\"\u001b[0m\u001b[1;33m)\u001b[0m\u001b[1;33m\u001b[0m\u001b[1;33m\u001b[0m\u001b[0m\n\u001b[0m",
      "\u001b[1;31mAttributeError\u001b[0m: 'tuple' object has no attribute 'append'"
     ]
    }
   ],
   "source": [
    "tupla_duplicados.append(\"Portugal\")"
   ]
  },
  {
   "cell_type": "markdown",
   "id": "6968cfc8",
   "metadata": {},
   "source": [
    "Al igual que hacíamos con las Listas, podemos utilizar la función __len()__ para obtener la longitud de una Tupla:"
   ]
  },
  {
   "cell_type": "code",
   "execution_count": 49,
   "id": "9f01c55a",
   "metadata": {},
   "outputs": [
    {
     "data": {
      "text/plain": [
       "7"
      ]
     },
     "execution_count": 49,
     "metadata": {},
     "output_type": "execute_result"
    }
   ],
   "source": [
    "len(tupla_duplicados)"
   ]
  },
  {
   "cell_type": "markdown",
   "id": "208083c3",
   "metadata": {},
   "source": [
    "¿Se puede crear, como con las listas, una tupla de tuplas?"
   ]
  },
  {
   "cell_type": "code",
   "execution_count": 32,
   "id": "923939b2",
   "metadata": {},
   "outputs": [
    {
     "name": "stdout",
     "output_type": "stream",
     "text": [
      "(('España', 'Francia', 'Portugal'), ('Italia', 'Alemania', 'Bélgica'), ('Noruega',))\n",
      "<class 'tuple'>\n",
      "Bélgica\n"
     ]
    }
   ],
   "source": [
    "tupla_de_tuplas = ((\"España\", \"Francia\", \"Portugal\"), (\"Italia\", \"Alemania\", \"Bélgica\"),(\"Noruega\",))\n",
    "print(tupla_de_tuplas)\n",
    "print(type(tupla_de_tuplas))\n",
    "\n",
    "print(tupla_de_tuplas[1][2])"
   ]
  },
  {
   "cell_type": "code",
   "execution_count": 33,
   "id": "381d107f",
   "metadata": {},
   "outputs": [
    {
     "name": "stdout",
     "output_type": "stream",
     "text": [
      "('España', 'Francia', 'Portugal')\n",
      "('Italia', 'Alemania', 'Bélgica')\n",
      "('Noruega',)\n"
     ]
    }
   ],
   "source": [
    "# Podemos recorrer una tupla de la misma manera que las listas\n",
    "for i in tupla_de_tuplas:\n",
    "    print(i)"
   ]
  },
  {
   "cell_type": "code",
   "execution_count": 34,
   "id": "f7c89707-ad73-44d5-adb7-b686b2d73c05",
   "metadata": {},
   "outputs": [
    {
     "name": "stdout",
     "output_type": "stream",
     "text": [
      "España\n",
      "Italia\n"
     ]
    },
    {
     "ename": "ValueError",
     "evalue": "not enough values to unpack (expected 3, got 1)",
     "output_type": "error",
     "traceback": [
      "\u001b[1;31m---------------------------------------------------------------------------\u001b[0m",
      "\u001b[1;31mValueError\u001b[0m                                Traceback (most recent call last)",
      "\u001b[1;32mC:\\Users\\ROBERT~1.DON\\AppData\\Local\\Temp/ipykernel_5380/829312719.py\u001b[0m in \u001b[0;36m<module>\u001b[1;34m\u001b[0m\n\u001b[1;32m----> 1\u001b[1;33m \u001b[1;32mfor\u001b[0m \u001b[0mx\u001b[0m\u001b[1;33m,\u001b[0m\u001b[0my\u001b[0m\u001b[1;33m,\u001b[0m\u001b[0mz\u001b[0m \u001b[1;32min\u001b[0m \u001b[0mtupla_de_tuplas\u001b[0m\u001b[1;33m:\u001b[0m\u001b[1;33m\u001b[0m\u001b[1;33m\u001b[0m\u001b[0m\n\u001b[0m\u001b[0;32m      2\u001b[0m     \u001b[0mprint\u001b[0m\u001b[1;33m(\u001b[0m\u001b[0mx\u001b[0m\u001b[1;33m)\u001b[0m\u001b[1;33m\u001b[0m\u001b[1;33m\u001b[0m\u001b[0m\n",
      "\u001b[1;31mValueError\u001b[0m: not enough values to unpack (expected 3, got 1)"
     ]
    }
   ],
   "source": [
    "for x,y,z in tupla_de_tuplas:\n",
    "    print(x)"
   ]
  },
  {
   "cell_type": "code",
   "execution_count": null,
   "id": "9bb77223",
   "metadata": {},
   "outputs": [],
   "source": [
    "# Podemos transformar una tupla en lista y viceversa\n",
    "tupla_a_lista = (\"México\", \"Perú\", \"Colombia\", \"Argentina\",\"Chile\", \"España\")\n",
    "print(tupla_a_lista)\n",
    "print(type(tupla_a_lista))\n",
    "\n",
    "tupla_a_lista = list(tupla_a_lista)\n",
    "print(tupla_a_lista)\n",
    "print(type(tupla_a_lista))"
   ]
  },
  {
   "cell_type": "code",
   "execution_count": null,
   "id": "11ea7793",
   "metadata": {},
   "outputs": [],
   "source": [
    "tupla_copia = tupla_3.copy()\n",
    "#type(tupla_copia)"
   ]
  },
  {
   "cell_type": "code",
   "execution_count": 42,
   "id": "cf137176",
   "metadata": {},
   "outputs": [],
   "source": [
    "tupla = tuple((\"hola\",2,False))    # list(...)\n",
    "tupla_2 = (\"hola\",1,\"hola\")         # [...]"
   ]
  },
  {
   "cell_type": "code",
   "execution_count": 45,
   "id": "1e33044e",
   "metadata": {},
   "outputs": [
    {
     "data": {
      "text/plain": [
       "0"
      ]
     },
     "execution_count": 45,
     "metadata": {},
     "output_type": "execute_result"
    }
   ],
   "source": [
    "tupla.index(\"hola\")"
   ]
  },
  {
   "cell_type": "code",
   "execution_count": 46,
   "id": "dfb72589",
   "metadata": {},
   "outputs": [
    {
     "data": {
      "text/plain": [
       "2"
      ]
     },
     "execution_count": 46,
     "metadata": {},
     "output_type": "execute_result"
    }
   ],
   "source": [
    "tupla_2.count(\"hola\")"
   ]
  },
  {
   "cell_type": "markdown",
   "id": "21be81ad",
   "metadata": {},
   "source": [
    "Pequeño __resumen__:\n",
    "* Se accede a las tuplas de la misma manera que se accede a las listas; señalando el índice al que queremos acceder entre dos corchetes []\n",
    "* Se puede recorrer una tupla tal y como se recorre una lista.\n",
    "* Las funciones index() y count() funcionan con tuplas. No así para el resto de funciones."
   ]
  },
  {
   "cell_type": "markdown",
   "id": "783bef11",
   "metadata": {},
   "source": [
    "### Conjuntos (Sets) ###\n",
    "Se utilizan, al igual que las Tuplas, para almacenar colecciones de datos en una sola variable. A diferencia de los anteriores, __los Sets son \"inmutables\", no indexados, no ordenados y sus elementos han de ser únicos__.\n",
    "\n",
    "* __¡OJO! Los elementos ya establecidos no se pueden modificar, pero sí se pueden eliminar elementos o agregar otros nuevos.__\n",
    "* Desordenado significa que los elementos de un conjunto no tienen un orden definido. Los elementos establecidos pueden aparecer en un orden diferente cada vez que se usan y no se puede hacer referencia a ellos por índice o clave.\n",
    "\n",
    "Se pueden declarar también de dos maneras distintas:"
   ]
  },
  {
   "cell_type": "code",
   "execution_count": 50,
   "id": "576913dc",
   "metadata": {},
   "outputs": [
    {
     "name": "stdout",
     "output_type": "stream",
     "text": [
      "{'morena', 'manta', 'atún', 'sardina', 'tiburón', 'delfín'}\n",
      "<class 'set'>\n"
     ]
    }
   ],
   "source": [
    "# La primera forma { }\n",
    "set_1 = {\"sardina\", \"atún\", \"tiburón\", \"manta\", \"delfín\", \"morena\"}\n",
    "print(set_1)\n",
    "print(type(set_1))\n"
   ]
  },
  {
   "cell_type": "code",
   "execution_count": 52,
   "id": "15262cf9",
   "metadata": {},
   "outputs": [
    {
     "data": {
      "text/plain": [
       "set"
      ]
     },
     "execution_count": 52,
     "metadata": {},
     "output_type": "execute_result"
    }
   ],
   "source": [
    "type(set_1)"
   ]
  },
  {
   "cell_type": "code",
   "execution_count": 51,
   "id": "5fcf90da",
   "metadata": {},
   "outputs": [
    {
     "name": "stdout",
     "output_type": "stream",
     "text": [
      "{'morena', 'manta', 'sardina', 'atún', 'tiburón', 'delfín'}\n"
     ]
    }
   ],
   "source": [
    "# La segunda forma, con el constructor \"set()\"\n",
    "set_2 = set((\"sardina\", \"atún\", \"tiburón\", \"manta\", \"delfín\", \"morena\"))\n",
    "print(set_2)"
   ]
  },
  {
   "cell_type": "code",
   "execution_count": 53,
   "id": "16c432b6",
   "metadata": {},
   "outputs": [
    {
     "data": {
      "text/plain": [
       "set"
      ]
     },
     "execution_count": 53,
     "metadata": {},
     "output_type": "execute_result"
    }
   ],
   "source": [
    "type(set_2)"
   ]
  },
  {
   "cell_type": "markdown",
   "id": "82ada612",
   "metadata": {},
   "source": [
    "La función __len()__ sigue funcionando con los Sets..."
   ]
  },
  {
   "cell_type": "code",
   "execution_count": 54,
   "id": "24ee2c28",
   "metadata": {},
   "outputs": [
    {
     "data": {
      "text/plain": [
       "6"
      ]
     },
     "execution_count": 54,
     "metadata": {},
     "output_type": "execute_result"
    }
   ],
   "source": [
    "len(set_2)"
   ]
  },
  {
   "cell_type": "markdown",
   "id": "b6bc66f0",
   "metadata": {},
   "source": [
    "No se puede acceder a los elementos de un conjunto haciendo referencia a un índice o una clave, pero sí recorrerlos usando un bucle for, o preguntar si un valor específico está presente en un conjunto, usando la palabra clave __in__."
   ]
  },
  {
   "cell_type": "code",
   "execution_count": 55,
   "id": "ce688667",
   "metadata": {},
   "outputs": [
    {
     "ename": "TypeError",
     "evalue": "'set' object is not subscriptable",
     "output_type": "error",
     "traceback": [
      "\u001b[1;31m---------------------------------------------------------------------------\u001b[0m",
      "\u001b[1;31mTypeError\u001b[0m                                 Traceback (most recent call last)",
      "\u001b[1;32mC:\\Users\\ROBERT~1.DON\\AppData\\Local\\Temp/ipykernel_5380/3387340096.py\u001b[0m in \u001b[0;36m<module>\u001b[1;34m\u001b[0m\n\u001b[0;32m      1\u001b[0m \u001b[1;31m# Los elementos de un Conjunto no están indexados\u001b[0m\u001b[1;33m\u001b[0m\u001b[1;33m\u001b[0m\u001b[0m\n\u001b[1;32m----> 2\u001b[1;33m \u001b[0mset_2\u001b[0m\u001b[1;33m[\u001b[0m\u001b[1;36m0\u001b[0m\u001b[1;33m]\u001b[0m\u001b[1;33m\u001b[0m\u001b[1;33m\u001b[0m\u001b[0m\n\u001b[0m",
      "\u001b[1;31mTypeError\u001b[0m: 'set' object is not subscriptable"
     ]
    }
   ],
   "source": [
    "# Los elementos de un Conjunto no están indexados\n",
    "set_2[0]"
   ]
  },
  {
   "cell_type": "code",
   "execution_count": 56,
   "id": "448227f2",
   "metadata": {},
   "outputs": [
    {
     "name": "stdout",
     "output_type": "stream",
     "text": [
      "morena\n",
      "manta\n",
      "sardina\n",
      "atún\n",
      "tiburón\n",
      "delfín\n"
     ]
    }
   ],
   "source": [
    "# Recorrer sus elementos\n",
    "for x in set_2:\n",
    "    print(x)"
   ]
  },
  {
   "cell_type": "code",
   "execution_count": 57,
   "id": "a4e4f55d-bb10-4e83-a3d2-b8f82583a341",
   "metadata": {},
   "outputs": [
    {
     "name": "stdout",
     "output_type": "stream",
     "text": [
      "morena manta sardina atún tiburón delfín\n"
     ]
    }
   ],
   "source": [
    "print(*set_2)"
   ]
  },
  {
   "cell_type": "code",
   "execution_count": 58,
   "id": "e53b05e6",
   "metadata": {},
   "outputs": [
    {
     "name": "stdout",
     "output_type": "stream",
     "text": [
      "True\n"
     ]
    }
   ],
   "source": [
    "# Comprobar si \"sardina\" está en el conjunto\n",
    "print(\"sardina\" in set_2)"
   ]
  },
  {
   "cell_type": "markdown",
   "id": "db74d7b1",
   "metadata": {},
   "source": [
    "En cuanto a los elementos duplicados..."
   ]
  },
  {
   "cell_type": "code",
   "execution_count": 61,
   "id": "01db7c2b",
   "metadata": {},
   "outputs": [
    {
     "name": "stdout",
     "output_type": "stream",
     "text": [
      "{'sardina', 'tiburón', 'atún'}\n"
     ]
    }
   ],
   "source": [
    "# Elementos repetidos...\n",
    "set_repetido = {\"sardina\", \"atún\", \"tiburón\", \"sardina\"}\n",
    "print(set_repetido)"
   ]
  },
  {
   "cell_type": "code",
   "execution_count": 62,
   "id": "0dd73cd4-bb66-4f22-8a18-73ebb27edc38",
   "metadata": {},
   "outputs": [],
   "source": [
    "set_repetido_2 = set_repetido"
   ]
  },
  {
   "cell_type": "code",
   "execution_count": 63,
   "id": "a4ea41a8-1cb6-41d4-b9ef-56092a7562c0",
   "metadata": {},
   "outputs": [
    {
     "data": {
      "text/plain": [
       "True"
      ]
     },
     "execution_count": 63,
     "metadata": {},
     "output_type": "execute_result"
    }
   ],
   "source": [
    "set_repetido_2 is set_repetido"
   ]
  },
  {
   "cell_type": "code",
   "execution_count": 60,
   "id": "410a3b08",
   "metadata": {},
   "outputs": [
    {
     "data": {
      "text/plain": [
       "list"
      ]
     },
     "execution_count": 60,
     "metadata": {},
     "output_type": "execute_result"
    }
   ],
   "source": [
    "lista_prueba = [\"sardina\", \"atún\", \"tiburón\", \"sardina\"]\n",
    "type(lista_prueba)"
   ]
  },
  {
   "cell_type": "code",
   "execution_count": null,
   "id": "3c15043c",
   "metadata": {},
   "outputs": [],
   "source": [
    "lista_prueba = set(lista_prueba)\n",
    "type(lista_prueba)"
   ]
  },
  {
   "cell_type": "code",
   "execution_count": null,
   "id": "470c7e2c",
   "metadata": {},
   "outputs": [],
   "source": [
    "print(lista_prueba)"
   ]
  },
  {
   "cell_type": "code",
   "execution_count": null,
   "id": "f965eb6b",
   "metadata": {},
   "outputs": [],
   "source": [
    "# Los valores True y 1 son considerados iguales, por lo que... Los duplicados se despreciarán\n",
    "set_repetido_2 = {0, 1, True}\n",
    "print(set_repetido_2)"
   ]
  },
  {
   "cell_type": "markdown",
   "id": "1151bf96",
   "metadata": {},
   "source": [
    "Como hemos dicho, no se pueden sobreescribir elementos ya existentes, pero sí eliminarlos con __.remove(), .discard() o .pop()__ "
   ]
  },
  {
   "cell_type": "code",
   "execution_count": 64,
   "id": "34aa4883",
   "metadata": {},
   "outputs": [
    {
     "name": "stdout",
     "output_type": "stream",
     "text": [
      "{'morena', 'manta', 'atún', 'tiburón', 'delfín'}\n"
     ]
    }
   ],
   "source": [
    "# Eliminamos \"Sardina\" con .remove()\n",
    "set_1.remove(\"sardina\")\n",
    "print(set_1)"
   ]
  },
  {
   "cell_type": "code",
   "execution_count": 65,
   "id": "f1e5f1bd",
   "metadata": {},
   "outputs": [
    {
     "name": "stdout",
     "output_type": "stream",
     "text": [
      "{'manta', 'atún', 'tiburón', 'delfín'}\n"
     ]
    }
   ],
   "source": [
    "# Eliminamos \"morena\" con .discard()\n",
    "set_1.discard(\"morena\")\n",
    "print(set_1)"
   ]
  },
  {
   "cell_type": "markdown",
   "id": "98b395a4",
   "metadata": {},
   "source": [
    "¿Qué diferencia existe entonces entre ambos métodos? Intentemos eliminar del set_1 la palabra \"tigre\"..."
   ]
  },
  {
   "cell_type": "code",
   "execution_count": 66,
   "id": "a531b11f",
   "metadata": {},
   "outputs": [
    {
     "ename": "KeyError",
     "evalue": "'Tigre'",
     "output_type": "error",
     "traceback": [
      "\u001b[1;31m---------------------------------------------------------------------------\u001b[0m",
      "\u001b[1;31mKeyError\u001b[0m                                  Traceback (most recent call last)",
      "\u001b[1;32mC:\\Users\\ROBERT~1.DON\\AppData\\Local\\Temp/ipykernel_5380/4146874384.py\u001b[0m in \u001b[0;36m<module>\u001b[1;34m\u001b[0m\n\u001b[1;32m----> 1\u001b[1;33m \u001b[0mset_1\u001b[0m\u001b[1;33m.\u001b[0m\u001b[0mremove\u001b[0m\u001b[1;33m(\u001b[0m\u001b[1;34m\"Tigre\"\u001b[0m\u001b[1;33m)\u001b[0m\u001b[1;33m\u001b[0m\u001b[1;33m\u001b[0m\u001b[0m\n\u001b[0m\u001b[0;32m      2\u001b[0m \u001b[0mprint\u001b[0m\u001b[1;33m(\u001b[0m\u001b[0mset_1\u001b[0m\u001b[1;33m)\u001b[0m\u001b[1;33m\u001b[0m\u001b[1;33m\u001b[0m\u001b[0m\n",
      "\u001b[1;31mKeyError\u001b[0m: 'Tigre'"
     ]
    }
   ],
   "source": [
    "set_1.remove(\"Tigre\")\n",
    "print(set_1)"
   ]
  },
  {
   "cell_type": "code",
   "execution_count": 67,
   "id": "f00f2c58",
   "metadata": {},
   "outputs": [
    {
     "name": "stdout",
     "output_type": "stream",
     "text": [
      "{'manta', 'atún', 'tiburón', 'delfín'}\n"
     ]
    }
   ],
   "source": [
    "set_1.discard(\"Tigre\")\n",
    "print(set_1)"
   ]
  },
  {
   "cell_type": "markdown",
   "id": "98c90486",
   "metadata": {},
   "source": [
    "Y, con .pop(), ¿cómo podemos borrar si no es posible especificar el índice?"
   ]
  },
  {
   "cell_type": "code",
   "execution_count": 1,
   "id": "656b7864",
   "metadata": {},
   "outputs": [
    {
     "name": "stdout",
     "output_type": "stream",
     "text": [
      "{'sardina', 'delfín', 'manta', 'morena', 'tiburón', 'atún'}\n",
      "{'delfín', 'manta', 'morena', 'tiburón', 'atún'}\n",
      "{'manta', 'morena', 'tiburón', 'atún'}\n",
      "{'morena', 'tiburón', 'atún'}\n"
     ]
    }
   ],
   "source": [
    "set_1 = {\"sardina\", \"atún\", \"tiburón\", \"manta\", \"delfín\", \"morena\"}\n",
    "print(set_1)\n",
    "set_1.pop()\n",
    "print(set_1)\n",
    "set_1.pop()\n",
    "print(set_1)\n",
    "set_1.pop()\n",
    "print(set_1)"
   ]
  },
  {
   "cell_type": "markdown",
   "id": "e851de71",
   "metadata": {},
   "source": [
    "También funciona nuestro ya conocido método __.clear()__ para eliminar todos los elementos:"
   ]
  },
  {
   "cell_type": "code",
   "execution_count": 3,
   "id": "7f131925",
   "metadata": {},
   "outputs": [
    {
     "name": "stdout",
     "output_type": "stream",
     "text": [
      "{'delfín', 'tiburón', 'sardina', 'manta', 'morena', 'atún'}\n"
     ]
    }
   ],
   "source": [
    "print(set_2)"
   ]
  },
  {
   "cell_type": "code",
   "execution_count": 4,
   "id": "0825ab89",
   "metadata": {},
   "outputs": [
    {
     "name": "stdout",
     "output_type": "stream",
     "text": [
      "set()\n"
     ]
    }
   ],
   "source": [
    "set_2.clear()\n",
    "print(set_2)"
   ]
  },
  {
   "cell_type": "markdown",
   "id": "d48118ef",
   "metadata": {},
   "source": [
    "Agregamos elementos nuevos mediante la función __.add()__."
   ]
  },
  {
   "cell_type": "code",
   "execution_count": 5,
   "id": "16ba4cad",
   "metadata": {},
   "outputs": [
    {
     "name": "stdout",
     "output_type": "stream",
     "text": [
      "{'sardinilla', 'morena', 'tiburón', 'atún'}\n"
     ]
    }
   ],
   "source": [
    "set_1.add(\"sardinilla\")\n",
    "print(set_1)"
   ]
  },
  {
   "cell_type": "markdown",
   "id": "0d13636a",
   "metadata": {},
   "source": [
    "También podemos agregar elementos de un conjunto al set actual con __.update()__."
   ]
  },
  {
   "cell_type": "code",
   "execution_count": 6,
   "id": "69715763",
   "metadata": {},
   "outputs": [
    {
     "name": "stdout",
     "output_type": "stream",
     "text": [
      "{'sardinilla', 'morena', 'tiburón', 'atún'}\n"
     ]
    }
   ],
   "source": [
    "print(set_1)"
   ]
  },
  {
   "cell_type": "code",
   "execution_count": 7,
   "id": "48f9bcfe",
   "metadata": {},
   "outputs": [
    {
     "name": "stdout",
     "output_type": "stream",
     "text": [
      "{'boquerón', 'beluga', 'lubina'}\n"
     ]
    }
   ],
   "source": [
    "set_2 = {\"boquerón\", \"beluga\", \"lubina\"}\n",
    "print(set_2)"
   ]
  },
  {
   "cell_type": "code",
   "execution_count": 8,
   "id": "f0ff8bff",
   "metadata": {},
   "outputs": [
    {
     "name": "stdout",
     "output_type": "stream",
     "text": [
      "{'sardinilla', 'boquerón', 'morena', 'lubina', 'tiburón', 'beluga', 'atún'}\n"
     ]
    }
   ],
   "source": [
    "set_1.update(set_2)\n",
    "print(set_1)"
   ]
  },
  {
   "cell_type": "code",
   "execution_count": 9,
   "id": "44833e46",
   "metadata": {},
   "outputs": [
    {
     "name": "stdout",
     "output_type": "stream",
     "text": [
      "{'rodaballo', 'boquerón', 'lubina', 'sardinilla', 'dorada', 'tiburón', 'beluga', 'morena', 'atún'}\n"
     ]
    }
   ],
   "source": [
    "# Y si en vez de añadir el set_2, intentamos añadir una lista...\n",
    "lista_1 = [\"dorada\",\"rodaballo\"]\n",
    "\n",
    "set_1.update(lista_1)\n",
    "print(set_1)\n",
    "\n",
    "# Puede ser cualquier elemento iterable; tuplas, listas, diccionarios,..."
   ]
  },
  {
   "cell_type": "markdown",
   "id": "4e46f470",
   "metadata": {},
   "source": [
    "O unir dos conjuntos en otro nuevo con __.union()__:"
   ]
  },
  {
   "cell_type": "code",
   "execution_count": 11,
   "id": "b8fce0e7",
   "metadata": {},
   "outputs": [
    {
     "name": "stdout",
     "output_type": "stream",
     "text": [
      "{'c', 1, 2, 3, 'a', 'b'}\n"
     ]
    }
   ],
   "source": [
    "set1 = {\"a\", \"b\" , \"c\"}\n",
    "set2 = {1, 2, 3}\n",
    "\n",
    "set3 = set1 | set2\n",
    "print(set3)"
   ]
  },
  {
   "cell_type": "markdown",
   "id": "d06783fe",
   "metadata": {},
   "source": [
    "__Tanto .union() como .update() excluirán cualquier elemento duplicado.__"
   ]
  },
  {
   "cell_type": "code",
   "execution_count": 15,
   "id": "1d29d92d",
   "metadata": {},
   "outputs": [
    {
     "name": "stdout",
     "output_type": "stream",
     "text": [
      "{'c', 1, 2, 3, 'a', 'b'}\n"
     ]
    }
   ],
   "source": [
    "set4 = {\"a\", \"b\" , \"c\", \"a\", \"b\" , \"c\"}\n",
    "set5 = {1, 2, 3, \"a\"}\n",
    "\n",
    "set6 = set4.union(set5)\n",
    "print(set6)"
   ]
  },
  {
   "cell_type": "code",
   "execution_count": null,
   "id": "a6aa81d7",
   "metadata": {},
   "outputs": [],
   "source": [
    "set4.union(set5)"
   ]
  },
  {
   "cell_type": "code",
   "execution_count": null,
   "id": "09220ad3",
   "metadata": {},
   "outputs": [],
   "source": [
    "print(set6)"
   ]
  },
  {
   "cell_type": "code",
   "execution_count": null,
   "id": "0459784a",
   "metadata": {},
   "outputs": [],
   "source": [
    "set4.update(set5)"
   ]
  },
  {
   "cell_type": "code",
   "execution_count": null,
   "id": "f41d4462",
   "metadata": {},
   "outputs": [],
   "source": [
    "print(set4)"
   ]
  },
  {
   "cell_type": "markdown",
   "id": "0bb3a64a",
   "metadata": {},
   "source": [
    "la función __.intersection()__ nos devolverá los elementos comunes entre dos conjuntos:"
   ]
  },
  {
   "cell_type": "code",
   "execution_count": 17,
   "id": "32d0c142",
   "metadata": {},
   "outputs": [
    {
     "name": "stdout",
     "output_type": "stream",
     "text": [
      "{1, 3, 5}\n",
      "<class 'set'>\n"
     ]
    }
   ],
   "source": [
    "conjunto_1 = {1,2,3,4,5}\n",
    "conjunto_2 = {1,3,5,7,9}\n",
    "\n",
    "conjunto_3 = conjunto_1 & conjunto_2\n",
    "#conjunto_3 = conjunto_1.intersection(conjunto_2)\n",
    "print(conjunto_3)\n",
    "print(type(conjunto_3))"
   ]
  },
  {
   "cell_type": "markdown",
   "id": "9ba43af2",
   "metadata": {},
   "source": [
    "Para más funciones ... https://www.w3schools.com/python/python_sets_methods.asp"
   ]
  },
  {
   "cell_type": "markdown",
   "id": "8edfc519",
   "metadata": {},
   "source": [
    "Al escoger un tipo de colección, es útil comprender las propiedades de cada uno de ellos. Elegir el tipo correcto para un conjunto de datos en particular podría significar, por ejemplo, un aumento en la eficiencia o la seguridad."
   ]
  },
  {
   "cell_type": "code",
   "execution_count": null,
   "id": "00e93352",
   "metadata": {},
   "outputs": [],
   "source": []
  },
  {
   "cell_type": "code",
   "execution_count": null,
   "id": "dfbc8036",
   "metadata": {},
   "outputs": [],
   "source": [
    "#Si hiciesemos {} lo entendería como un diccionario.\n",
    "set_1 = {\"Camaron\"}\n",
    "print(type(set_1))\n",
    "\n",
    "set_1.add(\"Sardinilla\")\n"
   ]
  },
  {
   "cell_type": "code",
   "execution_count": null,
   "id": "a9a39c6c-1b59-45f0-933a-d926e0819345",
   "metadata": {},
   "outputs": [],
   "source": [
    "#Así crearíamos un set vacío.\n",
    "set_2 = set()\n",
    "print(type(set_2))"
   ]
  },
  {
   "cell_type": "markdown",
   "id": "fde84862-290c-4e45-8018-45f4b6ac2b58",
   "metadata": {},
   "source": [
    "## Ejercicios ##"
   ]
  },
  {
   "cell_type": "markdown",
   "id": "da9733eb-6338-4ea8-a4e7-84a9048f6301",
   "metadata": {},
   "source": [
    "1. Dado un set de palabras, escribe un script que encuentre todas las palabras que empiecen con una letra dada."
   ]
  },
  {
   "cell_type": "code",
   "execution_count": 1,
   "id": "11dd9cfb-50ed-41ac-be5b-ffe9108217c5",
   "metadata": {},
   "outputs": [
    {
     "name": "stdout",
     "output_type": "stream",
     "text": [
      "{'Ruby'}\n"
     ]
    }
   ],
   "source": [
    "palabras = {\"Python\", \"Java\", \"Ruby\", \"Django\", \"Docker\", \"C++\"}\n",
    "letra = \"R\"\n",
    "\n",
    "palabras_con_letra = set()\n",
    "for palabra in palabras:\n",
    "    if palabra.startswith(letra):  #o palabra[0]\n",
    "        palabras_con_letra.add(palabra) \n",
    "print(palabras_con_letra)"
   ]
  },
  {
   "cell_type": "markdown",
   "id": "c560f5eb-8fd0-42a6-8744-7ae924025a08",
   "metadata": {},
   "source": [
    "2. Dado un set de números enteros y un número objetivo, escribe un script que encuentre dos números en el set que sumen el número objetivo."
   ]
  },
  {
   "cell_type": "code",
   "execution_count": null,
   "id": "cb91d09c-79a1-4509-b497-0cc4ec6d9077",
   "metadata": {},
   "outputs": [],
   "source": [
    "numeros = {1, 8, 5, 7, 9}\n",
    "objetivo = 10\n",
    "\n",
    "complemento = None\n",
    "for num in numeros:\n",
    "    complemento = objetivo - num\n",
    "    if complemento in numeros:\n",
    "        print(f\"Número: {num} y su complementario: {complemento}\")\n",
    "    else:\n",
    "        print(f\"Número: {num} no tiene complementario\")"
   ]
  },
  {
   "cell_type": "code",
   "execution_count": null,
   "id": "b1109062-8118-4a4c-ab1b-d61604611434",
   "metadata": {},
   "outputs": [],
   "source": []
  }
 ],
 "metadata": {
  "kernelspec": {
   "display_name": "Python 3 (ipykernel)",
   "language": "python",
   "name": "python3"
  },
  "language_info": {
   "codemirror_mode": {
    "name": "ipython",
    "version": 3
   },
   "file_extension": ".py",
   "mimetype": "text/x-python",
   "name": "python",
   "nbconvert_exporter": "python",
   "pygments_lexer": "ipython3",
   "version": "3.9.7"
  }
 },
 "nbformat": 4,
 "nbformat_minor": 5
}
