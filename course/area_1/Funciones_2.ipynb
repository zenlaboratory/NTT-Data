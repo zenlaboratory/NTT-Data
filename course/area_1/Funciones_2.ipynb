{
 "cells": [
  {
   "cell_type": "markdown",
   "id": "11b15e48",
   "metadata": {},
   "source": [
    "### Return ###\n",
    "Muchas veces es necesario que la función __retorne__ datos al terminar de ejecutarse para poder usarlos en el resto del código (script), para retornar datos se puede hacer uso de la sentencia __return__ y asignar los valores a variables para poder usarlos."
   ]
  },
  {
   "cell_type": "code",
   "execution_count": 23,
   "id": "be9f4612-be79-419b-83b7-4f2a720bf8d0",
   "metadata": {
    "jp-MarkdownHeadingCollapsed": true,
    "tags": []
   },
   "outputs": [],
   "source": [
    "def sumar(x,y):\n",
    "    prueba = x + y\n",
    "    print(prueba)\n",
    "    return prueba\n",
    "\n",
    "def resta():\n",
    "    print(prueba)\n"
   ]
  },
  {
   "cell_type": "code",
   "execution_count": 24,
   "id": "607405de",
   "metadata": {},
   "outputs": [
    {
     "name": "stdout",
     "output_type": "stream",
     "text": [
      "6\n",
      "Resultado: 6\n"
     ]
    }
   ],
   "source": [
    "resultado = sumar(2,4)\n",
    "\n",
    "print(f\"Resultado: {resultado}\")"
   ]
  },
  {
   "cell_type": "code",
   "execution_count": 25,
   "id": "afcbabbc-a797-489e-8c2a-881aae01b652",
   "metadata": {},
   "outputs": [
    {
     "ename": "NameError",
     "evalue": "name 'prueba' is not defined",
     "output_type": "error",
     "traceback": [
      "\u001b[1;31m---------------------------------------------------------------------------\u001b[0m",
      "\u001b[1;31mNameError\u001b[0m                                 Traceback (most recent call last)",
      "\u001b[1;32mC:\\Users\\ROBERT~1.DON\\AppData\\Local\\Temp/ipykernel_23808/1436795143.py\u001b[0m in \u001b[0;36m<module>\u001b[1;34m\u001b[0m\n\u001b[1;32m----> 1\u001b[1;33m \u001b[0mresta\u001b[0m\u001b[1;33m(\u001b[0m\u001b[1;33m)\u001b[0m\u001b[1;33m\u001b[0m\u001b[1;33m\u001b[0m\u001b[0m\n\u001b[0m",
      "\u001b[1;32mC:\\Users\\ROBERT~1.DON\\AppData\\Local\\Temp/ipykernel_23808/3045876857.py\u001b[0m in \u001b[0;36mresta\u001b[1;34m()\u001b[0m\n\u001b[0;32m      5\u001b[0m \u001b[1;33m\u001b[0m\u001b[0m\n\u001b[0;32m      6\u001b[0m \u001b[1;32mdef\u001b[0m \u001b[0mresta\u001b[0m\u001b[1;33m(\u001b[0m\u001b[1;33m)\u001b[0m\u001b[1;33m:\u001b[0m\u001b[1;33m\u001b[0m\u001b[1;33m\u001b[0m\u001b[0m\n\u001b[1;32m----> 7\u001b[1;33m     \u001b[0mprint\u001b[0m\u001b[1;33m(\u001b[0m\u001b[0mprueba\u001b[0m\u001b[1;33m)\u001b[0m\u001b[1;33m\u001b[0m\u001b[1;33m\u001b[0m\u001b[0m\n\u001b[0m",
      "\u001b[1;31mNameError\u001b[0m: name 'prueba' is not defined"
     ]
    }
   ],
   "source": [
    "resta()"
   ]
  },
  {
   "cell_type": "markdown",
   "id": "4a21394c",
   "metadata": {},
   "source": [
    "Hay que tener en cuenta que, cuando la ejecución alcanza la sentencia return, la ejecución de la función finaliza automáticamente. Esto puede ser muy útil cuando queremos comprobar el argumento pasado y evitar que se procesen el resto de instrucciones innecesariamente.\n",
    "\n",
    "La sentencia return se usa en los métodos y funciones para finalizar y retornar valores a la ejecución que lo ejecutó. Esta sentencia que puede ser muy útil para un gran número de caso como cuando quiere recuperar el cálculo y tratamiento de datos, validaciones de datos, obtenciones de datos …."
   ]
  },
  {
   "cell_type": "code",
   "execution_count": 26,
   "id": "2038e242",
   "metadata": {},
   "outputs": [],
   "source": [
    "# La función del ejemplo comprueba si el número es mayor o igual que 10 y si es menor hace una cuenta atrás\n",
    "# desde el número hasta 0.\n",
    "\n",
    "def comprobar_numero(numero):\n",
    "        if numero >= 10:\n",
    "            return False\n",
    "        \n",
    "        for n in range(numero, 0, -1):\n",
    "            print(\"Contando:\", n)\n",
    "            \n",
    "        return True\n"
   ]
  },
  {
   "cell_type": "code",
   "execution_count": 33,
   "id": "9cb2dec1",
   "metadata": {},
   "outputs": [
    {
     "name": "stdout",
     "output_type": "stream",
     "text": [
      "El resultado es : False\n"
     ]
    }
   ],
   "source": [
    "resultado = comprobar_numero(15)\n",
    "print(f\"El resultado es : {resultado}\")"
   ]
  },
  {
   "cell_type": "code",
   "execution_count": 25,
   "id": "a7587cdb",
   "metadata": {},
   "outputs": [
    {
     "name": "stdout",
     "output_type": "stream",
     "text": [
      "Contando: 5\n",
      "Contando: 4\n",
      "Contando: 3\n",
      "Contando: 2\n",
      "Contando: 1\n",
      "El resultado es : True\n"
     ]
    }
   ],
   "source": [
    "resultado = comprobar_numero(5)\n",
    "print(f\"El resultado es : {resultado}\")"
   ]
  },
  {
   "cell_type": "markdown",
   "id": "20079c51",
   "metadata": {},
   "source": [
    "La sentencia return puede retornar todo tipo de datos como objetos, listas, variables... \n",
    "\n",
    "Además, return también __tiene la capacidad de devolver varios datos al mismo tiempo__. Solo tendremos que indicarle los datos que queremos que devuelva, separándolos por comas.\n"
   ]
  },
  {
   "cell_type": "code",
   "execution_count": 39,
   "id": "c44a59f5",
   "metadata": {},
   "outputs": [],
   "source": [
    "def funcion():\n",
    "    return True, 2350008"
   ]
  },
  {
   "cell_type": "code",
   "execution_count": 40,
   "id": "ff05c7f3",
   "metadata": {},
   "outputs": [
    {
     "name": "stdout",
     "output_type": "stream",
     "text": [
      "True\n",
      "2350008\n",
      "{'Éxito': True, 'Número': 2350008}\n"
     ]
    }
   ],
   "source": [
    "#Asignación a dos variables independientes\n",
    "var1, var2 = funcion()\n",
    "print(var1)\n",
    "print(var2)\n",
    "\n",
    "#Asignación a dos claves de un mismo diccionario\n",
    "diccionario={}\n",
    "diccionario[\"Éxito\"], diccionario[\"Número\"] = funcion()\n",
    "\n",
    "print(diccionario)"
   ]
  },
  {
   "cell_type": "markdown",
   "id": "a01ee6f4-0773-4683-a508-28f6639d403d",
   "metadata": {},
   "source": [
    "Sin esta capacidad del return, tendríamos que devolver, por ejemplo un diccionario, para tener ambos datos: "
   ]
  },
  {
   "cell_type": "code",
   "execution_count": 30,
   "id": "9df7e472-f749-4136-947a-d1d9cdda8625",
   "metadata": {},
   "outputs": [
    {
     "data": {
      "text/plain": [
       "{'Exitoso': True, 'Número': 234845645}"
      ]
     },
     "execution_count": 30,
     "metadata": {},
     "output_type": "execute_result"
    }
   ],
   "source": [
    "def funcion_dic():\n",
    "    diccionario_fun = {\"Exitoso\":True,\n",
    "                       \"Número\": 234845645\n",
    "                      }\n",
    "    return diccionario_fun\n",
    "\n",
    "resultado = funcion_dic()\n",
    "\n",
    "resultado"
   ]
  },
  {
   "cell_type": "markdown",
   "id": "deb5ff45",
   "metadata": {},
   "source": [
    "__Veamos una comparativa entre una función con RETURN y una función sin RETURN!__"
   ]
  },
  {
   "cell_type": "code",
   "execution_count": 32,
   "id": "7365c354",
   "metadata": {},
   "outputs": [],
   "source": [
    "# 1. FUNCIÓN SIN RETURN\n",
    "def suma(n1, n2, n3):\n",
    "    print(f\"La suma de los valores {n1}, {n2} y {n3} es {n1 + n2 + n3}\")"
   ]
  },
  {
   "cell_type": "code",
   "execution_count": 33,
   "id": "fe5b6136",
   "metadata": {},
   "outputs": [
    {
     "name": "stdout",
     "output_type": "stream",
     "text": [
      "La suma de los valores 3, 4 y 5 es 12\n"
     ]
    }
   ],
   "source": [
    "# Llamada a la función SIN RETURN. \n",
    "\n",
    "suma(3,4,5)"
   ]
  },
  {
   "cell_type": "code",
   "execution_count": 34,
   "id": "a260ada8",
   "metadata": {},
   "outputs": [],
   "source": [
    "# 2. FUNCIÓN CON RETURN\n",
    "def suma(n1, n2, n3):\n",
    "    suma = n1 + n2 + n3\n",
    "    return suma"
   ]
  },
  {
   "cell_type": "code",
   "execution_count": 35,
   "id": "895da57b",
   "metadata": {},
   "outputs": [
    {
     "name": "stdout",
     "output_type": "stream",
     "text": [
      "12 <class 'int'>\n"
     ]
    }
   ],
   "source": [
    "s = suma(3,4,5)\n",
    "print(s, type(s))"
   ]
  },
  {
   "cell_type": "code",
   "execution_count": 36,
   "id": "2d2499bc",
   "metadata": {},
   "outputs": [
    {
     "ename": "TypeError",
     "evalue": "suma() missing 1 required positional argument: 'n3'",
     "output_type": "error",
     "traceback": [
      "\u001b[1;31m---------------------------------------------------------------------------\u001b[0m",
      "\u001b[1;31mTypeError\u001b[0m                                 Traceback (most recent call last)",
      "Cell \u001b[1;32mIn[36], line 1\u001b[0m\n\u001b[1;32m----> 1\u001b[0m \u001b[43msuma\u001b[49m\u001b[43m(\u001b[49m\u001b[38;5;241;43m3\u001b[39;49m\u001b[43m,\u001b[49m\u001b[38;5;241;43m4\u001b[39;49m\u001b[43m)\u001b[49m\n",
      "\u001b[1;31mTypeError\u001b[0m: suma() missing 1 required positional argument: 'n3'"
     ]
    }
   ],
   "source": [
    "suma(3,4)"
   ]
  },
  {
   "cell_type": "code",
   "execution_count": 37,
   "id": "1c49d375",
   "metadata": {},
   "outputs": [],
   "source": [
    "# 3. FUNCIÓN CON RETURN\n",
    "def suma(n1, n2, n3):\n",
    "    return n1+n2+n3"
   ]
  },
  {
   "cell_type": "code",
   "execution_count": 38,
   "id": "3cac3dd3",
   "metadata": {},
   "outputs": [
    {
     "name": "stdout",
     "output_type": "stream",
     "text": [
      "12 <class 'int'>\n"
     ]
    }
   ],
   "source": [
    "t = suma(3,4,5)\n",
    "print(t, type(t))"
   ]
  },
  {
   "cell_type": "markdown",
   "id": "09f12dd8",
   "metadata": {},
   "source": [
    "### Recursividad ###\n",
    "La recursividad implica que las funciones pueden llamarse a sí mismas. Esto nos permite iterar utilizando la misma función hasta encontrar un resultado satisfactorio. Sin embargo, se debe tener cuidado al programar para no caer en un bucle infinito.\n",
    "La siguiente función una cuenta atrás desde x hasta 0, invocándose a sí misma cada vez. Terminada las iteraciones muestra un mensaje de fin.\n"
   ]
  },
  {
   "cell_type": "code",
   "execution_count": 39,
   "id": "d72f5846",
   "metadata": {},
   "outputs": [],
   "source": [
    "def funcion_recursiva(x):\n",
    "    if (x > 0):\n",
    "        print(\"Valor de x:\", x)\n",
    "        funcion_recursiva(x-1)\n",
    "    else:\n",
    "        print(\"Fin de las iteraciones\")\n",
    "        return"
   ]
  },
  {
   "cell_type": "code",
   "execution_count": 40,
   "id": "e29c8c05",
   "metadata": {},
   "outputs": [
    {
     "name": "stdout",
     "output_type": "stream",
     "text": [
      "Valor de x: 4\n",
      "Valor de x: 3\n",
      "Valor de x: 2\n",
      "Valor de x: 1\n",
      "Fin de las iteraciones\n"
     ]
    }
   ],
   "source": [
    "funcion_recursiva(4)"
   ]
  },
  {
   "cell_type": "markdown",
   "id": "2dda784b",
   "metadata": {},
   "source": [
    "### Ámbito de variables ###\n",
    "Es importante saber el ámbito de uso de las variables. Con ámbito nos referimos exactamente a dónde podemos operar con cada variable definida dentro y/o fuera de la función. ¡Es importante tener este concepto claro para saber qué variable declarar y dónde!\n",
    "\n",
    "1. Las variables declaradas__DENTRO__ de la función son variables __cuyo ámbito de aplicación es la propia función. Son variables LOCALES. NO podré usarlas fuera.__\n",
    "\n"
   ]
  },
  {
   "cell_type": "code",
   "execution_count": 41,
   "id": "cdcdb569",
   "metadata": {},
   "outputs": [],
   "source": [
    "# 1.7.8. Crea una función que calcule la media de los números que pasemos como parámetros y la muestre por pantalla.\n",
    "#        Ten en cuenta que podemos pasarle tantos números como queramos.\n",
    "\n",
    "# LAS VARIABLES DECLARADAS DENTRO SON LOCALES\n",
    "\n",
    "def media (*numeros):\n",
    "    suma = 0\n",
    "    for i in numeros:\n",
    "        suma = suma + i\n",
    "        e = i\n",
    "    return suma/len(numeros)\n"
   ]
  },
  {
   "cell_type": "code",
   "execution_count": 42,
   "id": "077aecb9",
   "metadata": {},
   "outputs": [],
   "source": [
    "med = media (2,3)"
   ]
  },
  {
   "cell_type": "code",
   "execution_count": 43,
   "id": "40fe7374",
   "metadata": {},
   "outputs": [
    {
     "name": "stdout",
     "output_type": "stream",
     "text": [
      "2.5\n"
     ]
    }
   ],
   "source": [
    "print(med)"
   ]
  },
  {
   "cell_type": "code",
   "execution_count": 45,
   "id": "6d055275",
   "metadata": {},
   "outputs": [
    {
     "ename": "NameError",
     "evalue": "name 'e' is not defined",
     "output_type": "error",
     "traceback": [
      "\u001b[1;31m---------------------------------------------------------------------------\u001b[0m",
      "\u001b[1;31mNameError\u001b[0m                                 Traceback (most recent call last)",
      "Cell \u001b[1;32mIn[45], line 2\u001b[0m\n\u001b[0;32m      1\u001b[0m \u001b[38;5;66;03m#Si intentamos imprimir la variable e, obtenemos un error.\u001b[39;00m\n\u001b[1;32m----> 2\u001b[0m \u001b[38;5;28mprint\u001b[39m(\u001b[43me\u001b[49m)\n",
      "\u001b[1;31mNameError\u001b[0m: name 'e' is not defined"
     ]
    }
   ],
   "source": [
    "#Si intentamos imprimir la variable e, obtenemos un error.\n",
    "print(e)"
   ]
  },
  {
   "cell_type": "markdown",
   "id": "94736edf",
   "metadata": {},
   "source": [
    "2. __Las variables declaradas FUERA que se hacen uso dentro y fuera de las funciones son variables globales.__\n",
    "\n",
    " ¿Cómo podría utilizarlas dentro?\n",
    "\n",
    "* Si necesito hacer procesos de modificación se hará uso de la sentencia __global__\n",
    "\n",
    "* Si las quiero utilizar como una constante (sin modificarlas) se podrá hacer uso de a ellas como cualquier otra variable."
   ]
  },
  {
   "cell_type": "code",
   "execution_count": 46,
   "id": "2edd3602",
   "metadata": {},
   "outputs": [],
   "source": [
    "# LAS VARIABLES SUMA DECLARADA FUERA DE LA FUNCIÓN. NECESITO USARLA DENTRO EN UN PROCESO DE ASIGNACIÓN\n",
    "\n",
    "suma = 10\n",
    "\n",
    "def media (*numeros):\n",
    "    global suma\n",
    "    for i in numeros:\n",
    "        suma = suma + i\n",
    "        e = i\n",
    "    return suma/len(numeros)"
   ]
  },
  {
   "cell_type": "code",
   "execution_count": 9,
   "id": "2b4390d6",
   "metadata": {},
   "outputs": [
    {
     "name": "stdout",
     "output_type": "stream",
     "text": [
      "7.5\n"
     ]
    }
   ],
   "source": [
    "med = media (2,3)\n",
    "print(med)"
   ]
  },
  {
   "cell_type": "code",
   "execution_count": 47,
   "id": "816f2e92",
   "metadata": {},
   "outputs": [],
   "source": [
    "# VARIABLE CON DECLARADA FUERA DE LA FUNCIÓN. NECESITO USARLA DENTRO COMO UNA CONSTANTE\n",
    "\n",
    "suma = 0\n",
    "con = 5\n",
    "\n",
    "def media (*numeros):\n",
    "    global suma\n",
    "    for i in numeros:\n",
    "        suma = suma + i\n",
    "    suma = suma * con\n",
    "    return suma/len(numeros)"
   ]
  },
  {
   "cell_type": "code",
   "execution_count": 48,
   "id": "81677a45",
   "metadata": {},
   "outputs": [
    {
     "name": "stdout",
     "output_type": "stream",
     "text": [
      "12.5\n"
     ]
    }
   ],
   "source": [
    "med = media (2,3)\n",
    "print(med)"
   ]
  },
  {
   "cell_type": "markdown",
   "id": "1ea1e3d1-41ec-44c0-a2ac-2f08d3209ea1",
   "metadata": {},
   "source": [
    "__Se recomienda no utilizar variables definidas fuera de la función, dentro de ella, ya que el objetivo de una función es que pueda funcionar de manera independiente, pudiendo llamarla desde diferentes scripts o archivos .py. Lo adecuado sería pasar su valor como parámetro a la función.__"
   ]
  },
  {
   "cell_type": "markdown",
   "id": "bc42ed73",
   "metadata": {},
   "source": [
    "## Ejercicios propuestos ##"
   ]
  },
  {
   "cell_type": "markdown",
   "id": "04955ca8",
   "metadata": {},
   "source": [
    "1. Escribe un programa que solicita al usuario el número de elementos de una lista. Cada elemento será el número entero \n",
    "desde 1 hasta el número introducido por el usuario.\n",
    "Genera un programa que, mediante una función, resuelva el ejercicio. Hazlo de dos maneras: con y sin return.\n"
   ]
  },
  {
   "cell_type": "code",
   "execution_count": null,
   "id": "2319fde1",
   "metadata": {},
   "outputs": [],
   "source": [
    "lista1 = []\n",
    "\n",
    "def lista_sin_return(numero):\n",
    "    for i in range(1,numero+1):\n",
    "        lista1.append(i)\n",
    "    print(\"El resultado es la siguiente lista: \", lista1)\n",
    "\n",
    "lista_sin_return(int(input(\"Introduce un número entero\")))"
   ]
  },
  {
   "cell_type": "code",
   "execution_count": null,
   "id": "97d470d5",
   "metadata": {},
   "outputs": [],
   "source": [
    "lista2 = []\n",
    "\n",
    "def lista_con_return(numero):\n",
    "    for i in range(1, numero+1):\n",
    "        lista2.append(i)\n",
    "    return lista2\n",
    "\n",
    "print(lista_con_return(int(input(\"Introduce un número entero\"))))"
   ]
  },
  {
   "cell_type": "code",
   "execution_count": null,
   "id": "6a5a8d44",
   "metadata": {},
   "outputs": [],
   "source": [
    "print(lista_con_return(5))"
   ]
  },
  {
   "cell_type": "code",
   "execution_count": null,
   "id": "9c327701",
   "metadata": {},
   "outputs": [],
   "source": [
    "resultado = lista_con_return(40)\n",
    "print(resultado, type(resultado))"
   ]
  },
  {
   "cell_type": "markdown",
   "id": "3edd3fb2",
   "metadata": {},
   "source": [
    "2. Escribe una función que reciba por parámetro 2 listas y que devuelva un booleano. \n",
    "La función devolverá TRUE si todos los elementos de la lista son de tipo entero. FALSE en caso contrario.\n",
    "Recuerda que tienes que hacer el ejercicio con y sin return"
   ]
  },
  {
   "cell_type": "code",
   "execution_count": 50,
   "id": "29fbd0cf",
   "metadata": {},
   "outputs": [],
   "source": [
    "def booleano1(lista1, lista2):\n",
    "    contador_entero = 0\n",
    "    lista1.extend(lista2)\n",
    "    for i in lista1:\n",
    "        if type(i) != int:\n",
    "            contador_entero = contador_entero + 1\n",
    "    print(True if contador_entero == 0 else False)"
   ]
  },
  {
   "cell_type": "code",
   "execution_count": 51,
   "id": "f040cf4f",
   "metadata": {},
   "outputs": [
    {
     "name": "stdout",
     "output_type": "stream",
     "text": [
      "True\n"
     ]
    }
   ],
   "source": [
    "booleano1([1,2,3,4,5], [9,5,6])"
   ]
  },
  {
   "cell_type": "code",
   "execution_count": 52,
   "id": "d560a892",
   "metadata": {},
   "outputs": [
    {
     "name": "stdout",
     "output_type": "stream",
     "text": [
      "False\n"
     ]
    }
   ],
   "source": [
    "booleano1([\"Alberto\",2,3,4,5], [9,5,6])"
   ]
  },
  {
   "cell_type": "code",
   "execution_count": 53,
   "id": "d9e93104",
   "metadata": {},
   "outputs": [],
   "source": [
    "def booleano2(lista1, lista2):\n",
    "    contador_entero = 0\n",
    "    lista1.extend(lista2)\n",
    "    for i in lista1:\n",
    "        if type(i) != int:\n",
    "            contador_entero = contador_entero + 1\n",
    "    return True if contador_entero == 0 else False"
   ]
  },
  {
   "cell_type": "code",
   "execution_count": 54,
   "id": "353efff2",
   "metadata": {},
   "outputs": [
    {
     "name": "stdout",
     "output_type": "stream",
     "text": [
      "True <class 'bool'>\n"
     ]
    }
   ],
   "source": [
    "x = booleano2([1,2,3,4,5], [9,5,6])\n",
    "print(x, type(x))"
   ]
  },
  {
   "cell_type": "markdown",
   "id": "dca70272",
   "metadata": {},
   "source": [
    "3. Escribe una función que, dado un número indeterminado de números, devuelva dos cosas: 1. La suma de los mismos. 2. El valor mayor.\n",
    "Recuerda escribirlo de dos formas, con y sin return"
   ]
  },
  {
   "cell_type": "code",
   "execution_count": 55,
   "id": "d70fcc90",
   "metadata": {},
   "outputs": [],
   "source": [
    "def dos_cosas1(*numeros):\n",
    "    suma=0\n",
    "    mayor = numeros[0]\n",
    "    for i in numeros:\n",
    "        suma=suma+i\n",
    "        if i > mayor:\n",
    "            mayor = i\n",
    "    print(f\"La suma de {numeros} es: {suma} y el valor mayor de {numeros} es {mayor}\")"
   ]
  },
  {
   "cell_type": "code",
   "execution_count": 56,
   "id": "21b7054d",
   "metadata": {},
   "outputs": [
    {
     "name": "stdout",
     "output_type": "stream",
     "text": [
      "La suma de (1, 2, 3, 4, 5) es: 15 y el valor mayor de (1, 2, 3, 4, 5) es 5\n",
      "La suma de (2, 8, 10, 19, 14) es: 53 y el valor mayor de (2, 8, 10, 19, 14) es 19\n"
     ]
    }
   ],
   "source": [
    "dos_cosas1(1,2,3,4,5)\n",
    "dos_cosas1(2,8,10,19,14)"
   ]
  },
  {
   "cell_type": "code",
   "execution_count": 57,
   "id": "5bb2d9b6",
   "metadata": {},
   "outputs": [],
   "source": [
    "def dos_cosas2(*numeros):\n",
    "    suma=0\n",
    "    mayor = numeros[0]\n",
    "    for i in numeros:\n",
    "        suma=suma+i\n",
    "        if i > mayor:\n",
    "            mayor = i\n",
    "    return suma, mayor"
   ]
  },
  {
   "cell_type": "code",
   "execution_count": null,
   "id": "6700f84e",
   "metadata": {},
   "outputs": [],
   "source": [
    "x, y = dos_cosas2(1,2,3,4,5)\n",
    "print(x,y)\n",
    "#¿Qué pasa si hago x = dos_cosas2(1,2,3,4,5)? Un único valor para dos cosas a devolver."
   ]
  },
  {
   "cell_type": "markdown",
   "id": "2e1afbd2",
   "metadata": {},
   "source": [
    "4. Escribir una función que reciba como parámetros otra función booleana y una lista\n",
    "La función que recibe por parámetro ha de ser otra función que evalúe si un número es par\n",
    "El resultado de la función principal ha de ser los elementos de la lista que la función secundaria devuelva como TRUE (pares)\n"
   ]
  },
  {
   "cell_type": "code",
   "execution_count": 58,
   "id": "6598992e",
   "metadata": {},
   "outputs": [],
   "source": [
    "def funcion_secundaria(numero):\n",
    "    if numero%2==0:\n",
    "        return True"
   ]
  },
  {
   "cell_type": "code",
   "execution_count": 59,
   "id": "4068b4c8",
   "metadata": {},
   "outputs": [],
   "source": [
    "def funcion_principal(funcion,lista):\n",
    "    lista_de_pares = []\n",
    "    for i in lista:\n",
    "        if funcion(i):\n",
    "            lista_de_pares.append(i)\n",
    "    return lista_de_pares"
   ]
  },
  {
   "cell_type": "code",
   "execution_count": 60,
   "id": "b492cb02",
   "metadata": {},
   "outputs": [
    {
     "name": "stdout",
     "output_type": "stream",
     "text": [
      "[2, 4, 6, 8] <class 'list'>\n"
     ]
    }
   ],
   "source": [
    "x = funcion_principal(funcion_secundaria, [1,2,3,4,5,6,7,8])\n",
    "print(x, type(x))"
   ]
  },
  {
   "cell_type": "markdown",
   "id": "a3a9f577-5faf-48db-8def-e6cd045ddce5",
   "metadata": {},
   "source": [
    "5. Crea un script que utilice los datos del servicio de de salud de San Francisco y que calcule el tiempo medio de respuesta \n",
    "\n",
    "https://data.sfgov.org/Health-and-Social-Services/Call-Center-Metrics-for-the-Health-Service-System/qz8r-q5ne"
   ]
  },
  {
   "cell_type": "code",
   "execution_count": 43,
   "id": "93b0e1f9-4db0-4ffe-a446-a5aa6e0c5b4a",
   "metadata": {},
   "outputs": [
    {
     "name": "stdout",
     "output_type": "stream",
     "text": [
      "El tiempo promedio de respuesta fue: 64 segundos\n"
     ]
    }
   ],
   "source": [
    "import urllib \n",
    "import json\n",
    "\n",
    "\n",
    "def calcular_tiempo_medio_respuesta(registros: list) -> float:\n",
    "    \"\"\"\n",
    "    Función que calcula el valor medio del campo average_speed_of_answer_in_secs\n",
    "\n",
    "    Parameters\n",
    "    ----------\n",
    "        registros : list\n",
    "            Lista de diccionarios con las métricas del servicio Call Center para cada mes.\n",
    "    \"\"\" \n",
    "    \n",
    "    suma_tiempo = 0 #Sumatorio del tiempo\n",
    "    n_registros = 0 #Número de registros que contienen el campo average_speed_of_answer_in_secs\n",
    "    \n",
    "    for reg in registros:\n",
    "        if \"average_speed_of_answer_in_secs\" in reg.keys(): # o \"average_speed_of_answer_in_secs\" in reg \n",
    "            \n",
    "            #Incrementamos el tiempo y el número de registros\n",
    "            suma_tiempo += int(reg[\"average_speed_of_answer_in_secs\"])\n",
    "            n_registros += 1\n",
    "    \n",
    "    #Devolvemos el resultado del calculo del tiempo promedio.\n",
    "    return (suma_tiempo / n_registros)\n",
    "\n",
    "\n",
    "#Petición\n",
    "http_request = urllib.request.urlopen(\"https://data.sfgov.org/resource/qz8r-q5ne.json\")\n",
    "\n",
    "#Leemos los datos de la url.\n",
    "datos = http_request.read()\n",
    "\n",
    "#conversión a json\n",
    "datos_json = json.loads(datos) \n",
    "\n",
    "\n",
    "\n",
    "#Calculo del tiempo medio. Redondeamos el resultado a segundos, sin decimales.\n",
    "tiempo_medio = calcular_tiempo_medio_respuesta(datos_json)\n",
    "print(f\"El tiempo promedio de respuesta fue: {tiempo_medio:.0f} segundos\")"
   ]
  },
  {
   "cell_type": "markdown",
   "id": "5de0371c-1a96-4646-819e-ae613e599a64",
   "metadata": {},
   "source": [
    "6. Hacer el mismo ejercicio anterior utilizando el fichero CSV que se puede descargar de la misma api. \n",
    "Nota: Si os fijáis en el nombre de los campos, veréis que en el json están en minúsculas y en el csv en mayúsculas."
   ]
  },
  {
   "cell_type": "code",
   "execution_count": 48,
   "id": "d78c22f4-5f99-4f79-8561-5e64e592116b",
   "metadata": {},
   "outputs": [
    {
     "name": "stdout",
     "output_type": "stream",
     "text": [
      "El tiempo medio de respuesta es: 64 segundos.\n",
      "El tiempo de ejecución ha sido: 0.0035653114318847656\n"
     ]
    }
   ],
   "source": [
    "import csv\n",
    "import numpy as np\n",
    "import time\n",
    "import pandas as pd\n",
    "\n",
    "def calcular_tiempo_medio_respuesta_csv(csv):\n",
    "    suma_tiempo = 0 #Sumatorio del tiempo\n",
    "    n_registros = 0 #Número de registros que contienen el campo Average Speed of Answer in Secs\n",
    "    \n",
    "    next(csv) # Saltamos la primera linea\n",
    "    \n",
    "    for linea in csv:\n",
    "        # Si el campo no está vacío y es un número\n",
    "        if pd.isnull(linea[2]) == False and (isinstance(linea[2],(int, float, np.number)) or linea[2].isnumeric()):\n",
    "        # if linea[2] not in [None,\"\", np.nan] and (isinstance(linea[2],(int, float, np.number)) or linea[2].isnumeric()):\n",
    "            #Incrementamos el tiempo y el número de registros\n",
    "            suma_tiempo += int(linea[2])\n",
    "            n_registros += 1\n",
    "    \n",
    "    #Devolvemos el resultado del calculo del tiempo promedio.\n",
    "    return (suma_tiempo / n_registros)\n",
    "\n",
    "\n",
    "# Medición del tiempo de ejecución de este método.\n",
    "inicio = time.time()\n",
    "\n",
    "# Abre el archivo CSV en modo lectura. Con newline decimos que no haga ninguna transformación cuando encuentre un salto de linea\n",
    "with open('Call_Center_Metrics_for_the_Health_Service_System_20240512.csv', newline='') as archivo_csv:\n",
    "    \n",
    "    # Crea un objeto lector CSV. Genera lista por linea\n",
    "    lector_csv = csv.reader(archivo_csv,'excel', delimiter=',')\n",
    "    #lector_csv = csv.DictReader(archivo_csv,'excel', delimiter=',')\n",
    "\n",
    "    # for linea in lector_csv:\n",
    "    #     print(linea[0])\n",
    "    tiempo_medio_respuesta = calcular_tiempo_medio_respuesta_csv(lector_csv)\n",
    "    print(f\"El tiempo medio de respuesta es: {tiempo_medio_respuesta:.0f} segundos.\")\n",
    "\n",
    "fin = time.time()\n",
    "print(f\"El tiempo de ejecución ha sido: {fin - inicio}\")"
   ]
  },
  {
   "cell_type": "code",
   "execution_count": 49,
   "id": "0080e297-c443-468f-bab6-45c96699c4e3",
   "metadata": {},
   "outputs": [
    {
     "name": "stdout",
     "output_type": "stream",
     "text": [
      "El tiempo medio de respuesta es: 64 segundos.\n",
      "El tiempo de ejecución ha sido: 0.0022268295288085938\n"
     ]
    }
   ],
   "source": [
    "# 2ª forma de hacerlo sin la librería csv\n",
    "\n",
    "import csv\n",
    "import numpy as np\n",
    "import time\n",
    "import pandas as pd\n",
    "\n",
    "def calcular_tiempo_medio_respuesta_csv(csv):\n",
    "    suma_tiempo = 0 #Sumatorio del tiempo\n",
    "    n_registros = 0 #Número de registros que contienen el campo Average Speed of Answer in Secs\n",
    "    \n",
    "    # print(csv)\n",
    "    for linea in csv:\n",
    "        linea = linea.split(\",\")\n",
    "        # Si el campo no está vacío y es un número\n",
    "        if linea[2] not in [None,\"\", np.nan] and (isinstance(linea[2],(int, float, np.number)) or linea[2].isnumeric()):\n",
    "            #Incrementamos el tiempo y el número de registros\n",
    "            suma_tiempo += int(linea[2])\n",
    "            n_registros += 1\n",
    "    \n",
    "    #Devolvemos el resultado del calculo del tiempo promedio.\n",
    "    return (suma_tiempo / n_registros)\n",
    "\n",
    "\n",
    "\n",
    "\n",
    "# Medición del tiempo de ejecución de este método.\n",
    "inicio = time.time()\n",
    "\n",
    "# Abre el archivo CSV en modo lectura. Con newline decimos que no haga ninguna transformación cuando encuentre un salto de linea\n",
    "with open('Call_Center_Metrics_for_the_Health_Service_System_20240512.csv', \"r\") as archivo_csv:\n",
    "    \n",
    "    # Podemos leer todas las lineas a la vez.\n",
    "    lineas = archivo_csv.readlines()\n",
    "    tiempo_medio_respuesta = calcular_tiempo_medio_respuesta_csv(lineas)\n",
    "    print(f\"El tiempo medio de respuesta es: {tiempo_medio_respuesta:.0f} segundos.\")    \n",
    "    \n",
    "\n",
    "fin = time.time()\n",
    "print(f\"El tiempo de ejecución ha sido: {fin - inicio}\")"
   ]
  },
  {
   "cell_type": "code",
   "execution_count": 116,
   "id": "5818a4b5-9048-48a0-af71-b101f7ae444c",
   "metadata": {},
   "outputs": [
    {
     "name": "stdout",
     "output_type": "stream",
     "text": [
      "El tiempo medio de respuesta es: 64 segundos.\n",
      "El tiempo de ejecución ha sido: 0.005320549011230469\n"
     ]
    }
   ],
   "source": [
    "# 3ª Forma leyendo el archivo linea a linea.\n",
    "\n",
    "import csv\n",
    "import numpy as np\n",
    "import time\n",
    "import pandas as pd\n",
    "\n",
    "\n",
    "\n",
    "\n",
    "# Medición del tiempo de ejecución de este método.\n",
    "inicio = time.time()\n",
    "\n",
    "# Abre el archivo CSV en modo lectura. Con newline decimos que no haga ninguna transformación cuando encuentre un salto de linea\n",
    "with open('Call_Center_Metrics_for_the_Health_Service_System_20240512.csv', \"r\") as archivo_csv:\n",
    "        \n",
    "    # Saltamos la primera linea, ya que es la cabecera.\n",
    "    next(archivo_csv)\n",
    "    \n",
    "    suma_tiempo = 0 #Sumatorio del tiempo\n",
    "    n_registros = 0 #Número de registros que contienen el campo Average Speed of Answer in Secs\n",
    "    \n",
    "    for linea in archivo_csv:\n",
    "        linea = linea.split(\",\")\n",
    "        # Si el campo no está vacío y es un número\n",
    "\n",
    "        if linea[2] not in [None,\"\", np.nan] and (isinstance(linea[2],(int, float, np.number)) or linea[2].isnumeric()):\n",
    "            #Incrementamos el tiempo y el número de registros\n",
    "            suma_tiempo += int(linea[2])\n",
    "            n_registros += 1\n",
    "\n",
    "    tiempo_medio_respuesta = suma_tiempo / n_registros\n",
    "    print(f\"El tiempo medio de respuesta es: {tiempo_medio_respuesta:.0f} segundos.\")  \n",
    "\n",
    "    \n",
    "fin = time.time()\n",
    "print(f\"El tiempo de ejecución ha sido: {fin - inicio}\")"
   ]
  },
  {
   "cell_type": "code",
   "execution_count": 143,
   "id": "e2e9be2c-0aa7-42af-8378-0c68fcabc576",
   "metadata": {},
   "outputs": [
    {
     "data": {
      "text/html": [
       "<div>\n",
       "<style scoped>\n",
       "    .dataframe tbody tr th:only-of-type {\n",
       "        vertical-align: middle;\n",
       "    }\n",
       "\n",
       "    .dataframe tbody tr th {\n",
       "        vertical-align: top;\n",
       "    }\n",
       "\n",
       "    .dataframe thead th {\n",
       "        text-align: right;\n",
       "    }\n",
       "</style>\n",
       "<table border=\"1\" class=\"dataframe\">\n",
       "  <thead>\n",
       "    <tr style=\"text-align: right;\">\n",
       "      <th></th>\n",
       "      <th>Month</th>\n",
       "      <th>Inbound Calls</th>\n",
       "      <th>Average Speed of Answer in Secs</th>\n",
       "      <th>Abandoned Calls</th>\n",
       "      <th>Call Abandonment Rate</th>\n",
       "      <th>In-person visits</th>\n",
       "    </tr>\n",
       "  </thead>\n",
       "  <tbody>\n",
       "    <tr>\n",
       "      <th>0</th>\n",
       "      <td>May 2023</td>\n",
       "      <td>3596</td>\n",
       "      <td>NaN</td>\n",
       "      <td>729.0</td>\n",
       "      <td>16.9</td>\n",
       "      <td>0</td>\n",
       "    </tr>\n",
       "    <tr>\n",
       "      <th>1</th>\n",
       "      <td>Apr 2023</td>\n",
       "      <td>3375</td>\n",
       "      <td>NaN</td>\n",
       "      <td>650.0</td>\n",
       "      <td>16.1</td>\n",
       "      <td>0</td>\n",
       "    </tr>\n",
       "    <tr>\n",
       "      <th>2</th>\n",
       "      <td>Mar 2023</td>\n",
       "      <td>4692</td>\n",
       "      <td>NaN</td>\n",
       "      <td>653.0</td>\n",
       "      <td>13.9</td>\n",
       "      <td>0</td>\n",
       "    </tr>\n",
       "    <tr>\n",
       "      <th>3</th>\n",
       "      <td>Feb 2023</td>\n",
       "      <td>2581</td>\n",
       "      <td>NaN</td>\n",
       "      <td>605.0</td>\n",
       "      <td>12.8</td>\n",
       "      <td>0</td>\n",
       "    </tr>\n",
       "    <tr>\n",
       "      <th>4</th>\n",
       "      <td>Jan 2023</td>\n",
       "      <td>2482</td>\n",
       "      <td>NaN</td>\n",
       "      <td>2091.0</td>\n",
       "      <td>25.0</td>\n",
       "      <td>0</td>\n",
       "    </tr>\n",
       "  </tbody>\n",
       "</table>\n",
       "</div>"
      ],
      "text/plain": [
       "      Month  Inbound Calls  Average Speed of Answer in Secs  Abandoned Calls  \\\n",
       "0  May 2023           3596                              NaN            729.0   \n",
       "1  Apr 2023           3375                              NaN            650.0   \n",
       "2  Mar 2023           4692                              NaN            653.0   \n",
       "3  Feb 2023           2581                              NaN            605.0   \n",
       "4  Jan 2023           2482                              NaN           2091.0   \n",
       "\n",
       "   Call Abandonment Rate  In-person visits  \n",
       "0                   16.9                 0  \n",
       "1                   16.1                 0  \n",
       "2                   13.9                 0  \n",
       "3                   12.8                 0  \n",
       "4                   25.0                 0  "
      ]
     },
     "execution_count": 143,
     "metadata": {},
     "output_type": "execute_result"
    }
   ],
   "source": [
    "# 4ª Forma cargándolo como un dataframe.\n",
    "\n",
    "import pandas as pd\n",
    "import time\n",
    "\n",
    "\n",
    "df = pd.read_csv('Call_Center_Metrics_for_the_Health_Service_System_20240512.csv')\n",
    "df.head()\n"
   ]
  },
  {
   "cell_type": "code",
   "execution_count": 145,
   "id": "ec5d0e8a-af42-4421-9746-1059b935e9d8",
   "metadata": {},
   "outputs": [
    {
     "name": "stdout",
     "output_type": "stream",
     "text": [
      "<class 'pandas.core.frame.DataFrame'>\n",
      "RangeIndex: 149 entries, 0 to 148\n",
      "Data columns (total 6 columns):\n",
      " #   Column                           Non-Null Count  Dtype  \n",
      "---  ------                           --------------  -----  \n",
      " 0   Month                            149 non-null    object \n",
      " 1   Inbound Calls                    149 non-null    int64  \n",
      " 2   Average Speed of Answer in Secs  139 non-null    float64\n",
      " 3   Abandoned Calls                  144 non-null    float64\n",
      " 4   Call Abandonment Rate            145 non-null    float64\n",
      " 5   In-person visits                 149 non-null    int64  \n",
      "dtypes: float64(3), int64(2), object(1)\n",
      "memory usage: 7.1+ KB\n"
     ]
    }
   ],
   "source": [
    "df.info()"
   ]
  },
  {
   "cell_type": "code",
   "execution_count": 144,
   "id": "cde126ab-2eed-4d40-b206-cda9f4b15936",
   "metadata": {},
   "outputs": [
    {
     "data": {
      "text/html": [
       "<div>\n",
       "<style scoped>\n",
       "    .dataframe tbody tr th:only-of-type {\n",
       "        vertical-align: middle;\n",
       "    }\n",
       "\n",
       "    .dataframe tbody tr th {\n",
       "        vertical-align: top;\n",
       "    }\n",
       "\n",
       "    .dataframe thead th {\n",
       "        text-align: right;\n",
       "    }\n",
       "</style>\n",
       "<table border=\"1\" class=\"dataframe\">\n",
       "  <thead>\n",
       "    <tr style=\"text-align: right;\">\n",
       "      <th></th>\n",
       "      <th>Inbound Calls</th>\n",
       "      <th>Average Speed of Answer in Secs</th>\n",
       "      <th>Abandoned Calls</th>\n",
       "      <th>Call Abandonment Rate</th>\n",
       "      <th>In-person visits</th>\n",
       "    </tr>\n",
       "  </thead>\n",
       "  <tbody>\n",
       "    <tr>\n",
       "      <th>count</th>\n",
       "      <td>149.000000</td>\n",
       "      <td>139.000000</td>\n",
       "      <td>144.000000</td>\n",
       "      <td>145.000000</td>\n",
       "      <td>149.000000</td>\n",
       "    </tr>\n",
       "    <tr>\n",
       "      <th>mean</th>\n",
       "      <td>4271.114094</td>\n",
       "      <td>63.956835</td>\n",
       "      <td>157.888889</td>\n",
       "      <td>2.826138</td>\n",
       "      <td>763.040268</td>\n",
       "    </tr>\n",
       "    <tr>\n",
       "      <th>std</th>\n",
       "      <td>1645.601289</td>\n",
       "      <td>296.739696</td>\n",
       "      <td>341.977469</td>\n",
       "      <td>5.176355</td>\n",
       "      <td>551.263939</td>\n",
       "    </tr>\n",
       "    <tr>\n",
       "      <th>min</th>\n",
       "      <td>1927.000000</td>\n",
       "      <td>7.000000</td>\n",
       "      <td>9.000000</td>\n",
       "      <td>0.000000</td>\n",
       "      <td>0.000000</td>\n",
       "    </tr>\n",
       "    <tr>\n",
       "      <th>25%</th>\n",
       "      <td>3331.000000</td>\n",
       "      <td>14.000000</td>\n",
       "      <td>34.000000</td>\n",
       "      <td>0.900000</td>\n",
       "      <td>0.000000</td>\n",
       "    </tr>\n",
       "    <tr>\n",
       "      <th>50%</th>\n",
       "      <td>3811.000000</td>\n",
       "      <td>20.000000</td>\n",
       "      <td>51.500000</td>\n",
       "      <td>1.300000</td>\n",
       "      <td>944.000000</td>\n",
       "    </tr>\n",
       "    <tr>\n",
       "      <th>75%</th>\n",
       "      <td>4626.000000</td>\n",
       "      <td>32.500000</td>\n",
       "      <td>120.000000</td>\n",
       "      <td>2.000000</td>\n",
       "      <td>1160.000000</td>\n",
       "    </tr>\n",
       "    <tr>\n",
       "      <th>max</th>\n",
       "      <td>11924.000000</td>\n",
       "      <td>3427.000000</td>\n",
       "      <td>2199.000000</td>\n",
       "      <td>41.300000</td>\n",
       "      <td>2158.000000</td>\n",
       "    </tr>\n",
       "  </tbody>\n",
       "</table>\n",
       "</div>"
      ],
      "text/plain": [
       "       Inbound Calls  Average Speed of Answer in Secs  Abandoned Calls  \\\n",
       "count     149.000000                       139.000000       144.000000   \n",
       "mean     4271.114094                        63.956835       157.888889   \n",
       "std      1645.601289                       296.739696       341.977469   \n",
       "min      1927.000000                         7.000000         9.000000   \n",
       "25%      3331.000000                        14.000000        34.000000   \n",
       "50%      3811.000000                        20.000000        51.500000   \n",
       "75%      4626.000000                        32.500000       120.000000   \n",
       "max     11924.000000                      3427.000000      2199.000000   \n",
       "\n",
       "       Call Abandonment Rate  In-person visits  \n",
       "count             145.000000        149.000000  \n",
       "mean                2.826138        763.040268  \n",
       "std                 5.176355        551.263939  \n",
       "min                 0.000000          0.000000  \n",
       "25%                 0.900000          0.000000  \n",
       "50%                 1.300000        944.000000  \n",
       "75%                 2.000000       1160.000000  \n",
       "max                41.300000       2158.000000  "
      ]
     },
     "execution_count": 144,
     "metadata": {},
     "output_type": "execute_result"
    }
   ],
   "source": [
    "df.describe()"
   ]
  },
  {
   "cell_type": "code",
   "execution_count": 140,
   "id": "194b055b-4c16-42aa-a0d7-248a0606302a",
   "metadata": {},
   "outputs": [
    {
     "name": "stdout",
     "output_type": "stream",
     "text": [
      "El tiempo medio de respuesta es: 64 segundos.\n"
     ]
    }
   ],
   "source": [
    "tiempo_medio_respuesta = df['Average Speed of Answer in Secs'].mean()\n",
    "print(f\"El tiempo medio de respuesta es: {tiempo_medio_respuesta:.0f} segundos.\")  "
   ]
  },
  {
   "cell_type": "code",
   "execution_count": 54,
   "id": "8eb3d32b-19f5-408f-a8d3-8e04ef3ad4e1",
   "metadata": {},
   "outputs": [
    {
     "name": "stdout",
     "output_type": "stream",
     "text": [
      "[3427.  583.  572.  196.   40.   78.   69.   47.   75.   39.  130.   44.\n",
      "   24.   38.   33.   24.   20.   18.   18.   51.  227.  116.   85.   94.\n",
      "   42.   33.   11.    8.   17.   14.   17.   27.   19.   28.   24.   22.\n",
      "   24.   14.   12.   20.   16.   19.   15.   21.   20.   28.   18.   14.\n",
      "   13.   11.   12.   11.   11.   10.   16.   29.   31.   73.   13.   13.\n",
      "   28.   32.   16.   14.   11.   16.   34.   77.   28.   31.   27.   16.\n",
      "   25.   31.   15.   14.   14.   15.   39.   20.   13.   28.   10.   10.\n",
      "    7.    9.    8.    8.    9.   10.   13.   14.   10.   10.    9.   12.\n",
      "   14.   12.   10.   12.   13.   16.   13.   49.   20.   18.   26.   15.\n",
      "   20.   20.   20.   20.   37.  106.  224.   80.   83.   28.   23.   24.\n",
      "   24.   14.   15.   21.   29.   21.   17.   22.   21.   18.   29.   44.\n",
      "   43.   62.   49.   29.   29.   18.   25.]\n",
      "El tiempo medio de respuesta es: 64 segundos.\n"
     ]
    }
   ],
   "source": [
    "# 5ª Forma, con Numpy\n",
    "\n",
    "import numpy as np\n",
    "import time\n",
    "\n",
    "\n",
    "# Medición del tiempo de ejecución de este método.\n",
    "inicio = time.time()\n",
    "\n",
    "csv = np.genfromtxt(r\"Call_Center_Metrics_for_the_Health_Service_System_20240512.csv\", delimiter=\",\", dtype=str, \n",
    "                    encoding=\"utf-8\", skip_header=1)\n",
    "\n",
    "\n",
    "# Nos quedamos con todos los datos de la columna tercera.\n",
    "vals_speed = csv[:,2]\n",
    "vals_speed = vals_speed[vals_speed != \"\"].astype(float)\n",
    "print(vals_speed)\n",
    "\n",
    "tiempo_medio_respuesta = np.mean(vals_speed)\n",
    "print(f\"El tiempo medio de respuesta es: {tiempo_medio_respuesta:.0f} segundos.\") "
   ]
  },
  {
   "cell_type": "markdown",
   "id": "00f14d14-be4e-4956-8a0d-ca1a1cd155cc",
   "metadata": {},
   "source": [
    "Existen otras librerías como __DASK__ (paralelización), __POLARS__ (similar a pandas pero afirma ofrecer mejor rendimiento) o __NUMBA__ (mejora el rendimiento) para realizar estas operaciones.  "
   ]
  },
  {
   "cell_type": "code",
   "execution_count": null,
   "id": "d8fdb55b-28b0-4194-ab1f-b7e4c467926f",
   "metadata": {},
   "outputs": [],
   "source": []
  }
 ],
 "metadata": {
  "kernelspec": {
   "display_name": "Python 3 (ipykernel)",
   "language": "python",
   "name": "python3"
  },
  "language_info": {
   "codemirror_mode": {
    "name": "ipython",
    "version": 3
   },
   "file_extension": ".py",
   "mimetype": "text/x-python",
   "name": "python",
   "nbconvert_exporter": "python",
   "pygments_lexer": "ipython3",
   "version": "3.9.7"
  }
 },
 "nbformat": 4,
 "nbformat_minor": 5
}
