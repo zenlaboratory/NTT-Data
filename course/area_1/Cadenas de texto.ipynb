{
 "cells": [
  {
   "cell_type": "markdown",
   "id": "6a28ac32",
   "metadata": {},
   "source": [
    "# Cadenas de Texto #\n",
    "\n",
    "\n",
    "Las cadenas de texto, strings en inglés, se identifican de manera que su contenido queda encerrado entre comillas simples 'texto' o comillas dobles \"texto\". Este texto queda definido como un dato de la clase str."
   ]
  },
  {
   "cell_type": "code",
   "execution_count": 1,
   "id": "dc6cf616",
   "metadata": {},
   "outputs": [
    {
     "name": "stdout",
     "output_type": "stream",
     "text": [
      "abc\n",
      "<class 'str'>\n",
      "abc\n",
      "<class 'str'>\n"
     ]
    }
   ],
   "source": [
    "texto1 = \"abc\"\n",
    "print(texto1)\n",
    "\n",
    "#tipo de dato\n",
    "print(type(texto1))\n",
    "\n",
    "#Texto con comillas simples.\n",
    "texto2 = 'abc'\n",
    "print(texto2)\n",
    "\n",
    "#tipo de dato\n",
    "print(type(texto2))"
   ]
  },
  {
   "cell_type": "markdown",
   "id": "1fc5195e",
   "metadata": {},
   "source": [
    "Como se ve, en ambos casos el resultado es idéntico. <br>\n",
    "\n",
    "Podríamos tener también un texto demasiado largo que queramos introducir en varias líneas. En este caso lo podríamos indicar encerrando el texto entre triples comillas, ya sean simples o dobles"
   ]
  },
  {
   "cell_type": "code",
   "execution_count": 6,
   "id": "e795612d",
   "metadata": {},
   "outputs": [
    {
     "name": "stdout",
     "output_type": "stream",
     "text": [
      "Lorem ipsum dolor sit amet,\n",
      "consectetur adipiscing elit,\n",
      "sed do eiusmod tempor incididunt\n",
      "ut labore et dolore magna aliqua.\n",
      "Lorem ipsum dolor sit amet,\n",
      "consectetur adipiscing elit,\n",
      "sed do eiusmod tempor incididunt\n",
      "ut labore et dolore magna aliqua.\n"
     ]
    }
   ],
   "source": [
    "parrafo1 = \"\"\"Lorem ipsum dolor sit amet,\n",
    "consectetur adipiscing elit,\n",
    "sed do eiusmod tempor incididunt\n",
    "ut labore et dolore magna aliqua.\"\"\"\n",
    "\n",
    "print(parrafo1)\n",
    "\n",
    "parrafo2 = '''Lorem ipsum dolor sit amet,\n",
    "consectetur adipiscing elit,\n",
    "sed do eiusmod tempor incididunt\n",
    "ut labore et dolore magna aliqua.'''\n",
    "\n",
    "print(parrafo2)"
   ]
  },
  {
   "cell_type": "markdown",
   "id": "ae18f1bb",
   "metadata": {},
   "source": [
    "Las cadenas de texto se asemejan en cierto modo a los arrays o listas, de tal forma que, por ejemplo, podemos acceder directamente a la posición de cualquier carácter a través de su índice o iterar a lo largo de la cadena de texto."
   ]
  },
  {
   "cell_type": "code",
   "execution_count": 3,
   "id": "8dff403b",
   "metadata": {},
   "outputs": [
    {
     "name": "stdout",
     "output_type": "stream",
     "text": [
      "x\n",
      "Iteración a lo largo de todo el texto:\n",
      "T\n",
      "e\n",
      "x\n",
      "t\n",
      "o\n",
      " \n",
      "d\n",
      "e\n",
      " \n",
      "e\n",
      "j\n",
      "e\n",
      "m\n",
      "p\n",
      "l\n",
      "o\n"
     ]
    }
   ],
   "source": [
    "texto = \"Texto de ejemplo\"\n",
    "\n",
    "#carácter situado en la tercera posición. (Ten en cuenta que la computadora empieza a contar desde 0).\n",
    "print(texto[2])\n",
    "\n",
    "print(\"Iteración a lo largo de todo el texto:\")\n",
    "#bucle for que itera a lo largo de todos los carácteres del texto.\n",
    "for letra in texto:\n",
    "    print(letra)"
   ]
  },
  {
   "cell_type": "markdown",
   "id": "cba91384",
   "metadata": {},
   "source": [
    "De igual forma también podemos quedarnos con ciertas partes del string, sustituirlas, transformarlas o concatenerlas."
   ]
  },
  {
   "cell_type": "code",
   "execution_count": 11,
   "id": "cedf321e-b1f8-40f9-bb5f-586f160b8b5e",
   "metadata": {},
   "outputs": [
    {
     "name": "stdout",
     "output_type": "stream",
     "text": [
      "    Otro texto    \n",
      "Otro texto\n"
     ]
    }
   ],
   "source": [
    "#o remover espacios en blanco al principio y al final\n",
    "texto_con_espacios = \"    Otro texto    \"\n",
    "print(texto_con_espacios)\n",
    "texto_nsp = texto_con_espacios.strip()\n",
    "print(texto_nsp)"
   ]
  },
  {
   "cell_type": "code",
   "execution_count": 32,
   "id": "d904fa44",
   "metadata": {
    "scrolled": true
   },
   "outputs": [
    {
     "name": "stdout",
     "output_type": "stream",
     "text": [
      "to d\n",
      "to de prueba\n",
      "ueba\n",
      "['Texto', 'de', 'prueba']\n",
      "Texto de Trueba\n",
      "TEXTO DE PRUEBA\n",
      "texto de prueba\n",
      "Texto de prueba\n",
      "    Otro texto    \n",
      "Otro texto\n"
     ]
    }
   ],
   "source": [
    "texto = \"Texto de prueba\"\n",
    "\n",
    "#Substring de la cadena de texto. Tomamos desde la posición 3 a la 7.\n",
    "substring = texto[3:7]\n",
    "print(substring)\n",
    "\n",
    "#Substring tomando desde la posición 3 hasta el final\n",
    "substring = texto[3:]\n",
    "print(substring)\n",
    "\n",
    "#Substring tomando las últimas 4 posiciones\n",
    "substring = texto[-4:]\n",
    "print(substring)\n",
    "\n",
    "#También podemos partir el string en función de un valor. En este caso queremos que la divida por los espacios en blanco.\n",
    "lista = texto.split(\" \")\n",
    "print(lista)\n",
    "\n",
    "#Reemplazo de caracteres. Aquí modificaremos la P por una t\n",
    "texto_reemplazado = texto.replace(\"p\", \"T\")\n",
    "print(texto_reemplazado)\n",
    "\n",
    "\n",
    "#Podemos pasar todas las letras a mayúsculas.\n",
    "texto_may = texto.upper()\n",
    "print(texto_may)\n",
    "\n",
    "#a minúsculas\n",
    "texto_min = texto.lower()\n",
    "print(texto_min)\n",
    "\n",
    "#Poner la primera en mayúsculas\n",
    "texto_cap = texto_min.capitalize()\n",
    "print(texto_cap)\n",
    "\n",
    "#o remover espacios en blanco al principio y al final\n",
    "texto_con_espacios = \"    Otro texto    \"\n",
    "print(texto_con_espacios)\n",
    "texto_nsp = texto_con_espacios.strip()\n",
    "print(texto_nsp)\n"
   ]
  },
  {
   "cell_type": "markdown",
   "id": "c2f8b301",
   "metadata": {},
   "source": [
    "Aunque puedan entenderse como listas, no podemos cambiar un elemento únicamente utilizando su indice. El siguiente ejemplo, si lo ejecutasemos daría error\n"
   ]
  },
  {
   "cell_type": "code",
   "execution_count": 22,
   "id": "ccfef802",
   "metadata": {},
   "outputs": [
    {
     "ename": "TypeError",
     "evalue": "'str' object does not support item assignment",
     "output_type": "error",
     "traceback": [
      "\u001b[1;31m---------------------------------------------------------------------------\u001b[0m",
      "\u001b[1;31mTypeError\u001b[0m                                 Traceback (most recent call last)",
      "\u001b[1;32m~\\AppData\\Local\\Temp\\ipykernel_11168\\2385521815.py\u001b[0m in \u001b[0;36m<module>\u001b[1;34m\u001b[0m\n\u001b[0;32m      2\u001b[0m \u001b[1;33m\u001b[0m\u001b[0m\n\u001b[0;32m      3\u001b[0m \u001b[1;31m#Sustitución de caracteres\u001b[0m\u001b[1;33m\u001b[0m\u001b[1;33m\u001b[0m\u001b[0m\n\u001b[1;32m----> 4\u001b[1;33m \u001b[0mtexto\u001b[0m\u001b[1;33m[\u001b[0m\u001b[1;36m9\u001b[0m\u001b[1;33m]\u001b[0m\u001b[1;33m=\u001b[0m\u001b[1;34m\"T\"\u001b[0m\u001b[1;33m\u001b[0m\u001b[1;33m\u001b[0m\u001b[0m\n\u001b[0m\u001b[0;32m      5\u001b[0m \u001b[0mprint\u001b[0m\u001b[1;33m(\u001b[0m\u001b[0mtexto\u001b[0m\u001b[1;33m)\u001b[0m\u001b[1;33m\u001b[0m\u001b[1;33m\u001b[0m\u001b[0m\n",
      "\u001b[1;31mTypeError\u001b[0m: 'str' object does not support item assignment"
     ]
    }
   ],
   "source": [
    "texto = \"Texto de prueba\"\n",
    "\n",
    "#Sustitución de caracteres\n",
    "texto[9]=\"T\"\n",
    "print(texto)"
   ]
  },
  {
   "cell_type": "markdown",
   "id": "3ef078fe",
   "metadata": {},
   "source": [
    "### Concatenación de strings ###\n",
    "\n",
    "La concatenación de las cadenas de texto se puede realizar de varías maneras. Podemos utilizar simplemente el operador \"+\" o el operador \",\". Ambos funcionan prácticamente igual, pero \",\" introduce un espacio en blanco en su posición. Por ejemplo:\n"
   ]
  },
  {
   "cell_type": "code",
   "execution_count": 1,
   "id": "4950bbcf",
   "metadata": {},
   "outputs": [
    {
     "name": "stdout",
     "output_type": "stream",
     "text": [
      "HolaBernardo¿Qué tal estás?\n",
      "Hola Bernardo ¿Qué tal estás?\n",
      "Hola Bernardo ¿Qué tal estás?\n"
     ]
    }
   ],
   "source": [
    "texto_1 = \"Hola\"\n",
    "texto_2 = \"Bernardo\"\n",
    "texto_3 = \"¿Qué tal estás?\"\n",
    "\n",
    "print(texto_1 + texto_2 + texto_3)\n",
    "#texto final utilizando el operador +\n",
    "print(texto_1 + \" \" + texto_2 + \" \" + texto_3)\n",
    "\n",
    "#texto final utilizando el operador ,\n",
    "print(texto_1 , texto_2 , texto_3)"
   ]
  },
  {
   "cell_type": "markdown",
   "id": "7b0c937f",
   "metadata": {},
   "source": [
    "Como ves la primera frase queda apelotonada, por lo que deberíamos haber incluído nosotros mismos los espacios en blanco. Podemos tanto combinar variables, como concatenar variables con texto."
   ]
  },
  {
   "cell_type": "code",
   "execution_count": 35,
   "id": "e80e96ae",
   "metadata": {},
   "outputs": [
    {
     "name": "stdout",
     "output_type": "stream",
     "text": [
      "Hola Bernardo\n"
     ]
    }
   ],
   "source": [
    "texto_1 = \"Hola\"\n",
    "texto_2 = \"Bernardo\"\n",
    "\n",
    "print(texto_1 + \" \" + texto_2)"
   ]
  },
  {
   "cell_type": "markdown",
   "id": "0ed79fef",
   "metadata": {},
   "source": [
    "También podemos añadir elementos a una variable con el operador incremental +="
   ]
  },
  {
   "cell_type": "code",
   "execution_count": 2,
   "id": "643f5d76",
   "metadata": {},
   "outputs": [
    {
     "name": "stdout",
     "output_type": "stream",
     "text": [
      "Una primera frase. Una segunda frase. La frase final.\n"
     ]
    }
   ],
   "source": [
    "texto_final = \"\"\n",
    "texto_final += \"Una primera frase. \"\n",
    "texto_final += \"Una segunda frase. \"\n",
    "texto_final += \"La frase final.\"\n",
    "\n",
    "print(texto_final)"
   ]
  },
  {
   "cell_type": "markdown",
   "id": "3c889c20",
   "metadata": {},
   "source": [
    "En el caso de querer concatenar cadenas de texto con número, será necesario transformar los números a texto mediante el método str() si utilizamos el operador \"+\". El operador \",\" no tiene esa limitación."
   ]
  },
  {
   "cell_type": "code",
   "execution_count": 3,
   "id": "699ce21f",
   "metadata": {},
   "outputs": [
    {
     "name": "stdout",
     "output_type": "stream",
     "text": [
      "Alberto tiene 23 años\n",
      "Alberto tiene 23 años\n"
     ]
    },
    {
     "ename": "TypeError",
     "evalue": "can only concatenate str (not \"int\") to str",
     "output_type": "error",
     "traceback": [
      "\u001b[1;31m---------------------------------------------------------------------------\u001b[0m",
      "\u001b[1;31mTypeError\u001b[0m                                 Traceback (most recent call last)",
      "\u001b[1;32mC:\\Users\\ROBERT~1.DON\\AppData\\Local\\Temp/ipykernel_21816/2004241398.py\u001b[0m in \u001b[0;36m<module>\u001b[1;34m\u001b[0m\n\u001b[0;32m      4\u001b[0m \u001b[1;33m\u001b[0m\u001b[0m\n\u001b[0;32m      5\u001b[0m \u001b[1;31m#esta última linea generará error.\u001b[0m\u001b[1;33m\u001b[0m\u001b[1;33m\u001b[0m\u001b[0m\n\u001b[1;32m----> 6\u001b[1;33m \u001b[0mprint\u001b[0m\u001b[1;33m(\u001b[0m\u001b[1;34m\"Alberto tiene \"\u001b[0m \u001b[1;33m+\u001b[0m \u001b[1;36m23\u001b[0m \u001b[1;33m+\u001b[0m \u001b[1;34m\" años\"\u001b[0m\u001b[1;33m)\u001b[0m\u001b[1;33m\u001b[0m\u001b[1;33m\u001b[0m\u001b[0m\n\u001b[0m",
      "\u001b[1;31mTypeError\u001b[0m: can only concatenate str (not \"int\") to str"
     ]
    }
   ],
   "source": [
    "print(\"Alberto tiene\", 23, \"años\")\n",
    "\n",
    "print(\"Alberto tiene \" + str(23) + \" años\")\n",
    "\n",
    "#esta última linea generará error.\n",
    "print(\"Alberto tiene \" + 23 + \" años\")"
   ]
  },
  {
   "cell_type": "markdown",
   "id": "30be3c95",
   "metadata": {},
   "source": [
    "Muchas veces ocurrirá que deseemos introducir el valor de la variable en un texto predifinido más complejo. Además de las formas anteriores, nos puede ser útil el uso de placeholders para evitar el uso de demasiadas comillas. Para ello, un método bastante habitual es poner la \"f\" de formato antes del inicio de la cadena de texto e introducir el nombre de las variables entre \"{}\". Sería análogo a utilizar el método format()"
   ]
  },
  {
   "cell_type": "code",
   "execution_count": 14,
   "id": "72c0363e",
   "metadata": {},
   "outputs": [
    {
     "name": "stdout",
     "output_type": "stream",
     "text": [
      "El precio de TV Samsung es 560.65 €\n",
      "560.65433\n",
      "El precio de TV Samsung es 560.65433 €\n"
     ]
    }
   ],
   "source": [
    "var1 = \"TV Samsung\"\n",
    "var2 = 560.65433\n",
    "\n",
    "#Con f\"\"\n",
    "print(f\"El precio de {var1} es {var2:.2f} €\")\n",
    "print(var2)\n",
    "\n",
    "#Con format()\n",
    "print(\"El precio de {} es {} €\".format(var1, var2))"
   ]
  },
  {
   "cell_type": "markdown",
   "id": "e0ab454c",
   "metadata": {},
   "source": [
    "También se puede usar la siguiente sintaxis para insertar datos, utilizando %s y al finalizar la frase utilizar % antes de indicar los datos a insertar."
   ]
  },
  {
   "cell_type": "code",
   "execution_count": 47,
   "id": "86f20f42",
   "metadata": {},
   "outputs": [
    {
     "name": "stdout",
     "output_type": "stream",
     "text": [
      "El precio de TV Samsung es 560 €\n"
     ]
    }
   ],
   "source": [
    "var1 = \"TV Samsung\"\n",
    "var2 = 560\n",
    "\n",
    "print(\"El precio de %s es %s €\" % (var1, var2))"
   ]
  },
  {
   "cell_type": "markdown",
   "id": "b34a7a30",
   "metadata": {},
   "source": [
    "### Caracteres especiales ###\n",
    "\n",
    "Muchas veces encontraremos que tenemos que tenemos textos con caracteres que no son válidos para una cadena de texto o que queramos que no los interprete como tal. Podemos escapar estos caracteres utilizando \"\\\\\". Por ejemplo:"
   ]
  },
  {
   "cell_type": "code",
   "execution_count": 18,
   "id": "07732861",
   "metadata": {},
   "outputs": [
    {
     "name": "stdout",
     "output_type": "stream",
     "text": [
      "Era más conocido como \"Billy el niño\".\n"
     ]
    }
   ],
   "source": [
    "print(\"Era más conocido como \\\"Billy el niño\\\".\")"
   ]
  },
  {
   "cell_type": "markdown",
   "id": "d51790f2",
   "metadata": {},
   "source": [
    "Como se ve, si no hubiésemos introducido el \"\\\\\" el intérprete habría entendido que la cadena de texto terminaba antes de Billy, generando un error al no encontrar la variable Billy ni tampoco un operador de concatenación. Otro caso muy habitual es cuando tenemos que indicar una ruta del directorio de Windows. En este caso podríamos introducir \"\\\\\" para escapar el \"\\\" o utilizar el r\"\", lo cual indica a python que lo tome en crudo (raw) y así no interprete los \"\\\\\". El siguiente código trataría de abrir un fichero existente."
   ]
  },
  {
   "cell_type": "code",
   "execution_count": 51,
   "id": "b9b937a3",
   "metadata": {},
   "outputs": [],
   "source": [
    "#utilizando backslash\n",
    "file  = open(\"c:\\\\data_science\\\\fichero.csv\", \"r\") #\"r\" significa abrir en modo lectura.\n",
    "\n",
    "#indicando que lo tome en crudo y no trate de interpretar la cadena de texto.\n",
    "file = open(r\"c:\\data_science\\fichero.csv\", \"r\")"
   ]
  },
  {
   "cell_type": "code",
   "execution_count": null,
   "id": "788dd50a",
   "metadata": {},
   "outputs": [],
   "source": []
  }
 ],
 "metadata": {
  "kernelspec": {
   "display_name": "Python 3 (ipykernel)",
   "language": "python",
   "name": "python3"
  },
  "language_info": {
   "codemirror_mode": {
    "name": "ipython",
    "version": 3
   },
   "file_extension": ".py",
   "mimetype": "text/x-python",
   "name": "python",
   "nbconvert_exporter": "python",
   "pygments_lexer": "ipython3",
   "version": "3.9.7"
  }
 },
 "nbformat": 4,
 "nbformat_minor": 5
}
