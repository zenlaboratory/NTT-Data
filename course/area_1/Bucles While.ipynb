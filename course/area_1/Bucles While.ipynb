{
 "cells": [
  {
   "cell_type": "markdown",
   "id": "3aa78d51",
   "metadata": {},
   "source": [
    "# Uso de Bucles en Python #\n",
    "\n",
    "\n",
    "Los bucles o (loops) son unos de los elementos más importantes en la programación. Nos permiten ejecutar operaciones de forma repetitiva hasta que se cumpla o ya no se cumpla una determinada condicición. Dentro de los bucles, se verán los más comunes como son While y For."
   ]
  },
  {
   "cell_type": "markdown",
   "id": "5f2fe77f",
   "metadata": {},
   "source": [
    "## Bucle While ##\n",
    "\n",
    "El bucle While ejecutará el código contenido en él hasta que se deje de cumplir la condición dada. Su estructura sería la siguiente:<br>\n",
    "\n",
    "while (condición):<br>\n",
    "&emsp;Instrucciones a ejecutar mientras se cumpla la condición<br>\n",
    "<br>\n",
    "Nótese que es necesario introducir algún elemento que haga que tras ciertas repeticiones consiga que se cumpla la condición. Si no, el bucle while no dejaría de ejecutarse jamás.<br>\n",
    "\n",
    "Las variables que aparecen en la condición, se suelen llamar variables de control. Estas variables de control deben definirse antes del bucle WHILE y modificarse durante él. \n",
    "\n",
    "En el siguiente ejemplo se muestra un simple bucle que terminará cuando el valor de i sea igual a 5."
   ]
  },
  {
   "cell_type": "code",
   "execution_count": 3,
   "id": "7d5871b1",
   "metadata": {},
   "outputs": [
    {
     "name": "stdout",
     "output_type": "stream",
     "text": [
      "El nuevo valor de i es: 1\n",
      "El nuevo valor de i es: 2\n",
      "El nuevo valor de i es: 3\n",
      "El nuevo valor de i es: 4\n",
      "El nuevo valor de i es: 5\n",
      "Programa terminado\n"
     ]
    }
   ],
   "source": [
    "i = 1 \n",
    "\n",
    "while i <= 5:\n",
    "    print(\"El nuevo valor de i es:\", i)\n",
    "    i = i + 1 #También podríamos haber escrito i += 1. Significa lo mismo\n",
    "print(\"Programa terminado\")"
   ]
  },
  {
   "cell_type": "code",
   "execution_count": 2,
   "id": "107c3368",
   "metadata": {},
   "outputs": [
    {
     "name": "stdout",
     "output_type": "stream",
     "text": [
      "El nuevo valor de i es: 1\n",
      "El nuevo valor de i es: 4\n",
      "El nuevo valor de i es: 13\n",
      "El nuevo valor de i es: 40\n",
      "Programa terminado\n"
     ]
    }
   ],
   "source": [
    "# Ventaja para modificar con flexibilidad las variables de control. \n",
    "# Por ejemplo, en vez de uno en uno, cada 3 veces i + 1\n",
    "\n",
    "i = 1 \n",
    "\n",
    "while (i <= 50):\n",
    "    print(\"El nuevo valor de i es:\", i)\n",
    "    i= 3 * i + 1\n",
    "print(\"Programa terminado\")"
   ]
  },
  {
   "cell_type": "markdown",
   "id": "3d852252-893c-40f3-ba75-127d97024b0a",
   "metadata": {},
   "source": [
    "El número de iteraciones no está definido antes de empezar el bucle, por ejemplo, porque los datos los proporcione el usuario por pantalla:"
   ]
  },
  {
   "cell_type": "code",
   "execution_count": 4,
   "id": "65f12dc8",
   "metadata": {},
   "outputs": [
    {
     "name": "stdin",
     "output_type": "stream",
     "text": [
      "Escriba un número positivo:  -2\n"
     ]
    },
    {
     "name": "stdout",
     "output_type": "stream",
     "text": [
      "¡Ha escrito un número negativo! Inténtelo de nuevo\n"
     ]
    },
    {
     "name": "stdin",
     "output_type": "stream",
     "text": [
      "Escriba un número positivo:  -5\n"
     ]
    },
    {
     "name": "stdout",
     "output_type": "stream",
     "text": [
      "¡Ha escrito un número negativo! Inténtelo de nuevo\n"
     ]
    },
    {
     "name": "stdin",
     "output_type": "stream",
     "text": [
      "Escriba un número positivo:  -3\n"
     ]
    },
    {
     "name": "stdout",
     "output_type": "stream",
     "text": [
      "¡Ha escrito un número negativo! Inténtelo de nuevo\n"
     ]
    },
    {
     "name": "stdin",
     "output_type": "stream",
     "text": [
      "Escriba un número positivo:  7\n"
     ]
    },
    {
     "name": "stdout",
     "output_type": "stream",
     "text": [
      "Gracias por su colaboración\n"
     ]
    }
   ],
   "source": [
    "numero = int(input(\"Escriba un número positivo: \"))\n",
    "\n",
    "while numero < 0:\n",
    "    print(\"¡Ha escrito un número negativo! Inténtelo de nuevo\")\n",
    "    numero = int(input(\"Escriba un número positivo: \"))\n",
    "    \n",
    "print(\"Gracias por su colaboración\")"
   ]
  },
  {
   "cell_type": "markdown",
   "id": "e44cab70",
   "metadata": {},
   "source": [
    "## Bucles infinitos ##\n",
    "Hay que tener cuidado pues, si la condición del bucle se cumple siempre, no terminará de ejecutarse nunca y tendremos lo que se denomina un bucle infinito.Estos deben evitarse a toda costa."
   ]
  },
  {
   "cell_type": "code",
   "execution_count": null,
   "id": "a0b63e0e",
   "metadata": {},
   "outputs": [],
   "source": [
    "# Condición siempre verdadera\n",
    "while True:\n",
    "    print(\"Forever…\")"
   ]
  },
  {
   "cell_type": "markdown",
   "id": "5ca7e9b9-ef0d-43ad-9107-ee645ce9fc1b",
   "metadata": {},
   "source": [
    "El programador ha olvidado modificar la variable de control dentro del bucle."
   ]
  },
  {
   "cell_type": "code",
   "execution_count": null,
   "id": "ba5c7b50",
   "metadata": {},
   "outputs": [],
   "source": [
    "i = 1\n",
    "while i <= 7:\n",
    "    print(i, end=\" \")"
   ]
  },
  {
   "cell_type": "markdown",
   "id": "e85307f8-f098-4852-88dd-713e70f4324a",
   "metadata": {},
   "source": [
    "¿Cómo resolveríamos el problema anterior?"
   ]
  },
  {
   "cell_type": "code",
   "execution_count": 20,
   "id": "e56ce779",
   "metadata": {},
   "outputs": [
    {
     "name": "stdout",
     "output_type": "stream",
     "text": [
      "1 2 3 4 5 6 7 "
     ]
    }
   ],
   "source": [
    "i = 1\n",
    "while i <= 7:\n",
    "    print(i, end=\" \")\n",
    "    i += 1"
   ]
  },
  {
   "cell_type": "markdown",
   "id": "c5a8c146-ffc9-4977-9b09-e3a70decdbb6",
   "metadata": {},
   "source": [
    "De nuevo, una condición que se cumplirá siempre"
   ]
  },
  {
   "cell_type": "code",
   "execution_count": null,
   "id": "79b41834",
   "metadata": {},
   "outputs": [],
   "source": [
    "i = 1\n",
    "while i != 100:\n",
    "    print(i, end=\" \")\n",
    "    i += 2"
   ]
  },
  {
   "cell_type": "markdown",
   "id": "b939078c",
   "metadata": {},
   "source": [
    "#### Break y continue ####\n",
    "\n",
    "También se puede salir del bucle sin esperar a que se ejecuten todas sus repeticiones, con la sentencia break. Esta sentencia se suele utilizar cuando tenemos una lista de elementos muy grandes y queremos que el bucle finalice cuando encontremos un elemento\n",
    "específico sin tener que mirar toda la lista. \n",
    "Por ejemplo, en el código el bucle terminará cuando en contador llegue a 4, en lugar de ejecutar las 100 iteraciones predefinidas."
   ]
  },
  {
   "cell_type": "code",
   "execution_count": 9,
   "id": "4a299871",
   "metadata": {},
   "outputs": [
    {
     "name": "stdout",
     "output_type": "stream",
     "text": [
      "El nuevo valor de i es: 1\n",
      "El nuevo valor de i es: 2\n",
      "El nuevo valor de i es: 3\n",
      "El nuevo valor de i es: 4\n",
      "Se va a salir del bucle\n"
     ]
    }
   ],
   "source": [
    "i = 1 \n",
    "\n",
    "while (i <= 100):\n",
    "    print(f\"El nuevo valor de i es: {i}\")\n",
    "    \n",
    "    if(i == 4):\n",
    "        print(\"Se va a salir del bucle\")\n",
    "        break\n",
    "        \n",
    "    i= i+1 "
   ]
  },
  {
   "cell_type": "code",
   "execution_count": 24,
   "id": "8173ffe0-3859-4cb3-94f5-4bf3e7b56015",
   "metadata": {},
   "outputs": [
    {
     "name": "stdin",
     "output_type": "stream",
     "text": [
      "Introducir palabra hola\n"
     ]
    },
    {
     "name": "stdout",
     "output_type": "stream",
     "text": [
      "Introduce otra palabra\n"
     ]
    },
    {
     "name": "stdin",
     "output_type": "stream",
     "text": [
      "Introducir palabra SALIR\n"
     ]
    },
    {
     "name": "stdout",
     "output_type": "stream",
     "text": [
      "salir\n"
     ]
    }
   ],
   "source": [
    "\n",
    "palabra = input(\"Introducir palabra\").lower()\n",
    "\n",
    "while (palabra != \"salir\"):\n",
    "    print(\"Introduce otra palabra\")\n",
    "    palabra = input(\"Introducir palabra\").lower()\n",
    "    print(palabra)"
   ]
  },
  {
   "cell_type": "markdown",
   "id": "22b761e8",
   "metadata": {},
   "source": [
    "Nótese que aunque este ejemplo es muy tonto, break puede jugar un papel importante cuando en una lista grandes de elementos encontramos el valor que estábamos buscando."
   ]
  },
  {
   "cell_type": "code",
   "execution_count": 25,
   "id": "479ab9be",
   "metadata": {},
   "outputs": [
    {
     "name": "stdout",
     "output_type": "stream",
     "text": [
      "1 2 3 4 5 6 7 8 9 10 11 12 13 14 15 16 17 18 19 20 "
     ]
    }
   ],
   "source": [
    "# Otro ejemplo con break\n",
    "i = 0\n",
    "\n",
    "while True:\n",
    "    i+=1\n",
    "    print(i, end=\" \")\n",
    "    \n",
    "    if i==20:\n",
    "        break"
   ]
  },
  {
   "cell_type": "markdown",
   "id": "8e913026",
   "metadata": {},
   "source": [
    "\n",
    "Otra sentencia a conocer es continue. Se diferencia de break en que continue no detiene el bucle, sino que pasa a la siguiente iteración o repetición del mismo sin esperar a que se ejecuten el resto de instrucciones. En el siguiente código se harán 8 iteraciones pero no sé mostrará el valor de i cuando i valga 4."
   ]
  },
  {
   "cell_type": "code",
   "execution_count": 11,
   "id": "302a0202",
   "metadata": {},
   "outputs": [
    {
     "name": "stdout",
     "output_type": "stream",
     "text": [
      "El valor de i es: 1\n",
      "El valor de i es: 2\n",
      "El valor de i es: 3\n",
      "El valor de i es: 5\n",
      "El valor de i es: 6\n",
      "El valor de i es: 7\n",
      "El valor de i es: 8\n",
      "El valor de i es: 9\n"
     ]
    }
   ],
   "source": [
    "i = 0 \n",
    "\n",
    "while (i <= 8):\n",
    "    i +=1\n",
    "    \n",
    "    if(i == 4):\n",
    "        continue\n",
    "        \n",
    "    print(f\"El valor de i es: {i}\")"
   ]
  },
  {
   "cell_type": "markdown",
   "id": "9136c746-73da-4bb9-a9ba-a2b48f769b55",
   "metadata": {},
   "source": [
    "#### Múltiples condiciones ####\n",
    "\n",
    "Al igual que en las sentencias If, podemos incluir varias condiciones a cumplir para detener el bucle. "
   ]
  },
  {
   "cell_type": "code",
   "execution_count": 26,
   "id": "edfbbc45-69a6-4db7-94ce-bf59a0a31ea3",
   "metadata": {},
   "outputs": [
    {
     "name": "stdout",
     "output_type": "stream",
     "text": [
      "El valor de i es: 2 suma 0\n",
      "El valor de i es: 4 suma 2\n",
      "El valor de i es: 6 suma 6\n",
      "El valor de i es: 8 suma 12\n",
      "El valor de i es: 10 suma 20\n",
      "El valor de i es: 12 suma 30\n",
      "El valor de i es: 14 suma 42\n",
      "El valor de i es: 16 suma 56\n",
      "El valor de i es: 18 suma 72\n",
      "El valor de i es: 20 suma 90\n",
      "El valor de i es: 22 suma 110\n",
      "El bucle ha terminado.\n"
     ]
    }
   ],
   "source": [
    "i = 0\n",
    "suma = 0\n",
    "\n",
    "while suma < 100 and i < 40:\n",
    "    suma += i\n",
    "    i += 2\n",
    "    print(f\"El valor de i es: {i} suma {suma}\")\n",
    "\n",
    "print(\"El bucle ha terminado.\")\n"
   ]
  },
  {
   "cell_type": "markdown",
   "id": "40a60dff-0fbb-413d-abf1-f5b8ac12c340",
   "metadata": {},
   "source": [
    "### Bucles While anidados ####\n",
    "\n",
    "Podemos anidar uno o varios bucles while dentro de otros. De tal forma que por cada iteración del primer bucle se ejecutarán todas las necesarias del bucle definido dentro de este."
   ]
  },
  {
   "cell_type": "code",
   "execution_count": 16,
   "id": "98d301ab-ecde-4f69-8a09-a11fd043ebe8",
   "metadata": {},
   "outputs": [
    {
     "name": "stdout",
     "output_type": "stream",
     "text": [
      "Valor de i: 1\n",
      "Valor de j: 1\n",
      "Valor de j: 2\n",
      "Valor de j: 3\n",
      "Valor de i: 2\n"
     ]
    }
   ],
   "source": [
    "i = 1\n",
    "j = 1\n",
    "\n",
    "while i <= 2:\n",
    "    print(f\"Valor de i: {i}\")\n",
    "    while j <= 3:\n",
    "        print(f\"Valor de j: {j}\")\n",
    "        j += 1\n",
    "    i += 1\n",
    "    j = 1"
   ]
  },
  {
   "cell_type": "markdown",
   "id": "b1a5166b",
   "metadata": {},
   "source": [
    "## Ejercicios propuestos ##"
   ]
  },
  {
   "cell_type": "markdown",
   "id": "93b9bad3",
   "metadata": {},
   "source": [
    "1. \tGenera un número aleatorio con la función random.random() \n",
    "    https://docs.python.org/3/library/random.html\n",
    "\n",
    "    a. Escribe un programa que imprima por pantalla el número mientras este sea menor que 1.\n",
    "    \n",
    "    b. ¿Cuántas iteraciones del bucle han sido necesarios?\n",
    "    \n",
    "        Observación: en cada iteración, has de actualizar el valor del número en 0.01   \n"
   ]
  },
  {
   "cell_type": "code",
   "execution_count": null,
   "id": "82c75770",
   "metadata": {},
   "outputs": [],
   "source": []
  },
  {
   "cell_type": "markdown",
   "id": "aa097c48",
   "metadata": {},
   "source": [
    "2.\tIntroduce por pantalla dos números enteros diferentes. Evalúa cuál de ellos es mayor y una vez localizado este, escribe un programa que incremente el valor del menor en 0.5 hasta que ambos números sean iguales."
   ]
  },
  {
   "cell_type": "code",
   "execution_count": null,
   "id": "58384e20",
   "metadata": {},
   "outputs": [],
   "source": []
  },
  {
   "cell_type": "markdown",
   "id": "6b04f822",
   "metadata": {},
   "source": [
    "3. La población aproximada de España a 1 de enero de 2022 es de 47.500.000 habitantes.\n",
    "\n",
    "    a. ¿Cuál será la población española en 2050 si, en un escenario positivo, se espera un crecimiento anual del 0,4%? \n",
    "\n",
    "    b. ¿Cuál será la población española en 2050 si, en un escenario estancado, se estima un crecimiento anual del 0,01%? \n",
    "\n",
    "    c. ¿Cuál será la población española en 2050 si, en un escenario negativo, se estima un decrecimiento anual del 0,2%? "
   ]
  },
  {
   "cell_type": "code",
   "execution_count": null,
   "id": "0b7e1e94",
   "metadata": {},
   "outputs": [],
   "source": []
  },
  {
   "cell_type": "markdown",
   "id": "53d73dcc",
   "metadata": {},
   "source": [
    "   d. La población de Chile a 1 de enero de 2022 es de 19.500.000 habitantes. Asumiendo que la tasa de crecimiento anual de Chile será del 1,5% anual. ¿En qué año superaría Chile la población de España en el escenario positivo para España?"
   ]
  },
  {
   "cell_type": "code",
   "execution_count": null,
   "id": "924d11ad",
   "metadata": {},
   "outputs": [],
   "source": []
  },
  {
   "cell_type": "code",
   "execution_count": null,
   "id": "1eb86988-2f5d-467b-a65a-c842c1453eaf",
   "metadata": {},
   "outputs": [],
   "source": []
  }
 ],
 "metadata": {
  "kernelspec": {
   "display_name": "Python 3 (ipykernel)",
   "language": "python",
   "name": "python3"
  },
  "language_info": {
   "codemirror_mode": {
    "name": "ipython",
    "version": 3
   },
   "file_extension": ".py",
   "mimetype": "text/x-python",
   "name": "python",
   "nbconvert_exporter": "python",
   "pygments_lexer": "ipython3",
   "version": "3.9.7"
  }
 },
 "nbformat": 4,
 "nbformat_minor": 5
}
