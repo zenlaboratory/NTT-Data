{
 "cells": [
  {
   "cell_type": "code",
   "execution_count": 1,
   "id": "5b87fa99-3892-49d1-bcd1-1164c5fdd602",
   "metadata": {},
   "outputs": [
    {
     "name": "stdout",
     "output_type": "stream",
     "text": [
      "[1, 2, 3]\n"
     ]
    }
   ],
   "source": [
    "lista = [1, 2, 3]\n",
    "print(lista)"
   ]
  },
  {
   "cell_type": "code",
   "execution_count": 5,
   "id": "0b85d4ff-433f-439b-b4f6-14621e9c348b",
   "metadata": {},
   "outputs": [],
   "source": [
    "lista[0], lista[2] = 5, 7"
   ]
  },
  {
   "cell_type": "code",
   "execution_count": 6,
   "id": "e5f1e6b5-f5b4-4127-8e79-4fa54647d493",
   "metadata": {},
   "outputs": [
    {
     "name": "stdout",
     "output_type": "stream",
     "text": [
      "[5, 2, 7]\n"
     ]
    }
   ],
   "source": [
    "print(lista)\n"
   ]
  },
  {
   "cell_type": "code",
   "execution_count": null,
   "id": "dd20eefa-c8ec-44d3-8cb9-7c37d5dc4bba",
   "metadata": {},
   "outputs": [],
   "source": []
  }
 ],
 "metadata": {
  "kernelspec": {
   "display_name": "Python 3 (ipykernel)",
   "language": "python",
   "name": "python3"
  },
  "language_info": {
   "codemirror_mode": {
    "name": "ipython",
    "version": 3
   },
   "file_extension": ".py",
   "mimetype": "text/x-python",
   "name": "python",
   "nbconvert_exporter": "python",
   "pygments_lexer": "ipython3",
   "version": "3.10.12"
  }
 },
 "nbformat": 4,
 "nbformat_minor": 5
}
