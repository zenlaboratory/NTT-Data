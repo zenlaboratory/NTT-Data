{
 "cells": [
  {
   "cell_type": "code",
   "execution_count": 1,
   "id": "5b87fa99-3892-49d1-bcd1-1164c5fdd602",
   "metadata": {},
   "outputs": [
    {
     "name": "stdout",
     "output_type": "stream",
     "text": [
      "[1, 2, 3]\n"
     ]
    }
   ],
   "source": [
    "lista = [1, 2, 3]\n",
    "print(lista)"
   ]
  },
  {
   "cell_type": "code",
   "execution_count": 5,
   "id": "0b85d4ff-433f-439b-b4f6-14621e9c348b",
   "metadata": {},
   "outputs": [],
   "source": [
    "lista[0], lista[2] = 5, 7"
   ]
  },
  {
   "cell_type": "code",
   "execution_count": 6,
   "id": "e5f1e6b5-f5b4-4127-8e79-4fa54647d493",
   "metadata": {},
   "outputs": [
    {
     "name": "stdout",
     "output_type": "stream",
     "text": [
      "[5, 2, 7]\n"
     ]
    }
   ],
   "source": [
    "print(lista)\n"
   ]
  },
  {
   "cell_type": "code",
   "execution_count": 1,
   "id": "dd20eefa-c8ec-44d3-8cb9-7c37d5dc4bba",
   "metadata": {},
   "outputs": [
    {
     "ename": "ModuleNotFoundError",
     "evalue": "No module named 'haversine'",
     "output_type": "error",
     "traceback": [
      "\u001b[0;31m---------------------------------------------------------------------------\u001b[0m",
      "\u001b[0;31mModuleNotFoundError\u001b[0m                       Traceback (most recent call last)",
      "Cell \u001b[0;32mIn[1], line 1\u001b[0m\n\u001b[0;32m----> 1\u001b[0m \u001b[38;5;28;01mfrom\u001b[39;00m \u001b[38;5;21;01mhaversine\u001b[39;00m \u001b[38;5;28;01mimport\u001b[39;00m haversine, Unit\n\u001b[1;32m      3\u001b[0m lyon \u001b[38;5;241m=\u001b[39m (\u001b[38;5;241m45.7597\u001b[39m, \u001b[38;5;241m4.8422\u001b[39m) \u001b[38;5;66;03m# (lat, lon)\u001b[39;00m\n\u001b[1;32m      4\u001b[0m paris \u001b[38;5;241m=\u001b[39m (\u001b[38;5;241m48.8567\u001b[39m, \u001b[38;5;241m2.3508\u001b[39m)\n",
      "\u001b[0;31mModuleNotFoundError\u001b[0m: No module named 'haversine'"
     ]
    }
   ],
   "source": [
    "from haversine import haversine, Unit\n",
    "\n",
    "lyon = (45.7597, 4.8422) # (lat, lon)\n",
    "paris = (48.8567, 2.3508)\n",
    "\n",
    "haversine(lyon, paris)"
   ]
  },
  {
   "cell_type": "code",
   "execution_count": null,
   "id": "17b7fa4c-b18c-4e7d-b5f6-29e803a4297c",
   "metadata": {},
   "outputs": [],
   "source": []
  }
 ],
 "metadata": {
  "kernelspec": {
   "display_name": "Python 3 (ipykernel)",
   "language": "python",
   "name": "python3"
  },
  "language_info": {
   "codemirror_mode": {
    "name": "ipython",
    "version": 3
   },
   "file_extension": ".py",
   "mimetype": "text/x-python",
   "name": "python",
   "nbconvert_exporter": "python",
   "pygments_lexer": "ipython3",
   "version": "3.10.12"
  }
 },
 "nbformat": 4,
 "nbformat_minor": 5
}
