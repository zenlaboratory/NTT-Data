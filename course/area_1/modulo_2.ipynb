{
 "cells": [
  {
   "cell_type": "code",
   "execution_count": 3,
   "id": "2c1d4d4f-939f-4865-90ee-75561cd7fabb",
   "metadata": {},
   "outputs": [
    {
     "name": "stdin",
     "output_type": "stream",
     "text": [
      "Cuál es tu edad:  21\n"
     ]
    },
    {
     "name": "stdout",
     "output_type": "stream",
     "text": [
      "Eres mayor de edad!\n"
     ]
    }
   ],
   "source": [
    "edad = int(input(\"Cuál es tu edad: \"))\n",
    "if (edad >= 18):\n",
    "    print(\"Eres mayor de edad!\")\n",
    "else:\n",
    "    print(\"Eres menor de edad!\")"
   ]
  },
  {
   "cell_type": "code",
   "execution_count": 13,
   "id": "13f5020d-708c-4800-8f86-39cdc65b78e3",
   "metadata": {},
   "outputs": [
    {
     "name": "stdin",
     "output_type": "stream",
     "text": [
      "Introduce un número positivo: 0\n"
     ]
    },
    {
     "name": "stdout",
     "output_type": "stream",
     "text": [
      "-1\n"
     ]
    }
   ],
   "source": [
    "resultado=-1\n",
    "\n",
    "numero=int(input(\"Introduce un número positivo:\"))\n",
    "\n",
    "while numero>0:\n",
    "\n",
    "   if numero>resultado:\n",
    "\n",
    "       resultado=numero\n",
    "\n",
    "   numero=int(input(\"Introduce un número positivo:\"))\n",
    "\n",
    "print(resultado)"
   ]
  },
  {
   "cell_type": "code",
   "execution_count": 14,
   "id": "880a9c4e-62e1-42b8-819a-60257bd037ba",
   "metadata": {},
   "outputs": [
    {
     "data": {
      "text/plain": [
       "5.666666666666667"
      ]
     },
     "execution_count": 14,
     "metadata": {},
     "output_type": "execute_result"
    }
   ],
   "source": [
    "(5+2/3)"
   ]
  },
  {
   "cell_type": "code",
   "execution_count": 15,
   "id": "b275817f-46c7-435f-bb89-2a9086cdf6e0",
   "metadata": {},
   "outputs": [
    {
     "data": {
      "text/plain": [
       "7.0"
      ]
     },
     "execution_count": 15,
     "metadata": {},
     "output_type": "execute_result"
    }
   ],
   "source": [
    "5+4/2\n"
   ]
  },
  {
   "cell_type": "code",
   "execution_count": 16,
   "id": "f3c81387-4e3c-4b31-aaf0-59cb855316dc",
   "metadata": {},
   "outputs": [
    {
     "name": "stdout",
     "output_type": "stream",
     "text": [
      "i vale 0 y j vale 0\n",
      "i vale 0 y j vale 1\n",
      "i vale 0 y j vale 2\n",
      "i vale 0 y j vale 3\n",
      "i vale 0 y j vale 4\n",
      "i vale 0 y j vale 5\n",
      "i vale 0 y j vale 6\n",
      "i vale 1 y j vale 0\n",
      "i vale 1 y j vale 1\n",
      "i vale 1 y j vale 2\n",
      "i vale 1 y j vale 3\n",
      "i vale 1 y j vale 4\n",
      "i vale 1 y j vale 5\n",
      "i vale 1 y j vale 6\n",
      "i vale 2 y j vale 0\n",
      "i vale 2 y j vale 1\n",
      "i vale 2 y j vale 2\n",
      "i vale 2 y j vale 3\n",
      "i vale 2 y j vale 4\n",
      "i vale 2 y j vale 5\n",
      "i vale 2 y j vale 6\n",
      "i vale 3 y j vale 0\n",
      "i vale 3 y j vale 1\n",
      "i vale 3 y j vale 2\n",
      "i vale 3 y j vale 3\n",
      "i vale 3 y j vale 4\n",
      "i vale 3 y j vale 5\n",
      "i vale 3 y j vale 6\n",
      "i vale 4 y j vale 0\n",
      "i vale 4 y j vale 1\n",
      "i vale 4 y j vale 2\n",
      "i vale 4 y j vale 3\n",
      "i vale 4 y j vale 4\n",
      "i vale 4 y j vale 5\n",
      "i vale 4 y j vale 6\n",
      "i vale 5 y j vale 0\n",
      "i vale 5 y j vale 1\n",
      "i vale 5 y j vale 2\n",
      "i vale 5 y j vale 3\n",
      "i vale 5 y j vale 4\n",
      "i vale 5 y j vale 5\n",
      "i vale 5 y j vale 6\n",
      "i vale 6 y j vale 0\n",
      "i vale 6 y j vale 1\n",
      "i vale 6 y j vale 2\n",
      "i vale 6 y j vale 3\n",
      "i vale 6 y j vale 4\n",
      "i vale 6 y j vale 5\n",
      "i vale 6 y j vale 6\n"
     ]
    }
   ],
   "source": [
    "i = 0\n",
    "\n",
    "while i != 3 + 2*4 / 2:\n",
    "\n",
    "    j = 0\n",
    "\n",
    "    while j != 3 + (2*4 / 2):\n",
    "\n",
    "        print(\"i vale\", i, \"y j vale\", j)\n",
    "\n",
    "        j += 1\n",
    "\n",
    "    i += 1"
   ]
  },
  {
   "cell_type": "code",
   "execution_count": null,
   "id": "4a9f7730-4fbc-4dde-8247-34b52f250f91",
   "metadata": {},
   "outputs": [],
   "source": []
  }
 ],
 "metadata": {
  "kernelspec": {
   "display_name": "Python 3 (ipykernel)",
   "language": "python",
   "name": "python3"
  },
  "language_info": {
   "codemirror_mode": {
    "name": "ipython",
    "version": 3
   },
   "file_extension": ".py",
   "mimetype": "text/x-python",
   "name": "python",
   "nbconvert_exporter": "python",
   "pygments_lexer": "ipython3",
   "version": "3.10.12"
  }
 },
 "nbformat": 4,
 "nbformat_minor": 5
}
