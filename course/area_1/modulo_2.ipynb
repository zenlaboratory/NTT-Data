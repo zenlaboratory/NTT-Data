{
 "cells": [
  {
   "cell_type": "code",
   "execution_count": 3,
   "id": "2c1d4d4f-939f-4865-90ee-75561cd7fabb",
   "metadata": {},
   "outputs": [
    {
     "name": "stdout",
     "output_type": "stream",
     "text": [
      "Cuál es tu edad:  21\n"
     ]
    },
    {
     "name": "stdout",
     "output_type": "stream",
     "text": [
      "Eres mayor de edad!\n"
     ]
    }
   ],
   "source": [
    "edad = int(input(\"Cuál es tu edad: \"))\n",
    "if (edad >= 18):\n",
    "    print(\"Eres mayor de edad!\")\n",
    "else:\n",
    "    print(\"Eres menor de edad!\")"
   ]
  },
  {
   "cell_type": "code",
   "execution_count": 1,
   "id": "c059db5e",
   "metadata": {},
   "outputs": [
    {
     "name": "stdin",
     "output_type": "stream",
     "text": [
      "Introduce un número entero:  4\n"
     ]
    },
    {
     "name": "stdout",
     "output_type": "stream",
     "text": [
      "Este número es par\n"
     ]
    }
   ],
   "source": [
    "# Solicitar un número entero al usuario\n",
    "numero = int(input(\"Introduce un número entero: \"))\n",
    "\n",
    "# Comprobar si el número es par o impar\n",
    "if numero % 2 == 0:\n",
    "    print(\"Este número es par\")\n",
    "else:\n",
    "    print(\"Este número es impar\")"
   ]
  },
  {
   "cell_type": "code",
   "execution_count": 1,
   "id": "13f5020d-708c-4800-8f86-39cdc65b78e3",
   "metadata": {},
   "outputs": [
    {
     "ename": "ValueError",
     "evalue": "invalid literal for int() with base 10: ''",
     "output_type": "error",
     "traceback": [
      "\u001b[0;31m---------------------------------------------------------------------------\u001b[0m",
      "\u001b[0;31mValueError\u001b[0m                                Traceback (most recent call last)",
      "Cell \u001b[0;32mIn[1], line 3\u001b[0m\n\u001b[1;32m      1\u001b[0m resultado\u001b[38;5;241m=\u001b[39m\u001b[38;5;241m-\u001b[39m\u001b[38;5;241m1\u001b[39m\n\u001b[0;32m----> 3\u001b[0m numero\u001b[38;5;241m=\u001b[39m\u001b[38;5;28;43mint\u001b[39;49m\u001b[43m(\u001b[49m\u001b[38;5;28;43minput\u001b[39;49m\u001b[43m(\u001b[49m\u001b[38;5;124;43m\"\u001b[39;49m\u001b[38;5;124;43mIntroduce un número positivo:\u001b[39;49m\u001b[38;5;124;43m\"\u001b[39;49m\u001b[43m)\u001b[49m\u001b[43m)\u001b[49m\n\u001b[1;32m      5\u001b[0m \u001b[38;5;28;01mwhile\u001b[39;00m numero\u001b[38;5;241m>\u001b[39m\u001b[38;5;241m0\u001b[39m:\n\u001b[1;32m      7\u001b[0m    \u001b[38;5;28;01mif\u001b[39;00m numero\u001b[38;5;241m>\u001b[39mresultado:\n",
      "\u001b[0;31mValueError\u001b[0m: invalid literal for int() with base 10: ''"
     ]
    }
   ],
   "source": [
    "resultado=-1\n",
    "\n",
    "numero=int(input(\"Introduce un número positivo:\"))\n",
    "\n",
    "while numero>0:\n",
    "\n",
    "   if numero>resultado:\n",
    "\n",
    "       resultado=numero\n",
    "\n",
    "   numero=int(input(\"Introduce un número positivo:\"))\n",
    "\n",
    "print(resultado)"
   ]
  },
  {
   "cell_type": "code",
   "execution_count": null,
   "id": "880a9c4e-62e1-42b8-819a-60257bd037ba",
   "metadata": {},
   "outputs": [
    {
     "data": {
      "text/plain": [
       "5.666666666666667"
      ]
     },
     "execution_count": 14,
     "metadata": {},
     "output_type": "execute_result"
    }
   ],
   "source": [
    "(5+2/3)"
   ]
  },
  {
   "cell_type": "code",
   "execution_count": null,
   "id": "b275817f-46c7-435f-bb89-2a9086cdf6e0",
   "metadata": {},
   "outputs": [
    {
     "data": {
      "text/plain": [
       "7.0"
      ]
     },
     "execution_count": 15,
     "metadata": {},
     "output_type": "execute_result"
    }
   ],
   "source": [
    "5+4/2\n"
   ]
  },
  {
   "cell_type": "code",
   "execution_count": null,
   "id": "f3c81387-4e3c-4b31-aaf0-59cb855316dc",
   "metadata": {},
   "outputs": [
    {
     "name": "stdout",
     "output_type": "stream",
     "text": [
      "i vale 0 y j vale 0\n",
      "i vale 0 y j vale 1\n",
      "i vale 0 y j vale 2\n",
      "i vale 0 y j vale 3\n",
      "i vale 0 y j vale 4\n",
      "i vale 0 y j vale 5\n",
      "i vale 0 y j vale 6\n",
      "i vale 1 y j vale 0\n",
      "i vale 1 y j vale 1\n",
      "i vale 1 y j vale 2\n",
      "i vale 1 y j vale 3\n",
      "i vale 1 y j vale 4\n",
      "i vale 1 y j vale 5\n",
      "i vale 1 y j vale 6\n",
      "i vale 2 y j vale 0\n",
      "i vale 2 y j vale 1\n",
      "i vale 2 y j vale 2\n",
      "i vale 2 y j vale 3\n",
      "i vale 2 y j vale 4\n",
      "i vale 2 y j vale 5\n",
      "i vale 2 y j vale 6\n",
      "i vale 3 y j vale 0\n",
      "i vale 3 y j vale 1\n",
      "i vale 3 y j vale 2\n",
      "i vale 3 y j vale 3\n",
      "i vale 3 y j vale 4\n",
      "i vale 3 y j vale 5\n",
      "i vale 3 y j vale 6\n",
      "i vale 4 y j vale 0\n",
      "i vale 4 y j vale 1\n",
      "i vale 4 y j vale 2\n",
      "i vale 4 y j vale 3\n",
      "i vale 4 y j vale 4\n",
      "i vale 4 y j vale 5\n",
      "i vale 4 y j vale 6\n",
      "i vale 5 y j vale 0\n",
      "i vale 5 y j vale 1\n",
      "i vale 5 y j vale 2\n",
      "i vale 5 y j vale 3\n",
      "i vale 5 y j vale 4\n",
      "i vale 5 y j vale 5\n",
      "i vale 5 y j vale 6\n",
      "i vale 6 y j vale 0\n",
      "i vale 6 y j vale 1\n",
      "i vale 6 y j vale 2\n",
      "i vale 6 y j vale 3\n",
      "i vale 6 y j vale 4\n",
      "i vale 6 y j vale 5\n",
      "i vale 6 y j vale 6\n"
     ]
    }
   ],
   "source": [
    "i = 0\n",
    "\n",
    "while i != 3 + 2*4 / 2:\n",
    "\n",
    "    j = 0\n",
    "\n",
    "    while j != 3 + (2*4 / 2):\n",
    "\n",
    "        print(\"i vale\", i, \"y j vale\", j)\n",
    "\n",
    "        j += 1\n",
    "\n",
    "    i += 1"
   ]
  },
  {
   "cell_type": "code",
   "execution_count": 5,
   "id": "4a9f7730-4fbc-4dde-8247-34b52f250f91",
   "metadata": {},
   "outputs": [
    {
     "name": "stdin",
     "output_type": "stream",
     "text": [
      "Introduce el numerador:  6\n",
      "Introduce el denominador:  0\n"
     ]
    },
    {
     "name": "stdout",
     "output_type": "stream",
     "text": [
      "Error: No se puede dividir por cero.\n"
     ]
    }
   ],
   "source": [
    "# Solicitar dos números enteros al usuario\n",
    "numerador = int(input(\"Introduce el numerador: \"))\n",
    "denominador = int(input(\"Introduce el denominador: \"))\n",
    "\n",
    "# Comprobar si el denominador es cero para evitar la división por cero\n",
    "if denominador == 0:\n",
    "    print(\"Error: No se puede dividir por cero.\")\n",
    "else:\n",
    "    # Realizar la división si el denominador no es cero\n",
    "    resultado = numerador / denominador\n",
    "    print(\"El resultado de la división es:\", resultado)"
   ]
  },
  {
   "cell_type": "code",
   "execution_count": 6,
   "id": "d89cf879-6cd4-4b7d-8b3d-e889e2cd78ca",
   "metadata": {},
   "outputs": [
    {
     "name": "stdin",
     "output_type": "stream",
     "text": [
      "Introduce el año en el que estamos:  2024\n",
      "Introduce un año cualquiera:  1900\n"
     ]
    },
    {
     "name": "stdout",
     "output_type": "stream",
     "text": [
      "Desde el año 1900 han pasado 124 años.\n"
     ]
    }
   ],
   "source": [
    "# Solicitar al usuario el año actual\n",
    "anio_actual = int(input(\"Introduce el año en el que estamos: \"))\n",
    "\n",
    "# Solicitar al usuario un año cualquiera\n",
    "anio_cualquiera = int(input(\"Introduce un año cualquiera: \"))\n",
    "\n",
    "# Comparar los años y proporcionar la respuesta adecuada\n",
    "if anio_actual < anio_cualquiera:\n",
    "    diferencia = anio_cualquiera - anio_actual\n",
    "    print(f\"Quedan {diferencia} años para llegar al año {anio_cualquiera}.\")\n",
    "elif anio_actual > anio_cualquiera:\n",
    "    diferencia = anio_actual - anio_cualquiera\n",
    "    print(f\"Desde el año {anio_cualquiera} han pasado {diferencia} años.\")\n",
    "else:\n",
    "    print(\"Ambos años son el mismo.\")"
   ]
  },
  {
   "cell_type": "code",
   "execution_count": 7,
   "id": "65f2457e-0652-4cf1-9547-b3807ce742d1",
   "metadata": {},
   "outputs": [
    {
     "name": "stdin",
     "output_type": "stream",
     "text": [
      "Introduce el primer nombre:  ana\n",
      "Introduce el segundo nombre:  ara\n"
     ]
    },
    {
     "name": "stdout",
     "output_type": "stream",
     "text": [
      "Ambos nombres comienzan y terminan por la misma letra\n"
     ]
    }
   ],
   "source": [
    "# Solicitar dos nombres al usuario\n",
    "nombre1 = input(\"Introduce el primer nombre: \")\n",
    "nombre2 = input(\"Introduce el segundo nombre: \")\n",
    "\n",
    "# Comprobar si los nombres comienzan y terminan con la misma letra\n",
    "comienzan_igual = nombre1[0].lower() == nombre2[0].lower()\n",
    "terminan_igual = nombre1[-1].lower() == nombre2[-1].lower()\n",
    "\n",
    "if comienzan_igual and terminan_igual:\n",
    "    print(\"Ambos nombres comienzan y terminan por la misma letra\")\n",
    "elif comienzan_igual:\n",
    "    print(\"Ambos nombres comienzan por la misma letra\")\n",
    "elif terminan_igual:\n",
    "    print(\"Ambos nombres terminan por la misma letra\")\n",
    "else:\n",
    "    print(\"Los nombres no coinciden\")"
   ]
  },
  {
   "cell_type": "code",
   "execution_count": 11,
   "id": "fb98b515-a830-4537-84e7-04ebc8868dcc",
   "metadata": {},
   "outputs": [
    {
     "name": "stdin",
     "output_type": "stream",
     "text": [
      "Introduce tu salario actual:  1200\n"
     ]
    },
    {
     "name": "stdout",
     "output_type": "stream",
     "text": [
      "Tu nuevo salario después del aumento es: 1320.00\n"
     ]
    }
   ],
   "source": [
    "# Solicitar al usuario su salario actual\n",
    "salario_actual = float(input(\"Introduce tu salario actual: \"))\n",
    "\n",
    "# Calcular el aumento según el rango del salario actual\n",
    "if salario_actual < 15000:\n",
    "    aumento = 0.10  # 10% de aumento\n",
    "elif salario_actual <= 20000:\n",
    "    aumento = 0.05  # 5% de aumento\n",
    "else:\n",
    "    aumento = 0.025  # 2.5% de aumento\n",
    "\n",
    "# Calcular el nuevo salario\n",
    "nuevo_salario = salario_actual * (1 + aumento)\n",
    "\n",
    "# Mostrar el nuevo salario\n",
    "print(f\"Tu nuevo salario después del aumento es: {nuevo_salario:.2f}\")"
   ]
  },
  {
   "cell_type": "code",
   "execution_count": 12,
   "id": "4eda34d5-d2dc-4f1f-90f3-50c876d0fd25",
   "metadata": {},
   "outputs": [
    {
     "name": "stdin",
     "output_type": "stream",
     "text": [
      "¿Cuál es tu pregunta? (Debe ser una pregunta que se pueda responder con sí o no):  es ano par\n"
     ]
    },
    {
     "name": "stdout",
     "output_type": "stream",
     "text": [
      "La bola mágica dice: No, definitivamente no.\n"
     ]
    }
   ],
   "source": [
    "import random\n",
    "\n",
    "def bola_magica():\n",
    "    respuestas = [\n",
    "        \"Sí, definitivamente sí.\",\n",
    "        \"Probablemente.\",\n",
    "        \"Sin duda alguna.\",\n",
    "        \"No lo sé, pregunta de nuevo.\",\n",
    "        \"Prueba más tarde.\",\n",
    "        \"Mejor que no lo sepas.\",\n",
    "        \"No, definitivamente no.\",\n",
    "        \"No pinta muy bien.\",\n",
    "        \"Tengo dudas al respecto.\"\n",
    "    ]\n",
    "    \n",
    "    # Solicitar al usuario que haga una pregunta\n",
    "    input(\"¿Cuál es tu pregunta? (Debe ser una pregunta que se pueda responder con sí o no): \")\n",
    "    \n",
    "    # Elegir una respuesta al azar\n",
    "    respuesta = random.choice(respuestas)\n",
    "    \n",
    "    # Mostrar la respuesta\n",
    "    print(\"La bola mágica dice:\", respuesta)\n",
    "\n",
    "# Llamar a la función para usar la bola mágica\n",
    "bola_magica()"
   ]
  },
  {
   "cell_type": "code",
   "execution_count": 13,
   "id": "eeee1605-0001-4607-bb92-90bf25baac44",
   "metadata": {},
   "outputs": [
    {
     "name": "stdin",
     "output_type": "stream",
     "text": [
      "Introduce tu código PIN:  4321\n",
      "El PIN es incorrecto. Inténtelo de nuevo:  1234\n"
     ]
    },
    {
     "name": "stdout",
     "output_type": "stream",
     "text": [
      "PIN aceptado\n"
     ]
    }
   ],
   "source": [
    "# Definir el código PIN correcto\n",
    "codigo_pin_correcto = \"1234\"\n",
    "\n",
    "# Solicitar al usuario que introduzca el código PIN\n",
    "codigo_pin = input(\"Introduce tu código PIN: \")\n",
    "\n",
    "# Comprobar si el código PIN introducido es incorrecto\n",
    "while codigo_pin != codigo_pin_correcto:\n",
    "    codigo_pin = input(\"El PIN es incorrecto. Inténtelo de nuevo: \")\n",
    "\n",
    "# Si el código PIN es correcto, mostrar mensaje de aceptación\n",
    "print(\"PIN aceptado\")\n"
   ]
  },
  {
   "cell_type": "code",
   "execution_count": 15,
   "id": "78606aa4-b8cc-4fa7-815b-72c00992e5a8",
   "metadata": {},
   "outputs": [
    {
     "name": "stdin",
     "output_type": "stream",
     "text": [
      "Introduce un número (0 para terminar):  3\n",
      "Introduce otro número (0 para terminar):  4\n",
      "Introduce otro número (0 para terminar):  6\n",
      "Introduce otro número (0 para terminar):  0\n"
     ]
    },
    {
     "name": "stdout",
     "output_type": "stream",
     "text": [
      "La suma de todos los números introducidos es: 13\n"
     ]
    }
   ],
   "source": [
    "suma = 0\n",
    "numero = int(input(\"Introduce un número (0 para terminar): \"))\n",
    "\n",
    "while numero != 0:\n",
    "    suma += numero\n",
    "    numero = int(input(\"Introduce otro número (0 para terminar): \"))\n",
    "\n",
    "print(\"La suma de todos los números introducidos es:\", suma)"
   ]
  },
  {
   "cell_type": "code",
   "execution_count": 16,
   "id": "3b95cfe4-82f5-4212-826d-bc67f96b8def",
   "metadata": {},
   "outputs": [
    {
     "name": "stdin",
     "output_type": "stream",
     "text": [
      "¿Cuánto dinero quieres ahorrar?  2000\n",
      "¿Cuánto dinero metes en la hucha?  100\n",
      "¿Cuánto dinero metes en la hucha?  1800\n",
      "¿Cuánto dinero metes en la hucha?  200\n"
     ]
    },
    {
     "name": "stdout",
     "output_type": "stream",
     "text": [
      "Genial, has conseguido llegar a tu objetivo y has ahorrado 2100.00\n"
     ]
    }
   ],
   "source": [
    "# Solicitar al usuario la cantidad de dinero que desea ahorrar\n",
    "objetivo_ahorro = float(input(\"¿Cuánto dinero quieres ahorrar? \"))\n",
    "\n",
    "# Inicializar la cantidad actual ahorrada\n",
    "ahorro_actual = 0.0\n",
    "\n",
    "# Solicitar al usuario que introduzca la cantidad que va a guardar en la hucha\n",
    "while ahorro_actual < objetivo_ahorro:\n",
    "    ahorro = float(input(\"¿Cuánto dinero metes en la hucha? \"))\n",
    "    ahorro_actual += ahorro\n",
    "\n",
    "# Cuando se alcanza o supera el objetivo, mostrar el mensaje de éxito\n",
    "print(f\"Genial, has conseguido llegar a tu objetivo y has ahorrado {ahorro_actual:.2f}\")"
   ]
  },
  {
   "cell_type": "code",
   "execution_count": 19,
   "id": "12030e59-86e1-46b0-a154-8f6861b8b7d2",
   "metadata": {},
   "outputs": [
    {
     "name": "stdin",
     "output_type": "stream",
     "text": [
      "Introduce un número positivo:  1234\n"
     ]
    },
    {
     "name": "stdout",
     "output_type": "stream",
     "text": [
      "La suma de todos los dígitos es: 10\n"
     ]
    }
   ],
   "source": [
    "# Solicitar un número positivo al usuario\n",
    "numero = input(\"Introduce un número positivo: \")\n",
    "\n",
    "# Convertir el número a entero y asegurarse de que es positivo\n",
    "numero = int(numero)\n",
    "if numero < 0:\n",
    "    print(\"El número no es positivo.\")\n",
    "else:\n",
    "    # Calcular la suma de los dígitos del número\n",
    "    suma_digitos = sum(int(digito) for digito in str(numero))\n",
    "    print(\"La suma de todos los dígitos es:\", suma_digitos)"
   ]
  },
  {
   "cell_type": "code",
   "execution_count": 20,
   "id": "d90e2b92-b446-4e67-a08b-242ec8ce3fe2",
   "metadata": {},
   "outputs": [
    {
     "name": "stdin",
     "output_type": "stream",
     "text": [
      "Introduce una palabra (escribe 'salir' para terminar):  qwerty\n"
     ]
    },
    {
     "name": "stdout",
     "output_type": "stream",
     "text": [
      "Has introducido: qwerty\n"
     ]
    },
    {
     "name": "stdin",
     "output_type": "stream",
     "text": [
      "Introduce otra palabra (escribe 'salir' para terminar):  salir\n"
     ]
    },
    {
     "name": "stdout",
     "output_type": "stream",
     "text": [
      "Programa terminado.\n"
     ]
    }
   ],
   "source": [
    "# Solicitar palabras hasta que el usuario escriba \"salir\"\n",
    "palabra = input(\"Introduce una palabra (escribe 'salir' para terminar): \")\n",
    "while palabra != \"salir\":\n",
    "    print(\"Has introducido:\", palabra)\n",
    "    palabra = input(\"Introduce otra palabra (escribe 'salir' para terminar): \")\n",
    "\n",
    "print(\"Programa terminado.\")"
   ]
  },
  {
   "cell_type": "code",
   "execution_count": 21,
   "id": "bc153bf3-8496-475c-ba00-7a573ef0819e",
   "metadata": {},
   "outputs": [
    {
     "name": "stdout",
     "output_type": "stream",
     "text": [
      "El cuadrado del número 0 es 0.\n",
      "El cuadrado del número 1 es 1.\n",
      "El cuadrado del número 2 es 4.\n",
      "El cuadrado del número 3 es 9.\n",
      "El cuadrado del número 4 es 16.\n",
      "El cuadrado del número 5 es 25.\n"
     ]
    }
   ],
   "source": [
    "for numero in range(6):\n",
    "    cuadrado = numero ** 2\n",
    "    print(f\"El cuadrado del número {numero} es {cuadrado}.\")"
   ]
  },
  {
   "cell_type": "code",
   "execution_count": 24,
   "id": "b79caeed-e7b8-47d0-8a1f-348fc84e51b5",
   "metadata": {},
   "outputs": [
    {
     "name": "stdin",
     "output_type": "stream",
     "text": [
      "Introduce un número mayor que cero:  12\n"
     ]
    },
    {
     "name": "stdout",
     "output_type": "stream",
     "text": [
      "Los divisores del número 12 son: 1 2 3 4 6 12\n"
     ]
    }
   ],
   "source": [
    "# Solicitar al usuario que introduzca un número positivo\n",
    "numero = int(input(\"Introduce un número mayor que cero: \"))\n",
    "\n",
    "# Verificar si el número es mayor que cero\n",
    "if numero <= 0:\n",
    "    print(\"El número no es mayor que cero.\")\n",
    "else:\n",
    "    # Calcular y mostrar los divisores del número\n",
    "    divisores = []\n",
    "    for i in range(1, numero + 1):\n",
    "        if numero % i == 0:\n",
    "            divisores.append(i)\n",
    "    print(f\"Los divisores del número {numero} son:\", ' '.join(map(str, divisores)))"
   ]
  },
  {
   "cell_type": "code",
   "execution_count": 25,
   "id": "95b7d84a-8aa2-4c8d-9e79-be37d6ae4fdc",
   "metadata": {},
   "outputs": [
    {
     "name": "stdin",
     "output_type": "stream",
     "text": [
      "Introduce una frase:  A quien madruga dios le ayuda\n",
      "Introduce una letra para contar su aparición:  a\n"
     ]
    },
    {
     "name": "stdout",
     "output_type": "stream",
     "text": [
      "La letra a aparece 4 veces en la frase: A quien madruga dios le ayuda\n"
     ]
    }
   ],
   "source": [
    "# Solicitar al usuario que introduzca una frase\n",
    "frase = input(\"Introduce una frase: \")\n",
    "\n",
    "# Solicitar al usuario que introduzca una letra\n",
    "letra = input(\"Introduce una letra para contar su aparición: \")\n",
    "\n",
    "# Contar las apariciones de la letra en la frase\n",
    "conteo = frase.count(letra)\n",
    "\n",
    "# Mostrar el resultado\n",
    "print(f\"La letra {letra} aparece {conteo} veces en la frase: {frase}\")"
   ]
  },
  {
   "cell_type": "code",
   "execution_count": 29,
   "id": "61a8ab23-9bb8-448c-9bec-0bd1736408a0",
   "metadata": {},
   "outputs": [
    {
     "name": "stdin",
     "output_type": "stream",
     "text": [
      "Introduce un número:  1\n",
      "Introduce otro número mayor que el anterior:  10\n"
     ]
    },
    {
     "name": "stdout",
     "output_type": "stream",
     "text": [
      "1\n",
      "3\n",
      "5\n",
      "7\n",
      "9\n"
     ]
    }
   ],
   "source": [
    "# Solicitar al usuario que introduzca dos números\n",
    "numero1 = int(input(\"Introduce un número: \"))\n",
    "numero2 = int(input(\"Introduce otro número mayor que el anterior: \"))\n",
    "\n",
    "# Verificar si el segundo número es mayor que el primero\n",
    "if numero2 <= numero1:\n",
    "    print(\"Error: El segundo número debe ser mayor que el primero.\")\n",
    "else:\n",
    "    # Mostrar los números saltando uno sí y uno no\n",
    "    for num in range(numero1, numero2 + 1, 2):\n",
    "        print(num)"
   ]
  },
  {
   "cell_type": "code",
   "execution_count": 30,
   "id": "d419def1-0f92-4227-90e0-3b84dbc27002",
   "metadata": {},
   "outputs": [
    {
     "name": "stdin",
     "output_type": "stream",
     "text": [
      "Introduce un número mayor que 2:  5\n"
     ]
    },
    {
     "name": "stdout",
     "output_type": "stream",
     "text": [
      "El número 5 es primo.\n"
     ]
    }
   ],
   "source": [
    "def es_primo_while(numero):\n",
    "    if numero <= 2:\n",
    "        return False\n",
    "    divisor = 2\n",
    "    while divisor <= numero ** 0.5:\n",
    "        if numero % divisor == 0:\n",
    "            return False\n",
    "        divisor += 1\n",
    "    return True\n",
    "\n",
    "# Solicitar número al usuario\n",
    "numero = int(input(\"Introduce un número mayor que 2: \"))\n",
    "if es_primo_while(numero):\n",
    "    print(f\"El número {numero} es primo.\")\n",
    "else:\n",
    "    print(f\"El número {numero} no es primo.\")"
   ]
  },
  {
   "cell_type": "code",
   "execution_count": 31,
   "id": "f207f521-325b-4bbf-9ebe-96967159fd0c",
   "metadata": {},
   "outputs": [
    {
     "name": "stdin",
     "output_type": "stream",
     "text": [
      "Introduce un número mayor que 2:  6\n"
     ]
    },
    {
     "name": "stdout",
     "output_type": "stream",
     "text": [
      "El número 6 no es primo.\n"
     ]
    }
   ],
   "source": [
    "def es_primo_for(numero):\n",
    "    if numero <= 2:\n",
    "        return False\n",
    "    for divisor in range(2, int(numero ** 0.5) + 1):\n",
    "        if numero % divisor == 0:\n",
    "            return False\n",
    "    return True\n",
    "\n",
    "# Solicitar número al usuario\n",
    "numero = int(input(\"Introduce un número mayor que 2: \"))\n",
    "if es_primo_for(numero):\n",
    "    print(f\"El número {numero} es primo.\")\n",
    "else:\n",
    "    print(f\"El número {numero} no es primo.\")"
   ]
  },
  {
   "cell_type": "code",
   "execution_count": 32,
   "id": "fdac552c-cc7f-4f5c-87f6-53490677faff",
   "metadata": {},
   "outputs": [
    {
     "name": "stdout",
     "output_type": "stream",
     "text": [
      "La fecha de hoy es: 2024-05-20\n"
     ]
    }
   ],
   "source": [
    "import datetime\n",
    "\n",
    "# Crear un objeto de fecha con la fecha de hoy\n",
    "fecha_hoy = datetime.date.today()\n",
    "\n",
    "# Mostrar la fecha de hoy\n",
    "print(\"La fecha de hoy es:\", fecha_hoy)"
   ]
  },
  {
   "cell_type": "code",
   "execution_count": 33,
   "id": "2a4cad65-1eea-4d30-a61c-78809ee16410",
   "metadata": {},
   "outputs": [
    {
     "name": "stdout",
     "output_type": "stream",
     "text": [
      "La fecha de hoy es: 2024-05-20\n"
     ]
    }
   ],
   "source": [
    "from datetime import date\n",
    "\n",
    "# Crear un objeto de fecha con la fecha de hoy\n",
    "fecha_hoy = date.today()\n",
    "\n",
    "# Mostrar la fecha de hoy\n",
    "print(\"La fecha de hoy es:\", fecha_hoy)"
   ]
  },
  {
   "cell_type": "code",
   "execution_count": 34,
   "id": "2910e5ff-ffb3-4b62-9f62-b8d5097dc1ce",
   "metadata": {},
   "outputs": [
    {
     "name": "stdout",
     "output_type": "stream",
     "text": [
      "La nueva fecha es: 2023-12-26\n"
     ]
    }
   ],
   "source": [
    "from datetime import date\n",
    "\n",
    "# Crear un objeto de fecha con la fecha dada (2023, 11, 25)\n",
    "fecha_dada = date(2023, 11, 25)\n",
    "\n",
    "# Sustituir la fecha por (2023, 12, 26) usando el método replace\n",
    "fecha_modificada = fecha_dada.replace(month=12, day=26)\n",
    "\n",
    "# Mostrar la nueva fecha\n",
    "print(\"La nueva fecha es:\", fecha_modificada)"
   ]
  },
  {
   "cell_type": "code",
   "execution_count": 36,
   "id": "4553d985-c014-4ced-b195-65a27124ccb1",
   "metadata": {},
   "outputs": [
    {
     "name": "stdout",
     "output_type": "stream",
     "text": [
      "0.37987184027127174\n"
     ]
    }
   ],
   "source": [
    "import random\n",
    "\n",
    "numero_decimal = random.random()\n",
    "print(numero_decimal)"
   ]
  },
  {
   "cell_type": "code",
   "execution_count": 37,
   "id": "50b2532f-b1a4-40f8-a9c0-b58fabc62588",
   "metadata": {},
   "outputs": [
    {
     "name": "stdout",
     "output_type": "stream",
     "text": [
      "5.609473845882171\n"
     ]
    }
   ],
   "source": [
    "import random\n",
    "numero_decimal = random.uniform(4, 6)\n",
    "print(numero_decimal)"
   ]
  },
  {
   "cell_type": "code",
   "execution_count": 38,
   "id": "0e85f32e-ee2f-4dd3-918d-32c9d55544f9",
   "metadata": {},
   "outputs": [
    {
     "name": "stdout",
     "output_type": "stream",
     "text": [
      "6\n"
     ]
    }
   ],
   "source": [
    "import random\n",
    "numero_entero = random.randint(4, 6)\n",
    "print(numero_entero)"
   ]
  },
  {
   "cell_type": "code",
   "execution_count": 39,
   "id": "dda0c4c5-622c-4d90-bd7f-201c785d6e3c",
   "metadata": {},
   "outputs": [
    {
     "name": "stdout",
     "output_type": "stream",
     "text": [
      "rojo\n",
      "verde\n",
      "amarillo\n",
      "azul\n",
      "blanco\n"
     ]
    }
   ],
   "source": [
    "def mostrar_colores():\n",
    "    colores = [\"rojo\", \"verde\", \"amarillo\", \"azul\", \"blanco\"]\n",
    "    for color in colores:\n",
    "        print(color)\n",
    "\n",
    "mostrar_colores()"
   ]
  },
  {
   "cell_type": "code",
   "execution_count": 40,
   "id": "d93dc586-a3f2-4aff-af71-517d104d6b01",
   "metadata": {},
   "outputs": [
    {
     "name": "stdout",
     "output_type": "stream",
     "text": [
      "verde\n"
     ]
    }
   ],
   "source": [
    "# Lista de colores\n",
    "colores = [\"rojo\", \"verde\", \"azul\", \"amarillo\"]\n",
    "\n",
    "# Imprimir el color verde\n",
    "print(colores[1])"
   ]
  },
  {
   "cell_type": "code",
   "execution_count": 41,
   "id": "11269e8d-459e-4942-97c4-ff0ea64529bc",
   "metadata": {},
   "outputs": [
    {
     "name": "stdout",
     "output_type": "stream",
     "text": [
      "[1, 2, 3, 4, 5, 6, 7, 8, 9, 10]\n"
     ]
    }
   ],
   "source": [
    "# Crear una lista con números del 1 al 10\n",
    "numeros = list(range(1, 11))\n",
    "\n",
    "# Mostrar la lista\n",
    "print(numeros)"
   ]
  },
  {
   "cell_type": "code",
   "execution_count": 42,
   "id": "d6914ca9-875e-4f34-b419-7022228d343c",
   "metadata": {},
   "outputs": [
    {
     "name": "stdin",
     "output_type": "stream",
     "text": [
      "Introduce un número:  10\n"
     ]
    },
    {
     "name": "stdout",
     "output_type": "stream",
     "text": [
      "[11, 12, 13, 14, 15, 16, 17, 18, 19, 20]\n"
     ]
    }
   ],
   "source": [
    "# Solicitar al usuario que introduzca un número\n",
    "numero_inicial = int(input(\"Introduce un número: \"))\n",
    "\n",
    "# Crear la lista con los 10 números siguientes\n",
    "lista_siguiente = [numero_inicial + i for i in range(1, 11)]\n",
    "\n",
    "# Mostrar la lista\n",
    "print(lista_siguiente)"
   ]
  },
  {
   "cell_type": "code",
   "execution_count": 43,
   "id": "e756d8a2-db51-4d53-8f70-0492dd420c29",
   "metadata": {},
   "outputs": [
    {
     "name": "stdin",
     "output_type": "stream",
     "text": [
      "¿Qué puntuación entre 1 y 10 le darías a El Padrino?  3\n",
      "¿Qué puntuación entre 1 y 10 le darías a Tiburón?  7\n",
      "¿Qué puntuación entre 1 y 10 le darías a Los Cazafantasmas?  5\n",
      "¿Qué puntuación entre 1 y 10 le darías a El Exorcista?  2\n",
      "¿Qué puntuación entre 1 y 10 le darías a Pulp Fiction?  8\n",
      "¿Qué puntuación entre 1 y 10 le darías a Star Wars?  9\n"
     ]
    },
    {
     "name": "stdout",
     "output_type": "stream",
     "text": [
      "Las películas aprobadas son:  Tiburón, Los Cazafantasmas, Pulp Fiction, Star Wars\n"
     ]
    }
   ],
   "source": [
    "def calificar_peliculas():\n",
    "    peliculas = [\"El Padrino\", \"Tiburón\", \"Los Cazafantasmas\", \"El Exorcista\", \"Pulp Fiction\", \"Star Wars\"]\n",
    "    calificaciones = {}\n",
    "\n",
    "    for pelicula in peliculas:\n",
    "        while True:\n",
    "            puntuacion = input(f\"¿Qué puntuación entre 1 y 10 le darías a {pelicula}? \")\n",
    "            try:\n",
    "                puntuacion = int(puntuacion)\n",
    "                if 1 <= puntuacion <= 10:\n",
    "                    calificaciones[pelicula] = puntuacion\n",
    "                    break\n",
    "                else:\n",
    "                    print(\"Por favor, introduce un número entre 1 y 10.\")\n",
    "            except ValueError:\n",
    "                print(\"Por favor, introduce un número válido.\")\n",
    "\n",
    "    peliculas_aprobadas = [pelicula for pelicula, puntuacion in calificaciones.items() if puntuacion >= 5]\n",
    "    print(\"Las películas aprobadas son: \", \", \".join(peliculas_aprobadas))\n",
    "\n",
    "calificar_peliculas()"
   ]
  },
  {
   "cell_type": "code",
   "execution_count": 44,
   "id": "dd9c4acd-9106-451f-9770-dfa194abfeb9",
   "metadata": {},
   "outputs": [
    {
     "name": "stdout",
     "output_type": "stream",
     "text": [
      "['rojo', 'verde', 'amarillo', 'azul', 'blanco', 'verde', 'rojo', 'rojo', 'verde', 'amarillo', 'azul', 'blanco']\n"
     ]
    }
   ],
   "source": [
    "def duplicar_unicos(lista):\n",
    "    # Contar la frecuencia de cada elemento\n",
    "    frecuencia = {}\n",
    "    for elemento in lista:\n",
    "        if elemento in frecuencia:\n",
    "            frecuencia[elemento] += 1\n",
    "        else:\n",
    "            frecuencia[elemento] = 1\n",
    "    \n",
    "    # Crear una copia de la lista original\n",
    "    resultado = lista.copy()\n",
    "    \n",
    "    # Añadir elementos que aparecen solo una vez\n",
    "    for elemento, cuenta in frecuencia.items():\n",
    "        if cuenta == 1:\n",
    "            resultado.append(elemento)\n",
    "    \n",
    "    return resultado\n",
    "\n",
    "# Lista de colores\n",
    "colores = ['rojo', 'verde', 'amarillo', 'azul', 'blanco', 'verde', 'rojo', 'rojo', 'verde']\n",
    "# Llamar a la función y mostrar el resultado\n",
    "resultado = duplicar_unicos(colores)\n",
    "print(resultado)"
   ]
  },
  {
   "cell_type": "code",
   "execution_count": 46,
   "id": "3f7dd715-e29d-4a6b-804a-86e23963928f",
   "metadata": {},
   "outputs": [
    {
     "name": "stdin",
     "output_type": "stream",
     "text": [
      "Introduce un color:  rojo\n"
     ]
    },
    {
     "name": "stdout",
     "output_type": "stream",
     "text": [
      "El color rojo está en la posición: 0\n"
     ]
    }
   ],
   "source": [
    "def encontrar_color():\n",
    "    # Lista de colores permitidos\n",
    "    colores = [\"rojo\", \"verde\", \"amarillo\", \"azul\", \"blanco\", \"negro\"]\n",
    "    \n",
    "    # Solicitar al usuario que introduzca un color\n",
    "    color_usuario = input(\"Introduce un color: \")\n",
    "    \n",
    "    # Verificar si el color está en la lista\n",
    "    if color_usuario in colores:\n",
    "        # Obtener la posición del color\n",
    "        posicion = colores.index(color_usuario)\n",
    "        print(f\"El color {color_usuario} está en la posición: {posicion}\")\n",
    "    else:\n",
    "        print(f\"El color {color_usuario} no está en la lista\")\n",
    "\n",
    "# Llamar a la función\n",
    "encontrar_color()"
   ]
  },
  {
   "cell_type": "code",
   "execution_count": 47,
   "id": "e9b5218e-9752-4a32-819c-20c33acd4d15",
   "metadata": {},
   "outputs": [
    {
     "name": "stdin",
     "output_type": "stream",
     "text": [
      "Introduce un número entre 1 y 30:  20\n"
     ]
    },
    {
     "name": "stdout",
     "output_type": "stream",
     "text": [
      "Lista actualizada: [1, 2, 3, 16, 18, 20, 21, 25]\n"
     ]
    }
   ],
   "source": [
    "def insertar_en_lista():\n",
    "    # Lista inicial\n",
    "    lista = [1, 2, 3, 16, 18, 21, 25]\n",
    "    \n",
    "    # Solicitar un número al usuario\n",
    "    numero = int(input(\"Introduce un número entre 1 y 30: \"))\n",
    "    \n",
    "    # Verificar que el número esté en el rango permitido\n",
    "    if 1 <= numero <= 30:\n",
    "        # Comprobar si el número ya está en la lista\n",
    "        if numero in lista:\n",
    "            print(f\"El número {numero} ya está en la lista.\")\n",
    "        else:\n",
    "            # Insertar el número en la lista manteniendo el orden\n",
    "            lista.append(numero)\n",
    "            lista.sort()\n",
    "            print(\"Lista actualizada:\", lista)\n",
    "    else:\n",
    "        print(\"El número debe estar entre 1 y 30.\")\n",
    "\n",
    "# Llamar a la función\n",
    "insertar_en_lista()"
   ]
  },
  {
   "cell_type": "code",
   "execution_count": 48,
   "id": "53c9dbee-8cff-4092-8fb9-ef63dfb6f874",
   "metadata": {},
   "outputs": [
    {
     "name": "stdin",
     "output_type": "stream",
     "text": [
      "Introduce la posición del mes (1-12):  5\n"
     ]
    },
    {
     "name": "stdout",
     "output_type": "stream",
     "text": [
      "El mes en la posición 5 es Mayo\n"
     ]
    }
   ],
   "source": [
    "def obtener_mes():\n",
    "    meses = (\"Enero\", \"Febrero\", \"Marzo\", \"Abril\", \"Mayo\", \"Junio\", \n",
    "             \"Julio\", \"Agosto\", \"Septiembre\", \"Octubre\", \"Noviembre\", \"Diciembre\")\n",
    "    \n",
    "    # Solicitar al usuario que introduzca la posición del mes\n",
    "    posicion = int(input(\"Introduce la posición del mes (1-12): \")) - 1\n",
    "    \n",
    "    # Verificar que la posición es válida\n",
    "    if 0 <= posicion < 12:\n",
    "        print(f\"El mes en la posición {posicion + 1} es {meses[posicion]}\")\n",
    "    else:\n",
    "        print(\"Posición inválida. Por favor, introduce un número entre 1 y 12.\")\n",
    "\n",
    "# Llamar a la función\n",
    "obtener_mes()"
   ]
  },
  {
   "cell_type": "code",
   "execution_count": 50,
   "id": "b6054ba0-408e-4b5d-bf06-20a974f8d379",
   "metadata": {},
   "outputs": [
    {
     "name": "stdin",
     "output_type": "stream",
     "text": [
      "Introduce un número para saber cuántas veces aparece en la tupla:  2\n"
     ]
    },
    {
     "name": "stdout",
     "output_type": "stream",
     "text": [
      "El número 2 aparece 0 veces en la tupla.\n"
     ]
    }
   ],
   "source": [
    "def contar_ocurrencias():\n",
    "    numeros = (5, 6, 4, 8, 19, 0, 4, 6, 6, 5, 4, 8, 3, 5, 6, 0)\n",
    "    numero_usuario = int(input(\"Introduce un número para saber cuántas veces aparece en la tupla: \"))\n",
    "    conteo = numeros.count(numero_usuario)\n",
    "    print(f\"El número {numero_usuario} aparece {conteo} veces en la tupla.\")\n",
    "\n",
    "contar_ocurrencias()"
   ]
  },
  {
   "cell_type": "code",
   "execution_count": 51,
   "id": "24ebc945-c055-4d4d-aa46-e4996c246c7c",
   "metadata": {},
   "outputs": [
    {
     "name": "stdout",
     "output_type": "stream",
     "text": [
      "{'c', 'e', 'n', 't', 'y', 'E', 'u', 'o', 'm', 's'}\n"
     ]
    }
   ],
   "source": [
    "frase = \"Estoy muy contento\"\n",
    "conjunto_letras = set(frase.replace(\" \", \"\"))  # Eliminamos los espacios antes de crear el conjunto\n",
    "print(conjunto_letras)"
   ]
  },
  {
   "cell_type": "code",
   "execution_count": 54,
   "id": "24a250e3-a335-47b6-9cca-14a5bd302d80",
   "metadata": {},
   "outputs": [
    {
     "name": "stdin",
     "output_type": "stream",
     "text": [
      "Introduce un número:  7\n"
     ]
    },
    {
     "name": "stdout",
     "output_type": "stream",
     "text": [
      "El conjunto resultante es: {1, 6, 7, 'blanco', 'negro', 'verde', 'azul', 'rojo'}\n"
     ]
    }
   ],
   "source": [
    "# Definimos el conjunto inicial\n",
    "mezcla = {\"azul\", \"verde\", 1, 6, \"rojo\", 3, \"blanco\"}\n",
    "\n",
    "# Añadimos el color \"negro\" al conjunto\n",
    "mezcla.add(\"negro\")\n",
    "\n",
    "# Solicitamos al usuario que introduzca un número y lo añadimos al conjunto\n",
    "numero_usuario = int(input(\"Introduce un número: \"))\n",
    "mezcla.add(numero_usuario)\n",
    "\n",
    "# Eliminamos el número 3 del conjunto, si está presente\n",
    "mezcla.discard(3)\n",
    "\n",
    "# Mostramos el conjunto resultante\n",
    "print(\"El conjunto resultante es:\", mezcla)"
   ]
  },
  {
   "cell_type": "code",
   "execution_count": 55,
   "id": "e32b50fb-b51f-4e54-abb6-fdfb81a49dfb",
   "metadata": {},
   "outputs": [
    {
     "name": "stdout",
     "output_type": "stream",
     "text": [
      "¿'verde' está en el conjunto? True\n"
     ]
    }
   ],
   "source": [
    "# Definimos el conjunto\n",
    "mezcla = {1, 'blanco', 4, 'verde', 6, 8, 'rojo', 'azul'}\n",
    "\n",
    "# Comprobamos si 'verde' está en el conjunto\n",
    "esta_verde = 'verde' in mezcla\n",
    "\n",
    "# Imprimimos el resultado\n",
    "print(\"¿'verde' está en el conjunto?\", esta_verde)"
   ]
  },
  {
   "cell_type": "code",
   "execution_count": 56,
   "id": "b39053e2-9e03-40fc-bacf-8485ca47efd0",
   "metadata": {},
   "outputs": [
    {
     "name": "stdout",
     "output_type": "stream",
     "text": [
      "perro - galgo\n",
      "gato - siamés\n",
      "pájaro - canario\n"
     ]
    }
   ],
   "source": [
    "animales = {\"perro\": \"galgo\", \"gato\": \"siamés\", \"pájaro\": \"canario\"}\n",
    "\n",
    "for animal, raza in animales.items():\n",
    "    print(f\"{animal} - {raza}\")"
   ]
  },
  {
   "cell_type": "code",
   "execution_count": 57,
   "id": "98438602-df75-4d21-9984-8b3ea041edb9",
   "metadata": {},
   "outputs": [
    {
     "name": "stdout",
     "output_type": "stream",
     "text": [
      "perro - galgo\n",
      "gato - siamés\n",
      "pájaro - canario\n",
      "pez - nemo\n"
     ]
    }
   ],
   "source": [
    "animales = {\"perro\": \"galgo\", \"gato\": \"siamés\", \"pájaro\": \"canario\"}\n",
    "animales[\"pez\"] = \"nemo\"  # Añadimos un nuevo tipo de animal con su raza\n",
    "\n",
    "for animal, raza in animales.items():\n",
    "    print(f\"{animal} - {raza}\")"
   ]
  },
  {
   "cell_type": "code",
   "execution_count": 58,
   "id": "fec49e71-42e0-4453-b6c9-d32a9d0586c7",
   "metadata": {},
   "outputs": [
    {
     "name": "stdin",
     "output_type": "stream",
     "text": [
      "Introduce tu nombre:  Omar\n",
      "Introduce tus apellidos:  Alvarez\n",
      "Introduce tu edad:  50\n",
      "Introduce la ciudad en la que vives:  Galicia\n",
      "Introduce tu número de teléfono:  234545454\n"
     ]
    },
    {
     "name": "stdout",
     "output_type": "stream",
     "text": [
      "Omar Alvarez tiene 50 años, vive en Galicia y su número de teléfono es 234545454.\n"
     ]
    }
   ],
   "source": [
    "def obtener_datos_usuario():\n",
    "    # Solicitar los datos al usuario\n",
    "    nombre = input(\"Introduce tu nombre: \")\n",
    "    apellidos = input(\"Introduce tus apellidos: \")\n",
    "    edad = input(\"Introduce tu edad: \")\n",
    "    ciudad = input(\"Introduce la ciudad en la que vives: \")\n",
    "    telefono = input(\"Introduce tu número de teléfono: \")\n",
    "\n",
    "    # Crear un diccionario con los datos del usuario\n",
    "    usuario = {\n",
    "        'nombre': nombre,\n",
    "        'apellidos': apellidos,\n",
    "        'edad': edad,\n",
    "        'ciudad': ciudad,\n",
    "        'telefono': telefono\n",
    "    }\n",
    "\n",
    "    return usuario\n",
    "\n",
    "def mostrar_datos_usuario(usuario):\n",
    "    # Mostrar los datos del usuario en una frase\n",
    "    print(f\"{usuario['nombre']} {usuario['apellidos']} tiene {usuario['edad']} años, vive en {usuario['ciudad']} y su número de teléfono es {usuario['telefono']}.\")\n",
    "\n",
    "# Ejecutar las funciones\n",
    "usuario = obtener_datos_usuario()\n",
    "mostrar_datos_usuario(usuario)"
   ]
  },
  {
   "cell_type": "code",
   "execution_count": 59,
   "id": "788b3c01-af3c-4ef5-bebf-c4307e66704f",
   "metadata": {},
   "outputs": [
    {
     "name": "stdin",
     "output_type": "stream",
     "text": [
      "¿Qué dato quieres incluir?  Nombre\n",
      "Introduce Nombre:  Omar\n",
      "¿Quieres introducir otro dato (responde solo Si o No)?  Si\n",
      "¿Qué dato quieres incluir?  Edad\n",
      "Introduce Edad:  50\n",
      "¿Quieres introducir otro dato (responde solo Si o No)?  No\n"
     ]
    },
    {
     "name": "stdout",
     "output_type": "stream",
     "text": [
      "{'Nombre': 'Omar', 'Edad': '50'}\n"
     ]
    }
   ],
   "source": [
    "def crear_agenda():\n",
    "    agenda = {}\n",
    "    continuar = True\n",
    "\n",
    "    while continuar:\n",
    "        clave = input(\"¿Qué dato quieres incluir? \")\n",
    "        valor = input(f\"Introduce {clave}: \")\n",
    "        agenda[clave] = valor\n",
    "        respuesta = input(\"¿Quieres introducir otro dato (responde solo Si o No)? \")\n",
    "        if respuesta.lower() != \"si\":\n",
    "            continuar = False\n",
    "\n",
    "    print(agenda)\n",
    "\n",
    "# Llamar a la función para ejecutar el programa\n",
    "crear_agenda()"
   ]
  },
  {
   "cell_type": "code",
   "execution_count": 60,
   "id": "0449355e-0626-4993-978f-66f988eb1bc5",
   "metadata": {},
   "outputs": [
    {
     "name": "stdout",
     "output_type": "stream",
     "text": [
      "Menú de opciones:\n",
      "1. Agregar un producto\n",
      "2. Eliminar un producto\n",
      "3. Listar todos los productos\n",
      "4. Cerrar\n"
     ]
    },
    {
     "name": "stdin",
     "output_type": "stream",
     "text": [
      "Elige una opción:  3\n"
     ]
    },
    {
     "name": "stdout",
     "output_type": "stream",
     "text": [
      "La lista está vacía.\n",
      "Menú de opciones:\n",
      "1. Agregar un producto\n",
      "2. Eliminar un producto\n",
      "3. Listar todos los productos\n",
      "4. Cerrar\n"
     ]
    },
    {
     "name": "stdin",
     "output_type": "stream",
     "text": [
      "Elige una opción:  1\n",
      "Introduce el nombre del producto:  Pan\n",
      "Introduce la cantidad:  2\n"
     ]
    },
    {
     "name": "stdout",
     "output_type": "stream",
     "text": [
      "Producto Pan agregado con cantidad 2.\n",
      "Menú de opciones:\n",
      "1. Agregar un producto\n",
      "2. Eliminar un producto\n",
      "3. Listar todos los productos\n",
      "4. Cerrar\n"
     ]
    },
    {
     "name": "stdin",
     "output_type": "stream",
     "text": [
      "Elige una opción:  3\n"
     ]
    },
    {
     "name": "stdout",
     "output_type": "stream",
     "text": [
      "Lista de productos:\n",
      "Pan: 2\n",
      "Menú de opciones:\n",
      "1. Agregar un producto\n",
      "2. Eliminar un producto\n",
      "3. Listar todos los productos\n",
      "4. Cerrar\n"
     ]
    },
    {
     "name": "stdin",
     "output_type": "stream",
     "text": [
      "Elige una opción:  1\n",
      "Introduce el nombre del producto:  Leche\n",
      "Introduce la cantidad:  3\n"
     ]
    },
    {
     "name": "stdout",
     "output_type": "stream",
     "text": [
      "Producto Leche agregado con cantidad 3.\n",
      "Menú de opciones:\n",
      "1. Agregar un producto\n",
      "2. Eliminar un producto\n",
      "3. Listar todos los productos\n",
      "4. Cerrar\n"
     ]
    },
    {
     "name": "stdin",
     "output_type": "stream",
     "text": [
      "Elige una opción:  3\n"
     ]
    },
    {
     "name": "stdout",
     "output_type": "stream",
     "text": [
      "Lista de productos:\n",
      "Pan: 2\n",
      "Leche: 3\n",
      "Menú de opciones:\n",
      "1. Agregar un producto\n",
      "2. Eliminar un producto\n",
      "3. Listar todos los productos\n",
      "4. Cerrar\n"
     ]
    },
    {
     "name": "stdin",
     "output_type": "stream",
     "text": [
      "Elige una opción:  2\n",
      "Introduce el nombre del producto a eliminar:  Pan\n"
     ]
    },
    {
     "name": "stdout",
     "output_type": "stream",
     "text": [
      "Producto Pan eliminado.\n",
      "Menú de opciones:\n",
      "1. Agregar un producto\n",
      "2. Eliminar un producto\n",
      "3. Listar todos los productos\n",
      "4. Cerrar\n"
     ]
    },
    {
     "name": "stdin",
     "output_type": "stream",
     "text": [
      "Elige una opción:  3\n"
     ]
    },
    {
     "name": "stdout",
     "output_type": "stream",
     "text": [
      "Lista de productos:\n",
      "Leche: 3\n",
      "Menú de opciones:\n",
      "1. Agregar un producto\n",
      "2. Eliminar un producto\n",
      "3. Listar todos los productos\n",
      "4. Cerrar\n"
     ]
    },
    {
     "name": "stdin",
     "output_type": "stream",
     "text": [
      "Elige una opción:  4\n"
     ]
    },
    {
     "name": "stdout",
     "output_type": "stream",
     "text": [
      "Cerrando el programa...\n"
     ]
    }
   ],
   "source": [
    "def mostrar_menu():\n",
    "    print(\"Menú de opciones:\")\n",
    "    print(\"1. Agregar un producto\")\n",
    "    print(\"2. Eliminar un producto\")\n",
    "    print(\"3. Listar todos los productos\")\n",
    "    print(\"4. Cerrar\")\n",
    "\n",
    "def agregar_producto(lista_compra):\n",
    "    producto = input(\"Introduce el nombre del producto: \")\n",
    "    cantidad = int(input(\"Introduce la cantidad: \"))\n",
    "    lista_compra[producto] = cantidad\n",
    "    print(f\"Producto {producto} agregado con cantidad {cantidad}.\")\n",
    "\n",
    "def eliminar_producto(lista_compra):\n",
    "    producto = input(\"Introduce el nombre del producto a eliminar: \")\n",
    "    if producto in lista_compra:\n",
    "        del lista_compra[producto]\n",
    "        print(f\"Producto {producto} eliminado.\")\n",
    "    else:\n",
    "        print(\"El producto no existe en la lista.\")\n",
    "\n",
    "def listar_productos(lista_compra):\n",
    "    if lista_compra:\n",
    "        print(\"Lista de productos:\")\n",
    "        for producto, cantidad in lista_compra.items():\n",
    "            print(f\"{producto}: {cantidad}\")\n",
    "    else:\n",
    "        print(\"La lista está vacía.\")\n",
    "\n",
    "def main():\n",
    "    lista_compra = {}\n",
    "    while True:\n",
    "        mostrar_menu()\n",
    "        opcion = input(\"Elige una opción: \")\n",
    "        if opcion == '1':\n",
    "            agregar_producto(lista_compra)\n",
    "        elif opcion == '2':\n",
    "            eliminar_producto(lista_compra)\n",
    "        elif opcion == '3':\n",
    "            listar_productos(lista_compra)\n",
    "        elif opcion == '4':\n",
    "            print(\"Cerrando el programa...\")\n",
    "            break\n",
    "        else:\n",
    "            print(\"Opción no válida. Por favor, elige una opción del 1 al 4.\")\n",
    "\n",
    "if __name__ == \"__main__\":\n",
    "    main()"
   ]
  },
  {
   "cell_type": "code",
   "execution_count": 62,
   "id": "06ecab4d-327f-44bc-8eae-a54f0fc79972",
   "metadata": {},
   "outputs": [
    {
     "name": "stdout",
     "output_type": "stream",
     "text": [
      "Estoy en la Escuela de Talento Digital\n"
     ]
    }
   ],
   "source": [
    "def escribir():\n",
    "    print(\"Estoy en la Escuela de Talento Digital\")\n",
    "escribir()\n",
    "    "
   ]
  },
  {
   "cell_type": "code",
   "execution_count": 69,
   "id": "c994fdef-608f-4a4c-aa02-fba6c2007a3c",
   "metadata": {},
   "outputs": [
    {
     "name": "stdout",
     "output_type": "stream",
     "text": [
      "Luis está en la Escuela de Talento Digital\n"
     ]
    }
   ],
   "source": [
    "def escribir_nombre(nombre):\n",
    "    print(f\"{nombre} está en la Escuela de Talento Digital\")\n",
    "escribir_nombre(\"Luis\")"
   ]
  },
  {
   "cell_type": "code",
   "execution_count": 70,
   "id": "97669d38-44d1-479c-a305-58ab92919d71",
   "metadata": {},
   "outputs": [
    {
     "name": "stdout",
     "output_type": "stream",
     "text": [
      "15\n"
     ]
    }
   ],
   "source": [
    "def multiplicar_por_tres(numero):\n",
    "    resultado = numero * 3\n",
    "    print(resultado)\n",
    "\n",
    "# Ejemplo de uso de la función\n",
    "multiplicar_por_tres(5)  # Esto imprimirá 15 en la pantalla"
   ]
  },
  {
   "cell_type": "code",
   "execution_count": 71,
   "id": "89a93059-93e3-467c-a3b0-8e9b12676882",
   "metadata": {},
   "outputs": [
    {
     "name": "stdout",
     "output_type": "stream",
     "text": [
      "0\n",
      "3\n",
      "6\n",
      "9\n",
      "12\n",
      "15\n",
      "18\n",
      "21\n",
      "24\n",
      "27\n",
      "30\n"
     ]
    }
   ],
   "source": [
    "def multiplicar_por_tres(numero):\n",
    "    resultado = numero * 3\n",
    "    print(resultado)\n",
    "\n",
    "# Mostrar la tabla de multiplicar del 3\n",
    "for i in range(11):\n",
    "    multiplicar_por_tres(i)"
   ]
  },
  {
   "cell_type": "code",
   "execution_count": 74,
   "id": "96ae34dc-8829-4779-ab87-28f395d8f92b",
   "metadata": {},
   "outputs": [
    {
     "name": "stdout",
     "output_type": "stream",
     "text": [
      "El número 3 es impar\n",
      "El número 6 es par\n"
     ]
    }
   ],
   "source": [
    "def verificar_paridad(numero):\n",
    "    if numero % 2 == 0:\n",
    "        print(f\"El número {numero} es par\")\n",
    "    else:\n",
    "        print(f\"El número {numero} es impar\")\n",
    "verificar_paridad(3)\n",
    "verificar_paridad(6)"
   ]
  },
  {
   "cell_type": "code",
   "execution_count": 78,
   "id": "a2faf56a-c5b2-49a7-87ef-59117fe08314",
   "metadata": {},
   "outputs": [
    {
     "name": "stdout",
     "output_type": "stream",
     "text": [
      "La media es: 4.0\n"
     ]
    }
   ],
   "source": [
    "def calcular_media(*numeros):\n",
    "    if len(numeros) == 0:\n",
    "        print(\"No se han proporcionado números para calcular la media.\")\n",
    "    else:\n",
    "        media = sum(numeros) / len(numeros)\n",
    "        print(\"La media es:\", media)\n",
    "calcular_media(2, 3, 4, 5, 6)"
   ]
  },
  {
   "cell_type": "code",
   "execution_count": 79,
   "id": "2984c3aa-9489-4aa5-a109-a4913df8917e",
   "metadata": {},
   "outputs": [
    {
     "name": "stdout",
     "output_type": "stream",
     "text": [
      "2\n",
      "3\n",
      "4\n",
      "5\n",
      "6\n",
      "7\n",
      "8\n",
      "9\n"
     ]
    }
   ],
   "source": [
    "def mostrar_numeros_entre(num1, num2):\n",
    "    for i in range(min(num1, num2), max(num1, num2) + 1):\n",
    "        print(i)\n",
    "mostrar_numeros_entre(9, 2)"
   ]
  },
  {
   "cell_type": "code",
   "execution_count": 80,
   "id": "6f6b945e-2efc-4070-b27f-f1e06c03fef8",
   "metadata": {},
   "outputs": [
    {
     "name": "stdout",
     "output_type": "stream",
     "text": [
      "El máximo es: 8\n",
      "El mínimo es: 1\n"
     ]
    }
   ],
   "source": [
    "def identificar_maximo_minimo(*numeros):\n",
    "    if len(numeros) == 0:\n",
    "        print(\"No se han proporcionado números para identificar el máximo y el mínimo.\")\n",
    "    else:\n",
    "        maximo = max(numeros)\n",
    "        minimo = min(numeros)\n",
    "        print(\"El máximo es:\", maximo)\n",
    "        print(\"El mínimo es:\", minimo)\n",
    "identificar_maximo_minimo(2,8,4,1,3,6)"
   ]
  },
  {
   "cell_type": "code",
   "execution_count": 81,
   "id": "eab10f90-0dc5-4c76-bad7-2da5d5ac9b4a",
   "metadata": {},
   "outputs": [
    {
     "name": "stdout",
     "output_type": "stream",
     "text": [
      "El texto tiene 16 caracteres.\n"
     ]
    }
   ],
   "source": [
    "def contar_caracteres(texto):\n",
    "    num_caracteres = len(texto)\n",
    "    print(\"El texto tiene\", num_caracteres, \"caracteres.\")\n",
    "contar_caracteres(\"Australopithecus\")"
   ]
  },
  {
   "cell_type": "code",
   "execution_count": 82,
   "id": "c6244352-7dac-4209-9a6d-5b833588c83c",
   "metadata": {},
   "outputs": [
    {
     "name": "stdin",
     "output_type": "stream",
     "text": [
      "Elija una opción:\n",
      "(1) Convertir a segundos\n",
      "(2) Convertir a horas, minutos y segundos\n",
      " 1\n",
      "Introduzca las horas:  24\n",
      "Introduzca los minutos:  0\n",
      "Introduzca los segundos:  0\n"
     ]
    },
    {
     "name": "stdout",
     "output_type": "stream",
     "text": [
      "Equivalente en segundos: 86400\n"
     ]
    }
   ],
   "source": [
    "def convertir_a_segundos(horas, minutos, segundos):\n",
    "    total_segundos = horas * 3600 + minutos * 60 + segundos\n",
    "    print(\"Equivalente en segundos:\", total_segundos)\n",
    "\n",
    "def convertir_a_hms(segundos):\n",
    "    horas = segundos // 3600\n",
    "    minutos = (segundos % 3600) // 60\n",
    "    segundos_restantes = segundos % 60\n",
    "    print(\"Equivalente en horas, minutos y segundos:\", horas, \"horas,\", minutos, \"minutos y\", segundos_restantes, \"segundos\")\n",
    "\n",
    "def programa_conversion():\n",
    "    opcion = int(input(\"Elija una opción:\\n(1) Convertir a segundos\\n(2) Convertir a horas, minutos y segundos\\n\"))\n",
    "\n",
    "    if opcion == 1:\n",
    "        horas = int(input(\"Introduzca las horas: \"))\n",
    "        minutos = int(input(\"Introduzca los minutos: \"))\n",
    "        segundos = int(input(\"Introduzca los segundos: \"))\n",
    "        convertir_a_segundos(horas, minutos, segundos)\n",
    "    elif opcion == 2:\n",
    "        segundos = int(input(\"Introduzca los segundos: \"))\n",
    "        convertir_a_hms(segundos)\n",
    "    else:\n",
    "        print(\"Opción no válida\")\n",
    "\n",
    "programa_conversion()\n"
   ]
  },
  {
   "cell_type": "code",
   "execution_count": 83,
   "id": "9af5b10d-ca64-428e-b3c3-e1fa70ddb398",
   "metadata": {},
   "outputs": [
    {
     "name": "stdin",
     "output_type": "stream",
     "text": [
      "Introduzca un texto:  asc@\n"
     ]
    },
    {
     "name": "stdout",
     "output_type": "stream",
     "text": [
      "El texto contiene la @\n"
     ]
    }
   ],
   "source": [
    "def comprobar_arroba(texto):\n",
    "    if '@' in texto:\n",
    "        print(\"El texto contiene la @\")\n",
    "    else:\n",
    "        print(\"El texto no contiene la @\")\n",
    "\n",
    "texto_usuario = input(\"Introduzca un texto: \")\n",
    "comprobar_arroba(texto_usuario)\n"
   ]
  },
  {
   "cell_type": "code",
   "execution_count": 85,
   "id": "63feb9cd-3f1a-4e30-bb5f-c4687497d4f5",
   "metadata": {},
   "outputs": [
    {
     "name": "stdin",
     "output_type": "stream",
     "text": [
      "Introduzca la cantidad:  1500000\n",
      "Introduzca el porcentaje de impuestos a pagar:  10\n"
     ]
    },
    {
     "name": "stdout",
     "output_type": "stream",
     "text": [
      "El importe total a pagar es: 1650000.0\n"
     ]
    }
   ],
   "source": [
    "def calcular_importe_total(importe, porcentaje_impuestos):\n",
    "    importe_total = importe + importe * porcentaje_impuestos / 100\n",
    "    return importe_total\n",
    "\n",
    "cantidad = float(input(\"Introduzca la cantidad: \"))\n",
    "porcentaje_impuestos = float(input(\"Introduzca el porcentaje de impuestos a pagar: \"))\n",
    "\n",
    "total_con_impuestos = calcular_importe_total(cantidad, porcentaje_impuestos)\n",
    "print(\"El importe total a pagar es:\", total_con_impuestos)\n",
    "\n"
   ]
  },
  {
   "cell_type": "code",
   "execution_count": 91,
   "id": "53e56000-d083-493c-886f-ba2e29b7227a",
   "metadata": {},
   "outputs": [
    {
     "name": "stdin",
     "output_type": "stream",
     "text": [
      "Introduzca un número (0 para terminar):  1\n",
      "Introduzca un número (0 para terminar):  2\n",
      "Introduzca un número (0 para terminar):  3\n",
      "Introduzca un número (0 para terminar):  0\n",
      "Introduzca un número (0 para terminar):  4\n",
      "Introduzca un número (0 para terminar):  5\n",
      "Introduzca un número (0 para terminar):  6\n",
      "Introduzca un número (0 para terminar):  0\n",
      "Introduzca un número (0 para terminar):  7\n",
      "Introduzca un número (0 para terminar):  8\n",
      "Introduzca un número (0 para terminar):  9\n",
      "Introduzca un número (0 para terminar):  0\n"
     ]
    },
    {
     "name": "stdout",
     "output_type": "stream",
     "text": [
      "El máximo es 24.0\n"
     ]
    }
   ],
   "source": [
    "def calcular_suma_numeros():\n",
    "    numeros = []\n",
    "    while True:\n",
    "        num = float(input(\"Introduzca un número (0 para terminar): \"))\n",
    "        if num == 0:\n",
    "            break\n",
    "        numeros.append(num)\n",
    "    \n",
    "    suma = sum(numeros)\n",
    "    return suma\n",
    "\n",
    "maximo_resultado = max(calcular_suma_numeros(), calcular_suma_numeros(), calcular_suma_numeros())\n",
    "print(\"El máximo es\", maximo_resultado)"
   ]
  },
  {
   "cell_type": "code",
   "execution_count": 92,
   "id": "d0c2391a-21fe-4b1b-b02c-0eef453b8ed2",
   "metadata": {},
   "outputs": [
    {
     "name": "stdout",
     "output_type": "stream",
     "text": [
      "15\n"
     ]
    }
   ],
   "source": [
    "def suma_digitos(numero):\n",
    "    suma = 0\n",
    "    while numero:\n",
    "        suma += numero % 10\n",
    "        numero //= 10\n",
    "    return suma\n",
    "\n",
    "# Ejemplo de uso\n",
    "numero = 12345\n",
    "print(suma_digitos(numero))  # Output: 15"
   ]
  },
  {
   "cell_type": "code",
   "execution_count": 93,
   "id": "1bcde0f8-5da7-47c7-a57a-363dc117c50f",
   "metadata": {},
   "outputs": [
    {
     "name": "stdout",
     "output_type": "stream",
     "text": [
      "15\n"
     ]
    }
   ],
   "source": [
    "def suma_digitos(numero):\n",
    "    return sum(int(d) for d in str(numero))\n",
    "\n",
    "# Ejemplo de uso\n",
    "numero = 12345\n",
    "print(suma_digitos(numero))  # Output: 15"
   ]
  },
  {
   "cell_type": "code",
   "execution_count": 101,
   "id": "dad4cda2-8256-4568-9308-a9b197641f9a",
   "metadata": {},
   "outputs": [
    {
     "data": {
      "text/plain": [
       "True"
      ]
     },
     "execution_count": 101,
     "metadata": {},
     "output_type": "execute_result"
    }
   ],
   "source": [
    "def es_primo(numero):\n",
    "    if numero < 2:\n",
    "        return False\n",
    "    for i in range(2, int(numero ** 0.5) + 1):\n",
    "        if numero % i == 0:\n",
    "            return False\n",
    "    return True\n",
    "es_primo(7)\n"
   ]
  },
  {
   "cell_type": "code",
   "execution_count": 104,
   "id": "c0c5b2c7-ffc6-47fb-b01c-97ef4d40529b",
   "metadata": {},
   "outputs": [
    {
     "name": "stdin",
     "output_type": "stream",
     "text": [
      "Introduce el año:  2023\n",
      "Introduce el mes (1-12):  2\n"
     ]
    },
    {
     "name": "stdout",
     "output_type": "stream",
     "text": [
      "El mes 2 del año 2023 tiene 28 días.\n"
     ]
    }
   ],
   "source": [
    "def es_bisiesto(anio):\n",
    "    return anio % 4 == 0 and (anio % 100 != 0 or anio % 400 == 0)\n",
    "\n",
    "def dias_en_mes(mes, anio):\n",
    "    if mes == 2:\n",
    "        return 29 if es_bisiesto(anio) else 28\n",
    "    elif mes in [4, 6, 9, 11]:\n",
    "        return 30\n",
    "    else:\n",
    "        return 31\n",
    "\n",
    "anio = int(input(\"Introduce el año: \"))\n",
    "mes = int(input(\"Introduce el mes (1-12): \"))\n",
    "\n",
    "num_dias = dias_en_mes(mes, anio)\n",
    "print(f\"El mes {mes} del año {anio} tiene {num_dias} días.\")"
   ]
  },
  {
   "cell_type": "code",
   "execution_count": null,
   "id": "e4e13003-b5cb-41d3-bd03-5b41fd9882db",
   "metadata": {},
   "outputs": [],
   "source": []
  }
 ],
 "metadata": {
  "kernelspec": {
   "display_name": "Python 3 (ipykernel)",
   "language": "python",
   "name": "python3"
  },
  "language_info": {
   "codemirror_mode": {
    "name": "ipython",
    "version": 3
   },
   "file_extension": ".py",
   "mimetype": "text/x-python",
   "name": "python",
   "nbconvert_exporter": "python",
   "pygments_lexer": "ipython3",
   "version": "3.10.12"
  }
 },
 "nbformat": 4,
 "nbformat_minor": 5
}
