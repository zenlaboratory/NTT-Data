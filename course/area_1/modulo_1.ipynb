{
 "cells": [
  {
   "cell_type": "code",
   "execution_count": 1,
   "id": "ca5014f4-ec5a-42d7-83c0-83a5b06857aa",
   "metadata": {},
   "outputs": [
    {
     "name": "stdout",
     "output_type": "stream",
     "text": [
      "8.5\n"
     ]
    }
   ],
   "source": [
    "calificacion = 8.5\n",
    "print(calificacion)"
   ]
  },
  {
   "cell_type": "code",
   "execution_count": 4,
   "id": "b0db18ed-9059-4201-a67a-3ceac1ac38f1",
   "metadata": {},
   "outputs": [
    {
     "name": "stdin",
     "output_type": "stream",
     "text": [
      "Introduce tu nombre: Omar\n"
     ]
    },
    {
     "name": "stdout",
     "output_type": "stream",
     "text": [
      "Omar: 8.5\n"
     ]
    }
   ],
   "source": [
    "nombre = input(\"Introduce tu nombre:\")\n",
    "print(f\"{nombre}: {calificacion}\")\n"
   ]
  },
  {
   "cell_type": "code",
   "execution_count": 11,
   "id": "893b499d-e1ca-4167-96b3-70fa891d54d9",
   "metadata": {},
   "outputs": [
    {
     "name": "stdin",
     "output_type": "stream",
     "text": [
      "Introduce un numero entero:  3\n",
      "Introduce un número decimal:  3.5\n"
     ]
    },
    {
     "name": "stdout",
     "output_type": "stream",
     "text": [
      "El resultado de la suma es: 6.5\n"
     ]
    },
    {
     "name": "stdin",
     "output_type": "stream",
     "text": [
      "Introduce otro número entero:  2\n"
     ]
    },
    {
     "name": "stdout",
     "output_type": "stream",
     "text": [
      "La multiplicación de la suma por el entero es: 13.0\n"
     ]
    }
   ],
   "source": [
    "num_ent = int(input(\"Introduce un numero entero: \"))\n",
    "num_dec = float(input(\"Introduce un número decimal: \"))\n",
    "resultado_suma = num_ent + num_dec\n",
    "print(f\"El resultado de la suma es: {resultado_suma}\")\n",
    "num_ent2 = int(input(\"Introduce otro número entero: \"))\n",
    "resultado = num_ent2 * resultado_suma\n",
    "print(f\"La multiplicación de la suma por el entero es: {resultado}\")"
   ]
  },
  {
   "cell_type": "code",
   "execution_count": 16,
   "id": "7b6b1e06-477b-442e-a2a5-addb0d0a5a77",
   "metadata": {},
   "outputs": [
    {
     "name": "stdin",
     "output_type": "stream",
     "text": [
      "Ingrese el coeficiente de la variable cuadrática:  3\n",
      "Ingrese el coeficiente de la variable lineal:  -5\n",
      "Ingrese el término independiente:  2\n"
     ]
    },
    {
     "name": "stdout",
     "output_type": "stream",
     "text": [
      "Las soluciones de la ecuación son:\n",
      "x1 = 1.00\n",
      "x2 = 0.67\n"
     ]
    }
   ],
   "source": [
    "from math import sqrt\n",
    "\n",
    "A = int(input(\"Ingrese el coeficiente de la variable cuadrática: \"))\n",
    "B = int(input(\"Ingrese el coeficiente de la variable lineal: \"))\n",
    "C = int(input(\"Ingrese el término independiente: \"))\n",
    "\n",
    "discriminante = B**2 - 4*A*C\n",
    "if discriminante < 0:\n",
    "    print(\"La solución de la ecuación es con números complejos.\")\n",
    "else:\n",
    "    x1 = (-B + sqrt(discriminante)) / (2*A)\n",
    "    x2 = (-B - sqrt(discriminante)) / (2*A)\n",
    "    print(\"Las soluciones de la ecuación son:\")\n",
    "    print(f\"x1 = {x1:.2f}\")\n",
    "    print(f\"x2 = {x2:.2f}\")\n"
   ]
  },
  {
   "cell_type": "code",
   "execution_count": 17,
   "id": "ccd7e8dd-59f4-42f7-b430-8634693d445f",
   "metadata": {},
   "outputs": [
    {
     "name": "stdin",
     "output_type": "stream",
     "text": [
      "Ingresa tu altura en metros:  1.73\n",
      "Ingresa tu peso en kg:  71\n"
     ]
    },
    {
     "name": "stdout",
     "output_type": "stream",
     "text": [
      "Tu Índice de Masa Corporal es: 23.72\n",
      "Tienes un peso saludable.\n"
     ]
    }
   ],
   "source": [
    "height = float(input(\"Ingresa tu altura en metros: \"))\n",
    "weight = float(input(\"Ingresa tu peso en kg: \"))\n",
    "\n",
    "bmi = weight / (height ** 2)\n",
    "print(f\"Tu Índice de Masa Corporal es: {bmi:.2f}\")\n",
    "\n",
    "if bmi < 18.5:\n",
    "    print(\"Estás por debajo del peso normal.\")\n",
    "elif 18.5 <= bmi < 25:\n",
    "    print(\"Tienes un peso saludable.\")\n",
    "elif 25 <= bmi < 30:\n",
    "    print(\"Tienes sobrepeso.\")\n",
    "else:\n",
    "    print(\"Tienes obesidad.\")\n"
   ]
  },
  {
   "cell_type": "code",
   "execution_count": 18,
   "id": "183cd54a-35d3-4010-ab17-72cdc92b6cd8",
   "metadata": {},
   "outputs": [
    {
     "name": "stdin",
     "output_type": "stream",
     "text": [
      "Introduce una palabra:  casa\n"
     ]
    },
    {
     "name": "stdout",
     "output_type": "stream",
     "text": [
      "casa tiene 4 letras\n"
     ]
    }
   ],
   "source": [
    "# Solicita al usuario que ingrese una palabra\n",
    "palabra = input(\"Introduce una palabra: \")\n",
    "\n",
    "# Calcula el número de letras en la palabra\n",
    "numero_letras = len(palabra)\n",
    "\n",
    "# Imprime la palabra y el número de letras\n",
    "print(f\"{palabra} tiene {numero_letras} letras\")\n"
   ]
  },
  {
   "cell_type": "code",
   "execution_count": 19,
   "id": "bb1bdaa6-4ddc-402c-a75b-f08e86d4d9d2",
   "metadata": {},
   "outputs": [
    {
     "name": "stdin",
     "output_type": "stream",
     "text": [
      "Introduce el saldo inicial de tu plan de pensiones:  15000\n"
     ]
    },
    {
     "name": "stdout",
     "output_type": "stream",
     "text": [
      "Saldo después del primer año: $15450.00\n",
      "Saldo después del segundo año: $15913.50\n"
     ]
    }
   ],
   "source": [
    "# Solicita al usuario el saldo inicial de la cuenta\n",
    "saldo_inicial = float(input(\"Introduce el saldo inicial de tu plan de pensiones: \"))\n",
    "\n",
    "# Calcula el saldo después del primer año\n",
    "interes_anual = 0.03  # Tasa de interés anual (3%)\n",
    "saldo_primer_anio = saldo_inicial * (1 + interes_anual)\n",
    "\n",
    "# Calcula el saldo después del segundo año\n",
    "saldo_segundo_anio = saldo_primer_anio * (1 + interes_anual)\n",
    "\n",
    "# Imprime los resultados\n",
    "print(f\"Saldo después del primer año: {saldo_primer_anio:.2f}\")\n",
    "print(f\"Saldo después del segundo año: {saldo_segundo_anio:.2f}\")\n"
   ]
  },
  {
   "cell_type": "code",
   "execution_count": 20,
   "id": "dd9046c1-f21b-40e9-9498-ab5391d875b2",
   "metadata": {},
   "outputs": [
    {
     "name": "stdin",
     "output_type": "stream",
     "text": [
      "¿Cuántos dólares tienes?  500\n",
      "¿Cuántos euros tienes?  500\n"
     ]
    },
    {
     "name": "stdout",
     "output_type": "stream",
     "text": [
      "Entonces tienes 855.00 libras.\n"
     ]
    }
   ],
   "source": [
    "# Solicita al usuario la cantidad de dólares y euros\n",
    "dolares = float(input(\"¿Cuántos dólares tienes? \"))\n",
    "euros = float(input(\"¿Cuántos euros tienes? \"))\n",
    "\n",
    "# Tipo de cambio\n",
    "tipo_cambio_dolar_a_libra = 0.83\n",
    "tipo_cambio_euro_a_libra = 0.88\n",
    "\n",
    "# Calcula el equivalente en libras\n",
    "total_libras = (dolares * tipo_cambio_dolar_a_libra) + (euros * tipo_cambio_euro_a_libra)\n",
    "\n",
    "# Imprime el resultado\n",
    "print(f\"Entonces tienes {total_libras:.2f} libras.\")\n"
   ]
  },
  {
   "cell_type": "code",
   "execution_count": null,
   "id": "208b0096-7134-4681-a32c-237a1d094909",
   "metadata": {},
   "outputs": [],
   "source": []
  }
 ],
 "metadata": {
  "kernelspec": {
   "display_name": "Python 3 (ipykernel)",
   "language": "python",
   "name": "python3"
  },
  "language_info": {
   "codemirror_mode": {
    "name": "ipython",
    "version": 3
   },
   "file_extension": ".py",
   "mimetype": "text/x-python",
   "name": "python",
   "nbconvert_exporter": "python",
   "pygments_lexer": "ipython3",
   "version": "3.10.12"
  }
 },
 "nbformat": 4,
 "nbformat_minor": 5
}
