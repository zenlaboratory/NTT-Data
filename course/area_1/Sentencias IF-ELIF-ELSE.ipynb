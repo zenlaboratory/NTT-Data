{
 "cells": [
  {
   "cell_type": "markdown",
   "id": "32b22b76",
   "metadata": {},
   "source": [
    "## Sentencias Condicionales If-elif-else ##\n",
    "\n",
    "Las sentencias condicionales If-Elif-Else nos permiten controlar lo que queremos que ocurra si se cumple cierta condición. Traducido a un lenguaje coloquial sería: (if) si se cumple esta condición haz esto, (elif) o si se cumple esta otra condición haz esto otro, (else) en cualquier otro caso haz aquello.\n",
    "\n",
    "\n",
    "<br><br>\n",
    "Pero empecemos por la versión más simple. Si solo queremos una condición simple, podríamos escribir:\n",
    "\n",
    "If (condición a verificar):<br>\n",
    "    &emsp; Instrucciones a ejecutar si se cumple la condición.\n",
    "\n",
    "<br>\n",
    "El siguiente código comprueba si el valor de la variable a es mayor que b."
   ]
  },
  {
   "cell_type": "code",
   "execution_count": 4,
   "id": "b832792f",
   "metadata": {},
   "outputs": [],
   "source": [
    "a= 0\n",
    "b= 10\n",
    "\n",
    "if a > b:  #Condición a comprobar. Si a es mayor que b\n",
    "    print(\"El valor de a es mayor que el de b\") #Mostramos un mensaje diciendo que a es mayor a b"
   ]
  },
  {
   "cell_type": "markdown",
   "id": "cd6328fe",
   "metadata": {},
   "source": [
    "Otro ejemplo:"
   ]
  },
  {
   "cell_type": "code",
   "execution_count": 8,
   "id": "2a9a8151",
   "metadata": {},
   "outputs": [
    {
     "name": "stdin",
     "output_type": "stream",
     "text": [
      "Escriba un número positivo:  9\n"
     ]
    },
    {
     "name": "stdout",
     "output_type": "stream",
     "text": [
      "Ha escrito el número 9\n"
     ]
    }
   ],
   "source": [
    "numero = int(input(\"Escriba un número positivo: \"))\n",
    "if numero < 0:\n",
    "    print(\"¡El número debe ser positivo!\")\n",
    "\n",
    "print(\"Ha escrito el número\", numero)"
   ]
  },
  {
   "cell_type": "markdown",
   "id": "53249d31",
   "metadata": {},
   "source": [
    "Y por último:"
   ]
  },
  {
   "cell_type": "code",
   "execution_count": null,
   "id": "cdba318e",
   "metadata": {},
   "outputs": [],
   "source": [
    "if True:\n",
    "    print('¡el bloque If se ejecutará!')"
   ]
  },
  {
   "cell_type": "code",
   "execution_count": 40,
   "id": "2d9faf88-3060-4d76-b5ea-1e18c566d48c",
   "metadata": {},
   "outputs": [
    {
     "name": "stdin",
     "output_type": "stream",
     "text": [
      "Escriba un número positivo:  2\n"
     ]
    },
    {
     "name": "stdout",
     "output_type": "stream",
     "text": [
      "No puede ser menor de 3\n"
     ]
    }
   ],
   "source": [
    "try:\n",
    "    numero = int(input(\"Escriba un número positivo: \"))\n",
    "    \n",
    "    \n",
    "    if (numero < 3):\n",
    "        raise Exception(\"No puede ser menor de 3\")\n",
    "    \n",
    "    if (numero > 5):\n",
    "        raise Exception(\"El número no me gusta\")\n",
    "except Exception as e:\n",
    "    print(e)\n",
    "    \n"
   ]
  },
  {
   "cell_type": "markdown",
   "id": "124f46d6",
   "metadata": {},
   "source": [
    "### ELSE ###\n",
    "\n",
    "También podemos específicar que ocurrirá cuando no se cumpla la condición. En tal caso podríamos escribir:\n",
    "\n",
    "if(condición a verificar): <br>\n",
    "&emsp; Instrucciones a ejecutar si se cumple la condición.<br>\n",
    "else: <br>\n",
    "&emsp; Instrucciones a ejecutar si no se cumple la condición.\n",
    "\n",
    "<br><br>\n",
    "El siguiente ejemplo comprueba si el valor de a es mayor que el de b y si no, imprime un mensaje indicando que el valor de a es menor o igual al de b."
   ]
  },
  {
   "cell_type": "code",
   "execution_count": 26,
   "id": "addf3736",
   "metadata": {},
   "outputs": [
    {
     "name": "stdout",
     "output_type": "stream",
     "text": [
      "El valor de a es menor o igual al de b\n"
     ]
    }
   ],
   "source": [
    "a= 10\n",
    "b= 30\n",
    "\n",
    "if (a > b): #Condición a comprobar. Si a es mayor que b\n",
    "    print(\"El valor de a es mayor que el de b\") #Mostramos un mensaje diciendo que a es mayor a b\n",
    "else: #Si no\n",
    "    print(\"El valor de a es menor o igual al de b\") #Mostramos un mensaje diciendo que a no es mayor que b."
   ]
  },
  {
   "cell_type": "code",
   "execution_count": 27,
   "id": "5daf55c8",
   "metadata": {},
   "outputs": [
    {
     "name": "stdin",
     "output_type": "stream",
     "text": [
      "Escriba un número positivo:  7\n"
     ]
    },
    {
     "name": "stdout",
     "output_type": "stream",
     "text": [
      "¡Correcto! El número es positivo.\n",
      "Ha escrito el número 7\n"
     ]
    }
   ],
   "source": [
    "numero = int(input(\"Escriba un número positivo: \"))\n",
    "\n",
    "if numero < 0:\n",
    "    print(\"¡El número debe ser positivo!\")\n",
    "else:\n",
    "    print(\"¡Correcto! El número es positivo.\")\n",
    "    \n",
    "print(f\"Ha escrito el número {numero}\")"
   ]
  },
  {
   "cell_type": "code",
   "execution_count": 53,
   "id": "841577bf",
   "metadata": {},
   "outputs": [
    {
     "name": "stdout",
     "output_type": "stream",
     "text": [
      "¡La sentencia Else se ejecutará!\n"
     ]
    }
   ],
   "source": [
    "if not True:\n",
    "    print('¡La sentencia If se ejecutará!')\n",
    "else:\n",
    "    print('¡La sentencia Else se ejecutará!')"
   ]
  },
  {
   "cell_type": "code",
   "execution_count": null,
   "id": "292241a7",
   "metadata": {},
   "outputs": [],
   "source": [
    "edad = int(input(\"¿Cuántos años tiene? \"))\n",
    "if edad < 24:\n",
    "    print(\"No tiene permitida la entrada\")\n",
    "else:\n",
    "    print(\"¡Puede pasar!\")"
   ]
  },
  {
   "cell_type": "markdown",
   "id": "f1276090",
   "metadata": {},
   "source": [
    "¿Se podría hacer, en vez de utilizando IF---ELSE, usando dos veces IF?"
   ]
  },
  {
   "cell_type": "code",
   "execution_count": null,
   "id": "1f466535",
   "metadata": {},
   "outputs": [],
   "source": [
    "edad = int(input(\"¿Cuántos años tiene? \"))\n",
    "\n",
    "if edad < 24:\n",
    "    print(\"No tiene permitida la entrada\")\n",
    "    \n",
    "if edad >= 24:\n",
    "    print(\"¡Puede pasar!\")"
   ]
  },
  {
   "cell_type": "markdown",
   "id": "fac8e255",
   "metadata": {},
   "source": [
    "Y, ¿cómo hacemos si en alguna de las condiciones no quisiéramos realizar ninguna acción?\n"
   ]
  },
  {
   "cell_type": "code",
   "execution_count": null,
   "id": "d7b69daf",
   "metadata": {},
   "outputs": [],
   "source": [
    "edad = int(input(\"¿Cuántos años tienes? \"))\n",
    "\n",
    "if edad < 120:\n",
    "    pass\n",
    "else:\n",
    "    print(\"¡No me lo creo!\")\n",
    "    \n",
    "print(f\"Dices que tienes {edad} años.\")"
   ]
  },
  {
   "cell_type": "markdown",
   "id": "d9794667",
   "metadata": {},
   "source": [
    "Python requiere que se escriba alguna instrucción en cada bloque.\n",
    "Podemos utilizar la instrucción PASS."
   ]
  },
  {
   "cell_type": "code",
   "execution_count": null,
   "id": "95d48c17",
   "metadata": {},
   "outputs": [],
   "source": [
    "edad = int(input(\"¿Cuántos años tienes? \"))\n",
    "if edad < 120:\n",
    "    pass\n",
    "else:\n",
    "    print(\"¡No me lo creo!\")\n",
    "print(f\"Dices que tienes {edad} años.\")"
   ]
  },
  {
   "cell_type": "markdown",
   "id": "b8cc9926",
   "metadata": {},
   "source": [
    "¿Cómo podríamos simplificar el programa anterior?\n"
   ]
  },
  {
   "cell_type": "code",
   "execution_count": null,
   "id": "c247ec54",
   "metadata": {},
   "outputs": [],
   "source": [
    "edad = int(input(\"¿Cuántos años tienes? \"))\n",
    "if edad >= 120:\n",
    "    print(\"¡No me lo creo!\")\n",
    "print(f\"Dices que tienes {edad} años.\")"
   ]
  },
  {
   "cell_type": "markdown",
   "id": "9b079ffd",
   "metadata": {},
   "source": [
    "### Errores de indentación ###"
   ]
  },
  {
   "cell_type": "markdown",
   "id": "73870a94",
   "metadata": {},
   "source": [
    "Si quisiéramos poner varias instrucciones dentro de los bloques, ¿cómo deberíamos hacerlo?"
   ]
  },
  {
   "cell_type": "code",
   "execution_count": 38,
   "id": "9fc17384",
   "metadata": {},
   "outputs": [
    {
     "name": "stdin",
     "output_type": "stream",
     "text": [
      "¿Cuántos años tiene?  29\n"
     ]
    },
    {
     "name": "stdout",
     "output_type": "stream",
     "text": [
      "¡Puede pasar!\n",
      "Tienes la edad permitida\n",
      "¡Hasta la próxima!\n"
     ]
    }
   ],
   "source": [
    "edad = int(input(\"¿Cuántos años tiene? \"))\n",
    "\n",
    "if edad < 24:\n",
    "    print(\"No tiene permitida la entrada\")\n",
    "    print(\"Eres aún demasiado joven\")\n",
    "else:\n",
    "    print(\"¡Puede pasar!\")\n",
    "    print(\"Tienes la edad permitida\")\n",
    "\n",
    "print(\"¡Hasta la próxima!\")"
   ]
  },
  {
   "cell_type": "markdown",
   "id": "b266d0d3",
   "metadata": {},
   "source": [
    "¿Qué ocurre si cambiamos la sangría del segundo bloque?"
   ]
  },
  {
   "cell_type": "code",
   "execution_count": null,
   "id": "affa4c07",
   "metadata": {},
   "outputs": [],
   "source": [
    "edad = int(input(\"¿Cuántos años tiene? \"))\n",
    "if edad < 24:\n",
    "    print(\"No tiene permitida la entrada\")\n",
    "    print(\"Eres aún demasiado joven\")\n",
    "else:\n",
    "            print(\"¡Puede pasar!\")\n",
    "            print(\"Tienes la edad permitida\")\n",
    "\n",
    "print(\"¡Hasta la próxima!\")"
   ]
  },
  {
   "cell_type": "markdown",
   "id": "fa3fb52a",
   "metadata": {},
   "source": [
    "¿Y si dentro de un mismo bloque, hay instrucciones con distintos sangrados?"
   ]
  },
  {
   "cell_type": "code",
   "execution_count": null,
   "id": "0c2a0892",
   "metadata": {},
   "outputs": [],
   "source": [
    "edad = int(input(\"¿Cuántos años tiene? \"))\n",
    "if edad < 24:\n",
    "    print(\"No tiene permitida la entrada\")\n",
    "        print(\"Eres aún demasiado joven\")\n",
    "else:\n",
    "    print(\"¡Puede pasar!\")\n",
    "    print(\"Tienes la edad permitida\")\n",
    "\n",
    "print(\"¡Hasta la próxima!\")"
   ]
  },
  {
   "cell_type": "code",
   "execution_count": 42,
   "id": "d276abe1",
   "metadata": {},
   "outputs": [
    {
     "ename": "IndentationError",
     "evalue": "unindent does not match any outer indentation level (<tokenize>, line 4)",
     "output_type": "error",
     "traceback": [
      "\u001b[1;36m  File \u001b[1;32m\"<tokenize>\"\u001b[1;36m, line \u001b[1;32m4\u001b[0m\n\u001b[1;33m    print(\"Eres aún demasiado joven\")\u001b[0m\n\u001b[1;37m    ^\u001b[0m\n\u001b[1;31mIndentationError\u001b[0m\u001b[1;31m:\u001b[0m unindent does not match any outer indentation level\n"
     ]
    }
   ],
   "source": [
    "edad = int(input(\"¿Cuántos años tiene? \"))\n",
    "if edad < 24:\n",
    "        print(\"No tiene permitida la entrada\")\n",
    "    print(\"Eres aún demasiado joven\")\n",
    "else:\n",
    "    print(\"¡Puede pasar!\")\n",
    "    print(\"Tienes la edad permitida\")\n",
    "\n",
    "print(\"¡Hasta la próxima!\")"
   ]
  },
  {
   "cell_type": "code",
   "execution_count": 45,
   "id": "c4ef5b3f",
   "metadata": {},
   "outputs": [
    {
     "ename": "SyntaxError",
     "evalue": "invalid syntax (Temp/ipykernel_7568/1145626030.py, line 5)",
     "output_type": "error",
     "traceback": [
      "\u001b[1;36m  File \u001b[1;32m\"C:\\Users\\ROBERT~1.DON\\AppData\\Local\\Temp/ipykernel_7568/1145626030.py\"\u001b[1;36m, line \u001b[1;32m5\u001b[0m\n\u001b[1;33m    else:\u001b[0m\n\u001b[1;37m    ^\u001b[0m\n\u001b[1;31mSyntaxError\u001b[0m\u001b[1;31m:\u001b[0m invalid syntax\n"
     ]
    }
   ],
   "source": [
    "edad = int(input(\"¿Cuántos años tiene? \"))\n",
    "if edad < 24:\n",
    "    print(\"No tiene permitida la entrada\")\n",
    "print(\"Eres aún demasiado joven\")\n",
    "else:\n",
    "    print(\"¡Puede pasar!\")\n",
    "    print(\"Tienes la edad permitida\")\n",
    "\n",
    "print(\"¡Hasta la próxima!\")"
   ]
  },
  {
   "cell_type": "markdown",
   "id": "94b27728",
   "metadata": {},
   "source": [
    "### ELIF ###\n",
    "\n",
    "Con la sentencia elif podemos definir condiciones adicionales a comprobar. La estructura podría ser esta:\n",
    "\n",
    "<br>\n",
    "if(condición a verificar):<br>\n",
    "  Instrucciones a ejecutar si se cumple la condición.<br>\n",
    "elif(condición a verificar):<br>\n",
    "  &emsp;Instrucciones a ejecutar si se cumple la condición.<br>\n",
    "else:<br>\n",
    "  Instrucciones a ejecutar si no se cumple la condición.\n",
    "  \n",
    " <br>\n",
    " \n",
    "El programa pasa por el primer if. Si no se cumple la condición, pasa a comprobar si se cumple la condición contenida en elif. Si esta condición tampoco se cumple, pasa a realizar las instrucciones contenidas en el else. <br><br>\n",
    "\n",
    "En el siguiente ejemplo se comprueba si el valor de a es mayor que b, si no es el caso, comprobamos si el valor de a es igual a b y si no, indicamos que el valor de a es menor al de b."
   ]
  },
  {
   "cell_type": "code",
   "execution_count": null,
   "id": "22fce9ea",
   "metadata": {},
   "outputs": [],
   "source": [
    "a = 25\n",
    "b = 20\n",
    "\n",
    "if (a > b):\n",
    "    print(a)\n",
    "else:\n",
    "    print(b)"
   ]
  },
  {
   "cell_type": "code",
   "execution_count": 56,
   "id": "02d630a0",
   "metadata": {
    "scrolled": true
   },
   "outputs": [
    {
     "name": "stdout",
     "output_type": "stream",
     "text": [
      "El valor de a es igual al de b\n",
      "Se ha terminado el proceso\n"
     ]
    }
   ],
   "source": [
    "a= 30\n",
    "b= 30\n",
    "\n",
    "if (a > b): #Condición a comprobar. Si a es mayor que b\n",
    "    print(\"El valor de a es mayor que el de b\") \n",
    "elif (a == b): #Si a es igual a b. \n",
    "    print(\"El valor de a es igual al de b\")\n",
    "else: #En otro caso\n",
    "    print(\"El valor de a es menor al de b\") \n",
    "\n",
    "print(\"Se ha terminado el proceso\")"
   ]
  },
  {
   "cell_type": "markdown",
   "id": "be593fa8",
   "metadata": {},
   "source": [
    "Nótese que podemos añadir tantos elif como creamos necesarios para comprobar diferentes condiciones. Por ejemplo:\n"
   ]
  },
  {
   "cell_type": "code",
   "execution_count": null,
   "id": "5682c12b",
   "metadata": {},
   "outputs": [],
   "source": [
    "a= 20\n",
    "\n",
    "\n",
    "if (a > 0): #Condición a comprobar. Si a es mayor que b\n",
    "    print(\"El valor de a es mayor que 0\") \n",
    "elif (a == 0): #Si a es igual a 0. \n",
    "    print(\"El valor de a es igual a 0\")\n",
    "elif (a < 0):\n",
    "    print(\"El valor de a es menor a 0\")\n",
    "else: #En otro caso\n",
    "    print(\"Puede que no sea un número\")"
   ]
  },
  {
   "cell_type": "code",
   "execution_count": null,
   "id": "8e49bc1a",
   "metadata": {},
   "outputs": [],
   "source": [
    "edad = int(input(\"¿Cuántos años tiene? \"))\n",
    "if edad < 24:\n",
    "    print(\"No tiene permitida la entrada\")\n",
    "    print(\"Eres aún demasiado joven\")\n",
    "elif edad == 24:\n",
    "    print(\"¡Justo cumpliste los años!¡Puedes pasar!\")\n",
    "else:\n",
    "    print(\"¡Puede pasar!\")\n",
    "    print(\"Tienes la edad permitida\")\n",
    "\n",
    "print(\"¡Hasta la próxima!\")"
   ]
  },
  {
   "cell_type": "code",
   "execution_count": 60,
   "id": "fca79d52",
   "metadata": {},
   "outputs": [
    {
     "name": "stdin",
     "output_type": "stream",
     "text": [
      "¿Cuántos años tiene?  -3\n"
     ]
    },
    {
     "name": "stdout",
     "output_type": "stream",
     "text": [
      "Es usted menor de edad\n"
     ]
    }
   ],
   "source": [
    "# ¿Qué le ocurre a este código?\n",
    "\n",
    "edad = int(input(\"¿Cuántos años tiene? \"))\n",
    "if edad < 18:\n",
    "    print(\"Es usted menor de edad\")\n",
    "elif edad < 0:\n",
    "    print(\"No se puede tener una edad negativa\")\n",
    "else:\n",
    "    print(\"Es usted mayor de edad\")"
   ]
  },
  {
   "cell_type": "code",
   "execution_count": 64,
   "id": "0f370553",
   "metadata": {},
   "outputs": [
    {
     "name": "stdin",
     "output_type": "stream",
     "text": [
      "¿Cuántos años tiene?  2\n"
     ]
    },
    {
     "name": "stdout",
     "output_type": "stream",
     "text": [
      "Es usted menor de edad\n"
     ]
    }
   ],
   "source": [
    "# Debemos cambiar el orden de las condiciones\n",
    "\n",
    "edad = int(input(\"¿Cuántos años tiene? \"))\n",
    "\n",
    "if edad < 0:\n",
    "    print(\"No se puede tener una edad negativa\")\n",
    "elif edad < 18:\n",
    "    print(\"Es usted menor de edad\")\n",
    "else:\n",
    "    print(\"Es usted mayor de edad\")"
   ]
  },
  {
   "cell_type": "markdown",
   "id": "7e043536",
   "metadata": {},
   "source": [
    "### Varias condiciones en la misma sentencia IF ###\n",
    "\n",
    "Se pueden combinar varias condiciones dentro de una sentencia if, de forma que solo se ejecute el código de su interior si se cumple la combinación de éstas. Una posible estructura quedaría así.<br>\n",
    "\n",
    "if(condicion_1 & condicion_2):<br>\n",
    "&emsp; Instrucciones a ejecutar. <br>\n",
    "\n",
    "<br>\n",
    "Un posible ejemplo sería:"
   ]
  },
  {
   "cell_type": "code",
   "execution_count": null,
   "id": "5cbcf54a",
   "metadata": {},
   "outputs": [
    {
     "name": "stdout",
     "output_type": "stream",
     "text": [
      "Bienvenido Andrés\n"
     ]
    }
   ],
   "source": [
    "usuario= \"Andrés\"\n",
    "password = 1234\n",
    "\n",
    "if((usuario == \"Andrés\") and (password == 1234) ): #Si el usuario es Andrés y la contraseña es 1234\n",
    "    print(\"Bienvenido Andrés\")\n",
    "else:\n",
    "    print(\"El usuario o la contraseña son incorrectos\")"
   ]
  },
  {
   "cell_type": "code",
   "execution_count": null,
   "id": "496ba84e",
   "metadata": {},
   "outputs": [],
   "source": [
    "# ¿Qué ocurre si quitamos los paréntesis?\n",
    "usuario= \"Andrés\"\n",
    "password = 1234\n",
    "\n",
    "if(usuario == \"Andrés\" and password == 1234 ): #Si el usuario es Andrés y la contraseña es 1234\n",
    "    print(\"Bienvenido Andrés\")\n",
    "else:\n",
    "    print(\"El usuario o la contraseña son incorrectos\")"
   ]
  },
  {
   "cell_type": "code",
   "execution_count": 69,
   "id": "d5c95ecf",
   "metadata": {},
   "outputs": [
    {
     "name": "stdout",
     "output_type": "stream",
     "text": [
      "Bienvenido Andrés\n"
     ]
    }
   ],
   "source": [
    "# ¿Qué ocurre si quitamos los paréntesis?\n",
    "usuario= \"Andrés\"\n",
    "password = 1234\n",
    "\n",
    "if usuario == \"Andrés\" and password == 1234 : #Si el usuario es Andrés y la contraseña es 1234\n",
    "    print(\"Bienvenido Andrés\")\n",
    "else:\n",
    "    print(\"El usuario o la contraseña son incorrectos\")"
   ]
  },
  {
   "cell_type": "code",
   "execution_count": null,
   "id": "1f0f208d",
   "metadata": {},
   "outputs": [],
   "source": [
    "# Ejemplo con OR\n",
    "password = 12345\n",
    "\n",
    "if ((password == 1234) or (password == 12345)) : #Si la contraseña es alguna de las dos\n",
    "    print(\"Contraseña válida\")\n",
    "else:\n",
    "    print(\"Contraseña incorrecta\")"
   ]
  },
  {
   "cell_type": "markdown",
   "id": "71247a1b",
   "metadata": {},
   "source": [
    "\n",
    "### Sentencias IF anidadas  ###\n",
    "\n",
    "Se pueden construir sentencias IF anidadas, es decir, podemos crear una sentencia If dentro de otra. Para ello su estructura podría ser la siguiente: <br>\n",
    "\n",
    "if(condicion_1):<br>\n",
    "&emsp;if(condicion_2):<br>\n",
    "&emsp;&emsp;Instrucciones a ejecutar<br>\n",
    "\n",
    "<br>\n",
    "Un ejemplo podría ser el siguiente: "
   ]
  },
  {
   "cell_type": "code",
   "execution_count": 74,
   "id": "abaf3f4f",
   "metadata": {},
   "outputs": [
    {
     "name": "stdin",
     "output_type": "stream",
     "text": [
      "Escribe True o False: True\n",
      "Escribe Toyota o no Toyota\n"
     ]
    },
    {
     "name": "stdout",
     "output_type": "stream",
     "text": [
      "Es un todoterreno\n"
     ]
    }
   ],
   "source": [
    "coche = bool(input(\"Escribe True o False:\"))\n",
    "modelo = input(\"Escribe Toyota o no\")\n",
    "\n",
    "if (coche == True): #Condición: Si es un coche\n",
    "    if (modelo == \"Toyota\"): #Si además es es ese modelo, sé que es un todoterreno\n",
    "        print(\"Es un todoterreno\")\n",
    "    else:\n",
    "        print(\"No sé que coche es\")\n",
    "else: #Si no es un coche\n",
    "    print(\"No tienes un coche\")\n",
    "    "
   ]
  },
  {
   "cell_type": "code",
   "execution_count": null,
   "id": "b3ef6428",
   "metadata": {},
   "outputs": [],
   "source": [
    "coche = True\n",
    "type(coche)"
   ]
  },
  {
   "cell_type": "code",
   "execution_count": null,
   "id": "a7bfdf7d",
   "metadata": {},
   "outputs": [],
   "source": [
    "coche = \"True\"\n",
    "type(coche)"
   ]
  },
  {
   "cell_type": "markdown",
   "id": "76229fad",
   "metadata": {},
   "source": [
    "Aunque las sentencias anidadas pueden ser muy útiles, no se recomienda anidar muchas, ya que complica la legibilidad del código."
   ]
  },
  {
   "cell_type": "markdown",
   "id": "ecd41d30",
   "metadata": {},
   "source": [
    "## Ejercicios propuestos  ##\n",
    "1. Crea un programa que pida introducir un número entero y compruebe si es múltiplo de 7 (es decir, si al dividir dicho número entre 7, su resto es cero)."
   ]
  },
  {
   "cell_type": "code",
   "execution_count": null,
   "id": "dfccc358",
   "metadata": {},
   "outputs": [],
   "source": []
  },
  {
   "cell_type": "markdown",
   "id": "685fffc0",
   "metadata": {},
   "source": [
    "2.\tAl programa anterior, agrégale una condición más que nos indique si el número es múltiplo de 3."
   ]
  },
  {
   "cell_type": "code",
   "execution_count": null,
   "id": "ff435265",
   "metadata": {},
   "outputs": [],
   "source": []
  },
  {
   "cell_type": "markdown",
   "id": "bb363215",
   "metadata": {},
   "source": [
    "3.\tAhora, sólo nos van a interesar los números múltiplos de 7 y mayores de 30. Crea un programa que solicite al usuario introducir un número. Si dicho número es múltiplo de 7 y mayor de 30, imprime por pantalla un mensaje de éxito. Si no, sigue buscando."
   ]
  },
  {
   "cell_type": "code",
   "execution_count": null,
   "id": "41877bfe",
   "metadata": {},
   "outputs": [],
   "source": []
  },
  {
   "cell_type": "markdown",
   "id": "d85daf6f",
   "metadata": {},
   "source": [
    "4.\tVamos a crear un programa que se llame “DIVISOR DE NÚMEROS”. Haz que solicite al usuario que introduzca por pantalla, por un lado, el dividendo de la operación y por otro el divisor, ambos enteros. Después, crea una sentencia anidada en la que, si la división es exacta, muestre ese mensaje, y el contrario si no lo es. ¡Ten en cuenta también que no se puede dividir entre cero!"
   ]
  },
  {
   "cell_type": "code",
   "execution_count": null,
   "id": "d53615cf",
   "metadata": {},
   "outputs": [],
   "source": []
  },
  {
   "cell_type": "markdown",
   "id": "f3138964",
   "metadata": {},
   "source": [
    "5.\tCrea un “MEZCLADOR DE COLORES” que haga lo siguiente:\n",
    "\n",
    "•\tInforma al usuario que el color rojo se representará por R y el azul por A.\n",
    "\n",
    "•\tPídele que seleccione uno de los dos colores anteriores; si en esta primera elección se selecciona R, como segunda elección se facilitan otros dos colores, o verde V o azul A. \n",
    "\n",
    "•\tSi en la segunda elección se escoge A, imprime por pantalla que la mezcla entre azul y rojo es magenta.\n",
    "\n",
    "•\tSi en la segunda elección se escoge V, imprime por pantalla que la mezcla entre verde y rojo produce amarillo.\n",
    "\n",
    "•\tAhora, si en la primera elección, en vez de seleccionar R, se eligió A, facilita otras dos posibles opciones; esta vez verde V o rojo R.\n",
    "\n",
    "•\tSi en esta segunda elección se escoge V, informa al usuario de que la mezcla entre el verde y el azul es cian.\n",
    "\n",
    "•\tSi en esta segunda elección se escoge R, imprime por pantalla que la mezcla entre el rojo y el azul produce Magenta.\n"
   ]
  },
  {
   "cell_type": "code",
   "execution_count": null,
   "id": "30a3e597",
   "metadata": {},
   "outputs": [],
   "source": []
  }
 ],
 "metadata": {
  "kernelspec": {
   "display_name": "Python 3 (ipykernel)",
   "language": "python",
   "name": "python3"
  },
  "language_info": {
   "codemirror_mode": {
    "name": "ipython",
    "version": 3
   },
   "file_extension": ".py",
   "mimetype": "text/x-python",
   "name": "python",
   "nbconvert_exporter": "python",
   "pygments_lexer": "ipython3",
   "version": "3.9.7"
  }
 },
 "nbformat": 4,
 "nbformat_minor": 5
}
