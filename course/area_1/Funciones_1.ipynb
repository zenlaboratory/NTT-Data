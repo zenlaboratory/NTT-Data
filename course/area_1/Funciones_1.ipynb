{
 "cells": [
  {
   "cell_type": "markdown",
   "id": "ce934738",
   "metadata": {},
   "source": [
    "Os acordáis del programa que creasteis para comprobar si un número es par o impar...\n"
   ]
  },
  {
   "cell_type": "code",
   "execution_count": 1,
   "id": "b4f9598f",
   "metadata": {},
   "outputs": [
    {
     "name": "stdout",
     "output_type": "stream",
     "text": [
      "Ingresa un número: 5\n",
      "El número es impar\n"
     ]
    }
   ],
   "source": [
    "# Programa para comprobar si un número es par o impar\n",
    "\n",
    "numero = int(input(\"Ingresa un número: \"))\n",
    "\n",
    "if numero % 2 == 0:\n",
    "    print(\"El número es par\")\n",
    "else:\n",
    "    print(\"El número es impar\")\n"
   ]
  },
  {
   "cell_type": "markdown",
   "id": "35090720",
   "metadata": {},
   "source": [
    "¿Cada vez que yo quiera comprobarlo, debería utilizar todo este código?..."
   ]
  },
  {
   "cell_type": "code",
   "execution_count": 2,
   "id": "46de26b1",
   "metadata": {},
   "outputs": [],
   "source": [
    "def par_impar(numero):\n",
    "    if numero % 2 == 0:\n",
    "        print(\"El número es par\")\n",
    "    else:\n",
    "        print(\"El número es impar\")"
   ]
  },
  {
   "cell_type": "code",
   "execution_count": 3,
   "id": "2cb0c015",
   "metadata": {},
   "outputs": [
    {
     "name": "stdout",
     "output_type": "stream",
     "text": [
      "El número es impar\n"
     ]
    }
   ],
   "source": [
    "par_impar(5)"
   ]
  },
  {
   "cell_type": "markdown",
   "id": "32986cae",
   "metadata": {},
   "source": [
    "# Funciones #\n",
    "\n",
    "\n",
    "Las funciones permiten definir bloques de código reutilizables, los cuales serán ejecutados al llamar a la función. Una función queda expresada de la siguiente manera: <br>\n",
    "\n",
    "def nombre_funcion(): <br>\n",
    "&emsp;Instrucciones a ejecutar\n",
    "\n",
    "En Python, una definición de función tiene las siguientes características:\n",
    "\n",
    "* La palabra clave def\n",
    "\n",
    "* Un nombre de función\n",
    "\n",
    "* Paréntesis ’()’, y dentro de los paréntesis los parámetros de entrada, aunque los parámetros de entrada sean opcionales.\n",
    "\n",
    "* Dos puntos ’:’\n",
    "\n",
    "* Algún bloque de código para ejecutar\n",
    "\n",
    "* Una sentencia de retorno (opcional)\n",
    "\n",
    "__El bloque de código que ejecutará la función incluye todas las declaraciones con indentación dentro de la función.__\n",
    "\n",
    "Para llamar a la función solo deberemos escribir el nombre de la función."
   ]
  },
  {
   "cell_type": "code",
   "execution_count": 2,
   "id": "edfccb70",
   "metadata": {},
   "outputs": [
    {
     "name": "stdout",
     "output_type": "stream",
     "text": [
      "hola\n"
     ]
    }
   ],
   "source": [
    "# función sin parámetros o retorno de valores\n",
    "def diHola():\n",
    "    print(\"hola\")\n",
    "    \n",
    "diHola()  # llamada a la función, 'Hello!' se muestra en la consola"
   ]
  },
  {
   "cell_type": "markdown",
   "id": "b5d55b79",
   "metadata": {},
   "source": [
    "### Parámetros ###\n",
    "Las funciones tienen la característica de admitir parámetros, los cuales son datos que la función utilizará para completar sus instrucciones. Además, estos parámetros pueden ser obligatorios u opcionales, dándoles un valor por defecto. Para pasarle los datos a la función deberemos pasarle los datos en la llamada de la función."
   ]
  },
  {
   "cell_type": "code",
   "execution_count": 11,
   "id": "f5732eeb",
   "metadata": {},
   "outputs": [
    {
     "name": "stdout",
     "output_type": "stream",
     "text": [
      "Hello Ana!\n",
      "Hello Roberto!\n"
     ]
    }
   ],
   "source": [
    "# función con un parámetro\n",
    "def hola_con_nombre(name):\n",
    "    print(\"Hello \" + name + \"!\")\n",
    "\n",
    "hola_con_nombre(\"Ana\")  # llamada a la función, 'Hello Aída!' se muestra en la consola\n",
    "hola_con_nombre(\"Roberto\")"
   ]
  },
  {
   "cell_type": "code",
   "execution_count": 17,
   "id": "8d6376ba",
   "metadata": {},
   "outputs": [
    {
     "name": "stdout",
     "output_type": "stream",
     "text": [
      "15\n"
     ]
    }
   ],
   "source": [
    "# función con dos parámetros\n",
    "def multiplica(val1: int, val2: int):\n",
    "    val3 = val1 * val2\n",
    "    print(val3)\n",
    "\n",
    "\n",
    "multiplica(3, 5)  # muestra 15 en la consola"
   ]
  },
  {
   "cell_type": "markdown",
   "id": "0ab9be15",
   "metadata": {},
   "source": [
    "Si la definición de una función incluye parámetros, debemos proporcionar el mismo número de parámetros cuando llamemos a la función:"
   ]
  },
  {
   "cell_type": "code",
   "execution_count": 9,
   "id": "05324964",
   "metadata": {},
   "outputs": [
    {
     "ename": "TypeError",
     "evalue": "multiplica() missing 1 required positional argument: 'val2'",
     "output_type": "error",
     "traceback": [
      "\u001b[1;31m---------------------------------------------------------------------------\u001b[0m",
      "\u001b[1;31mTypeError\u001b[0m                                 Traceback (most recent call last)",
      "Cell \u001b[1;32mIn[9], line 1\u001b[0m\n\u001b[1;32m----> 1\u001b[0m \u001b[38;5;28mprint\u001b[39m(\u001b[43mmultiplica\u001b[49m\u001b[43m(\u001b[49m\u001b[38;5;241;43m3\u001b[39;49m\u001b[43m)\u001b[49m)  \u001b[38;5;66;03m# TypeError: multiplica() utiliza exactamente 2 argumentos y sólo estamos indicando 1\u001b[39;00m\n",
      "\u001b[1;31mTypeError\u001b[0m: multiplica() missing 1 required positional argument: 'val2'"
     ]
    }
   ],
   "source": [
    "print(multiplica(3))  # TypeError: multiplica() utiliza exactamente 2 argumentos y sólo estamos indicando 1"
   ]
  },
  {
   "cell_type": "code",
   "execution_count": 12,
   "id": "3505862e",
   "metadata": {},
   "outputs": [
    {
     "name": "stdout",
     "output_type": "stream",
     "text": [
      "aaaaa\n",
      "None\n"
     ]
    }
   ],
   "source": [
    "print(multiplica('a', 5))  # 'aaaaa' mostrado por pantalla"
   ]
  },
  {
   "cell_type": "code",
   "execution_count": 10,
   "id": "2b66864b",
   "metadata": {},
   "outputs": [
    {
     "ename": "TypeError",
     "evalue": "can't multiply sequence by non-int of type 'str'",
     "output_type": "error",
     "traceback": [
      "\u001b[1;31m---------------------------------------------------------------------------\u001b[0m",
      "\u001b[1;31mTypeError\u001b[0m                                 Traceback (most recent call last)",
      "Cell \u001b[1;32mIn[10], line 1\u001b[0m\n\u001b[1;32m----> 1\u001b[0m \u001b[38;5;28mprint\u001b[39m(\u001b[43mmultiplica\u001b[49m\u001b[43m(\u001b[49m\u001b[38;5;124;43m'\u001b[39;49m\u001b[38;5;124;43ma\u001b[39;49m\u001b[38;5;124;43m'\u001b[39;49m\u001b[43m,\u001b[49m\u001b[43m \u001b[49m\u001b[38;5;124;43m'\u001b[39;49m\u001b[38;5;124;43mb\u001b[39;49m\u001b[38;5;124;43m'\u001b[39;49m\u001b[43m)\u001b[49m)  \u001b[38;5;66;03m# TypeError: Python no puede multiplicar dos strings\u001b[39;00m\n",
      "Cell \u001b[1;32mIn[8], line 3\u001b[0m, in \u001b[0;36mmultiplica\u001b[1;34m(val1, val2)\u001b[0m\n\u001b[0;32m      2\u001b[0m \u001b[38;5;28;01mdef\u001b[39;00m \u001b[38;5;21mmultiplica\u001b[39m(val1: \u001b[38;5;28mint\u001b[39m, val2: \u001b[38;5;28mint\u001b[39m):\n\u001b[1;32m----> 3\u001b[0m     val3 \u001b[38;5;241m=\u001b[39m \u001b[43mval1\u001b[49m\u001b[43m \u001b[49m\u001b[38;5;241;43m*\u001b[39;49m\u001b[43m \u001b[49m\u001b[43mval2\u001b[49m\n\u001b[0;32m      4\u001b[0m     \u001b[38;5;28mprint\u001b[39m(val3)\n",
      "\u001b[1;31mTypeError\u001b[0m: can't multiply sequence by non-int of type 'str'"
     ]
    }
   ],
   "source": [
    "print(multiplica('a', 'b'))  # TypeError: Python no puede multiplicar dos strings"
   ]
  },
  {
   "cell_type": "code",
   "execution_count": 40,
   "id": "0c1e93ee",
   "metadata": {},
   "outputs": [],
   "source": [
    "#El parámetro nombre es requerido y apellidos es opcional.\n",
    "def saludar(nombre, apellidos = None):\n",
    "    \n",
    "    if apellidos == None: #Si no se ha indicado los apellidos imprimimos solo el nombre.\n",
    "        print(\"Hola\", nombre)\n",
    "    else:\n",
    "        print(\"Hola\", nombre, apellidos) #Si se han indicado los apellidos imprimimos nombre y apellidos.\n"
   ]
  },
  {
   "cell_type": "code",
   "execution_count": 41,
   "id": "8b76cb93",
   "metadata": {},
   "outputs": [
    {
     "name": "stdout",
     "output_type": "stream",
     "text": [
      "Hola Roberto\n"
     ]
    }
   ],
   "source": [
    "#Llamada a la función, sin apellidos\n",
    "saludar(\"Roberto\")"
   ]
  },
  {
   "cell_type": "code",
   "execution_count": 42,
   "id": "e21e4801",
   "metadata": {},
   "outputs": [
    {
     "name": "stdout",
     "output_type": "stream",
     "text": [
      "Hola María Molina\n"
     ]
    }
   ],
   "source": [
    "#Llamada a la función indicando el parámetro opcional.\n",
    "saludar(\"María\", \"Molina\")"
   ]
  },
  {
   "cell_type": "code",
   "execution_count": 14,
   "id": "787c6b46",
   "metadata": {},
   "outputs": [],
   "source": [
    "# Otro ejemplo con un parámetro opcional numérico\n",
    "def sumar(x, y, z = 0): # \"Inicializamos\" la z en cero\n",
    "    suma = x + y + z\n",
    "    print(suma)"
   ]
  },
  {
   "cell_type": "code",
   "execution_count": 17,
   "id": "c4578cab",
   "metadata": {},
   "outputs": [
    {
     "name": "stdout",
     "output_type": "stream",
     "text": [
      "4\n"
     ]
    }
   ],
   "source": [
    "sumar(1,3)"
   ]
  },
  {
   "cell_type": "code",
   "execution_count": 18,
   "id": "53bade32",
   "metadata": {},
   "outputs": [
    {
     "name": "stdout",
     "output_type": "stream",
     "text": [
      "8\n"
     ]
    }
   ],
   "source": [
    "sumar(1,3,4)"
   ]
  },
  {
   "cell_type": "code",
   "execution_count": 21,
   "id": "05f81c32",
   "metadata": {},
   "outputs": [
    {
     "name": "stdout",
     "output_type": "stream",
     "text": [
      "6\n"
     ]
    }
   ],
   "source": [
    "sumar(1,2,3)"
   ]
  },
  {
   "cell_type": "markdown",
   "id": "31c4d2fa",
   "metadata": {},
   "source": [
    "Como se ha comentado anteriormente, la gran ventaja de las funciones es que podemos llamarlas tantas veces como queramos sin tener que rescribir cada vez el código.<br><br>\n",
    "\n",
    "El siguiente código toma una lista de nombres y realiza el saludo para cada nombre."
   ]
  },
  {
   "cell_type": "code",
   "execution_count": null,
   "id": "a56a2c43",
   "metadata": {},
   "outputs": [],
   "source": [
    "#Definición de la función\n",
    "def saludar(nombre):\n",
    "    print(\"Hola\", nombre)\n",
    "    "
   ]
  },
  {
   "cell_type": "code",
   "execution_count": null,
   "id": "e7ac0f0c",
   "metadata": {},
   "outputs": [],
   "source": [
    "#Lista de nombres\n",
    "lista_nombres = [\"María\", \"Antonio\", \"Juana\"]"
   ]
  },
  {
   "cell_type": "code",
   "execution_count": null,
   "id": "be85e314",
   "metadata": {},
   "outputs": [
    {
     "name": "stdout",
     "output_type": "stream",
     "text": [
      "Hola María\n",
      "Hola Antonio\n",
      "Hola Juana\n"
     ]
    }
   ],
   "source": [
    "#Para cada elemento de la lista llamamos a la función saludar.\n",
    "for nombre in lista_nombres:\n",
    "    saludar(nombre)"
   ]
  },
  {
   "cell_type": "markdown",
   "id": "ddc531c2",
   "metadata": {},
   "source": [
    "También es posible llamar a los parámetros de forma desordenada, indicando el nombre de los mismos al realizar la llamada a la función:"
   ]
  },
  {
   "cell_type": "code",
   "execution_count": 20,
   "id": "316f72b8",
   "metadata": {},
   "outputs": [],
   "source": [
    "def saludar(nombre, apellidos):\n",
    "    print(\"Hola\", nombre, apellidos)\n"
   ]
  },
  {
   "cell_type": "code",
   "execution_count": 21,
   "id": "597639c2",
   "metadata": {},
   "outputs": [
    {
     "name": "stdout",
     "output_type": "stream",
     "text": [
      "Hola Morante Canario Pilar\n"
     ]
    }
   ],
   "source": [
    "saludar(\"Morante Canario\",\"Pilar\")"
   ]
  },
  {
   "cell_type": "code",
   "execution_count": 22,
   "id": "b5e3182f",
   "metadata": {},
   "outputs": [
    {
     "name": "stdout",
     "output_type": "stream",
     "text": [
      "Hola Pilar Morante Canario\n"
     ]
    }
   ],
   "source": [
    "saludar(apellidos=\"Morante Canario\", nombre=\"Pilar\")"
   ]
  },
  {
   "cell_type": "markdown",
   "id": "e37ceabb",
   "metadata": {},
   "source": [
    "### *args ###"
   ]
  },
  {
   "cell_type": "markdown",
   "id": "656a02f5",
   "metadata": {},
   "source": [
    "Puede darse el caso de que no sepamos cuantos argumentos vamos a enviar a la función. En este caso, al definir la función indicaremos el parámetro __args precedido de *__, que nos permite pasar tantos argumentos como queramos."
   ]
  },
  {
   "cell_type": "code",
   "execution_count": 50,
   "id": "3dfb121e",
   "metadata": {},
   "outputs": [
    {
     "name": "stdout",
     "output_type": "stream",
     "text": [
      "Roberto\n",
      "137\n"
     ]
    }
   ],
   "source": [
    "# Ejemplo\n",
    "def sum(*args, cliente):\n",
    "    print(cliente)\n",
    "    \"\"\"\n",
    "    la función sum calcula la suma de todos los parámetros que introduzcamos.\n",
    "    \n",
    "    Los...\n",
    "    \n",
    "    Devuelve...\n",
    "    \"\"\"\n",
    "    value = 0\n",
    "    for n in args:\n",
    "        value += n\n",
    "    print(value)\n",
    "    \n",
    "sum(2,3,6,8,9,109, cliente=\"Roberto\")"
   ]
  },
  {
   "cell_type": "markdown",
   "id": "53b3bbc6",
   "metadata": {},
   "source": [
    "Con esta nueva implementación, podemos llamar a la función con cualquier número variable de valores:"
   ]
  },
  {
   "cell_type": "code",
   "execution_count": 24,
   "id": "9bbc3716",
   "metadata": {},
   "outputs": [
    {
     "name": "stdout",
     "output_type": "stream",
     "text": [
      "0\n"
     ]
    }
   ],
   "source": [
    "sum()"
   ]
  },
  {
   "cell_type": "code",
   "execution_count": 25,
   "id": "b8c9b288",
   "metadata": {},
   "outputs": [
    {
     "name": "stdout",
     "output_type": "stream",
     "text": [
      "5\n"
     ]
    }
   ],
   "source": [
    "sum(2,3)"
   ]
  },
  {
   "cell_type": "code",
   "execution_count": 26,
   "id": "3de29ba4",
   "metadata": {},
   "outputs": [
    {
     "name": "stdout",
     "output_type": "stream",
     "text": [
      "9\n"
     ]
    }
   ],
   "source": [
    "sum(2,3,4)"
   ]
  },
  {
   "cell_type": "code",
   "execution_count": 27,
   "id": "a0ab5dc3",
   "metadata": {},
   "outputs": [
    {
     "name": "stdout",
     "output_type": "stream",
     "text": [
      "10\n"
     ]
    }
   ],
   "source": [
    "sum(1,1,1,1,1,1,1,1,1,1)"
   ]
  },
  {
   "cell_type": "code",
   "execution_count": 28,
   "id": "dd90747a",
   "metadata": {},
   "outputs": [
    {
     "name": "stdout",
     "output_type": "stream",
     "text": [
      "101\n"
     ]
    }
   ],
   "source": [
    "sum(1,100)"
   ]
  },
  {
   "cell_type": "code",
   "execution_count": 29,
   "id": "399d0638",
   "metadata": {},
   "outputs": [
    {
     "name": "stdout",
     "output_type": "stream",
     "text": [
      "5050\n"
     ]
    }
   ],
   "source": [
    "suma = 0\n",
    "for a in range(0,101):\n",
    "    suma += a\n",
    "print(suma)"
   ]
  },
  {
   "cell_type": "code",
   "execution_count": 28,
   "id": "393166e4",
   "metadata": {},
   "outputs": [],
   "source": [
    "def suma_rangos(start,stop):\n",
    "    suma = 0\n",
    "    for a in range(start,stop):\n",
    "        suma += a\n",
    "    print(suma)"
   ]
  },
  {
   "cell_type": "code",
   "execution_count": 29,
   "id": "ce8f57ea",
   "metadata": {},
   "outputs": [
    {
     "name": "stdout",
     "output_type": "stream",
     "text": [
      "5050\n"
     ]
    }
   ],
   "source": [
    "suma_rangos(0,101)"
   ]
  },
  {
   "cell_type": "markdown",
   "id": "33ef0e8c",
   "metadata": {},
   "source": [
    "### **kwargs ###"
   ]
  },
  {
   "cell_type": "markdown",
   "id": "8576486d",
   "metadata": {},
   "source": [
    "Veamos ahora el uso de **kwargs como parámetro.\n",
    "\n",
    "En Python, el parámetro especial **kwargs en una función se usa para pasar, de forma opcional, un número variable de argumentos con nombre. Es un diccionario cuyas claves se convierten en parámetros y sus valores en los argumentos de los parámetros.\n",
    "\n",
    "Las principales diferencias con respecto *args son:\n",
    "\n",
    "* Lo que realmente indica que el parámetro es de este tipo es el símbolo ‘**’, el nombre kwargs se usa por convención.\n",
    "* El parámetro recibe los argumentos como un diccionario.\n",
    "* Al tratarse de un diccionario, el orden de los parámetros no importa. Los parámetros se asocian en función de las claves del diccionario."
   ]
  },
  {
   "cell_type": "markdown",
   "id": "0a03de88",
   "metadata": {},
   "source": [
    "__Hay que destacar que la sintaxis es * y ** , siendo los nombres de args y kwargs una simple convención, pero no es un requisito estricto su uso; es decir, que si a una función le pasamos como argumento * mi_lista o  **mi_diccionario tendrá el mismo efecto.__"
   ]
  },
  {
   "cell_type": "code",
   "execution_count": 31,
   "id": "056a7349",
   "metadata": {},
   "outputs": [],
   "source": [
    "def dict_args(**kwargs):\n",
    "    for key, value in kwargs.items():\n",
    "        print(f\"{key}'-'{value}\")\n",
    "    \n",
    "    # Otra forma de iterar\n",
    "    for key in kwargs:\n",
    "        print(f\"Argumento: {key} y valor: {kwargs[key]}\")"
   ]
  },
  {
   "cell_type": "code",
   "execution_count": 32,
   "id": "7208b31a",
   "metadata": {},
   "outputs": [
    {
     "name": "stdout",
     "output_type": "stream",
     "text": [
      "nombre'-'Ricardo\n",
      "apellido'-'Ramon\n",
      "edad'-'50\n",
      "Argumento: nombre y valor: Ricardo\n",
      "Argumento: apellido y valor: Ramon\n",
      "Argumento: edad y valor: 50\n"
     ]
    }
   ],
   "source": [
    "dict_args(nombre='Ricardo', apellido='Ramon', edad=50)"
   ]
  },
  {
   "cell_type": "code",
   "execution_count": 34,
   "id": "522dac21",
   "metadata": {},
   "outputs": [
    {
     "name": "stdout",
     "output_type": "stream",
     "text": [
      "Equipo'-'FC Barcelona\n",
      "Jugador'-'Iniesta\n",
      "Posicion'-'Right winger\n",
      "Numero'-'8\n",
      "Argumento: Equipo y valor: FC Barcelona\n",
      "Argumento: Jugador y valor: Iniesta\n",
      "Argumento: Posicion y valor: Right winger\n",
      "Argumento: Numero y valor: 8\n"
     ]
    }
   ],
   "source": [
    "dict_args(Equipo='FC Barcelona', Jugador='Iniesta', Posicion='Right winger', Numero=8)"
   ]
  },
  {
   "cell_type": "code",
   "execution_count": 36,
   "id": "0a493a36",
   "metadata": {},
   "outputs": [],
   "source": [
    "# Otro ejemplo\n",
    "\n",
    "def suma(**kwargs):\n",
    "    s = 0\n",
    "    for key, value in kwargs.items():\n",
    "        print(key, \"=\", value)\n",
    "        s += value\n",
    "    return s"
   ]
  },
  {
   "cell_type": "code",
   "execution_count": 37,
   "id": "8172dc88",
   "metadata": {},
   "outputs": [
    {
     "name": "stdout",
     "output_type": "stream",
     "text": [
      "a = 3\n",
      "b = 10\n",
      "c = 3\n"
     ]
    },
    {
     "data": {
      "text/plain": [
       "16"
      ]
     },
     "execution_count": 37,
     "metadata": {},
     "output_type": "execute_result"
    }
   ],
   "source": [
    "suma(a=3, b=10, c=3)"
   ]
  },
  {
   "cell_type": "markdown",
   "id": "167e557b",
   "metadata": {},
   "source": [
    "### EJERCICIOS PROPUESTOS ###\n",
    "\n",
    "1. Solicitar al usuario que ingrese su dirección email. Imprimir un mensaje indicando si la dirección es válida o no, valiéndose de una función para decidirlo. \n",
    "Una dirección de email se considerará válida si contiene el símbolo \"@\" y además incorpora un punto para separarlo del dominio.\n"
   ]
  },
  {
   "cell_type": "code",
   "execution_count": 41,
   "id": "0a981fac",
   "metadata": {},
   "outputs": [
    {
     "name": "stdin",
     "output_type": "stream",
     "text": [
      "Introduce tu dirección de email:  r@msd.com\n"
     ]
    },
    {
     "name": "stdout",
     "output_type": "stream",
     "text": [
      "El introducido es un email correcto\n"
     ]
    }
   ],
   "source": [
    "\n",
    "def direccion_email(email):\n",
    "        email_l = list(email)\n",
    "        if email_l.count(\"@\")>0 and email_l.count(\".\")>0:\n",
    "            print(\"El introducido es un email correcto\")\n",
    "        else:\n",
    "            print(\"El introducido NO es un email correcto\")\n",
    "            \n",
    "email = input(\"Introduce tu dirección de email: \")\n",
    "direccion_email(email)"
   ]
  },
  {
   "cell_type": "code",
   "execution_count": 49,
   "id": "2c0b67c9-3a70-4bad-ad09-fac7d4b5270e",
   "metadata": {},
   "outputs": [
    {
     "name": "stdin",
     "output_type": "stream",
     "text": [
      " Igrese su e-mail asd.com\n"
     ]
    },
    {
     "name": "stdout",
     "output_type": "stream",
     "text": [
      "Direccion inválida\n"
     ]
    }
   ],
   "source": [
    "mail = input('Ingrese su e-mail: ')\n",
    "\n",
    "def email(mail):\n",
    "    if '@' in mail and \".\" in mail:\n",
    "        print('Dirección válida')\n",
    "    else:\n",
    "        print('Dirección inválida')\n",
    "\n",
    "email(mail)"
   ]
  },
  {
   "cell_type": "markdown",
   "id": "ab166b92-439d-40d4-8bd5-72c4d31eaba3",
   "metadata": {},
   "source": [
    "2. Requerir al usuario que ingrese un número entero e informar si es primo o no, utilizando una función que lo decida."
   ]
  },
  {
   "cell_type": "code",
   "execution_count": 59,
   "id": "b3206437",
   "metadata": {},
   "outputs": [],
   "source": [
    "\n",
    "def primo(num):\n",
    "    contar = 0\n",
    "    for i in range(2, num):\n",
    "        if num % i == 0:\n",
    "            contar = contar + 1\n",
    "            print(\"El número no es primo\")\n",
    "            break\n",
    "            \n",
    "    if contar == 0:\n",
    "        print(\"El número es primo\")\n"
   ]
  },
  {
   "cell_type": "code",
   "execution_count": 60,
   "id": "84616780",
   "metadata": {},
   "outputs": [
    {
     "name": "stdin",
     "output_type": "stream",
     "text": [
      "Introduce un número entero:  4\n"
     ]
    },
    {
     "name": "stdout",
     "output_type": "stream",
     "text": [
      "El número no es primo\n"
     ]
    }
   ],
   "source": [
    "numero=int(input(\"Introduce un número entero: \"))\n",
    "primo(numero)"
   ]
  },
  {
   "cell_type": "markdown",
   "id": "3c28be94-2c1d-4132-95e3-67cdaee51941",
   "metadata": {},
   "source": [
    "3. Calcula, definiiendo una función, el factorial de un número entero introducido. El resultado debe imprimirse por pantalla"
   ]
  },
  {
   "cell_type": "code",
   "execution_count": 61,
   "id": "10b5a7e4",
   "metadata": {},
   "outputs": [
    {
     "name": "stdin",
     "output_type": "stream",
     "text": [
      "Introduce un número entero: 3\n"
     ]
    },
    {
     "name": "stdout",
     "output_type": "stream",
     "text": [
      "El número factorial es:  6\n"
     ]
    }
   ],
   "source": [
    "\n",
    "def factorial(numero):\n",
    "    f=1\n",
    "    if numero!=0:\n",
    "        for i in range(1,numero+1):\n",
    "            f=f*i\n",
    "    print(\"El número factorial es: \", f) \n",
    "\n",
    "numero_factorial = int(input(\"Introduce un número entero:\"))\n",
    "factorial(numero_factorial)"
   ]
  },
  {
   "cell_type": "code",
   "execution_count": 64,
   "id": "97abe072",
   "metadata": {},
   "outputs": [],
   "source": [
    "#4. Reescribe el programa anterior para que se calcule el factorial desde 2 hasta el número entero introducido por el usuario\n",
    "# El resultado ha de ser impreso por pantalla\n",
    "\n",
    "\n",
    "def factorial_multiple(numero):\n",
    "    for i in range(2,numero+1):\n",
    "        factorial = 1\n",
    "        for j in range(2, i+1):\n",
    "            factorial = factorial*j\n",
    "        print(f\"El número factorial de {i} es: \", factorial)\n",
    "        "
   ]
  },
  {
   "cell_type": "code",
   "execution_count": 65,
   "id": "a4170f65",
   "metadata": {},
   "outputs": [
    {
     "name": "stdin",
     "output_type": "stream",
     "text": [
      "Introduce un número entero 4\n"
     ]
    },
    {
     "name": "stdout",
     "output_type": "stream",
     "text": [
      "El número factorial de 2 es:  2\n",
      "El número factorial de 3 es:  6\n",
      "El número factorial de 4 es:  24\n"
     ]
    }
   ],
   "source": [
    "numero_factorial_multiple = int(input(\"Introduce un número entero\"))\n",
    "factorial_multiple(numero_factorial_multiple)"
   ]
  },
  {
   "cell_type": "markdown",
   "id": "4b665929-a63e-4ab6-8bc4-2d8f8a2a78e7",
   "metadata": {},
   "source": [
    "5. Define una función que sea capaz de generar un diccionario. \n",
    "Los claves del diccionario han de ser Nombre, Apellidos, Edad y DNI.\n",
    "La función debe evaluar si el DNI es correcto (longitud = 9). Si no es correcto ha de pedirle al usuario un valor correcto. Comprobar \n"
   ]
  },
  {
   "cell_type": "code",
   "execution_count": 44,
   "id": "f5aef5de",
   "metadata": {},
   "outputs": [],
   "source": [
    "\n",
    "def f_diccionario(clave1, clave2, clave3, clave4):\n",
    "    diccionario = {}\n",
    "    valor1 = input(\"Introduce tu nombre: \").capitalize()\n",
    "    valor2 = input(\"Introduce tus apellidos: \").capitalize()\n",
    "    valor3 = int(input(\"Introduce tu edad: \"))\n",
    "    valor4 = input(\"Introduce tu DNI: \")\n",
    "    \n",
    "    while len(valor4) != 9:\n",
    "        print(\"Lo lamento, pero no es un DNI válido. Introduce uno correcto\")\n",
    "        valor4 = input(\"Introduce un DNI correcto (ACUÉRDATE: son 9 posiciones): \")\n",
    "    else:\n",
    "        diccionario[clave1] = valor1\n",
    "        diccionario[clave2] = valor2\n",
    "        diccionario[clave3] = valor3\n",
    "        diccionario[clave4] = valor4\n",
    "        print(diccionario)\n",
    "    "
   ]
  },
  {
   "cell_type": "code",
   "execution_count": 45,
   "id": "f56cc948",
   "metadata": {},
   "outputs": [
    {
     "name": "stdout",
     "output_type": "stream",
     "text": [
      "Introduce tu nombre: Vanesa\n",
      "Introduce tus apellidos: saez\n",
      "Introduce tu edad: 34\n",
      "Introduce tu DNI: 123456789\n",
      "{'Nombre': 'Vanesa', 'Apellidos': 'Saez', 'Edad': 34, 'DNI': '123456789'}\n"
     ]
    }
   ],
   "source": [
    "f_diccionario(\"Nombre\", \"Apellidos\", \"Edad\", \"DNI\")"
   ]
  },
  {
   "cell_type": "code",
   "execution_count": null,
   "id": "78c8df06-c0da-400e-95e1-08e6d99842fd",
   "metadata": {},
   "outputs": [
    {
     "name": "stdout",
     "output_type": "stream",
     "text": [
      "E\n"
     ]
    }
   ],
   "source": [
    "#Calculo de la letra del dni\n",
    "\n",
    "letras_dni = ['T','R','W','A','G','M','Y','F','P','D','X','B','N','J','Z','S','Q','V','H','L','C','K','E']\n",
    "\n",
    "numero = 1234567\n",
    "\n",
    "print(letras_dni[numero % 23])"
   ]
  }
 ],
 "metadata": {
  "kernelspec": {
   "display_name": "Python 3 (ipykernel)",
   "language": "python",
   "name": "python3"
  },
  "language_info": {
   "codemirror_mode": {
    "name": "ipython",
    "version": 3
   },
   "file_extension": ".py",
   "mimetype": "text/x-python",
   "name": "python",
   "nbconvert_exporter": "python",
   "pygments_lexer": "ipython3",
   "version": "3.9.7"
  }
 },
 "nbformat": 4,
 "nbformat_minor": 5
}
