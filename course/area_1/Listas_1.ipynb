{
 "cells": [
  {
   "cell_type": "markdown",
   "id": "daaa8df1",
   "metadata": {},
   "source": [
    "## Listas ## \n",
    "\n",
    "<br>\n",
    "Las listas son usadas para almacenar distintos elementos dentro de una variable. Podemos acceder a un elemento específico a través de su indice, cambiar el valor de cada elemento de la lista, insertar valores duplicados y admite datos de distinto tipo\n",
    "\n",
    "Podemos crear una lista de dos maneras:\n",
    "1. Utilizando los corchetes []\n",
    "2. Mediante la función list()\n"
   ]
  },
  {
   "cell_type": "code",
   "execution_count": 109,
   "id": "dc2f8416",
   "metadata": {},
   "outputs": [
    {
     "name": "stdout",
     "output_type": "stream",
     "text": [
      "[]\n"
     ]
    }
   ],
   "source": [
    "# Creación de una lista vacía\n",
    "\n",
    "lista_vacia_1 = []\n",
    "print(lista_vacia_1)"
   ]
  },
  {
   "cell_type": "code",
   "execution_count": 110,
   "id": "2668f5b6",
   "metadata": {},
   "outputs": [
    {
     "name": "stdout",
     "output_type": "stream",
     "text": [
      "[]\n"
     ]
    }
   ],
   "source": [
    "lista_vacia_2 = list()\n",
    "print(lista_vacia_2)"
   ]
  },
  {
   "cell_type": "code",
   "execution_count": 111,
   "id": "21ae1308",
   "metadata": {},
   "outputs": [
    {
     "name": "stdout",
     "output_type": "stream",
     "text": [
      "['Manzanas', 'Pan', 'Arroz']\n",
      "<class 'list'>\n",
      "['Manzanas', 'Pan', 'Arroz']\n",
      "<class 'list'>\n"
     ]
    }
   ],
   "source": [
    "lista_compra_1 = [\"Manzanas\", \"Pan\", \"Arroz\"]\n",
    "print(lista_compra_1)\n",
    "print(type(lista_compra_1))\n",
    "\n",
    "lista_compra_2 =list((\"Manzanas\", \"Pan\", \"Arroz\"))\n",
    "print(lista_compra_2)\n",
    "print(type(lista_compra_2))"
   ]
  },
  {
   "cell_type": "markdown",
   "id": "e3541e4b",
   "metadata": {},
   "source": [
    "Las características de las LISTAS son las siguientes:\n",
    "\n",
    "1. Ordenada: un elemento dentro de una lista está indexado. Se accede a él señalando su índice.\n",
    "2. Editable: una lista puede editarse. Se puede editar un elemento ya existente dentro de una lista, eliminar o añadir uno nuevo.\n",
    "3. Dinámica: las listas son dinámicas: pueden contener distintos tipos de datos.\n",
    "4. No única: una lista puede tener elementos duplicados. Esto no sería objeto de error."
   ]
  },
  {
   "cell_type": "code",
   "execution_count": 112,
   "id": "58fbf280",
   "metadata": {},
   "outputs": [
    {
     "name": "stdout",
     "output_type": "stream",
     "text": [
      "['Uno', 2, 'Tres', 4]\n",
      "<class 'list'>\n"
     ]
    }
   ],
   "source": [
    "# Vimos que podían contener distintos elementos\n",
    "\n",
    "lista_mezcla = [\"Uno\", 2, \"Tres\", 4]\n",
    "print(lista_mezcla)\n",
    "print(type(lista_mezcla))"
   ]
  },
  {
   "cell_type": "code",
   "execution_count": 113,
   "id": "5003c040",
   "metadata": {},
   "outputs": [
    {
     "name": "stdout",
     "output_type": "stream",
     "text": [
      "[['mi', 'primera', 'lista'], ['mi', 'segunda', 'lista']]\n"
     ]
    }
   ],
   "source": [
    "# Incluidas las propias listas\n",
    "\n",
    "lista_de_listas = [[\"mi\", \"primera\", \"lista\"], [\"mi\", \"segunda\", \"lista\"]]\n",
    "print(lista_de_listas)"
   ]
  },
  {
   "cell_type": "code",
   "execution_count": 114,
   "id": "0ed8fe6d",
   "metadata": {},
   "outputs": [
    {
     "name": "stdout",
     "output_type": "stream",
     "text": [
      "[3, 4, 5, 3, 4, 5]\n"
     ]
    }
   ],
   "source": [
    "# Así como elementos duplicados\n",
    "\n",
    "lista_duplicados = [3, 4, 5, 3, 4, 5]\n",
    "print(lista_duplicados)"
   ]
  },
  {
   "cell_type": "markdown",
   "id": "7d204dd2",
   "metadata": {},
   "source": [
    "La función len() también nos sirve para comprobar la longitud de una lista:"
   ]
  },
  {
   "cell_type": "code",
   "execution_count": 115,
   "id": "9aa50c59",
   "metadata": {},
   "outputs": [
    {
     "data": {
      "text/plain": [
       "6"
      ]
     },
     "execution_count": 115,
     "metadata": {},
     "output_type": "execute_result"
    }
   ],
   "source": [
    "#¿Cuál sería la longitud de lista_duplicados?\n",
    "len(lista_duplicados)"
   ]
  },
  {
   "cell_type": "code",
   "execution_count": 116,
   "id": "439f1241",
   "metadata": {},
   "outputs": [
    {
     "data": {
      "text/plain": [
       "2"
      ]
     },
     "execution_count": 116,
     "metadata": {},
     "output_type": "execute_result"
    }
   ],
   "source": [
    "#¿Cuál será la longitud de lista_de_listas?\n",
    "len(lista_de_listas)"
   ]
  },
  {
   "cell_type": "markdown",
   "id": "54a649ec",
   "metadata": {},
   "source": [
    "Para acceder a los distintos elementos de las listas tenemos que señalar su índice, recordando siempre que en Python comienzan por 0 por la izquierda y por –1 por la derecha."
   ]
  },
  {
   "cell_type": "code",
   "execution_count": 117,
   "id": "7a00a8a9",
   "metadata": {},
   "outputs": [
    {
     "name": "stdout",
     "output_type": "stream",
     "text": [
      "Primer elemento de la lista: Manzana\n",
      "Último elemento de la lista: Fresas\n"
     ]
    }
   ],
   "source": [
    "lista_frutas = [\"Manzana\", \"Tuna\", \"Naranja\", \"Frutilla\", \"Melón\", \"Guayaba\", \"Fresas\"]\n",
    "\n",
    "#Acceso a un elemento de la lista: \n",
    "print(\"Primer elemento de la lista:\",lista_frutas[0]) #Primer elemento.\n",
    "print(\"Último elemento de la lista:\", lista_frutas [-1]) #Último elemento"
   ]
  },
  {
   "cell_type": "code",
   "execution_count": 118,
   "id": "71aa1685",
   "metadata": {},
   "outputs": [
    {
     "data": {
      "text/plain": [
       "'M'"
      ]
     },
     "execution_count": 118,
     "metadata": {},
     "output_type": "execute_result"
    }
   ],
   "source": [
    "# Y si escribimos... lista_frutas[0][0]  , ¿qué es lo que hará?\n",
    "lista_frutas[0][0]"
   ]
  },
  {
   "cell_type": "markdown",
   "id": "151b654a",
   "metadata": {},
   "source": [
    "Para reemplazar elementos de una lista, simplemente accede al elemento que desees modificar, a través de su índice. Puedes seleccionar un elemento o modificar pedazos enteros de la lista de una sola vez."
   ]
  },
  {
   "cell_type": "code",
   "execution_count": 119,
   "id": "51a6e233",
   "metadata": {},
   "outputs": [
    {
     "name": "stdout",
     "output_type": "stream",
     "text": [
      "['Manzana', 'Papaya', 'Naranja', 'Frutilla', 'Melón', 'Guayaba', 'Fresas']\n"
     ]
    }
   ],
   "source": [
    "#Sustitución del segundo elemento: se sustituye \"Tuna\" por \"Papaya\"\n",
    "lista_frutas[1] = \"Papaya\"\n",
    "\n",
    "print(lista_frutas)"
   ]
  },
  {
   "cell_type": "markdown",
   "id": "14dfff25-8410-4693-a552-e26014f9c99e",
   "metadata": {},
   "source": [
    "Si queremos seleccionar \"pedazos\" de la lista; por ejemplo, los últimos tres elementos, y modificarlos por \"Platano\", \"Sandia\" y \"Pera\""
   ]
  },
  {
   "cell_type": "code",
   "execution_count": 120,
   "id": "f53f48cf",
   "metadata": {},
   "outputs": [
    {
     "name": "stdout",
     "output_type": "stream",
     "text": [
      "['Manzana', 'Papaya', 'Naranja', 'Frutilla', 'Platano', 'Sandia', 'Pera']\n"
     ]
    }
   ],
   "source": [
    "lista_frutas[4:] = [\"Platano\", \"Sandia\",\"Pera\"]\n",
    "print(lista_frutas)"
   ]
  },
  {
   "cell_type": "code",
   "execution_count": 121,
   "id": "eb275036",
   "metadata": {},
   "outputs": [
    {
     "name": "stdout",
     "output_type": "stream",
     "text": [
      "['Manzana', 'Papaya', 'Naranja', 'Frutilla', 'Melón', 'Guayaba']\n"
     ]
    }
   ],
   "source": [
    "# ¿Creéis que la siguiente orden \"desharía\" el cambio anterior?\n",
    "lista_frutas[4:] = ['Melón', 'Guayaba']\n",
    "print(lista_frutas)"
   ]
  },
  {
   "cell_type": "code",
   "execution_count": 122,
   "id": "dda7b078",
   "metadata": {},
   "outputs": [
    {
     "name": "stdout",
     "output_type": "stream",
     "text": [
      "['Manzana', 'Papaya', 'Naranja', 'Frutilla', 'Melón', 'Guayaba', 'Fresas']\n"
     ]
    }
   ],
   "source": [
    "# ¿Y si lo hago así?\n",
    "lista_frutas = ['Manzana', 'Papaya', 'Naranja', 'Frutilla', 'Platano', 'Sandia', 'Pera']\n",
    "lista_frutas[4:7] = ['Melón', 'Guayaba', 'Fresas']\n",
    "print(lista_frutas)"
   ]
  },
  {
   "cell_type": "markdown",
   "id": "cbefb19c",
   "metadata": {},
   "source": [
    "Para añadir elementos a una lista utilizamos la sentencia .append(). Se puede añadir un elemento de cualquier tipo; string, int, float,..."
   ]
  },
  {
   "cell_type": "code",
   "execution_count": 123,
   "id": "cf0933cd",
   "metadata": {},
   "outputs": [
    {
     "name": "stdout",
     "output_type": "stream",
     "text": [
      "['Manzana', 'Papaya', 'Naranja', 'Frutilla', 'Melón', 'Guayaba', 'Fresas', 'Piña']\n"
     ]
    }
   ],
   "source": [
    "# ¿Dónde se añaden los elementos?\n",
    "lista_frutas.append(\"Piña\")\n",
    "print(lista_frutas)"
   ]
  },
  {
   "cell_type": "code",
   "execution_count": 124,
   "id": "4da66e9f-e4ee-4c8d-a2df-78a7fb83f49b",
   "metadata": {},
   "outputs": [
    {
     "ename": "TypeError",
     "evalue": "list.append() takes exactly one argument (2 given)",
     "output_type": "error",
     "traceback": [
      "\u001b[1;31m---------------------------------------------------------------------------\u001b[0m",
      "\u001b[1;31mTypeError\u001b[0m                                 Traceback (most recent call last)",
      "\u001b[1;32mC:\\Users\\ROBERT~1.DON\\AppData\\Local\\Temp/ipykernel_4232/3729923443.py\u001b[0m in \u001b[0;36m<module>\u001b[1;34m\u001b[0m\n\u001b[1;32m----> 1\u001b[1;33m \u001b[0mlista_frutas\u001b[0m\u001b[1;33m.\u001b[0m\u001b[0mappend\u001b[0m\u001b[1;33m(\u001b[0m\u001b[1;34m\"Banana\"\u001b[0m\u001b[1;33m,\u001b[0m\u001b[1;34m\"Limón\"\u001b[0m\u001b[1;33m)\u001b[0m\u001b[1;33m\u001b[0m\u001b[1;33m\u001b[0m\u001b[0m\n\u001b[0m\u001b[0;32m      2\u001b[0m \u001b[0mprint\u001b[0m\u001b[1;33m(\u001b[0m\u001b[0mlista_frutas\u001b[0m\u001b[1;33m)\u001b[0m\u001b[1;33m\u001b[0m\u001b[1;33m\u001b[0m\u001b[0m\n",
      "\u001b[1;31mTypeError\u001b[0m: list.append() takes exactly one argument (2 given)"
     ]
    }
   ],
   "source": [
    "lista_frutas.append(\"Banana\",\"Limón\")\n",
    "print(lista_frutas)"
   ]
  },
  {
   "cell_type": "code",
   "execution_count": 125,
   "id": "139b8773-0592-4207-ad14-babc4bebe84a",
   "metadata": {},
   "outputs": [
    {
     "name": "stdout",
     "output_type": "stream",
     "text": [
      "['Manzana', 'Papaya', 'Naranja', 'Frutilla', 'Melón', 'Guayaba', 'Fresas', 'Piña', ['Banana', 'Limón']]\n"
     ]
    }
   ],
   "source": [
    "lista_frutas.append([\"Banana\",\"Limón\"])\n",
    "print(lista_frutas)"
   ]
  },
  {
   "cell_type": "code",
   "execution_count": 126,
   "id": "59b3e900",
   "metadata": {},
   "outputs": [
    {
     "name": "stdout",
     "output_type": "stream",
     "text": [
      "['Manzana', 'Papaya', 'Naranja', 'Frutilla', 'Melón', 'Guayaba', 'Fresas', 'Piña', ['Banana', 'Limón'], 'Banana', 'Limón']\n"
     ]
    }
   ],
   "source": [
    "lista_frutas.extend([\"Banana\",\"Limón\"])\n",
    "print(lista_frutas)"
   ]
  },
  {
   "cell_type": "markdown",
   "id": "cda9c22e",
   "metadata": {},
   "source": [
    "¿Y para borrarlos? Tenemos, \n",
    "1. remove()\n",
    "2. del()\n",
    "3. list(dict.fromkeys(mylist))\n",
    "4. pop()\n",
    "5. clear()\n"
   ]
  },
  {
   "cell_type": "code",
   "execution_count": 127,
   "id": "7f7298eb",
   "metadata": {},
   "outputs": [
    {
     "name": "stdout",
     "output_type": "stream",
     "text": [
      "['Manzana', 'Papaya', 'Naranja', 'Frutilla', 'Platano', 'Sandia', 'Pera', 'Sandia']\n",
      "['Manzana', 'Papaya', 'Naranja', 'Frutilla', 'Platano', 'Pera', 'Sandia']\n"
     ]
    }
   ],
   "source": [
    "# .remove() elimina el elemento que le indiquemos\n",
    "\n",
    "#lista_frutas.remove(\"Piña\")\n",
    "\n",
    "lista_frutas = ['Manzana', 'Papaya', 'Naranja', 'Frutilla', 'Platano', 'Sandia', 'Pera']\n",
    "lista_frutas.append(\"Sandia\")\n",
    "print(lista_frutas)\n",
    "lista_frutas.remove(\"Sandia\")\n",
    "print(lista_frutas)"
   ]
  },
  {
   "cell_type": "code",
   "execution_count": 128,
   "id": "5a1ae24f",
   "metadata": {},
   "outputs": [
    {
     "ename": "ValueError",
     "evalue": "list.remove(x): x not in list",
     "output_type": "error",
     "traceback": [
      "\u001b[1;31m---------------------------------------------------------------------------\u001b[0m",
      "\u001b[1;31mValueError\u001b[0m                                Traceback (most recent call last)",
      "\u001b[1;32mC:\\Users\\ROBERT~1.DON\\AppData\\Local\\Temp/ipykernel_4232/2198796160.py\u001b[0m in \u001b[0;36m<module>\u001b[1;34m\u001b[0m\n\u001b[0;32m      1\u001b[0m \u001b[1;31m# .remove() busca el elemento concreto que le indiquemos; no funciona con índices, ni si el elemento indicado no existe\u001b[0m\u001b[1;33m\u001b[0m\u001b[1;33m\u001b[0m\u001b[0m\n\u001b[1;32m----> 2\u001b[1;33m \u001b[0mlista_frutas\u001b[0m\u001b[1;33m.\u001b[0m\u001b[0mremove\u001b[0m\u001b[1;33m(\u001b[0m\u001b[1;36m0\u001b[0m\u001b[1;33m)\u001b[0m\u001b[1;33m\u001b[0m\u001b[1;33m\u001b[0m\u001b[0m\n\u001b[0m\u001b[0;32m      3\u001b[0m \u001b[0mprint\u001b[0m\u001b[1;33m(\u001b[0m\u001b[0mlista_frutas\u001b[0m\u001b[1;33m)\u001b[0m\u001b[1;33m\u001b[0m\u001b[1;33m\u001b[0m\u001b[0m\n",
      "\u001b[1;31mValueError\u001b[0m: list.remove(x): x not in list"
     ]
    }
   ],
   "source": [
    "# .remove() busca el elemento concreto que le indiquemos; no funciona con índices, ni si el elemento indicado no existe\n",
    "lista_frutas.remove(0)\n",
    "print(lista_frutas)"
   ]
  },
  {
   "cell_type": "code",
   "execution_count": 129,
   "id": "5a21a863",
   "metadata": {},
   "outputs": [
    {
     "ename": "TypeError",
     "evalue": "list.remove() takes exactly one argument (2 given)",
     "output_type": "error",
     "traceback": [
      "\u001b[1;31m---------------------------------------------------------------------------\u001b[0m",
      "\u001b[1;31mTypeError\u001b[0m                                 Traceback (most recent call last)",
      "\u001b[1;32mC:\\Users\\ROBERT~1.DON\\AppData\\Local\\Temp/ipykernel_4232/965863067.py\u001b[0m in \u001b[0;36m<module>\u001b[1;34m\u001b[0m\n\u001b[0;32m      1\u001b[0m \u001b[1;31m# ¿Funciona para varios elementos a la vez?\u001b[0m\u001b[1;33m\u001b[0m\u001b[1;33m\u001b[0m\u001b[0m\n\u001b[0;32m      2\u001b[0m \u001b[0mlista_frutas\u001b[0m \u001b[1;33m=\u001b[0m \u001b[1;33m[\u001b[0m\u001b[1;34m\"Manzana\"\u001b[0m\u001b[1;33m,\u001b[0m \u001b[1;34m\"Tuna\"\u001b[0m\u001b[1;33m,\u001b[0m \u001b[1;34m\"Naranja\"\u001b[0m\u001b[1;33m,\u001b[0m \u001b[1;34m\"Frutilla\"\u001b[0m\u001b[1;33m,\u001b[0m \u001b[1;34m\"Melón\"\u001b[0m\u001b[1;33m,\u001b[0m \u001b[1;34m\"Guayaba\"\u001b[0m\u001b[1;33m,\u001b[0m \u001b[1;34m\"Fresas\"\u001b[0m\u001b[1;33m]\u001b[0m\u001b[1;33m\u001b[0m\u001b[1;33m\u001b[0m\u001b[0m\n\u001b[1;32m----> 3\u001b[1;33m \u001b[0mlista_frutas\u001b[0m\u001b[1;33m.\u001b[0m\u001b[0mremove\u001b[0m\u001b[1;33m(\u001b[0m\u001b[1;34m\"Piña\"\u001b[0m\u001b[1;33m,\u001b[0m\u001b[1;34m\"Tuna\"\u001b[0m\u001b[1;33m)\u001b[0m\u001b[1;33m\u001b[0m\u001b[1;33m\u001b[0m\u001b[0m\n\u001b[0m\u001b[0;32m      4\u001b[0m \u001b[0mprint\u001b[0m\u001b[1;33m(\u001b[0m\u001b[0mlista_frutas\u001b[0m\u001b[1;33m)\u001b[0m\u001b[1;33m\u001b[0m\u001b[1;33m\u001b[0m\u001b[0m\n",
      "\u001b[1;31mTypeError\u001b[0m: list.remove() takes exactly one argument (2 given)"
     ]
    }
   ],
   "source": [
    "# ¿Funciona para varios elementos a la vez?\n",
    "lista_frutas = [\"Manzana\", \"Tuna\", \"Naranja\", \"Frutilla\", \"Melón\", \"Guayaba\", \"Fresas\"]\n",
    "lista_frutas.remove(\"Piña\",\"Tuna\")\n",
    "print(lista_frutas)"
   ]
  },
  {
   "cell_type": "code",
   "execution_count": 130,
   "id": "b3ab3c2f",
   "metadata": {},
   "outputs": [
    {
     "name": "stdout",
     "output_type": "stream",
     "text": [
      "['Manzana', 'Naranja', 'Frutilla', 'Melón', 'Guayaba', 'Fresas']\n"
     ]
    }
   ],
   "source": [
    "# Podemos borrar elementos de una lista a partir de su índice con del()\n",
    "lista_frutas = [\"Manzana\", \"Tuna\", \"Naranja\", \"Frutilla\", \"Melón\", \"Guayaba\", \"Fresas\"]\n",
    "del lista_frutas[1]\n",
    "print(lista_frutas)"
   ]
  },
  {
   "cell_type": "code",
   "execution_count": 131,
   "id": "1cb74bb9",
   "metadata": {},
   "outputs": [
    {
     "name": "stdout",
     "output_type": "stream",
     "text": [
      "['Frutilla', 'Melón', 'Guayaba', 'Fresas']\n"
     ]
    }
   ],
   "source": [
    "# Podemos utilizar esta misma sentencia del() para borrar \"rebanadas\" dentro de la lista\n",
    "lista_frutas = [\"Manzana\", \"Tuna\", \"Naranja\", \"Frutilla\", \"Melón\", \"Guayaba\", \"Fresas\"]\n",
    "del lista_frutas[0:3]\n",
    "print(lista_frutas)"
   ]
  },
  {
   "cell_type": "code",
   "execution_count": 132,
   "id": "53c91540",
   "metadata": {},
   "outputs": [
    {
     "name": "stdout",
     "output_type": "stream",
     "text": [
      "['Manzana', 'Tuna', 'Naranja', 'Frutilla']\n"
     ]
    }
   ],
   "source": [
    "lista_frutas = [\"Manzana\", \"Tuna\", \"Naranja\", \"Frutilla\", \"Melón\", \"Guayaba\", \"Fresas\"]\n",
    "del lista_frutas[4:]\n",
    "print(lista_frutas)\n"
   ]
  },
  {
   "cell_type": "code",
   "execution_count": 133,
   "id": "8f78a2b4",
   "metadata": {},
   "outputs": [
    {
     "ename": "TypeError",
     "evalue": "list indices must be integers or slices, not tuple",
     "output_type": "error",
     "traceback": [
      "\u001b[1;31m---------------------------------------------------------------------------\u001b[0m",
      "\u001b[1;31mTypeError\u001b[0m                                 Traceback (most recent call last)",
      "\u001b[1;32mC:\\Users\\ROBERT~1.DON\\AppData\\Local\\Temp/ipykernel_4232/1619306412.py\u001b[0m in \u001b[0;36m<module>\u001b[1;34m\u001b[0m\n\u001b[0;32m      1\u001b[0m \u001b[1;31m# Pero, no así...\u001b[0m\u001b[1;33m\u001b[0m\u001b[1;33m\u001b[0m\u001b[0m\n\u001b[0;32m      2\u001b[0m \u001b[0mlista_frutas\u001b[0m \u001b[1;33m=\u001b[0m \u001b[1;33m[\u001b[0m\u001b[1;34m\"Manzana\"\u001b[0m\u001b[1;33m,\u001b[0m \u001b[1;34m\"Tuna\"\u001b[0m\u001b[1;33m,\u001b[0m \u001b[1;34m\"Naranja\"\u001b[0m\u001b[1;33m,\u001b[0m \u001b[1;34m\"Frutilla\"\u001b[0m\u001b[1;33m,\u001b[0m \u001b[1;34m\"Melón\"\u001b[0m\u001b[1;33m,\u001b[0m \u001b[1;34m\"Guayaba\"\u001b[0m\u001b[1;33m,\u001b[0m \u001b[1;34m\"Fresas\"\u001b[0m\u001b[1;33m]\u001b[0m\u001b[1;33m\u001b[0m\u001b[1;33m\u001b[0m\u001b[0m\n\u001b[1;32m----> 3\u001b[1;33m \u001b[1;32mdel\u001b[0m \u001b[0mlista_frutas\u001b[0m\u001b[1;33m[\u001b[0m\u001b[1;34m\"Piña\"\u001b[0m\u001b[1;33m,\u001b[0m\u001b[1;34m\"Tuna\"\u001b[0m\u001b[1;33m]\u001b[0m\u001b[1;33m\u001b[0m\u001b[1;33m\u001b[0m\u001b[0m\n\u001b[0m\u001b[0;32m      4\u001b[0m \u001b[0mprint\u001b[0m\u001b[1;33m(\u001b[0m\u001b[0mlista_frutas\u001b[0m\u001b[1;33m)\u001b[0m\u001b[1;33m\u001b[0m\u001b[1;33m\u001b[0m\u001b[0m\n",
      "\u001b[1;31mTypeError\u001b[0m: list indices must be integers or slices, not tuple"
     ]
    }
   ],
   "source": [
    "# Pero, no así...\n",
    "lista_frutas = [\"Manzana\", \"Tuna\", \"Naranja\", \"Frutilla\", \"Melón\", \"Guayaba\", \"Fresas\"]\n",
    "del lista_frutas[\"Piña\",\"Tuna\"]\n",
    "print(lista_frutas)\n"
   ]
  },
  {
   "cell_type": "code",
   "execution_count": 134,
   "id": "1a4aa528",
   "metadata": {},
   "outputs": [
    {
     "name": "stdout",
     "output_type": "stream",
     "text": [
      "['Frutilla', 'Melón', 'Guayaba', 'Fresas']\n"
     ]
    }
   ],
   "source": [
    "# Ni así...\n",
    "lista_frutas = [\"Manzana\", \"Tuna\", \"Naranja\", \"Frutilla\", \"Melón\", \"Guayaba\", \"Fresas\"]\n",
    "del lista_frutas[0:3]\n",
    "print(lista_frutas)"
   ]
  },
  {
   "cell_type": "code",
   "execution_count": 135,
   "id": "f0dfc34a",
   "metadata": {},
   "outputs": [
    {
     "name": "stdout",
     "output_type": "stream",
     "text": [
      "['a', 'c', 'a', 'd']\n"
     ]
    }
   ],
   "source": [
    "# Si hay elementos duplicados, ¿cuál elimina? ¿Todos? ¿El primero? ¿El último?\n",
    "lista_duplicados = [\"a\", \"c\", \"a\",\"d\"]\n",
    "print(lista_duplicados)"
   ]
  },
  {
   "cell_type": "code",
   "execution_count": 136,
   "id": "a137356a",
   "metadata": {},
   "outputs": [
    {
     "name": "stdout",
     "output_type": "stream",
     "text": [
      "['c', 'a', 'd']\n"
     ]
    }
   ],
   "source": [
    "lista_duplicados.remove(\"a\")\n",
    "print(lista_duplicados)"
   ]
  },
  {
   "cell_type": "code",
   "execution_count": 137,
   "id": "1b296923",
   "metadata": {},
   "outputs": [
    {
     "name": "stdout",
     "output_type": "stream",
     "text": [
      "['a', 'b', 'c']\n"
     ]
    }
   ],
   "source": [
    "# Si queremos eliminar todos los elementos duplicados en una lista \n",
    "lista_letras = [\"a\", \"b\", \"a\", \"c\", \"c\"]\n",
    "lista_letras = list(dict.fromkeys(lista_letras))\n",
    "print(lista_letras)"
   ]
  },
  {
   "cell_type": "code",
   "execution_count": 138,
   "id": "bec851ba",
   "metadata": {},
   "outputs": [
    {
     "name": "stdout",
     "output_type": "stream",
     "text": [
      "['a', 'b', 'a', 'c', 'c']\n"
     ]
    }
   ],
   "source": [
    "# ¿Qué ocurre con el siguiente código?\n",
    "lista_letras = [\"a\", \"b\", \"a\", \"c\", \"c\"]\n",
    "list(dict.fromkeys(lista_letras))\n",
    "print(lista_letras)"
   ]
  },
  {
   "cell_type": "code",
   "execution_count": 139,
   "id": "f72b4973",
   "metadata": {},
   "outputs": [
    {
     "name": "stdout",
     "output_type": "stream",
     "text": [
      "['a', 'a', 'c', 'c']\n"
     ]
    }
   ],
   "source": [
    "# La sentencia .pop() elimina un elemento de la lista según su índice\n",
    "lista_letras = [\"a\", \"b\", \"a\", \"c\", \"c\"]\n",
    "lista_letras.pop(1)\n",
    "print(lista_letras)"
   ]
  },
  {
   "cell_type": "code",
   "execution_count": 140,
   "id": "daf3973c-29c0-4a40-bad5-e7e3c30d0e01",
   "metadata": {},
   "outputs": [
    {
     "name": "stdout",
     "output_type": "stream",
     "text": [
      "['a', 'b', 'a', 'c']\n"
     ]
    }
   ],
   "source": [
    "# La sentencia .pop() elimina un elemento de la lista según su índice\n",
    "lista_letras = [\"a\", \"b\", \"a\", \"c\", \"c\"]\n",
    "lista_letras.pop()\n",
    "print(lista_letras)"
   ]
  },
  {
   "cell_type": "code",
   "execution_count": 141,
   "id": "a8117244-c89c-480e-a7f4-aadc0f2074ce",
   "metadata": {},
   "outputs": [
    {
     "name": "stdout",
     "output_type": "stream",
     "text": [
      "['Roberto']\n"
     ]
    }
   ],
   "source": [
    "variable = [\"Roberto\"]\n",
    "print(variable)"
   ]
  },
  {
   "cell_type": "code",
   "execution_count": 142,
   "id": "5eeeed78-7109-4fd3-862d-a0d0738af01a",
   "metadata": {},
   "outputs": [],
   "source": [
    "# Elimina la variable en memoria.\n",
    "del variable\n"
   ]
  },
  {
   "cell_type": "code",
   "execution_count": 143,
   "id": "7bec34a5-15cb-4575-a5d4-e29a6c32ca7a",
   "metadata": {},
   "outputs": [
    {
     "ename": "NameError",
     "evalue": "name 'variable' is not defined",
     "output_type": "error",
     "traceback": [
      "\u001b[1;31m---------------------------------------------------------------------------\u001b[0m",
      "\u001b[1;31mNameError\u001b[0m                                 Traceback (most recent call last)",
      "\u001b[1;32mC:\\Users\\ROBERT~1.DON\\AppData\\Local\\Temp/ipykernel_4232/3784293033.py\u001b[0m in \u001b[0;36m<module>\u001b[1;34m\u001b[0m\n\u001b[1;32m----> 1\u001b[1;33m \u001b[0mprint\u001b[0m\u001b[1;33m(\u001b[0m\u001b[0mvariable\u001b[0m\u001b[1;33m)\u001b[0m\u001b[1;33m\u001b[0m\u001b[1;33m\u001b[0m\u001b[0m\n\u001b[0m",
      "\u001b[1;31mNameError\u001b[0m: name 'variable' is not defined"
     ]
    }
   ],
   "source": [
    "print(variable)"
   ]
  },
  {
   "cell_type": "code",
   "execution_count": 144,
   "id": "4e08b591",
   "metadata": {},
   "outputs": [
    {
     "name": "stdout",
     "output_type": "stream",
     "text": [
      "['a', 'b', 'a', 'c']\n"
     ]
    }
   ],
   "source": [
    "# ¿Qué ocurruría con el siguiente código?\n",
    "lista_letras = [\"a\", \"b\", \"a\", \"c\", \"c\"]\n",
    "lista_letras.pop(-1)\n",
    "print(lista_letras)"
   ]
  },
  {
   "cell_type": "code",
   "execution_count": 145,
   "id": "a7f7cf7b",
   "metadata": {},
   "outputs": [
    {
     "ename": "SyntaxError",
     "evalue": "invalid syntax (Temp/ipykernel_4232/205773364.py, line 3)",
     "output_type": "error",
     "traceback": [
      "\u001b[1;36m  File \u001b[1;32m\"C:\\Users\\ROBERT~1.DON\\AppData\\Local\\Temp/ipykernel_4232/205773364.py\"\u001b[1;36m, line \u001b[1;32m3\u001b[0m\n\u001b[1;33m    lista_letras.pop(1:3)\u001b[0m\n\u001b[1;37m                      ^\u001b[0m\n\u001b[1;31mSyntaxError\u001b[0m\u001b[1;31m:\u001b[0m invalid syntax\n"
     ]
    }
   ],
   "source": [
    "# ¿Y con el siguiente?\n",
    "lista_letras = [\"a\", \"b\", \"a\", \"c\", \"f\"]\n",
    "lista_letras.pop(1:3)\n",
    "print(lista_letras)"
   ]
  },
  {
   "cell_type": "code",
   "execution_count": 146,
   "id": "9a833b9b",
   "metadata": {},
   "outputs": [
    {
     "name": "stdout",
     "output_type": "stream",
     "text": [
      "['a', 'b', 'a', 'c']\n",
      "['a', 'b', 'a']\n"
     ]
    }
   ],
   "source": [
    "# Y por último...Si no indicamos argumento dentro de .pop()\n",
    "lista_letras = [\"a\", \"b\", \"a\", \"c\", \"c\"]\n",
    "lista_letras.pop()\n",
    "print(lista_letras)\n",
    "lista_letras.pop()\n",
    "print(lista_letras)"
   ]
  },
  {
   "cell_type": "code",
   "execution_count": 147,
   "id": "0ab9eba4",
   "metadata": {},
   "outputs": [
    {
     "name": "stdout",
     "output_type": "stream",
     "text": [
      "[]\n"
     ]
    }
   ],
   "source": [
    "# Para eliminar todos los elementos de una lista utilizamos .clear()\n",
    "lista_letras = [\"a\", \"b\", \"a\", \"c\", \"c\"]\n",
    "lista_letras.clear()\n",
    "print(lista_letras)"
   ]
  },
  {
   "cell_type": "markdown",
   "id": "5b668bff",
   "metadata": {},
   "source": [
    "También podemos encontrar el índice en el que se encuentra algún elemento concreto, mediante .index():"
   ]
  },
  {
   "cell_type": "code",
   "execution_count": 148,
   "id": "c8eabedd",
   "metadata": {},
   "outputs": [
    {
     "name": "stdout",
     "output_type": "stream",
     "text": [
      "['Frutilla', 'Melón', 'Guayaba', 'Fresas']\n"
     ]
    }
   ],
   "source": [
    "print(lista_frutas)"
   ]
  },
  {
   "cell_type": "code",
   "execution_count": 149,
   "id": "7b91d4ed",
   "metadata": {},
   "outputs": [
    {
     "name": "stdout",
     "output_type": "stream",
     "text": [
      "3\n"
     ]
    }
   ],
   "source": [
    "# ¿En qué posición se encuentra \"Naranja\"?\n",
    "try:\n",
    "    posicion = lista_frutas.index(\"Fresas\")\n",
    "    print(posicion)\n",
    "except:\n",
    "    print(\"No está en la lista\")"
   ]
  },
  {
   "cell_type": "code",
   "execution_count": 150,
   "id": "3644e927-202c-4c45-bd82-9f77ea869961",
   "metadata": {},
   "outputs": [
    {
     "name": "stdout",
     "output_type": "stream",
     "text": [
      "No está en la lista\n"
     ]
    }
   ],
   "source": [
    "if \"Naranja\" in lista_frutas:\n",
    "    print(\"Está en la lista\")\n",
    "else:\n",
    "    print(\"No está en la lista\")"
   ]
  },
  {
   "cell_type": "markdown",
   "id": "ded82e42",
   "metadata": {},
   "source": [
    "## Ejercicios propuestos ##"
   ]
  },
  {
   "cell_type": "markdown",
   "id": "68f22df2",
   "metadata": {},
   "source": [
    "1. Tenemos la siguiente lista con las áreas de espacios de una casa. Se pide, en primer lugar, modificar el área del baño (bathroom) a 10.50 y, en segundo lugar, cambiar \"living room\" por \"chill zone\".\n"
   ]
  },
  {
   "cell_type": "code",
   "execution_count": null,
   "id": "03a929a2",
   "metadata": {},
   "outputs": [],
   "source": [
    "# Crea la lista areas\n",
    "areas = [\"hallway\", 11.25, \"kitchen\", 18.0, \"living room\", 20.0, \"bedroom\", 10.75, \"bathroom\", 9.50]\n",
    "print(areas)"
   ]
  },
  {
   "cell_type": "code",
   "execution_count": null,
   "id": "50f572ce",
   "metadata": {},
   "outputs": [],
   "source": [
    "# Modifica el area del baño a 10.50\n",
    "areas[-1] = 10.50\n",
    "print(areas)"
   ]
  },
  {
   "cell_type": "code",
   "execution_count": null,
   "id": "61963e87",
   "metadata": {},
   "outputs": [],
   "source": [
    "areas = ['hallway', 11.25, 'kitchen', 18.0, 'living room', 20.0, 'bedroom', 10.75, 'bathroom', 10.5]\n",
    "print(areas)"
   ]
  },
  {
   "cell_type": "code",
   "execution_count": null,
   "id": "804c4704",
   "metadata": {},
   "outputs": [],
   "source": [
    "print(areas[-1])"
   ]
  },
  {
   "cell_type": "code",
   "execution_count": null,
   "id": "46f85dc2",
   "metadata": {},
   "outputs": [],
   "source": [
    "print(areas[-3:-1])"
   ]
  },
  {
   "cell_type": "code",
   "execution_count": null,
   "id": "23c845c7",
   "metadata": {},
   "outputs": [],
   "source": [
    "areas[-3:]= [1,2,3]\n",
    "print(areas)"
   ]
  },
  {
   "cell_type": "code",
   "execution_count": null,
   "id": "f3b91eb4",
   "metadata": {},
   "outputs": [],
   "source": [
    "areas[-2:-1] = [3,4,5]\n",
    "print(areas)"
   ]
  },
  {
   "cell_type": "code",
   "execution_count": null,
   "id": "ba542d27",
   "metadata": {},
   "outputs": [],
   "source": [
    "areas[-1:-4] = [3,4,5]\n",
    "print(areas)"
   ]
  },
  {
   "cell_type": "code",
   "execution_count": null,
   "id": "554e98d4",
   "metadata": {},
   "outputs": [],
   "source": [
    "areas[-1:-3] = [3,4,5]\n",
    "print(areas)"
   ]
  },
  {
   "cell_type": "code",
   "execution_count": null,
   "id": "bafac66f",
   "metadata": {},
   "outputs": [],
   "source": [
    "# Cambia \"living room\" a \"chill zone\"\n",
    "areas[4] = \"chill zone\"\n",
    "print(areas)"
   ]
  },
  {
   "cell_type": "markdown",
   "id": "d8890e1c",
   "metadata": {},
   "source": [
    "2. Dada la siguiente lista a la que llamamos mi_lista1, elimina la letra 'D' con la función .pop() e imprime dos mensajes por pantalla:\n",
    "    1. El primero que diga \"El elemento borrado de la lista ha sido el \"elemento\", sin nombrar directamente 'D', es decir, utilizando ese misma orden .pop().\n",
    "    2. El segundo que diga \"La lista resultante es \"lista_nueva\".\n",
    "    \n",
    "Además, añade al final de la lista resultante la letra 'H' con la función .append()"
   ]
  },
  {
   "cell_type": "code",
   "execution_count": null,
   "id": "ececb1a1",
   "metadata": {},
   "outputs": [],
   "source": [
    "mi_lista1 = ['A', 'B', 'C', 'D', 'E', 'F', 'G']\n",
    "print(\"Originalmente es \", mi_lista1)"
   ]
  },
  {
   "cell_type": "code",
   "execution_count": null,
   "id": "993e0af7",
   "metadata": {},
   "outputs": [],
   "source": [
    "elemento_borrado = mi_lista1.pop(3)\n",
    "print(f\"El elemento borrado de la lista ha sido la {elemento_borrado}\")\n",
    "print(f\"La lista resultante es {mi_lista1}\")"
   ]
  },
  {
   "cell_type": "code",
   "execution_count": null,
   "id": "00ef0f95",
   "metadata": {},
   "outputs": [],
   "source": [
    "# añadimos 'H' con .append()\n",
    "mi_lista1.append('H')\n",
    "print(mi_lista1)"
   ]
  },
  {
   "cell_type": "markdown",
   "id": "64e364f4",
   "metadata": {},
   "source": [
    "3. A partir de la siguiente lista llamada lista_telefonica, crea un programa que obtenga como resultado dos listas nuevas, una con los nombres que figuran en ella, y otra diferente con los \"números de teléfono."
   ]
  },
  {
   "cell_type": "code",
   "execution_count": null,
   "id": "9a31cff5",
   "metadata": {},
   "outputs": [],
   "source": [
    "lista_telefonica = [[\"Vanesa\",546894],[\"Jaime\",456098], [\"Roberto\",235108], [\"Jesús\",546743]]\n",
    "lista_telefonica"
   ]
  },
  {
   "cell_type": "code",
   "execution_count": null,
   "id": "acc97538",
   "metadata": {},
   "outputs": [],
   "source": [
    "lista_nombres = []\n",
    "lista_telefonos = list()\n",
    "\n",
    "for lista in lista_telefonica:\n",
    "    lista_nombres.append(lista[0])\n",
    "    lista_telefonos.append(lista[1])\n",
    "\n",
    "print(lista_nombres)\n",
    "print(lista_telefonos)\n",
    "    "
   ]
  },
  {
   "cell_type": "markdown",
   "id": "8b3f6c74",
   "metadata": {},
   "source": [
    "4. A partir del esquema de resolución del ejercicio anterior, cómo incorporaríamos una condición según la cuál, si el nombre de la persona empieza por \"J\", no la incluya en la lista de nombres"
   ]
  },
  {
   "cell_type": "code",
   "execution_count": null,
   "id": "08c41a8d",
   "metadata": {},
   "outputs": [],
   "source": [
    "lista_nombres = []\n",
    "lista_telefonos = list()\n",
    "\n",
    "for lista in lista_telefonica:\n",
    "    if lista[0][0] != \"J\":\n",
    "        lista_nombres.append(lista[0])\n",
    "        lista_telefonos.append(lista[1])\n",
    "    else:\n",
    "        lista_telefonos.append(lista[1])\n",
    "\n",
    "print(lista_nombres)\n",
    "print(lista_telefonos)"
   ]
  },
  {
   "cell_type": "code",
   "execution_count": null,
   "id": "70aaf3a7-e60d-47a8-859e-7a8c061c8e72",
   "metadata": {},
   "outputs": [],
   "source": []
  }
 ],
 "metadata": {
  "kernelspec": {
   "display_name": "Python 3 (ipykernel)",
   "language": "python",
   "name": "python3"
  },
  "language_info": {
   "codemirror_mode": {
    "name": "ipython",
    "version": 3
   },
   "file_extension": ".py",
   "mimetype": "text/x-python",
   "name": "python",
   "nbconvert_exporter": "python",
   "pygments_lexer": "ipython3",
   "version": "3.9.7"
  }
 },
 "nbformat": 4,
 "nbformat_minor": 5
}
