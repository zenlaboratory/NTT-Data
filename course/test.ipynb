{
 "cells": [
  {
   "cell_type": "code",
   "execution_count": 1,
   "metadata": {},
   "outputs": [
    {
     "name": "stdout",
     "output_type": "stream",
     "text": [
      "b'<!doctype html>\\n<html data-adblockkey=\"MFwwDQYJKoZIhvcNAQEBBQADSwAwSAJBANDrp2lz7AOmADaN8tA50LsWcjLFyQFcb/P2Txc58oYOeILb3vBw7J6f4pamkAQVSQuqYsKx3YzdUHCvbVZvFUsCAwEAAQ==_NhKWaTcIfEVJ0xAxHXmkGtLVz9D7sj0SizjvUKDQshjYjq4CpS92RuW2XNkMDmnqwju1t0UPUxEt374aLMtwVg==\" lang=\"en\" style=\"background: #2B2B2B;\">\\n<head>\\n    <meta charset=\"utf-8\">\\n    <meta name=\"viewport\" content=\"width=device-width, initial-scale=1\">\\n    <link rel=\"icon\" href=\"data:image/png;base64,iVBORw0KGgoAAAANSUhEUgAAAAEAAAABCAIAAACQd1PeAAAADElEQVQI12P4//8/AAX+Av7czFnnAAAAAElFTkSuQmCC\">\\n    <link rel=\"preconnect\" href=\"https://www.google.com\" crossorigin>\\n</head>\\n<body>\\n<div id=\"target\" style=\"opacity: 0\"></div>\\n<script>window.park = \"eyJ1dWlkIjoiMGE5Njg3M2MtZGU5YS00NGVjLWI4ODItYzU2ZWYyY2NmNTY5IiwicGFnZV90aW1lIjoxNzE1NzAyMDYwLCJwYWdlX3VybCI6Imh0dHBzOi8vd3d3LmVqZW1wbG8uY29tLyIsInBhZ2VfbWV0aG9kIjoiR0VUIiwicGFnZV9yZXF1ZXN0Ijp7fSwicGFnZV9oZWFkZXJzIjp7fSwiaG9zdCI6Ind3dy5lamVtcGxvLmNvbSIsImlwIjoiNS4yMjQuNi43MyJ9Cg==\";</script>\\n<script src=\"/bNbXOBMPU.js\"></script>\\n</body>\\n</html>\\n'\n"
     ]
    }
   ],
   "source": [
    "import urllib.request\n",
    "\n",
    "url = \"https://www.ejemplo.com\"\n",
    "response = urllib.request.urlopen(url)\n",
    "data = response.read()\n",
    "\n",
    "print(data)\n"
   ]
  },
  {
   "cell_type": "code",
   "execution_count": 2,
   "metadata": {},
   "outputs": [
    {
     "name": "stdout",
     "output_type": "stream",
     "text": [
      "Tienes 49 años.\n"
     ]
    }
   ],
   "source": [
    "from datetime import datetime\n",
    "\n",
    "\n",
    "def calcular_edad(fecha_nacimiento):\n",
    "    hoy = datetime.today()\n",
    "    edad = (\n",
    "        hoy.year\n",
    "        - fecha_nacimiento.year\n",
    "        - ((hoy.month, hoy.day) < (fecha_nacimiento.month, fecha_nacimiento.day))\n",
    "    )\n",
    "    return edad\n",
    "\n",
    "\n",
    "fecha_nacimiento = input(\"Ingrese su fecha de nacimiento (dd/mm/yyyy): \")\n",
    "fecha_nacimiento = datetime.strptime(fecha_nacimiento, \"%d/%m/%Y\")\n",
    "edad = calcular_edad(fecha_nacimiento)\n",
    "print(\"Tienes\", edad, \"años.\")"
   ]
  },
  {
   "cell_type": "code",
   "execution_count": 2,
   "metadata": {},
   "outputs": [
    {
     "name": "stdout",
     "output_type": "stream",
     "text": [
      "Id: 593998 Latitud: -6.378573 Longitud: 35.861315\n",
      "Id: 593999 Latitud: -6.747464 Longitud: 38.104048\n",
      "La distancia entre 593998 y 593999 es de 251.11872049555532 km\n"
     ]
    }
   ],
   "source": [
    "# Este fragmento de código define una clase Ubicacion que representa un punto geográfico con nombre, latitud y longitud.\n",
    "\n",
    "from haversine import haversine\n",
    "\n",
    "# La clase Ubicacion tiene un constructor que inicializa los atributos nombre, latitud y longitud.\n",
    "\n",
    "\n",
    "class Ubicacion:\n",
    "\n",
    "    def __init__(self, id, latitud, longitud):\n",
    "        \"\"\"\n",
    "        Constructor de la clase Ubicacion.\n",
    "\n",
    "        :param nombre: Nombre de la ubicación.\n",
    "        :param latitud: Latitud de la ubicación.\n",
    "        :param longitud: Longitud de la ubicación.\n",
    "        \"\"\"\n",
    "        self.id = id\n",
    "        self.latitud = latitud\n",
    "        self.longitud = longitud\n",
    "\n",
    "\n",
    "# Se solicita al usuario ingresar los datos de dos ubicaciones y se crean dos objetos Ubicacion con los datos ingresados por el usuario.\n",
    "\n",
    "id = int(input(\"Introduzca id del sitio 1: \"))\n",
    "latitud = float(input(\"Introduzca latitud 1: \"))\n",
    "longitud = float(input(\"Introduzca longitud 1: \"))\n",
    "\n",
    "punto1 = Ubicacion(id, latitud, longitud)\n",
    "\n",
    "id = int(input(\"Introduzca id del sitio 2: \"))\n",
    "latitud = float(input(\"Introduzca latitud 2: \"))\n",
    "longitud = float(input(\"Introduzca longitud 2: \"))\n",
    "\n",
    "punto2 = Ubicacion(id, latitud, longitud)\n",
    "\n",
    "# Imprimimos cada punto por independiente\n",
    "\n",
    "print(f\"Id: {punto1.id} Latitud: {punto1.latitud} Longitud: {punto1.longitud}\")\n",
    "print(f\"Id: {punto2.id} Latitud: {punto2.latitud} Longitud: {punto2.longitud}\")\n",
    "\n",
    "# Se calcula la distancia entre las dos ubicaciones utilizando la fórmula de Haversine.\n",
    "\n",
    "distancia = haversine(\n",
    "    (punto1.latitud, punto1.longitud), (punto2.latitud, punto2.longitud)\n",
    ")\n",
    "\n",
    "# Finalmente, se imprimen los id's, latitudes, longitudes y la distancia entre las dos ubicaciones en kilómetros.\n",
    "\n",
    "print(\"\")\n",
    "print(f\"La distancia entre {punto1.id} y {punto2.id} es de {distancia} Km\")"
   ]
  }
 ],
 "metadata": {
  "kernelspec": {
   "display_name": ".venv",
   "language": "python",
   "name": "python3"
  },
  "language_info": {
   "codemirror_mode": {
    "name": "ipython",
    "version": 3
   },
   "file_extension": ".py",
   "mimetype": "text/x-python",
   "name": "python",
   "nbconvert_exporter": "python",
   "pygments_lexer": "ipython3",
   "version": "3.10.12"
  }
 },
 "nbformat": 4,
 "nbformat_minor": 2
}
