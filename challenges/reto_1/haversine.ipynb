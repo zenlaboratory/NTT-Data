{
 "cells": [
  {
   "cell_type": "code",
   "execution_count": null,
   "metadata": {},
   "outputs": [],
   "source": [
    "# Este fragmento de código define una clase Ubicacion que representa un punto geográfico con nombre, latitud y longitud.\n",
    "\n",
    "from haversine import haversine\n",
    "\n",
    "# La clase Ubicacion tiene un constructor que inicializa los atributos nombre, latitud y longitud.\n",
    "\n",
    "\n",
    "class Ubicacion:\n",
    "    def __init__(self, id, latitud, longitud):\n",
    "        \"\"\"\n",
    "        Constructor de la clase Ubicacion.\n",
    "\n",
    "        :param nombre: Nombre de la ubicación.\n",
    "        :param latitud: Latitud de la ubicación.\n",
    "        :param longitud: Longitud de la ubicación.\n",
    "        \"\"\"\n",
    "        self.id = id\n",
    "        self.latitud = latitud\n",
    "        self.longitud = longitud\n",
    "\n",
    "\n",
    "# Se solicita al usuario ingresar los datos de dos ubicaciones y se crean dos objetos Ubicacion con los datos ingresados por el usuario.\n",
    "\n",
    "id = int(input(\"Introduzca id del sitio 1: \"))\n",
    "latitud = float(input(\"Introduzca latitud 1: \"))\n",
    "longitud = float(input(\"Introduzca longitud 1: \"))\n",
    "\n",
    "punto1 = Ubicacion(id, latitud, longitud)\n",
    "\n",
    "id = int(input(\"Introduzca id del sitio 2: \"))\n",
    "latitud = float(input(\"Introduzca latitud 2: \"))\n",
    "longitud = float(input(\"Introduzca longitud 2: \"))\n",
    "\n",
    "punto2 = Ubicacion(id, latitud, longitud)\n",
    "\n",
    "# Imprimimos cada punto por independiente\n",
    "\n",
    "print(f\"Id: {punto1.id} Latitud: {punto1.latitud} Longitud: {punto1.longitud}\")\n",
    "print(f\"Id: {punto2.id} Latitud: {punto2.latitud} Longitud: {punto2.longitud}\")\n",
    "\n",
    "# Se calcula la distancia entre las dos ubicaciones utilizando la fórmula de Haversine.\n",
    "\n",
    "distancia = haversine(\n",
    "    (punto1.latitud, punto1.longitud), (punto2.latitud, punto2.longitud)\n",
    ")\n",
    "\n",
    "# Finalmente, se imprimen los id's, latitudes, longitudes y la distancia entre las dos ubicaciones en kilómetros.\n",
    "\n",
    "print(\"\")\n",
    "print(f\"La distancia entre {punto1.id} y {punto2.id} es de {distancia} Km\")"
   ]
  }
 ],
 "metadata": {
  "language_info": {
   "name": "python"
  }
 },
 "nbformat": 4,
 "nbformat_minor": 2
}
