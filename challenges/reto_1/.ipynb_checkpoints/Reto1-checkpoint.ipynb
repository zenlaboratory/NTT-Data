{
 "cells": [
  {
   "cell_type": "code",
   "execution_count": 17,
   "id": "57919be9-d5e0-4e85-82e6-913f4e90fe55",
   "metadata": {},
   "outputs": [
    {
     "name": "stdout",
     "output_type": "stream",
     "text": [
      "Longitud de la lista original: 40\n",
      "Longitud de la lista sin duplicados: 39\n",
      "La longitud final de la lista sin duplicados es de: 40. Sus elementos son: [69124, 34310, 59398, 57355, 19728, 60048, 54551, 61848, 25, 67743, 49056, 67359, 6696, 58155, 53934, 20145, 52019, 50495, 46144, 48451, 16583, 8776, 6091, 19282, 46804, 9944, 36957, 70238, 18274, 55012, 19685, 37862, 19816, 50409, 41583, 51058, 12402, 48375, 53752, 12796]\n"
     ]
    }
   ],
   "source": [
    "# Ejercicio 1\n",
    "\n",
    "# Crea una lista llamada `lista_id_bombas` con una serie de valores de identificación de bombas.\n",
    "\n",
    "lista_id_bombas = [\n",
    "    8776, 34310, 67743, 19728, 9944, 19816, 54551, 53934, 46144, 49056, 50409, 36957, 50495, 53752,\n",
    "    61848, 48451, 58155, 18274, 48375, 6091, 37862, 51058, 55012, 9944, 20145, 19685, 69124, 46804,\n",
    "    6696, 12402, 41583, 57355, 67359, 60048, 16583, 25, 70238, 12796, 52019, 19282\n",
    "]\n",
    "\n",
    "# Convierte la lista en un conjunto (set) para eliminar duplicados y convierte el conjunto de nuevo en una lista llamada lista_sin_duplicados.\n",
    "\n",
    "lista_sin_duplicados = list(set(lista_id_bombas))\n",
    "\n",
    "# Comprobar las longitudes de las listas\n",
    "\n",
    "longitud_original = len(lista_id_bombas)\n",
    "longitud_sin_duplicados = len(lista_sin_duplicados)\n",
    "\n",
    "# Imprime la longitud de la lista lista_id_bombas (número de elementos iniciales).\n",
    "\n",
    "print(f\"Longitud de la lista original: {longitud_original}\")\n",
    "\n",
    "#Imprime la longitud de la lista lista_sin_duplicados (número de elementos sin duplicados).\n",
    "\n",
    "print(f\"Longitud de la lista sin duplicados: {longitud_sin_duplicados}\")\n",
    "\n",
    "# Insertar la nueva ID 59398 en la tercera posición de la lista sin duplicados\n",
    "\n",
    "lista_sin_duplicados.insert(2, 59398)\n",
    "\n",
    "# Calcula la longitud de la lista_sin_duplicados con el ID agregado anteriormente en la tercer posición\n",
    "\n",
    "longitud_final = len(lista_sin_duplicados)\n",
    "\n",
    "# Imprime la longitud de la lista_sin_duplicados y muestra todos los elementos\n",
    "\n",
    "print(f\"La longitud final de la lista sin duplicados es de: {longitud_final}. Sus elementos son: {lista_sin_duplicados}\")\n",
    "\n"
   ]
  },
  {
   "cell_type": "code",
   "execution_count": 24,
   "id": "820037ac-4b86-4b9a-93a4-48ec44d80319",
   "metadata": {},
   "outputs": [
    {
     "name": "stdin",
     "output_type": "stream",
     "text": [
      "Introduce el id de la bomba:  hfsdgfsdg\n"
     ]
    },
    {
     "name": "stdout",
     "output_type": "stream",
     "text": [
      "Por favor, introduce un número válido.\n"
     ]
    },
    {
     "name": "stdin",
     "output_type": "stream",
     "text": [
      "Introduce el id de la bomba:  15fsd\n"
     ]
    },
    {
     "name": "stdout",
     "output_type": "stream",
     "text": [
      "Por favor, introduce un número válido.\n"
     ]
    },
    {
     "name": "stdin",
     "output_type": "stream",
     "text": [
      "Introduce el id de la bomba:  15\n"
     ]
    },
    {
     "name": "stdout",
     "output_type": "stream",
     "text": [
      "La bomba con id 15 no se encuentra entre los lotes defectuosos.\n"
     ]
    }
   ],
   "source": [
    "#Ejercicio 2\n",
    "def verificar_bomba_defectuosa():\n",
    "    while True:\n",
    "        try:\n",
    "            # Solicitar al usuario que introduzca un id de bomba\n",
    "            id_bomba = int(input(\"Introduce el id de la bomba: \"))\n",
    "            \n",
    "            # Verificar si el id está en el rango de lotes defectuosos\n",
    "            if 73890 <= id_bomba <= 74890:\n",
    "                print(f\"La bomba con id {id_bomba} se encuentra entre los lotes defectuosos.\")\n",
    "                \n",
    "            else:\n",
    "                print(f\"La bomba con id {id_bomba} no se encuentra entre los lotes defectuosos.\")\n",
    "            break\n",
    "        except ValueError:\n",
    "            print(\"Por favor, introduce un número válido.\")\n",
    "\n",
    "# Llamar a la función para probarla\n",
    "verificar_bomba_defectuosa()\n"
   ]
  },
  {
   "cell_type": "code",
   "execution_count": 27,
   "id": "27f7ff47-6cdf-4874-b2e1-d95e59821377",
   "metadata": {},
   "outputs": [
    {
     "name": "stdin",
     "output_type": "stream",
     "text": [
      "Ingrese la latitud del primer punto:  -6.378573\n",
      "Ingrese la longitud del primer punto:  35.861315\n",
      "Ingrese la latitud del segundo punto:  -6.747464\n",
      "Ingrese la longitud del segundo punto:  38.104048\n"
     ]
    },
    {
     "name": "stdout",
     "output_type": "stream",
     "text": [
      "La distancia entre los dos puntos es: 251.12 km\n"
     ]
    }
   ],
   "source": [
    "#Ejercicio 3\n",
    "\n",
    "import math\n",
    "\n",
    "def haversine(lat1, lon1, lat2, lon2):\n",
    "    # Radio de la Tierra en kilómetros. Usamos 6371 km.\n",
    "    R = 6371.0\n",
    "    \n",
    "    # Convertir las coordenadas de grados a radianes.\n",
    "    lat1_rad = math.radians(lat1)\n",
    "    lon1_rad = math.radians(lon1)\n",
    "    lat2_rad = math.radians(lat2)\n",
    "    lon2_rad = math.radians(lon2)\n",
    "    \n",
    "    # Diferencias entre las coordenadas.\n",
    "    dlat = lat2_rad - lat1_rad\n",
    "    dlon = lon2_rad - lon1_rad\n",
    "    \n",
    "    # Aplicar la fórmula de Haversine.\n",
    "    a = math.sin(dlat / 2)**2 + math.cos(lat1_rad) * math.cos(lat2_rad) * math.sin(dlon / 2)**2\n",
    "    c = 2 * math.atan2(math.sqrt(a), math.sqrt(1 - a))\n",
    "    \n",
    "    # Calcular la distancia.\n",
    "    distance = R * c\n",
    "    \n",
    "    return distance\n",
    "\n",
    "def solicitar_coordenadas():\n",
    "    lat1 = float(input(\"Ingrese la latitud del primer punto: \"))\n",
    "    lon1 = float(input(\"Ingrese la longitud del primer punto: \"))\n",
    "    lat2 = float(input(\"Ingrese la latitud del segundo punto: \"))\n",
    "    lon2 = float(input(\"Ingrese la longitud del segundo punto: \"))\n",
    "    return lat1, lon1, lat2, lon2\n",
    "\n",
    "\n",
    "lat1, lon1, lat2, lon2 = solicitar_coordenadas()\n",
    "distancia = haversine(lat1, lon1, lat2, lon2)\n",
    "print(f\"La distancia entre los dos puntos es: {distancia:.2f} km\")\n",
    "\n"
   ]
  },
  {
   "cell_type": "code",
   "execution_count": 12,
   "id": "a8898ca2-440e-4522-82ed-6fa17c3d37b6",
   "metadata": {},
   "outputs": [
    {
     "name": "stdin",
     "output_type": "stream",
     "text": [
      "Ingrese la latitud del primer punto:  -9.856322\n",
      "Ingrese la longitud del primer punto:  34.938093\n",
      "Ingrese la latitud del segundo punto:  -2.147466\n",
      "Ingrese la longitud del segundo punto:  34.698766\n"
     ]
    },
    {
     "name": "stdout",
     "output_type": "stream",
     "text": [
      "La distancia entre los dos puntos es: 857.59 km\n"
     ]
    },
    {
     "ename": "ModuleNotFoundError",
     "evalue": "No module named 'folium'",
     "output_type": "error",
     "traceback": [
      "\u001b[1;31m---------------------------------------------------------------------------\u001b[0m",
      "\u001b[1;31mModuleNotFoundError\u001b[0m                       Traceback (most recent call last)",
      "Cell \u001b[1;32mIn[12], line 42\u001b[0m\n\u001b[0;32m     39\u001b[0m \u001b[38;5;28;01mif\u001b[39;00m \u001b[38;5;18m__name__\u001b[39m \u001b[38;5;241m==\u001b[39m \u001b[38;5;124m\"\u001b[39m\u001b[38;5;124m__main__\u001b[39m\u001b[38;5;124m\"\u001b[39m:\n\u001b[0;32m     40\u001b[0m     main()\n\u001b[1;32m---> 42\u001b[0m \u001b[38;5;28;01mimport\u001b[39;00m \u001b[38;5;21;01mfolium\u001b[39;00m\n\u001b[0;32m     44\u001b[0m \u001b[38;5;66;03m# Coordenadas de las siete fuentes de agua\u001b[39;00m\n\u001b[0;32m     45\u001b[0m fuentes_de_agua \u001b[38;5;241m=\u001b[39m [\n\u001b[0;32m     46\u001b[0m     {\u001b[38;5;124m\"\u001b[39m\u001b[38;5;124mnombre\u001b[39m\u001b[38;5;124m\"\u001b[39m: \u001b[38;5;124m\"\u001b[39m\u001b[38;5;124mFuente 1\u001b[39m\u001b[38;5;124m\"\u001b[39m, \u001b[38;5;124m\"\u001b[39m\u001b[38;5;124mlat\u001b[39m\u001b[38;5;124m\"\u001b[39m: \u001b[38;5;241m40.7128\u001b[39m, \u001b[38;5;124m\"\u001b[39m\u001b[38;5;124mlon\u001b[39m\u001b[38;5;124m\"\u001b[39m: \u001b[38;5;241m-\u001b[39m\u001b[38;5;241m74.0060\u001b[39m},\n\u001b[0;32m     47\u001b[0m     {\u001b[38;5;124m\"\u001b[39m\u001b[38;5;124mnombre\u001b[39m\u001b[38;5;124m\"\u001b[39m: \u001b[38;5;124m\"\u001b[39m\u001b[38;5;124mFuente 2\u001b[39m\u001b[38;5;124m\"\u001b[39m, \u001b[38;5;124m\"\u001b[39m\u001b[38;5;124mlat\u001b[39m\u001b[38;5;124m\"\u001b[39m: \u001b[38;5;241m34.0522\u001b[39m, \u001b[38;5;124m\"\u001b[39m\u001b[38;5;124mlon\u001b[39m\u001b[38;5;124m\"\u001b[39m: \u001b[38;5;241m-\u001b[39m\u001b[38;5;241m118.2437\u001b[39m},\n\u001b[1;32m   (...)\u001b[0m\n\u001b[0;32m     52\u001b[0m     {\u001b[38;5;124m\"\u001b[39m\u001b[38;5;124mnombre\u001b[39m\u001b[38;5;124m\"\u001b[39m: \u001b[38;5;124m\"\u001b[39m\u001b[38;5;124mFuente 7\u001b[39m\u001b[38;5;124m\"\u001b[39m, \u001b[38;5;124m\"\u001b[39m\u001b[38;5;124mlat\u001b[39m\u001b[38;5;124m\"\u001b[39m: \u001b[38;5;241m-\u001b[39m\u001b[38;5;241m33.8688\u001b[39m, \u001b[38;5;124m\"\u001b[39m\u001b[38;5;124mlon\u001b[39m\u001b[38;5;124m\"\u001b[39m: \u001b[38;5;241m151.2093\u001b[39m}\n\u001b[0;32m     53\u001b[0m ]\n",
      "\u001b[1;31mModuleNotFoundError\u001b[0m: No module named 'folium'"
     ]
    }
   ],
   "source": [
    "import math\n",
    "\n",
    "def haversine(lat1, lon1, lat2, lon2):\n",
    "    # Radio de la Tierra en kilómetros. Usamos 6371 km.\n",
    "    R = 6371.0\n",
    "    \n",
    "    # Convertir las coordenadas de grados a radianes.\n",
    "    lat1_rad = math.radians(lat1)\n",
    "    lon1_rad = math.radians(lon1)\n",
    "    lat2_rad = math.radians(lat2)\n",
    "    lon2_rad = math.radians(lon2)\n",
    "    \n",
    "    # Diferencias entre las coordenadas.\n",
    "    dlat = lat2_rad - lat1_rad\n",
    "    dlon = lon2_rad - lon1_rad\n",
    "    \n",
    "    # Aplicar la fórmula de Haversine.\n",
    "    a = math.sin(dlat / 2)**2 + math.cos(lat1_rad) * math.cos(lat2_rad) * math.sin(dlon / 2)**2\n",
    "    c = 2 * math.atan2(math.sqrt(a), math.sqrt(1 - a))\n",
    "    \n",
    "    # Calcular la distancia.\n",
    "    distance = R * c\n",
    "    \n",
    "    return distance\n",
    "\n",
    "def solicitar_coordenadas():\n",
    "    lat1 = float(input(\"Ingrese la latitud del primer punto: \"))\n",
    "    lon1 = float(input(\"Ingrese la longitud del primer punto: \"))\n",
    "    lat2 = float(input(\"Ingrese la latitud del segundo punto: \"))\n",
    "    lon2 = float(input(\"Ingrese la longitud del segundo punto: \"))\n",
    "    return lat1, lon1, lat2, lon2\n",
    "\n",
    "def main():\n",
    "    lat1, lon1, lat2, lon2 = solicitar_coordenadas()\n",
    "    distancia = haversine(lat1, lon1, lat2, lon2)\n",
    "    print(f\"La distancia entre los dos puntos es: {distancia:.2f} km\")\n",
    "\n",
    "# Ejecutar la función principal.\n",
    "if __name__ == \"__main__\":\n",
    "    main()\n",
    "\n",
    "import folium\n",
    "\n",
    "# Coordenadas de las cinco fuentes de agua\n",
    "fuentes_de_agua = [\n",
    "    {\"nombre\": \"Fuente 1\", \"lat\": 40.7128, \"lon\": -74.0060},\n",
    "    {\"nombre\": \"Fuente 2\", \"lat\": 34.0522, \"lon\": -118.2437},\n",
    "    {\"nombre\": \"Fuente 3\", \"lat\": 51.5074, \"lon\": -0.1278},\n",
    "    {\"nombre\": \"Fuente 4\", \"lat\": 48.8566, \"lon\": 2.3522},\n",
    "    {\"nombre\": \"Fuente 5\", \"lat\": 35.6895, \"lon\": 139.6917},\n",
    "    {\"nombre\": \"Fuente 6\", \"lat\": 55.7558, \"lon\": 37.6176},\n",
    "    {\"nombre\": \"Fuente 7\", \"lat\": -33.8688, \"lon\": 151.2093}\n",
    "]\n",
    "\n",
    "# Crear un mapa centrado en la primera fuente\n",
    "mapa = folium.Map(location=[fuentes_de_agua[0][\"lat\"], fuentes_de_agua[0][\"lon\"]], zoom_start=2)\n",
    "\n",
    "# Añadir marcadores para cada fuente de agua\n",
    "for fuente in fuentes_de_agua:\n",
    "    folium.Marker(\n",
    "        location=[fuente[\"lat\"], fuente[\"lon\"]],\n",
    "        popup=fuente[\"nombre\"],\n",
    "        icon=folium.Icon(icon=\"cloud\")\n",
    "    ).add_to(mapa)\n",
    "\n",
    "# Guardar el mapa en un archivo HTML\n",
    "mapa.save(\"mapa_fuentes_de_agua.html\")\n"
   ]
  },
  {
   "cell_type": "code",
   "execution_count": 20,
   "id": "a62f4dc2-5f0c-41c0-a53b-ccd331259c56",
   "metadata": {},
   "outputs": [
    {
     "name": "stdin",
     "output_type": "stream",
     "text": [
      "Ingrese un número:  .\n"
     ]
    },
    {
     "name": "stdout",
     "output_type": "stream",
     "text": [
      "El número ingresado no es un entero.\n"
     ]
    },
    {
     "name": "stdin",
     "output_type": "stream",
     "text": [
      "Ingrese un número:  2.2\n"
     ]
    },
    {
     "name": "stdout",
     "output_type": "stream",
     "text": [
      "El número ingresado no es un entero.\n"
     ]
    },
    {
     "name": "stdin",
     "output_type": "stream",
     "text": [
      "Ingrese un número:  15\n"
     ]
    },
    {
     "name": "stdout",
     "output_type": "stream",
     "text": [
      "El número ingresado es un entero.\n"
     ]
    }
   ],
   "source": [
    "switch = True\n",
    "while switch:\n",
    "    numero = input(\"Ingrese un número: \")\n",
    " \n",
    "    try:\n",
    "        numero_entero = int(numero)\n",
    "        print(\"El número ingresado es un entero.\")\n",
    "        switch = False\n",
    "    except ValueError:\n",
    "        print(\"El número ingresado no es un entero.\")\n",
    "        switch = True"
   ]
  },
  {
   "cell_type": "code",
   "execution_count": 25,
   "id": "c42ac666-3b45-4956-8e8a-9d78f6d19367",
   "metadata": {},
   "outputs": [
    {
     "name": "stdout",
     "output_type": "stream",
     "text": [
      "Collecting folium\n",
      "  Downloading folium-0.16.0-py2.py3-none-any.whl.metadata (3.6 kB)\n",
      "Collecting branca>=0.6.0 (from folium)\n",
      "  Downloading branca-0.7.2-py3-none-any.whl.metadata (1.5 kB)\n",
      "Requirement already satisfied: jinja2>=2.9 in c:\\users\\valki\\anaconda3\\lib\\site-packages (from folium) (3.1.3)\n",
      "Requirement already satisfied: numpy in c:\\users\\valki\\anaconda3\\lib\\site-packages (from folium) (1.26.4)\n",
      "Requirement already satisfied: requests in c:\\users\\valki\\anaconda3\\lib\\site-packages (from folium) (2.31.0)\n",
      "Requirement already satisfied: xyzservices in c:\\users\\valki\\anaconda3\\lib\\site-packages (from folium) (2022.9.0)\n",
      "Requirement already satisfied: MarkupSafe>=2.0 in c:\\users\\valki\\anaconda3\\lib\\site-packages (from jinja2>=2.9->folium) (2.1.3)\n",
      "Requirement already satisfied: charset-normalizer<4,>=2 in c:\\users\\valki\\anaconda3\\lib\\site-packages (from requests->folium) (2.0.4)\n",
      "Requirement already satisfied: idna<4,>=2.5 in c:\\users\\valki\\anaconda3\\lib\\site-packages (from requests->folium) (3.4)\n",
      "Requirement already satisfied: urllib3<3,>=1.21.1 in c:\\users\\valki\\anaconda3\\lib\\site-packages (from requests->folium) (2.0.7)\n",
      "Requirement already satisfied: certifi>=2017.4.17 in c:\\users\\valki\\anaconda3\\lib\\site-packages (from requests->folium) (2024.2.2)\n",
      "Downloading folium-0.16.0-py2.py3-none-any.whl (100 kB)\n",
      "   ---------------------------------------- 0.0/100.0 kB ? eta -:--:--\n",
      "   ---- ----------------------------------- 10.2/100.0 kB ? eta -:--:--\n",
      "   ------------------------------------ --- 92.2/100.0 kB 1.3 MB/s eta 0:00:01\n",
      "   ---------------------------------------- 100.0/100.0 kB 1.1 MB/s eta 0:00:00\n",
      "Downloading branca-0.7.2-py3-none-any.whl (25 kB)\n",
      "Installing collected packages: branca, folium\n",
      "Successfully installed branca-0.7.2 folium-0.16.0\n",
      "Note: you may need to restart the kernel to use updated packages.\n"
     ]
    }
   ],
   "source": [
    "pip install folium\n"
   ]
  },
  {
   "cell_type": "code",
   "execution_count": 26,
   "id": "f426b4f8-c694-4f60-a99e-4eb739b8dcd7",
   "metadata": {},
   "outputs": [
    {
     "name": "stdin",
     "output_type": "stream",
     "text": [
      "Ingrese la latitud del primer punto:  -6.37857\n",
      "Ingrese la longitud del primer punto:  35.861315\n",
      "Ingrese la latitud del segundo punto:  -6.747464\n",
      "Ingrese la longitud del segundo punto:  38.104048\n"
     ]
    },
    {
     "name": "stdout",
     "output_type": "stream",
     "text": [
      "La distancia entre los dos puntos es: 251.12 km\n"
     ]
    }
   ],
   "source": [
    "import math\n",
    "\n",
    "def haversine(lat1, lon1, lat2, lon2):\n",
    "    # Radio de la Tierra en kilómetros. Usamos 6371 km.\n",
    "    R = 6371.0\n",
    "    \n",
    "    # Convertir las coordenadas de grados a radianes.\n",
    "    lat1_rad = math.radians(lat1)\n",
    "    lon1_rad = math.radians(lon1)\n",
    "    lat2_rad = math.radians(lat2)\n",
    "    lon2_rad = math.radians(lon2)\n",
    "    \n",
    "    # Diferencias entre las coordenadas.\n",
    "    dlat = lat2_rad - lat1_rad\n",
    "    dlon = lon2_rad - lon1_rad\n",
    "    \n",
    "    # Aplicar la fórmula de Haversine.\n",
    "    a = math.sin(dlat / 2)**2 + math.cos(lat1_rad) * math.cos(lat2_rad) * math.sin(dlon / 2)**2\n",
    "    c = 2 * math.atan2(math.sqrt(a), math.sqrt(1 - a))\n",
    "    \n",
    "    # Calcular la distancia.\n",
    "    distance = R * c\n",
    "    \n",
    "    return distance\n",
    "\n",
    "def solicitar_coordenadas():\n",
    "    lat1 = float(input(\"Ingrese la latitud del primer punto: \"))\n",
    "    lon1 = float(input(\"Ingrese la longitud del primer punto: \"))\n",
    "    lat2 = float(input(\"Ingrese la latitud del segundo punto: \"))\n",
    "    lon2 = float(input(\"Ingrese la longitud del segundo punto: \"))\n",
    "    return lat1, lon1, lat2, lon2\n",
    "\n",
    "def main():\n",
    "    lat1, lon1, lat2, lon2 = solicitar_coordenadas()\n",
    "    distancia = haversine(lat1, lon1, lat2, lon2)\n",
    "    print(f\"La distancia entre los dos puntos es: {distancia:.2f} km\")\n",
    "\n",
    "# Ejecutar la función principal.\n",
    "if __name__ == \"__main__\":\n",
    "    main()\n",
    "\n",
    "import folium\n",
    "\n",
    "# Coordenadas de las cinco fuentes de agua\n",
    "fuentes_de_agua = [\n",
    "    {\"nombre\": \"Fuente 1\", \"lat\": 40.7128, \"lon\": -74.0060},\n",
    "    {\"nombre\": \"Fuente 2\", \"lat\": 34.0522, \"lon\": -118.2437},\n",
    "    {\"nombre\": \"Fuente 3\", \"lat\": 51.5074, \"lon\": -0.1278},\n",
    "    {\"nombre\": \"Fuente 4\", \"lat\": 48.8566, \"lon\": 2.3522},\n",
    "    {\"nombre\": \"Fuente 5\", \"lat\": 35.6895, \"lon\": 139.6917},\n",
    "    {\"nombre\": \"Fuente 6\", \"lat\": 55.7558, \"lon\": 37.6176},\n",
    "    {\"nombre\": \"Fuente 7\", \"lat\": -33.8688, \"lon\": 151.2093}\n",
    "]\n",
    "\n",
    "# Crear un mapa centrado en la primera fuente\n",
    "mapa = folium.Map(location=[fuentes_de_agua[0][\"lat\"], fuentes_de_agua[0][\"lon\"]], zoom_start=2)\n",
    "\n",
    "# Añadir marcadores para cada fuente de agua\n",
    "for fuente in fuentes_de_agua:\n",
    "    folium.Marker(\n",
    "        location=[fuente[\"lat\"], fuente[\"lon\"]],\n",
    "        popup=fuente[\"nombre\"],\n",
    "        icon=folium.Icon(icon=\"cloud\")\n",
    "    ).add_to(mapa)\n",
    "\n",
    "# Guardar el mapa en un archivo HTML\n",
    "mapa.save(\"mapa_fuentes_de_agua.html\")"
   ]
  },
  {
   "cell_type": "code",
   "execution_count": null,
   "id": "930a7a08-23de-4bc6-9546-20816b44c5a3",
   "metadata": {},
   "outputs": [],
   "source": []
  }
 ],
 "metadata": {
  "kernelspec": {
   "display_name": "Python 3 (ipykernel)",
   "language": "python",
   "name": "python3"
  },
  "language_info": {
   "codemirror_mode": {
    "name": "ipython",
    "version": 3
   },
   "file_extension": ".py",
   "mimetype": "text/x-python",
   "name": "python",
   "nbconvert_exporter": "python",
   "pygments_lexer": "ipython3",
   "version": "3.10.12"
  }
 },
 "nbformat": 4,
 "nbformat_minor": 5
}
